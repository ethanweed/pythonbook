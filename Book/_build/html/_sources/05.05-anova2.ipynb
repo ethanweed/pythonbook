{
 "cells": [
  {
   "attachments": {},
   "cell_type": "markdown",
   "id": "insured-cedar",
   "metadata": {},
   "source": [
    "(anova2)=\n",
    "# Factorial ANOVA"
   ]
  },
  {
   "attachments": {},
   "cell_type": "markdown",
   "id": "d9a282ab",
   "metadata": {},
   "source": [
    "Over the course of the last few chapters you can probably detect a general trend. We started out looking at tools that you can use to compare two groups to one another, most notably the [$t$-test](ttest). Then, we introduced [analysis of variance](anova) (ANOVA) as a method for comparing more than two groups. The chapter on [regression](regression) covered a somewhat different topic, but in doing so it introduced a powerful new idea: building statistical models that have *multiple* predictor variables used to explain a single outcome variable. For instance, a regression model could be used to predict the number of errors a student makes in a reading comprehension test based on the number of hours they studied for the test, and their score on a standardised IQ test. The goal in this chapter is to import this idea into the ANOVA framework. For instance, suppose we were interested in using the reading comprehension test to measure student achievements in three different schools, and we suspect that girls and boys are developing at different rates (and so would be expected to have different performance on average). Each student is classified in two different ways: on the basis of their gender, and on the basis of their school. What we'd like to do is analyse the reading comprehension scores in terms of *both* of these grouping variables. The tool for doing so is generically referred to as **_factorial ANOVA_**. However, since we have two grouping variables, we sometimes refer to the analysis as a two-way ANOVA, in contrast to the one-way ANOVAs that we [ran earlier](anova)."
   ]
  },
  {
   "attachments": {},
   "cell_type": "markdown",
   "id": "19203557",
   "metadata": {},
   "source": [
    "(factorialanovasimple)=\n",
    "## Balanced designs, main effects\n",
    "\n",
    "When we discussed [analysis of variance](anova), we assumed a fairly simple experimental design: each person falls into one of several groups, and we want to know whether these groups have different means on some outcome variable. In this section, I'll discuss a broader class of experimental designs, known as **_factorial designs_**, in which we have more than one grouping variable. I gave one example of how this kind of design might arise above. Another example appears in the chapter on [one-way ANOVA](anova), in which we were looking at the effect of different drugs on the `mood_gain` experienced by each person. In that chapter we did find a significant effect of drug, but at the end of the chapter we also ran an analysis to see if there was an effect of therapy. We didn't find one, but there's something a bit worrying about trying to run two *separate* analyses trying to predict the same outcome. Maybe there actually *is* an effect of therapy on mood gain, but we couldn't find it because it was being \"hidden\" by the effect of drug? In other words, we're going to want to run a *single* analysis that includes *both* `drug` and `therapy` as predictors. For this analysis, each person is cross-classified by the drug they were given (a factor with 3 levels) and what therapy they received (a factor with 2 levels). We refer to this as a $3 \\times 2$ factorial design. If we cross-tabulate `drug` by `therapy` using the `crosstab()` in `pandas`, we get the following table:"
   ]
  },
  {
   "cell_type": "code",
   "execution_count": 30,
   "id": "b38e94ae",
   "metadata": {},
   "outputs": [
    {
     "data": {
      "text/html": [
       "<div>\n",
       "<style scoped>\n",
       "    .dataframe tbody tr th:only-of-type {\n",
       "        vertical-align: middle;\n",
       "    }\n",
       "\n",
       "    .dataframe tbody tr th {\n",
       "        vertical-align: top;\n",
       "    }\n",
       "\n",
       "    .dataframe thead th {\n",
       "        text-align: right;\n",
       "    }\n",
       "</style>\n",
       "<table border=\"1\" class=\"dataframe\">\n",
       "  <thead>\n",
       "    <tr style=\"text-align: right;\">\n",
       "      <th>therapy</th>\n",
       "      <th>CBT</th>\n",
       "      <th>no.therapy</th>\n",
       "    </tr>\n",
       "    <tr>\n",
       "      <th>drug</th>\n",
       "      <th></th>\n",
       "      <th></th>\n",
       "    </tr>\n",
       "  </thead>\n",
       "  <tbody>\n",
       "    <tr>\n",
       "      <th>anxifree</th>\n",
       "      <td>3</td>\n",
       "      <td>3</td>\n",
       "    </tr>\n",
       "    <tr>\n",
       "      <th>joyzepam</th>\n",
       "      <td>3</td>\n",
       "      <td>3</td>\n",
       "    </tr>\n",
       "    <tr>\n",
       "      <th>placebo</th>\n",
       "      <td>3</td>\n",
       "      <td>3</td>\n",
       "    </tr>\n",
       "  </tbody>\n",
       "</table>\n",
       "</div>"
      ],
      "text/plain": [
       "therapy   CBT  no.therapy\n",
       "drug                     \n",
       "anxifree    3           3\n",
       "joyzepam    3           3\n",
       "placebo     3           3"
      ]
     },
     "execution_count": 30,
     "metadata": {},
     "output_type": "execute_result"
    }
   ],
   "source": [
    "import pandas as pd\n",
    "\n",
    "df = pd.read_csv(\"https://raw.githubusercontent.com/ethanweed/pythonbook/main/Data/clintrial.csv\")\n",
    "\n",
    "pd.crosstab(index=df[\"drug\"], columns=df[\"therapy\"],margins=False)"
   ]
  },
  {
   "attachments": {},
   "cell_type": "markdown",
   "id": "2aee2f64",
   "metadata": {},
   "source": [
    "As you can see, not only do we have participants corresponding to all possible combinations of the two factors, indicating that our design is **_completely crossed_**, it turns out that there are an equal number of people in each group. In other words, we have a **_balanced_** design. In this section I'll talk about how to analyse data from balanced designs, since this is the simplest case. The story for unbalanced designs is quite tedious, so we'll put it to one side for the moment."
   ]
  },
  {
   "attachments": {},
   "cell_type": "markdown",
   "id": "cbf44bf3",
   "metadata": {},
   "source": [
    "(factanovahyp)=\n",
    "### What hypotheses are we testing?\n",
    "\n",
    "Like one-way ANOVA, factorial ANOVA is a tool for testing certain types of hypotheses about population means. So a sensible place to start would be to be explicit about what our hypotheses actually are. However, before we can even get to that point, it's really useful to have some clean and simple notation to describe the population means. Because of the fact that observations are cross-classified in terms of two different factors, there are quite a lot of different means that one might be interested. To see this, let's start by thinking about all the different sample means that we can calculate for this kind of design. Firstly, there's the obvious idea that we might be interested in this table of group means:"
   ]
  },
  {
   "cell_type": "code",
   "execution_count": 31,
   "id": "1b4a176a",
   "metadata": {},
   "outputs": [
    {
     "data": {
      "text/html": [
       "<div>\n",
       "<style scoped>\n",
       "    .dataframe tbody tr th:only-of-type {\n",
       "        vertical-align: middle;\n",
       "    }\n",
       "\n",
       "    .dataframe tbody tr th {\n",
       "        vertical-align: top;\n",
       "    }\n",
       "\n",
       "    .dataframe thead th {\n",
       "        text-align: right;\n",
       "    }\n",
       "</style>\n",
       "<table border=\"1\" class=\"dataframe\">\n",
       "  <thead>\n",
       "    <tr style=\"text-align: right;\">\n",
       "      <th></th>\n",
       "      <th>therapy</th>\n",
       "      <th>drug</th>\n",
       "      <th>mood_gain</th>\n",
       "    </tr>\n",
       "  </thead>\n",
       "  <tbody>\n",
       "    <tr>\n",
       "      <th>0</th>\n",
       "      <td>CBT</td>\n",
       "      <td>anxifree</td>\n",
       "      <td>1.03</td>\n",
       "    </tr>\n",
       "    <tr>\n",
       "      <th>1</th>\n",
       "      <td>CBT</td>\n",
       "      <td>joyzepam</td>\n",
       "      <td>1.50</td>\n",
       "    </tr>\n",
       "    <tr>\n",
       "      <th>2</th>\n",
       "      <td>CBT</td>\n",
       "      <td>placebo</td>\n",
       "      <td>0.60</td>\n",
       "    </tr>\n",
       "    <tr>\n",
       "      <th>3</th>\n",
       "      <td>no.therapy</td>\n",
       "      <td>anxifree</td>\n",
       "      <td>0.40</td>\n",
       "    </tr>\n",
       "    <tr>\n",
       "      <th>4</th>\n",
       "      <td>no.therapy</td>\n",
       "      <td>joyzepam</td>\n",
       "      <td>1.47</td>\n",
       "    </tr>\n",
       "    <tr>\n",
       "      <th>5</th>\n",
       "      <td>no.therapy</td>\n",
       "      <td>placebo</td>\n",
       "      <td>0.30</td>\n",
       "    </tr>\n",
       "  </tbody>\n",
       "</table>\n",
       "</div>"
      ],
      "text/plain": [
       "      therapy      drug  mood_gain\n",
       "0         CBT  anxifree       1.03\n",
       "1         CBT  joyzepam       1.50\n",
       "2         CBT   placebo       0.60\n",
       "3  no.therapy  anxifree       0.40\n",
       "4  no.therapy  joyzepam       1.47\n",
       "5  no.therapy   placebo       0.30"
      ]
     },
     "execution_count": 31,
     "metadata": {},
     "output_type": "execute_result"
    }
   ],
   "source": [
    "pd.DataFrame(round(df.groupby(by=['therapy', 'drug'])['mood_gain'].mean(),2)).reset_index()\n"
   ]
  },
  {
   "attachments": {},
   "cell_type": "markdown",
   "id": "baf64f4f",
   "metadata": {},
   "source": [
    "Now, this output shows a cross-tabulation of the group means for all possible combinations of the two factors (e.g., people who received the placebo and no therapy, people who received the placebo while getting CBT, etc). However, we can also construct tables that ignore one of the two factors. That gives us output that looks like this:"
   ]
  },
  {
   "cell_type": "code",
   "execution_count": 32,
   "id": "8653859e",
   "metadata": {},
   "outputs": [
    {
     "data": {
      "text/html": [
       "<div>\n",
       "<style scoped>\n",
       "    .dataframe tbody tr th:only-of-type {\n",
       "        vertical-align: middle;\n",
       "    }\n",
       "\n",
       "    .dataframe tbody tr th {\n",
       "        vertical-align: top;\n",
       "    }\n",
       "\n",
       "    .dataframe thead th {\n",
       "        text-align: right;\n",
       "    }\n",
       "</style>\n",
       "<table border=\"1\" class=\"dataframe\">\n",
       "  <thead>\n",
       "    <tr style=\"text-align: right;\">\n",
       "      <th></th>\n",
       "      <th>therapy</th>\n",
       "      <th>mood_gain</th>\n",
       "    </tr>\n",
       "  </thead>\n",
       "  <tbody>\n",
       "    <tr>\n",
       "      <th>0</th>\n",
       "      <td>CBT</td>\n",
       "      <td>1.04</td>\n",
       "    </tr>\n",
       "    <tr>\n",
       "      <th>1</th>\n",
       "      <td>no.therapy</td>\n",
       "      <td>0.72</td>\n",
       "    </tr>\n",
       "  </tbody>\n",
       "</table>\n",
       "</div>"
      ],
      "text/plain": [
       "      therapy  mood_gain\n",
       "0         CBT       1.04\n",
       "1  no.therapy       0.72"
      ]
     },
     "execution_count": 32,
     "metadata": {},
     "output_type": "execute_result"
    }
   ],
   "source": [
    "pd.DataFrame(round(df.groupby(['therapy'])['mood_gain'].mean(),2)).reset_index()"
   ]
  },
  {
   "cell_type": "code",
   "execution_count": 33,
   "id": "821fd280",
   "metadata": {},
   "outputs": [
    {
     "data": {
      "text/html": [
       "<div>\n",
       "<style scoped>\n",
       "    .dataframe tbody tr th:only-of-type {\n",
       "        vertical-align: middle;\n",
       "    }\n",
       "\n",
       "    .dataframe tbody tr th {\n",
       "        vertical-align: top;\n",
       "    }\n",
       "\n",
       "    .dataframe thead th {\n",
       "        text-align: right;\n",
       "    }\n",
       "</style>\n",
       "<table border=\"1\" class=\"dataframe\">\n",
       "  <thead>\n",
       "    <tr style=\"text-align: right;\">\n",
       "      <th></th>\n",
       "      <th>drug</th>\n",
       "      <th>mood_gain</th>\n",
       "    </tr>\n",
       "  </thead>\n",
       "  <tbody>\n",
       "    <tr>\n",
       "      <th>0</th>\n",
       "      <td>anxifree</td>\n",
       "      <td>0.72</td>\n",
       "    </tr>\n",
       "    <tr>\n",
       "      <th>1</th>\n",
       "      <td>joyzepam</td>\n",
       "      <td>1.48</td>\n",
       "    </tr>\n",
       "    <tr>\n",
       "      <th>2</th>\n",
       "      <td>placebo</td>\n",
       "      <td>0.45</td>\n",
       "    </tr>\n",
       "  </tbody>\n",
       "</table>\n",
       "</div>"
      ],
      "text/plain": [
       "       drug  mood_gain\n",
       "0  anxifree       0.72\n",
       "1  joyzepam       1.48\n",
       "2   placebo       0.45"
      ]
     },
     "execution_count": 33,
     "metadata": {},
     "output_type": "execute_result"
    }
   ],
   "source": [
    "pd.DataFrame(round(df.groupby(['drug'])['mood_gain'].mean(),2)).reset_index()"
   ]
  },
  {
   "attachments": {},
   "cell_type": "markdown",
   "id": "a8db1851",
   "metadata": {},
   "source": [
    "But of course, if we can ignore one factor we can certainly ignore both. That is, we might also be interested in calculating the average  mood gain across all 18 participants, regardless of what drug or psychological therapy they were given:"
   ]
  },
  {
   "cell_type": "code",
   "execution_count": 34,
   "id": "b3a84461",
   "metadata": {},
   "outputs": [
    {
     "data": {
      "text/plain": [
       "0.88"
      ]
     },
     "execution_count": 34,
     "metadata": {},
     "output_type": "execute_result"
    }
   ],
   "source": [
    "round(df['mood_gain'].mean(),2)"
   ]
  },
  {
   "attachments": {},
   "cell_type": "markdown",
   "id": "ee5175b3",
   "metadata": {},
   "source": [
    "At this point we have 12 different sample means to keep track of! It is helpful to organise all these numbers into a single table, which would look like this:\n",
    "\n",
    "|         |no therapy |CBT  |total |\n",
    "|:--------|:----------|:----|:-----|\n",
    "|placebo  |0.30       |0.60 |0.45  |\n",
    "|anxifree |0.40       |1.03 |0.72  |\n",
    "|joyzepam |1.47       |1.50 |1.48  |\n",
    "|total    |0.72       |1.04 |0.88  |"
   ]
  },
  {
   "attachments": {},
   "cell_type": "markdown",
   "id": "2fec1291",
   "metadata": {},
   "source": [
    "Now, each of these different means is of course a sample statistic: it's a quantity that pertains to the specific observations that we've made during our study. What we want to make inferences about are the corresponding population parameters: that is, the true means as they exist within some broader population. Those population means can also be organised into a similar table, but we'll need a little mathematical notation to do so. As usual, I'll use the symbol $\\mu$ to denote a population mean. However, because there are lots of different means, I'll need to use subscripts to distinguish between them. \n",
    "\n",
    "Here's how the notation works. Our table is defined in terms of two factors: each row corresponds to a different level of Factor A (in this case `drug`), and each column corresponds to a different level of Factor B (in this case `therapy`). If we let $R$ denote the number of rows in the table, and $C$ denote the number of columns, we can refer to this as an $R \\times C$ factorial ANOVA. In this case $R=3$ and $C=2$. We'll use lowercase letters to refer to specific rows and columns, so $\\mu_{rc}$ refers to the population mean associated with the $r$th level of Factor A (i.e. row number $r$) and the $c$th level of Factor B (column number $c$).[^notesubscript] So the population means are now written like this:\n",
    "\n",
    "[^notesubscript]: The nice thing about the subscript notation is that generalises nicely: if our experiment had involved a third factor, then we could just add a third subscript. In principle, the notation extends to as many factors as you might care to include, but in this book we'll rarely consider analyses involving more than two factors, and never more than three. "
   ]
  },
  {
   "attachments": {},
   "cell_type": "markdown",
   "id": "0f3fbcf3",
   "metadata": {},
   "source": [
    "|         |no therapy |CBT        |total |\n",
    "|:--------|:----------|:----------|:-----|\n",
    "|placebo  |$\\mu_{11}$ |$\\mu_{12}$ |      |\n",
    "|anxifree |$\\mu_{21}$ |$\\mu_{22}$ |      |\n",
    "|joyzepam |$\\mu_{31}$ |$\\mu_{32}$ |      |\n",
    "|total    |           |           |      |"
   ]
  },
  {
   "attachments": {},
   "cell_type": "markdown",
   "id": "7eaf7b58",
   "metadata": {},
   "source": [
    "Okay, what about the remaining entries? For instance, how should we describe the average mood gain across the entire (hypothetical) population of people who might be given Joyzepam in an experiment like this, regardless of whether they were in CBT? We use the \"dot\" notation to express this. In the case of Joyzepam, notice that we're talking about the mean associated with the third row in the table. That is, we're averaging across two cell means (i.e., $\\mu_{31}$ and $\\mu_{32}$). The result of this averaging is referred to as a **_marginal mean_**, and would be denoted $\\mu_{3.}$ in this case. The marginal mean for CBT corresponds to the population mean associated with the second column in the table, so we use the notation $\\mu_{.2}$ to describe it. The grand mean is denoted $\\mu_{..}$ because it is the mean obtained by averaging (marginalising[^notemarginalising]) over both. So our full table of population means can be written down like this:\n",
    "\n",
    "[^notemarginalising]: Technically, marginalising isn't quite identical to a regular mean: it's a weighted average, where you take into account the frequency of the different events that you're averaging over. However, in a balanced design, all of our cell frequencies are equal by definition, so the two are equivalent. We'll discuss unbalanced designs later, and when we do so you'll see that all of our calculations become a real headache. But let's ignore this for now."
   ]
  },
  {
   "attachments": {},
   "cell_type": "markdown",
   "id": "8b8e1412",
   "metadata": {},
   "source": [
    "|         |no therapy |CBT        |total      |\n",
    "|:--------|:----------|:----------|:----------|\n",
    "|placebo  |$\\mu_{11}$ |$\\mu_{12}$ |$\\mu_{1.}$ |\n",
    "|anxifree |$\\mu_{21}$ |$\\mu_{22}$ |$\\mu_{2.}$ |\n",
    "|joyzepam |$\\mu_{31}$ |$\\mu_{32}$ |$\\mu_{3.}$ |\n",
    "|total    |$\\mu_{.1}$ |$\\mu_{.2}$ |$\\mu_{..}$ |"
   ]
  },
  {
   "attachments": {},
   "cell_type": "markdown",
   "id": "fad9faf3",
   "metadata": {},
   "source": [
    "Now that we have this notation, it is straightforward to formulate and express some hypotheses. Let's suppose that the goal is to find out two things: firstly, does the choice of drug have any effect on mood, and secondly, does CBT have any effect on mood? These aren't the only hypotheses that we could formulate of course, and we'll see a really important example of a different kind of hypothesis in the section on [interactions](interactions), but these are the two simplest hypotheses to test, and so we'll start there. Consider the first test. If drug has no effect, then we would expect all of the row means to be identical, right? So that's our null hypothesis. On the other hand, if the drug does matter then we should expect these row means to be different. Formally, we write down our null and alternative hypotheses in terms of the *equality of marginal means*:"
   ]
  },
  {
   "attachments": {},
   "cell_type": "markdown",
   "id": "4d946da2",
   "metadata": {},
   "source": [
    "|                              |                                                             |\n",
    "|:-----------------------------|:------------------------------------------------------------|\n",
    "|Null hypothesis $H_0$:        |row means are the same i.e. $\\mu_{1.} = \\mu_{2.} = \\mu_{3.}$ |\n",
    "|Alternative hypothesis $H_1$: |at least one row mean is different.                          |"
   ]
  },
  {
   "attachments": {},
   "cell_type": "markdown",
   "id": "3fb68110",
   "metadata": {},
   "source": [
    "It's worth noting that these are *exactly* the same statistical hypotheses that we formed when we ran a one-way ANOVA on these data [way back when](anova). Back then I used the notation $\\mu_P$ to refer to the mean mood gain for the placebo group, with $\\mu_A$ and $\\mu_J$ corresponding to the group means for the two drugs, and the null hypothesis was $\\mu_P = \\mu_A = \\mu_J$. So we're actually talking about the same hypothesis: it's just that the more complicated ANOVA requires more careful notation due to the presence of multiple grouping variables, so we're now referring to this hypothesis as $\\mu_{1.} = \\mu_{2.} = \\mu_{3.}$. However, as we'll see shortly, although the hypothesis is identical, the test of that hypothesis is subtly different due to the fact that we're now acknowledging the existence of the second grouping variable.\n",
    "\n",
    "Speaking of the other grouping variable, you won't be surprised to discover that our second hypothesis test is formulated the same way. However, since we're talking about the psychological therapy rather than drugs, our null hypothesis now corresponds to the equality of the column means:\n"
   ]
  },
  {
   "attachments": {},
   "cell_type": "markdown",
   "id": "6a4d1435",
   "metadata": {},
   "source": [
    "|                              |                                                          |\n",
    "|:-----------------------------|:---------------------------------------------------------|\n",
    "|Null hypothesis $H_0$:        |column means are the same, i.e., $\\mu_{.1} = \\mu_{.2}$    |\n",
    "|Alternative hypothesis $H_1$: |column means are different, i.e., $\\mu_{.1} \\neq \\mu_{.2}$|"
   ]
  },
  {
   "attachments": {},
   "cell_type": "markdown",
   "id": "472ed7cd",
   "metadata": {},
   "source": [
    "### Running the analysis in Python\n",
    "\n",
    "If the data you're trying to analyse correspond to a balanced factorial design, then running your analysis of variance is easy. To see how easy it is, let's start by reproducing the original analysis from [earlier](anova). In case you've forgotten, for that analysis we were using only a single factor (i.e., `drug`) as our between-subjects variable to predict our outcome (dependent) variable (i.e., `mood_gain`), and so this was what we did:"
   ]
  },
  {
   "cell_type": "code",
   "execution_count": 35,
   "id": "4d667428",
   "metadata": {},
   "outputs": [
    {
     "data": {
      "text/html": [
       "<div>\n",
       "<style scoped>\n",
       "    .dataframe tbody tr th:only-of-type {\n",
       "        vertical-align: middle;\n",
       "    }\n",
       "\n",
       "    .dataframe tbody tr th {\n",
       "        vertical-align: top;\n",
       "    }\n",
       "\n",
       "    .dataframe thead th {\n",
       "        text-align: right;\n",
       "    }\n",
       "</style>\n",
       "<table border=\"1\" class=\"dataframe\">\n",
       "  <thead>\n",
       "    <tr style=\"text-align: right;\">\n",
       "      <th></th>\n",
       "      <th>Source</th>\n",
       "      <th>SS</th>\n",
       "      <th>DF</th>\n",
       "      <th>MS</th>\n",
       "      <th>F</th>\n",
       "      <th>p-unc</th>\n",
       "      <th>np2</th>\n",
       "    </tr>\n",
       "  </thead>\n",
       "  <tbody>\n",
       "    <tr>\n",
       "      <th>0</th>\n",
       "      <td>drug</td>\n",
       "      <td>3.45</td>\n",
       "      <td>2</td>\n",
       "      <td>1.73</td>\n",
       "      <td>18.61</td>\n",
       "      <td>0.0</td>\n",
       "      <td>0.71</td>\n",
       "    </tr>\n",
       "    <tr>\n",
       "      <th>1</th>\n",
       "      <td>Within</td>\n",
       "      <td>1.39</td>\n",
       "      <td>15</td>\n",
       "      <td>0.09</td>\n",
       "      <td>NaN</td>\n",
       "      <td>NaN</td>\n",
       "      <td>NaN</td>\n",
       "    </tr>\n",
       "  </tbody>\n",
       "</table>\n",
       "</div>"
      ],
      "text/plain": [
       "   Source    SS  DF    MS      F  p-unc   np2\n",
       "0    drug  3.45   2  1.73  18.61    0.0  0.71\n",
       "1  Within  1.39  15  0.09    NaN    NaN   NaN"
      ]
     },
     "execution_count": 35,
     "metadata": {},
     "output_type": "execute_result"
    }
   ],
   "source": [
    "import pingouin as pg\n",
    "\n",
    "model1 = pg.anova(dv='mood_gain', between='drug', data=df, detailed=True)\n",
    "round(model1, 2)"
   ]
  },
  {
   "attachments": {},
   "cell_type": "markdown",
   "id": "709da32e",
   "metadata": {},
   "source": [
    "Note that this time around I've used the name `model1` as the label for my output variable, since I'm planning on creating quite a few other models too. To start with, suppose I'm also curious to find out if `therapy` has a relationship to `mood_gain`. In light of what we've seen from our discussion of [multiple regression](regression), you probably won't be surprised that all we have to do is extend the formula: in other words, if we specify `dv=mood_gain, between=['drug', 'therapy']` as our model, we'll probably get what we're after:"
   ]
  },
  {
   "cell_type": "code",
   "execution_count": 36,
   "id": "c10f48ee",
   "metadata": {},
   "outputs": [
    {
     "data": {
      "text/html": [
       "<div>\n",
       "<style scoped>\n",
       "    .dataframe tbody tr th:only-of-type {\n",
       "        vertical-align: middle;\n",
       "    }\n",
       "\n",
       "    .dataframe tbody tr th {\n",
       "        vertical-align: top;\n",
       "    }\n",
       "\n",
       "    .dataframe thead th {\n",
       "        text-align: right;\n",
       "    }\n",
       "</style>\n",
       "<table border=\"1\" class=\"dataframe\">\n",
       "  <thead>\n",
       "    <tr style=\"text-align: right;\">\n",
       "      <th></th>\n",
       "      <th>Source</th>\n",
       "      <th>SS</th>\n",
       "      <th>DF</th>\n",
       "      <th>MS</th>\n",
       "      <th>F</th>\n",
       "      <th>p-unc</th>\n",
       "      <th>np2</th>\n",
       "    </tr>\n",
       "  </thead>\n",
       "  <tbody>\n",
       "    <tr>\n",
       "      <th>0</th>\n",
       "      <td>drug</td>\n",
       "      <td>3.4533</td>\n",
       "      <td>2</td>\n",
       "      <td>1.7267</td>\n",
       "      <td>31.7143</td>\n",
       "      <td>0.0000</td>\n",
       "      <td>0.8409</td>\n",
       "    </tr>\n",
       "    <tr>\n",
       "      <th>1</th>\n",
       "      <td>therapy</td>\n",
       "      <td>0.4672</td>\n",
       "      <td>1</td>\n",
       "      <td>0.4672</td>\n",
       "      <td>8.5816</td>\n",
       "      <td>0.0126</td>\n",
       "      <td>0.4170</td>\n",
       "    </tr>\n",
       "    <tr>\n",
       "      <th>2</th>\n",
       "      <td>drug * therapy</td>\n",
       "      <td>0.2711</td>\n",
       "      <td>2</td>\n",
       "      <td>0.1356</td>\n",
       "      <td>2.4898</td>\n",
       "      <td>0.1246</td>\n",
       "      <td>0.2933</td>\n",
       "    </tr>\n",
       "    <tr>\n",
       "      <th>3</th>\n",
       "      <td>Residual</td>\n",
       "      <td>0.6533</td>\n",
       "      <td>12</td>\n",
       "      <td>0.0544</td>\n",
       "      <td>NaN</td>\n",
       "      <td>NaN</td>\n",
       "      <td>NaN</td>\n",
       "    </tr>\n",
       "  </tbody>\n",
       "</table>\n",
       "</div>"
      ],
      "text/plain": [
       "           Source      SS  DF      MS        F   p-unc     np2\n",
       "0            drug  3.4533   2  1.7267  31.7143  0.0000  0.8409\n",
       "1         therapy  0.4672   1  0.4672   8.5816  0.0126  0.4170\n",
       "2  drug * therapy  0.2711   2  0.1356   2.4898  0.1246  0.2933\n",
       "3        Residual  0.6533  12  0.0544      NaN     NaN     NaN"
      ]
     },
     "execution_count": 36,
     "metadata": {},
     "output_type": "execute_result"
    }
   ],
   "source": [
    "model2 = pg.anova(dv='mood_gain', between=['drug', 'therapy'], data=df, detailed=True)\n",
    "round(model2, 4)"
   ]
  },
  {
   "attachments": {},
   "cell_type": "markdown",
   "id": "085e641f",
   "metadata": {},
   "source": [
    "Most of this output is pretty simple to read too: the first row of the table reports a between-group sum of squares (SS) value associated with the `drug` factor, along with a corresponding between-group $df$ value. It also calculates a mean square value (MS), and $F$-statistic, an (uncorrected) $p$-value, and an estimate of the effect size (`np2`, that is, partial eta-squared). There is also a row corresponding to the `therapy` factor, and a row corresponding to the residuals (i.e., the within groups variation). \n",
    "\n",
    "Now, the third row is a little trickier, so let's just save that one for [later](interactions), shall we? (Spoiler: this is the interaction of `drug` and `therapy`, but we'll get there soon).\n",
    "\n",
    "Not only are all of the individual quantities pretty familiar, the relationships between these different quantities has remained unchanged: just like we saw with the original one-way ANOVA, note that the mean square value is calculated by dividing SS by the corresponding $df$. That is, it's still true that\n",
    "\n",
    "$$\n",
    "\\mbox{MS} = \\frac{\\mbox{SS}}{df}\n",
    "$$\n",
    "\n"
   ]
  },
  {
   "attachments": {},
   "cell_type": "markdown",
   "id": "4badab0d",
   "metadata": {},
   "source": [
    "regardless of whether we're talking about `drug`, `therapy` or the residuals. To see this, let's not worry about how the sums of squares values are calculated: instead, let's take it on faith that Python has calculated the SS values correctly, and try to verify that all the rest of the numbers make sense. First, note that for the `drug` factor, we divide $3.45$ by $2$, and end up with a mean square value of $1.73$. For the `therapy` factor, there's only 1 degree of freedom, so our calculations are even simpler: dividing $0.47$ (the SS value) by 1 gives us an answer of $0.47$ (the MS value). \n",
    "\n",
    "Turning to the $F$ statistics and the $p$ values, notice that we have two of each: one corresponding to the `drug` factor and the other corresponding to the `therapy` factor. Regardless of which one we're talking about, the $F$ statistic is calculated by dividing the mean square value associated with the factor by the mean square value associated with the residuals. If we use \"A\" as shorthand notation to refer to the first factor (factor A; in this case `drug`) and \"R\" as shorthand notation to refer to the residuals, then the $F$ statistic associated with factor A is denoted $F_A$, and is calculated as follows:\n",
    "\n",
    "$$\n",
    "F_{A} = \\frac{\\mbox{MS}_{A}}{\\mbox{MS}_{R}}\n",
    "$$\n",
    "\n",
    "Note that this use of \"R\" to refer to residuals is a bit awkward, since we also used the letter R to refer to the number of rows in the table, but I'm only going to use \"R\" to mean residuals in the context of SS$_R$ and MS$_R$, so hopefully this shouldn't be confusing. Anyway, to apply this formula to the  `drugs` factor, we take the mean square of $1.73$ and divide it by the residual mean square value of $0.07$, which gives us an $F$-statistic of $26.15$. The corresponding calculation for the `therapy` variable would be to divide $0.47$ by $0.07$ which gives $7.08$ as the $F$-statistic. Not surprisingly, of course, these are the same values that R has reported in the ANOVA table above.\n",
    "\n",
    "The last part of the ANOVA table is the calculation of the $p$ values. Once again, there is nothing new here: for each of our two factors, what we're trying to do is test the null hypothesis that there is no relationship between the factor and the outcome variable (I'll be a bit more precise about this later on). To that end, we've (apparently) followed a similar strategy that we did in the one way ANOVA, and have calculated an $F$-statistic for each of these hypotheses. To convert these to $p$ values, all we need to do is note that the  that the sampling distribution for the $F$ *statistic* under the null hypothesis (that the factor in question is irrelevant) is an $F$ *distribution*: and that two degrees of freedom values are those corresponding to the factor, and those corresponding to the residuals. For the `drug` factor we're talking about an $F$ distribution with 2 and 14 degrees of freedom (I'll discuss degrees of freedom in more detail later). In contrast, for the `therapy` factor sampling distribution is $F$ with 1 and 14 degrees of freedom."
   ]
  },
  {
   "attachments": {},
   "cell_type": "markdown",
   "id": "c324cf91",
   "metadata": {},
   "source": [
    "At this point, I hope you can see that the ANOVA table for this more complicated analysis corresponding to `model2` should be read in much the same way as the ANOVA table for the simpler analysis for `model1`. In short, it's telling us that the factorial ANOVA for our $3 \\times 2$ design found a significant effect of drug ($F_{2,12} = 31.71, p < .001$) as well as a significant effect of therapy ($F_{1,12} = 8.58, p = .01$). Or, to use the more technically correct terminology, we would say that there are two **_main effects_** of drug and therapy. Why are these \"main\" effects? Well, because there could also be an *interaction* between the effect of `drug` and the effect of `therapy`. We'll explore the concept of [interactions](interactions) below."
   ]
  },
  {
   "attachments": {},
   "cell_type": "markdown",
   "id": "89c02ba5",
   "metadata": {},
   "source": [
    "In the previous section I had two goals: firstly, to show you that the Python commands needed to do factorial ANOVA are pretty much the same ones that we used for a one way ANOVA. The only difference is that we add to the number of predictors in the `between` argument of `pingouin`'s `anova()` function. Secondly, I wanted to show you what the ANOVA table looks like in this case, so that you can see from the outset that the basic logic and structure behind factorial ANOVA is the same as that which underpins one way ANOVA. Try to hold onto that feeling. It's genuinely true, insofar as factorial ANOVA is built in more or less the same way as the simpler one-way ANOVA model. It's just that this feeling of familiarity starts to evaporate once you start digging into the details. Traditionally, this comforting sensation is replaced by an urge to murder the the authors of statistics textbooks.\n",
    "\n",
    "Okay, let's start looking at some of those details. The explanation that I gave in the last section illustrates the fact that the hypothesis tests for the main effects (of drug and therapy in this case) are $F$-tests, but what it doesn't do is show you how the sum of squares (SS) values are calculated. Nor does it tell you explicitly how to calculate degrees of freedom ($df$ values) though that's a simple thing by comparison. Let's assume for now that we have only two predictor variables, Factor A and Factor B. If we use $Y$ to refer to the outcome variable, then we would use $Y_{rci}$ to refer to the outcome associated with the $i$-th member of group $rc$ (i.e., level/row $r$ for Factor A and level/column $c$ for Factor B). Thus, if we use $\\bar{Y}$ to refer to a sample mean, we can use the same notation as before to refer to group means, marginal means and grand means: that is, $\\bar{Y}_{rc}$ is the sample mean associated with the $r$th level of Factor A and the $c$th level of Factor B, $\\bar{Y}_{r.}$ would be the marginal mean for the $r$th level of Factor A, $\\bar{Y}_{.c}$ would be the marginal mean for the $c$th level of Factor B, and $\\bar{Y}_{..}$ is the grand mean. In other words, our sample means can be organised into the same table as the population means. For our clinical trial data, that table looks like this:"
   ]
  },
  {
   "attachments": {},
   "cell_type": "markdown",
   "id": "d76b792a",
   "metadata": {},
   "source": [
    "|         |no therapy     |CBT            |total          |\n",
    "|:--------|:--------------|:--------------|:--------------|\n",
    "|placebo  |$\\bar{Y}_{11}$ |$\\bar{Y}_{12}$ |$\\bar{Y}_{1.}$ |\n",
    "|anxifree |$\\bar{Y}_{21}$ |$\\bar{Y}_{22}$ |$\\bar{Y}_{2.}$ |\n",
    "|joyzepam |$\\bar{Y}_{31}$ |$\\bar{Y}_{32}$ |$\\bar{Y}_{3.}$ |\n",
    "|total    |$\\bar{Y}_{.1}$ |$\\bar{Y}_{.2}$ |$\\bar{Y}_{..}$ |"
   ]
  },
  {
   "attachments": {},
   "cell_type": "markdown",
   "id": "417af7c0",
   "metadata": {},
   "source": [
    "And if we look at the sample means that I showed earlier, we have $\\bar{Y}_{11} = 0.30$, $\\bar{Y}_{12} = 0.60$ etc. In our clinical trial example, the `drugs` factor has 3 levels and the `therapy` factor has 2 levels, and so what we're trying to run is a $3 \\times 2$ factorial ANOVA. However, we'll be a little more general and say that Factor A (the row factor) has $R$ levels and Factor B (the column factor) has $C$ levels, and so what we're runnning here is an $R \\times C$ factorial ANOVA.\n",
    "\n",
    "Now that we've got our notation straight, we can compute the sum of squares values for each of the two factors in a relatively familiar way. For Factor A, our between group sum of squares is calculated by assessing the extent to which the (row) marginal means $\\bar{Y}_{1.}$, $\\bar{Y}_{2.}$ etc, are different from the grand mean $\\bar{Y}_{..}$. We do this in the same way that we did for one-way ANOVA: calculate the sum of squared difference between the $\\bar{Y}_{i.}$ values and the $\\bar{Y}_{..}$ values. Specifically, if there are $N$ people in each group, then we calculate this:\n",
    "\n",
    "$$\n",
    "\\mbox{SS}_{A} = (N \\times C)  \\sum_{r=1}^R  \\left( \\bar{Y}_{r.} - \\bar{Y}_{..} \\right)^2\n",
    "$$"
   ]
  },
  {
   "attachments": {},
   "cell_type": "markdown",
   "id": "3ce726e7",
   "metadata": {},
   "source": [
    "As with one-way ANOVA, the most interesting [^translation] part of this formula is the $\\left( \\bar{Y}_{r.} - \\bar{Y}_{..} \\right)^2$ bit, which corresponds to the squared deviation associated with level $r$. All that this formula does is calculate this squared deviation for all $R$ levels of the factor, add them up, and then multiply the result by $N \\times C$. The reason for this last part is that there are multiple cells in our design that have level $r$ on Factor A: in fact, there are $C$ of them, one corresponding to each possible level of Factor B! For instance, in our toy example, there are *two* different cells in the design corresponding to the `anxifree` drug: one for people with `no.therapy`, and one for the `CBT` group. Not only that, within each of these cells there are $N$ observations. So, if we want to convert our SS value into a quantity that calculates the between-groups sum of squares on a \"per observation\" basis, we have to multiply by by $N \\times C$. The formula for factor B is of course the same thing, just with some subscripts shuffled around:\n",
    "\n",
    "$$\n",
    "\\mbox{SS}_{B} = (N \\times R) \\sum_{c=1}^C \\left( \\bar{Y}_{.c} - \\bar{Y}_{..} \\right)^2\n",
    "$$\n",
    "\n",
    "[^translation]: English translation: \"least tedious\"."
   ]
  },
  {
   "attachments": {},
   "cell_type": "markdown",
   "id": "7ddfb08f",
   "metadata": {},
   "source": [
    "Now that we have these formulas, we can check them against the `pingouin` output from the earlier section. First, notice that we calculated all the marginal means (i.e., row marginal means $\\bar{Y}_{r.}$ and column marginal means $\\bar{Y}_{.c}$) earlier using `.mean()`, and we also calculated the grand mean. Let's repeat those calculations, but this time we'll save the results to variables so that we can use them in subsequent calculations:"
   ]
  },
  {
   "cell_type": "code",
   "execution_count": 37,
   "id": "7694d6c2",
   "metadata": {},
   "outputs": [],
   "source": [
    "drug_means = df.groupby(['drug'])['mood_gain'].mean()\n",
    "therapy_means = df.groupby(['therapy'])['mood_gain'].mean()\n",
    "grand_mean = df['mood_gain'].mean()"
   ]
  },
  {
   "attachments": {},
   "cell_type": "markdown",
   "id": "d15dc88c",
   "metadata": {},
   "source": [
    "Okay, now let’s calculate the sum of squares associated with the main effect of drug. There are a total of $N=3$ people in each group, and $C=2$ different types of therapy. Or, to put it another way, there are $3 \\times 2 = 6$ people who received any particular drug. So our calculations are:"
   ]
  },
  {
   "cell_type": "code",
   "execution_count": 38,
   "id": "a76c801d",
   "metadata": {},
   "outputs": [
    {
     "data": {
      "text/plain": [
       "3.4533"
      ]
     },
     "execution_count": 38,
     "metadata": {},
     "output_type": "execute_result"
    }
   ],
   "source": [
    "SS_drug = (3*2) * sum((drug_means - grand_mean)**2)\n",
    "round(SS_drug,4)"
   ]
  },
  {
   "attachments": {},
   "cell_type": "markdown",
   "id": "cbec528b",
   "metadata": {},
   "source": [
    "Not surprisingly, this is the same number that you get when you look up the SS value for the drugs factor in the ANOVA table that I presented earlier. We can repeat the same kind of calculation for the effect of therapy. Again there are $N=3$ people in each group, but since there are $R=3$ different drugs, this time around we note that there are $3 \\times 3 = 9$ people who received CBT, and an additional 9 people who received the placebo. So our calculation is now:"
   ]
  },
  {
   "cell_type": "code",
   "execution_count": 39,
   "id": "03d9109b",
   "metadata": {},
   "outputs": [
    {
     "data": {
      "text/plain": [
       "0.4672"
      ]
     },
     "execution_count": 39,
     "metadata": {},
     "output_type": "execute_result"
    }
   ],
   "source": [
    "SS_therapy = (3*3) * sum((therapy_means - grand_mean)**2)\n",
    "round(SS_therapy,4)"
   ]
  },
  {
   "attachments": {},
   "cell_type": "markdown",
   "id": "dd389570",
   "metadata": {},
   "source": [
    "and we are, once again, unsurprised to see that our calculations are identical to the ANOVA output.\n",
    "\n",
    "So that's how you calculate the SS values for the two main effects. These SS values are analogous to the between-group sum of squares values that we calculated when doing [one-way ANOVA](anova). However, it's not a good idea to think of them as between-groups SS values anymore, just because we have two different grouping variables and it's easy to get confused. In order to construct an $F$ test, however, we also need to calculate the within-groups sum of squares. In keeping with the terminology that we used in the [regression chapter](regression)) and the terminology that R uses when printing out the ANOVA table, I'll start referring to the within-groups SS value as the *residual* sum of squares SS$_R$. \n",
    "\n",
    "The easiest way to think about the residual SS values in this context, I think, is to think of it as the leftover variation in the outcome variable after you take into account the differences in the marginal means (i.e., after you remove SS$_A$ and SS$_B$). What I mean by that is we can start by calculating the total sum of squares, which I'll label SS$_T$. The formula for this is pretty much the same as it was for one-way ANOVA: we take the difference between each observation $Y_{rci}$ and the grand mean $\\bar{Y}_{..}$, square the differences, and add them all up\n",
    "\n",
    "$$\n",
    "\\mbox{SS}_T = \\sum_{r=1}^R \\sum_{c=1}^C \\sum_{i=1}^N \\left( Y_{rci} - \\bar{Y}_{..}\\right)^2\n",
    "$$\n",
    "\n",
    "The \"triple summation\" here looks more complicated than it is. In the first two summations, we're summing across all levels of Factor A (i.e., over all possible rows $r$ in our table), across all levels of Factor B (i.e., all possible columns $c$). Each $rc$ combination corresponds to a single group, and each group contains $N$ people: so we have to sum across all those people (i.e., all $i$ values) too. In other words, all we're doing here is summing across all observations in the data set (i.e., all possible $rci$ combinations). \n",
    "\n",
    "At this point, we know the total variability of the outcome variable SS$_T$, and we know how much of that variability can be attributed to Factor A (SS$_A$) and how much of it can be attributed to Factor B (SS$_B$). The residual sum of squares is thus defined to be the variability in $Y$ that *can't* be attributed to either of our two factors. In other words:\n",
    "\n",
    "$$\n",
    "\\mbox{SS}_R = \\mbox{SS}_T - (\\mbox{SS}_A + \\mbox{SS}_B)\n",
    "$$\n",
    "\n",
    "Of course, there is a formula that you can use to calculate the residual SS directly, but I think that it makes more conceptual sense to think of it like this. The whole point of calling it a residual is that it's the leftover variation, and the formula above makes that clear. I should also note that, in keeping with the terminology used in the regression chapter, it is commonplace to refer to $\\mbox{SS}_A + \\mbox{SS}_B$ as the variance attributable to the \"ANOVA model\", denoted SS$_M$, and so we often say that the total sum of squares is equal to the model sum of squares plus the residual sum of squares. Later on in this chapter we'll see that this isn't just a surface similarity: ANOVA and regression are actually the same thing under the hood. \n",
    "\n",
    "In any case, it's probably worth taking a moment to check that we can calculate SS$_R$ using this formula, and verify that we do obtain the same answer that `pingouin` produces in its ANOVA table. The calculations are pretty straightforward. First we calculate the total sum of squares:"
   ]
  },
  {
   "cell_type": "code",
   "execution_count": 40,
   "id": "47f120a1",
   "metadata": {},
   "outputs": [
    {
     "data": {
      "text/plain": [
       "4.845"
      ]
     },
     "execution_count": 40,
     "metadata": {},
     "output_type": "execute_result"
    }
   ],
   "source": [
    "SS_tot = sum((df['mood_gain'] - grand_mean)**2)\n",
    "round(SS_tot,4)"
   ]
  },
  {
   "attachments": {},
   "cell_type": "markdown",
   "id": "e84ff2b3",
   "metadata": {},
   "source": [
    "and then we use it to calculate the residual sum of squares:"
   ]
  },
  {
   "cell_type": "code",
   "execution_count": 41,
   "id": "74129b90",
   "metadata": {},
   "outputs": [
    {
     "data": {
      "text/plain": [
       "0.9244"
      ]
     },
     "execution_count": 41,
     "metadata": {},
     "output_type": "execute_result"
    }
   ],
   "source": [
    "SS_res = SS_tot - (SS_drug + SS_therapy)\n",
    "round(SS_res,4)"
   ]
  },
  {
   "attachments": {},
   "cell_type": "markdown",
   "id": "a385c1b7",
   "metadata": {},
   "source": [
    "Yet again, we get the same answer. "
   ]
  },
  {
   "attachments": {},
   "cell_type": "markdown",
   "id": "b16684a6",
   "metadata": {},
   "source": [
    "### What are our degrees of freedom?\n",
    "\n",
    "The degrees of freedom are calculated in much the same way as for one-way ANOVA. For any given factor, the degrees of freedom is equal to the number of levels minus 1 (i.e., $R-1$ for the row variable, Factor A, and $C-1$ for the column variable, Factor B). So, for the `drugs` factor we obtain $df = 2$, and for the `therapy` factor we obtain $df=1$. Later on on, when we discuss the interpretation of [ANOVA as a regression model](anovalm)), I'll give a clearer statement of how we arrive at this number, but for the moment we can use the simple definition of degrees of freedom, namely that the degrees of freedom equals the number of quantities that are observed, minus the number of constraints. So, for the `drugs` factor, we observe 3 separate group means, but these are constrained by 1 grand mean; and therefore the degrees of freedom is 2. For the residuals, the logic is similar, but not quite the same. The total number of observations in our experiment is 18. The constraints correspond to the 1 grand mean, the 2 additional group means that the `drug` factor introduces, and the 1 additional group mean that the the `therapy` factor introduces, and so our degrees of freedom is 14. As a formula, this is $N-1 -(R-1)-(C-1)$, which simplifies to $N-R-C+1$."
   ]
  },
  {
   "attachments": {},
   "cell_type": "markdown",
   "id": "f2345149",
   "metadata": {},
   "source": [
    "### Factorial ANOVA versus one-way ANOVAs\n",
    "\n",
    "Now that we've seen *how* a factorial ANOVA works, it's worth taking a moment to compare it to the results of the one way analyses, because this will give us a really good sense of *why* it's a good idea to run the factorial ANOVA. In the [chapter on 1-way ANOVA](anova), I ran a one-way ANOVA that looked to see if there are any differences between drugs, and a second one-way ANOVA to see if there were any differences between therapies. As we saw in [previously](factanovahyp), the null and alternative hypotheses tested by the one-way ANOVAs are in fact identical to the hypotheses tested by the factorial ANOVA. Looking even more carefully at the ANOVA tables, we can see that the sum of squares associated with the factors are identical in the two different analyses (3.45 for `drug` and 0.92 for `therapy`), as are the degrees of freedom (2 for `drug`, 1 for `therapy`). But they don't give the same answers! Most notably, when we ran the [one-way ANOVA for `therapy`](anovaandt) we didn't find a significant effect (the $p$-value was 0.21). However, when we look at the main effect of `therapy` within the context of the two-way ANOVA, we do get a significant effect ($p=.019$). The two analyses are clearly not the same.\n",
    "\n",
    "Why does that happen? The answer lies in understanding how the *residuals* are calculated. Recall that the whole idea behind an $F$-test is to compare the variability that can be attributed to a particular factor with the variability that cannot be accounted for (the residuals). If you run a one-way ANOVA for `therapy`, and therefore ignore the effect of `drug`, the ANOVA will end up dumping all of the drug-induced variability into the residuals! This has the effect of making the data look more noisy than they really are, and the effect of `therapy` which is correctly found to be significant in the two-way ANOVA now becomes non-significant. If we ignore something that actually matters (e.g., `drug`) when trying to assess the contribution of something else (e.g., `therapy`) then our analysis will be distorted. Of course, it's perfectly okay to ignore variables that are genuinely irrelevant to the phenomenon of interest: if we had recorded the colour of the walls, and that turned out to be non-significant in a three-way ANOVA (i.e. `pg.anova(dv='mood_gain', between=['drug', 'therapy', 'wall_color']`), it would be perfectly okay to disregard it and just report the simpler two-way ANOVA that doesn't include this irrelevant factor. What you shouldn't do is drop variables that actually make a difference! "
   ]
  },
  {
   "attachments": {},
   "cell_type": "markdown",
   "id": "8a676948",
   "metadata": {},
   "source": [
    "### What kinds of outcomes does this analysis capture?\n",
    "\n",
    "The ANOVA model that we've been talking about so far covers a range of different patterns that we might observe in our data. For instance, in a two-way ANOVA design, there are four possibilities: (a) only Factor A matters, (b) only Factor B matters, (c) both A and B matter, and (d) neither A nor B matters. An example of each of these four possibilities is plotted in {numref}`fig-anovas-sans-interaction`. \n"
   ]
  },
  {
   "cell_type": "code",
   "execution_count": 42,
   "id": "867640fb",
   "metadata": {
    "tags": [
     "hide-input"
    ]
   },
   "outputs": [
    {
     "data": {
      "application/papermill.record/image/png": "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",
      "application/papermill.record/text/plain": "<Figure size 640x480 with 4 Axes>"
     },
     "metadata": {
      "scrapbook": {
       "mime_prefix": "application/papermill.record/",
       "name": "anovas-sans-interaction-fig"
      }
     },
     "output_type": "display_data"
    }
   ],
   "source": [
    "import seaborn as sns\n",
    "from matplotlib import pyplot as plt\n",
    "\n",
    "levels = ['Level 1', 'Level 1', 'Level 2', 'Level 2']\n",
    "factors = ['Factor B, Level 1', 'Factor B, Level 2', 'Factor B, Level 1', 'Factor B, Level 2']\n",
    "panel1 = [1,1.2,2,2.2]\n",
    "panel2 = [1.2, 1.9, 1.2, 1.9]\n",
    "panel3 = [0.6, 1.4, 1.5, 2.4]\n",
    "panel4 = [1.5, 1.6, 1.5, 1.6]\n",
    "\n",
    "d = pd.DataFrame({'Factor': factors,\n",
    "                   'Factor A': levels,\n",
    "                   'Panel 1': panel1,\n",
    "                   'Panel 2': panel2,\n",
    "                   'Panel 3': panel3,\n",
    "                   'Panel 4': panel4})\n",
    "\n",
    "fig, axes = plt.subplots(2,2)\n",
    "\n",
    "\n",
    "p1 = sns.pointplot(data = d, x = 'Factor A', y = 'Panel 1', hue= 'Factor', errorbar=('ci', False), ax=axes[0,0])\n",
    "p2 = sns.pointplot(data = d, x = 'Factor A', y = 'Panel 2', hue= 'Factor', errorbar=('ci', False), ax=axes[0,1])\n",
    "p3 = sns.pointplot(data = d, x = 'Factor A', y = 'Panel 3', hue= 'Factor', errorbar=('ci', False), ax=axes[1,0])\n",
    "p4 = sns.pointplot(data = d, x = 'Factor A', y = 'Panel 4', hue= 'Factor', errorbar=('ci', False), ax=axes[1,1])\n",
    "\n",
    "ps = [p1, p2, p3, p4]\n",
    "panelID = ['A', 'B', 'C', 'D']\n",
    "titles = ['Only Factor A has an effect', 'Only Factor B has an effect', \n",
    "          'Both A and B have an effect', 'Neither A nor B has an effect']\n",
    "\n",
    "for n, p in enumerate(ps):\n",
    "    p.set_ylim(0,3)\n",
    "    p.set_ylabel('')\n",
    "    p.set_xlabel('')\n",
    "    p.get_legend().remove()\n",
    "    p.text(0.1, 1, titles[n], horizontalalignment='left', verticalalignment='top', transform=p.transAxes)\n",
    "    p.text(0, 1.1, panelID[n], horizontalalignment='left', verticalalignment='top', transform=p.transAxes)\n",
    "    sns.despine()\n",
    "\n",
    "p1.set_xticklabels('')\n",
    "p2.set_xticklabels('')\n",
    "\n",
    "p3.set_xlabel('Factor A')\n",
    "p4.set_xlabel('Factor A')\n",
    "\n",
    "handles, labels = p1.get_legend_handles_labels()\n",
    "fig.legend(handles, ['Factor B, Level 1', 'Factor B, Level 2'], loc='upper center', ncol=2)\n",
    "\n",
    "\n",
    "# Plot figure in book, with caption\n",
    "from myst_nb import glue\n",
    "plt.close(fig)\n",
    "glue(\"anovas-sans-interaction-fig\", fig, display=False)"
   ]
  },
  {
   "attachments": {},
   "cell_type": "markdown",
   "id": "1486c14a",
   "metadata": {},
   "source": [
    " ```{glue:figure} anovas-sans-interaction-fig\n",
    ":figwidth: 600px\n",
    ":name: fig-anovas-sans-interaction\n",
    "\n",
    "The four different outcomes for a 2 x 2 ANOVA when no interactions are present. In Panel A we see a main effect of Factor A, and no effect of Factor B. Panel B shows a main effect of Factor B but no effect of Factor A. Panel C shows main effects of both Factor A and Factor B. Finally, Panel D shows no effect of either factor.\n",
    "\n",
    "```\n"
   ]
  },
  {
   "attachments": {},
   "cell_type": "markdown",
   "id": "bc0c6c1b",
   "metadata": {},
   "source": [
    "(interactions)=\n",
    "## Balanced designs, main effects and interactions\n",
    "\n",
    "The four patterns of data shown in {numref}`fig-anovas-sans-interaction` are all quite realistic: there are a great many data sets that produce exactly those patterns. However, they are not the whole story, and the ANOVA model that we have been talking about up to this point is not sufficient to fully account for a table of group means. Why not? Well, so far we have the ability to talk about the idea that drugs can influence mood, and therapy can influence mood, but no way of talking about the possibility of an **_interaction_** between the two. An interaction between A and B is said to occur whenever the effect of Factor A is *different*, depending on which level of Factor B we're talking about. Several examples of an interaction effect with the context of a 2 x 2 ANOVA are shown in {numref}`fig-anovas-avec-interaction`. To give a more concrete example, suppose that the operation of Anxifree and Joyzepam is governed quite different physiological mechanisms, and one consequence of this is that while Joyzepam has more or less the same effect on mood regardless of whether one is in therapy, Anxifree is actually much more effective when administered in conjunction with CBT. The ANOVA that we developed in the previous section does not capture this idea. To get some idea of whether an interaction is actually happening here, it helps to plot the various group means."
   ]
  },
  {
   "cell_type": "code",
   "execution_count": 43,
   "id": "f30fd859",
   "metadata": {
    "tags": [
     "hide-input"
    ]
   },
   "outputs": [
    {
     "data": {
      "application/papermill.record/image/png": "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",
      "application/papermill.record/text/plain": "<Figure size 640x480 with 4 Axes>"
     },
     "metadata": {
      "scrapbook": {
       "mime_prefix": "application/papermill.record/",
       "name": "anovas-avec-interaction-fig"
      }
     },
     "output_type": "display_data"
    }
   ],
   "source": [
    "import seaborn as sns\n",
    "from matplotlib import pyplot as plt\n",
    "\n",
    "levels = ['Level 1', 'Level 1', 'Level 2', 'Level 2']\n",
    "factors = ['Factor B, Level 1', 'Factor B, Level 2', 'Factor B, Level 1', 'Factor B, Level 2']\n",
    "panel1 = [1,2,2,1]\n",
    "panel2 = [1, 1.1, 1.4, 2]\n",
    "panel3 = [1, 1.1, 1, 2.4]\n",
    "panel4 = [1, 1.4, 1, 2.3]\n",
    "\n",
    "d = pd.DataFrame({'Factor': factors,\n",
    "                   'Factor A': levels,\n",
    "                   'Panel 1': panel1,\n",
    "                   'Panel 2': panel2,\n",
    "                   'Panel 3': panel3,\n",
    "                   'Panel 4': panel4})\n",
    "\n",
    "fig, axes = plt.subplots(2,2)\n",
    "\n",
    "\n",
    "p1 = sns.pointplot(data = d, x = 'Factor A', y = 'Panel 1', hue= 'Factor', errorbar=('ci', False), ax=axes[0,0])\n",
    "p2 = sns.pointplot(data = d, x = 'Factor A', y = 'Panel 2', hue= 'Factor', errorbar=('ci', False), ax=axes[0,1])\n",
    "p3 = sns.pointplot(data = d, x = 'Factor A', y = 'Panel 3', hue= 'Factor', errorbar=('ci', False), ax=axes[1,0])\n",
    "p4 = sns.pointplot(data = d, x = 'Factor A', y = 'Panel 4', hue= 'Factor', errorbar=('ci', False), ax=axes[1,1])\n",
    "\n",
    "ps = [p1, p2, p3, p4]\n",
    "panelID = ['A', 'B', 'C', 'D']\n",
    "titles = ['Crossover interaction', 'Effect for one level of Factor A', \n",
    "          'One cell is different', 'Effect for one level of Factor B']\n",
    "\n",
    "for n, p in enumerate(ps):\n",
    "    p.set_ylim(0,3)\n",
    "    p.set_ylabel('')\n",
    "    p.set_xlabel('')\n",
    "    p.get_legend().remove()\n",
    "    p.text(0.1, 1, titles[n], horizontalalignment='left', verticalalignment='top', transform=p.transAxes)\n",
    "    p.text(0, 1.1, panelID[n], horizontalalignment='left', verticalalignment='top', transform=p.transAxes)\n",
    "    sns.despine()\n",
    "\n",
    "p1.set_xticklabels('')\n",
    "p2.set_xticklabels('')\n",
    "\n",
    "p3.set_xlabel('Factor A')\n",
    "p4.set_xlabel('Factor A')\n",
    "\n",
    "handles, labels = p1.get_legend_handles_labels()\n",
    "fig.legend(handles, ['Factor B, Level 1', 'Factor B, Level 2'], loc='upper center', ncol=2)\n",
    "\n",
    "\n",
    "# Plot figure in book, with caption\n",
    "from myst_nb import glue\n",
    "plt.close(fig)\n",
    "glue(\"anovas-avec-interaction-fig\", fig, display=False)"
   ]
  },
  {
   "attachments": {},
   "cell_type": "markdown",
   "id": "8455d86f",
   "metadata": {},
   "source": [
    " ```{glue:figure} anovas-avec-interaction-fig\n",
    ":figwidth: 600px\n",
    ":name: fig-anovas-avec-interaction\n",
    "\n",
    "Qualitatively different interactions for a 2 x 2 ANOVA\n",
    "\n",
    "```\n"
   ]
  },
  {
   "attachments": {},
   "cell_type": "markdown",
   "id": "26aaeed1",
   "metadata": {},
   "source": [
    "To give a more concrete example, suppose that the operation of Anxifree and Joyzepam is governed quite different physiological mechanisms, and one consequence of this is that while Joyzepam has more or less the same effect on mood regardless of whether one is in therapy, Anxifree is actually much more effective when administered in conjunction with CBT. The ANOVA that we developed in the previous section does not capture this idea. To get some idea of whether an interaction is actually happening here, it helps to plot the various group means. We can do this easily with `seaborn`:"
   ]
  },
  {
   "cell_type": "code",
   "execution_count": 44,
   "id": "945c56fe",
   "metadata": {},
   "outputs": [
    {
     "data": {
      "image/png": "[encoded data removed]",
      "text/plain": [
       "<Figure size 640x480 with 1 Axes>"
      ]
     },
     "metadata": {},
     "output_type": "display_data"
    }
   ],
   "source": [
    "sns.pointplot(data=df, x='drug', y='mood_gain', hue='therapy')\n",
    "sns.despine()"
   ]
  },
  {
   "attachments": {},
   "cell_type": "markdown",
   "id": "6101b34f",
   "metadata": {},
   "source": [
    "Our main concern relates to the fact that the two lines aren't parallel. The effect of CBT (difference between solid line and dotted line) when the drug is Joyzepam (right side) appears to be near zero, even smaller than the effect of CBT when a placebo is used (left side). However, when Anxifree is administered, the effect of CBT is larger than the placebo (middle). Is this effect real, or is this just random variation due to chance? Our original ANOVA cannot answer this question, because we make no allowances for the idea that interactions even exist! In this section, we'll fix this problem.\n",
    "\n",
    "\n",
    "### What exactly *is* an interaction effect?\n",
    "\n",
    "The key idea that we're going to introduce in this section is that of an interaction effect. `pingouin` has already been calculating the for us, but to keep things simple, I have just ignored them. Now the time has come to look at that _other_ line in the ANOVA table, the one that about \"drug*therapy\".\n",
    "\n",
    "Intuitively, the idea behind an interaction effect is fairly simple: it just means that the effect of Factor A is different, depending on which level of Factor B we're talking about. But what does that actually mean in terms of our data? {numref}`fig-anovas-avec-interaction` depicts several different patterns that, although quite different to each other, would all count as an interaction effect. So it's not entirely straightforward to translate this qualitative idea into something mathematical that a statistician can work with. As a consequence, the way that the idea of an interaction effect is formalised in terms of null and alternative hypotheses is slightly difficult, and I'm guessing that a lot of readers of this book probably won't be all that interested. Even so, I'll try to give the basic idea here.\n",
    "\n",
    "To start with, we need to be a little more explicit about our main effects. Consider the main effect of Factor A (`drug` in our running example). We originally formulated this in terms of the null hypothesis that the two marginal means $\\mu_{r.}$ are all equal to each other. Obviously, if all of these are equal to each other, then they must also be equal to the grand mean $\\mu_{..}$ as well, right? So what we can do is define the *effect* of Factor A at level $r$ to be equal to the difference between the marginal mean $\\mu_{r.}$ and the grand mean $\\mu_{..}$.  \n",
    "\n",
    "Let's denote this effect by $\\alpha_r$, and note that\n",
    "\n",
    "$$\n",
    "\\alpha_r  = \\mu_{r.} - \\mu_{..} \n",
    "$$\n",
    "\n",
    "Now, by definition all of the $\\alpha_r$ values must sum to zero, for the same reason that the average of the marginal means $\\mu_{r.}$ must be the grand mean $\\mu_{..}$. We can similarly define the effect of Factor B at level $i$ to be the difference between the column marginal mean $\\mu_{.c}$ and the grand mean $\\mu_{..}$\n",
    "\n",
    "$$\n",
    "\\beta_c = \\mu_{.c} - \\mu_{..}\n",
    "$$\n",
    "\n",
    "and once again, these $\\beta_c$ values must sum to zero. The reason that statisticians sometimes like to talk about the main effects in terms of these $\\alpha_r$ and $\\beta_c$ values is that it allows them to be precise about what it means to say that there is no interaction effect. If there is no interaction at all, then these $\\alpha_r$ and $\\beta_c$ values will perfectly describe the group means $\\mu_{rc}$. Specifically, it means that\n",
    "\n",
    "$$\n",
    "\\mu_{rc} = \\mu_{..} + \\alpha_r + \\beta_c \n",
    "$$\n",
    "\n",
    "That is, there's nothing *special* about the group means that you couldn't predict perfectly by knowing all the marginal means. And that's our null hypothesis, right there. The alternative hypothesis is that\n",
    "\n",
    "$$\n",
    "\\mu_{rc} \\neq \\mu_{..} + \\alpha_r + \\beta_c \n",
    "$$\n",
    "\n",
    "for at least one group $rc$ in our table. However, statisticians often like to write this slightly differently. They'll usually define the specific interaction associated with group $rc$ to be some number, awkwardly referred to as $(\\alpha\\beta)_{rc}$, and then they will say that the alternative hypothesis is that \n",
    "\n",
    "$$\n",
    "\\mu_{rc} = \\mu_{..} + \\alpha_r + \\beta_c + (\\alpha\\beta)_{rc}\n",
    "$$\n",
    "\n",
    "where $(\\alpha\\beta)_{rc}$ is non-zero for at least one group. This notation is kind of ugly to look at, but it is handy as we'll see in the next section when discussing how to calculate the sum of squares.\n"
   ]
  },
  {
   "attachments": {},
   "cell_type": "markdown",
   "id": "3b137159",
   "metadata": {},
   "source": [
    "### Calculating sums of squares for the interaction\n",
    "\n",
    "How should we calculate the sum of squares for the interaction terms, SS$_{A:B}$? \n",
    "\n",
    "Well, first off, it helps to notice how the previous section defined the interaction effect in terms of the extent to which the actual group means differ from what you'd expect by just looking at the marginal means. Of course, all of those formulas refer to population parameters rather than sample statistics, so we don't actually know what they are. However, we can estimate them by using sample means in place of population means. So for Factor A, a good way to estimate the main effect at level $r$ as the difference between the *sample* marginal mean $\\bar{Y}_{rc}$ and the sample grand mean $\\bar{Y}_{..}$. That is, we would use this as our estimate of the effect:\n",
    "\n",
    "$$\n",
    "\\hat{\\alpha}_r = \\bar{Y}_{r.} - \\bar{Y}_{..}\n",
    "$$\n",
    "\n",
    "Similarly, our estimate of the main effect of Factor B at level $c$ can be defined as follows:\n",
    "\n",
    "$$\n",
    "\\hat{\\beta}_c = \\bar{Y}_{.c} - \\bar{Y}_{..}\n",
    "$$\n",
    "\n",
    "Now, if you go back to the formulas that I used to describe the SS values for the two main effects, you'll notice that these effect terms are exactly the quantities that we were squaring and summing! So what's the analog of this for interaction terms? The answer to this can be found by first rearranging the formula for the group means $\\mu_{rc}$ under the alternative hypothesis, so that we get this:\n",
    "\n",
    "$$\n",
    "\\begin{align}\n",
    "(\\alpha \\beta)_{rc} &= \\mu_{rc} - \\mu_{..} - \\alpha_r - \\beta_c \\\\\n",
    "                &= \\mu_{rc} - \\mu_{..} - (\\mu_{r.} - \\mu_{..}) - (\\mu_{.c} - \\mu_{..}) \\\\\n",
    "                & =  \\mu_{rc} - \\mu_{r.} - \\mu_{.c} + \\mu_{..}\n",
    "\\end{align}\n",
    "$$\n",
    "\n",
    "\n",
    "\n",
    "So, once again, if we substitute our sample statistics in place of the population means, we get the following as our estimate of the interaction effect for group $rc$, which is\n",
    "\n",
    "$$\n",
    "\\hat{(\\alpha\\beta)}_{rc} = \\bar{Y}_{rc} - \\bar{Y}_{r.} - \\bar{Y}_{.c} + \\bar{Y}_{..}\n",
    "$$\n",
    "\n",
    "Now all we have to do is sum all of these estimates across all $R$ levels of Factor A and all $C$ levels of Factor B, and we obtain the following formula for the sum of squares associated with the interaction as a whole:\n",
    "\n",
    "$$\n",
    "\\mbox{SS}_{A:B} = N \\sum_{r=1}^R \\sum_{c=1}^C \\left( \\bar{Y}_{rc} - \\bar{Y}_{r.} - \\bar{Y}_{.c} + \\bar{Y}_{..} \\right)^2\n",
    "$$\n",
    "\n",
    "where, we multiply by $N$ because there are $N$ observations in each of the groups, and we want our SS values to reflect the variation among *observations* accounted for by the interaction, not the variation among groups. \n",
    "\n",
    "\n",
    "Now that we have a formula for calculating SS$_{A:B}$, it's important to recognise that the interaction term is part of the model (of course), so the total sum of squares associated with the model, SS$_M$ is now equal to the sum of the three relevant SS values, $\\mbox{SS}_A + \\mbox{SS}_B + \\mbox{SS}_{A:B}$. The residual sum of squares $\\mbox{SS}_R$ is still defined as the leftover variation, namely $\\mbox{SS}_T - \\mbox{SS}_M$, but now that we have the interaction term this becomes\n",
    "\n",
    "$$\n",
    "\\mbox{SS}_R = \\mbox{SS}_T - (\\mbox{SS}_A + \\mbox{SS}_B + \\mbox{SS}_{A:B})\n",
    "$$ \n",
    "\n",
    "\n",
    "As a consequence, the residual sum of squares SS$_R$ will be smaller than in our original ANOVA that didn't include interactions.\n",
    "\n"
   ]
  },
  {
   "attachments": {},
   "cell_type": "markdown",
   "id": "1f674b2f",
   "metadata": {},
   "source": [
    "### Degrees of freedom for the interaction\n",
    "\n",
    "Calculating the degrees of freedom for the interaction is, once again, slightly trickier than the corresponding calculation for the main effects. To start with, let's think about the ANOVA model as a whole. Once we include interaction effects in the model, we're allowing every single group to have a unique mean, $\\mu_{rc}$. For an $R \\times C$ factorial ANOVA, this means that there are $R \\times C$ quantities of interest in the model, and only the one constraint: all of the group means need to average out to the grand mean. So the model as a whole needs to have $(R\\times C) - 1$ degrees of freedom. But the main effect of Factor A has $R-1$ degrees of freedom, and the main effect of Factor B has $C-1$ degrees of freedom. Which means that the degrees of freedom associated with the interaction is \n",
    "\n",
    "$$\n",
    "\\begin{align}\n",
    "df_{A:B} &= (R\\times C - 1) - (R - 1) - (C -1 ) \\\\\n",
    "        &= RC - R - C + 1 \\\\\n",
    "        &= (R-1)(C-1)\n",
    "\\end{align}\n",
    "$$\n",
    "\n",
    "which is just the product of the degrees of freedom associated with the row factor and the column factor.\n",
    "\n",
    "What about the residual degrees of freedom? Because we've added interaction terms, which absorb some degrees of freedom, there are fewer residual degrees of freedom left over. Specifically, note that if the model with interaction has a total of $(R\\times C) - 1$, and there are $N$ observations in your data set that are constrained to satisfy 1 grand mean, your residual degrees of freedom now become $N-(R \\times C)-1+1$, or just $N-(R \\times C)$."
   ]
  },
  {
   "attachments": {},
   "cell_type": "markdown",
   "id": "6eee58bc",
   "metadata": {},
   "source": [
    "### Interpreting the results\n",
    "\n",
    "Now we are in a position to understand all the rows in the ANOVA table that we saw earlier. Even if you skimmed lightly over the math in the previous section (and you would be forgiven if you did), hopefully you will now have some intuition for the differences between main effects and interaction effects. But what does it all mean, in the end?\n",
    "\n",
    "Let's quickly remind ourselves of the results of our factorial ANOVA:"
   ]
  },
  {
   "cell_type": "code",
   "execution_count": 45,
   "id": "c22ad370",
   "metadata": {},
   "outputs": [
    {
     "data": {
      "text/html": [
       "<div>\n",
       "<style scoped>\n",
       "    .dataframe tbody tr th:only-of-type {\n",
       "        vertical-align: middle;\n",
       "    }\n",
       "\n",
       "    .dataframe tbody tr th {\n",
       "        vertical-align: top;\n",
       "    }\n",
       "\n",
       "    .dataframe thead th {\n",
       "        text-align: right;\n",
       "    }\n",
       "</style>\n",
       "<table border=\"1\" class=\"dataframe\">\n",
       "  <thead>\n",
       "    <tr style=\"text-align: right;\">\n",
       "      <th></th>\n",
       "      <th>Source</th>\n",
       "      <th>SS</th>\n",
       "      <th>DF</th>\n",
       "      <th>MS</th>\n",
       "      <th>F</th>\n",
       "      <th>p-unc</th>\n",
       "      <th>np2</th>\n",
       "    </tr>\n",
       "  </thead>\n",
       "  <tbody>\n",
       "    <tr>\n",
       "      <th>0</th>\n",
       "      <td>drug</td>\n",
       "      <td>3.453</td>\n",
       "      <td>2</td>\n",
       "      <td>1.727</td>\n",
       "      <td>31.714</td>\n",
       "      <td>0.000</td>\n",
       "      <td>0.841</td>\n",
       "    </tr>\n",
       "    <tr>\n",
       "      <th>1</th>\n",
       "      <td>therapy</td>\n",
       "      <td>0.467</td>\n",
       "      <td>1</td>\n",
       "      <td>0.467</td>\n",
       "      <td>8.582</td>\n",
       "      <td>0.013</td>\n",
       "      <td>0.417</td>\n",
       "    </tr>\n",
       "    <tr>\n",
       "      <th>2</th>\n",
       "      <td>drug * therapy</td>\n",
       "      <td>0.271</td>\n",
       "      <td>2</td>\n",
       "      <td>0.136</td>\n",
       "      <td>2.490</td>\n",
       "      <td>0.125</td>\n",
       "      <td>0.293</td>\n",
       "    </tr>\n",
       "    <tr>\n",
       "      <th>3</th>\n",
       "      <td>Residual</td>\n",
       "      <td>0.653</td>\n",
       "      <td>12</td>\n",
       "      <td>0.054</td>\n",
       "      <td>NaN</td>\n",
       "      <td>NaN</td>\n",
       "      <td>NaN</td>\n",
       "    </tr>\n",
       "  </tbody>\n",
       "</table>\n",
       "</div>"
      ],
      "text/plain": [
       "           Source     SS  DF     MS       F  p-unc    np2\n",
       "0            drug  3.453   2  1.727  31.714  0.000  0.841\n",
       "1         therapy  0.467   1  0.467   8.582  0.013  0.417\n",
       "2  drug * therapy  0.271   2  0.136   2.490  0.125  0.293\n",
       "3        Residual  0.653  12  0.054     NaN    NaN    NaN"
      ]
     },
     "execution_count": 45,
     "metadata": {},
     "output_type": "execute_result"
    }
   ],
   "source": [
    "model2 = pg.anova(dv='mood_gain', between=['drug', 'therapy'], data=df, detailed=True)\n",
    "round(model2, 3)"
   ]
  },
  {
   "attachments": {},
   "cell_type": "markdown",
   "id": "73ca4349",
   "metadata": {},
   "source": [
    "We can now see that while we do have a significant main effect of drug ($F_{2,12} = 31.7, p <.001$) and therapy type ($F_{1,12} = 8.6, p=.013$), there is no significant interaction between the two ($F_{2,12} = 2.5, p = 0.125$)."
   ]
  },
  {
   "attachments": {},
   "cell_type": "markdown",
   "id": "836263e3",
   "metadata": {},
   "source": [
    "There's a couple of very important things to consider when interpreting the results of factorial ANOVA. Firstly, there's the same issue that we had with one-way ANOVA, which is that if you obtain a significant main effect of (say) `drug`, it doesn't tell you anything about which drugs are different to one another. To find that out, you need to run additional analyses. We'll talk about some analyses that you can run in the sections on [contrasts](contrasts) and [post-hoc tests](posthoc2). The same is true for interaction effects: knowing that there's a significant interaction doesn't tell you anything about what kind of interaction exists. Again, you'll need to run additional analyses. \n",
    "\n",
    "Secondly, there's a very peculiar interpretation issue that arises when you obtain a significant interaction effect but no corresponding main effect. This happens sometimes. For instance, in the crossover interaction shown in {numref}`fig-anovas-avec-interaction`), this is exactly what you'd find: in this case, neither of the main effects would be significant, but the interaction effect would be. This is a difficult situation to interpret, and people often get a bit confused about it. The general advice that statisticians like to give in this situation is that you shouldn't pay much attention to the main effects when an interaction is present. The reason they say this is that, although the tests of the main effects are perfectly valid from a mathematical point of view, when there is a significant interaction effect, the main effects rarely test interesting hypotheses. [Recall](factanovahyp) that the null hypothesis for a main effect is that the *marginal means* are equal to each other, and that a marginal mean is formed by averaging across several different groups. But if you have a significant interaction effect, then you *know* that the groups that comprise the marginal mean aren't homogeneous, so it's not really obvious why you would even care about those marginal means. \n",
    "\n",
    "Here's what I mean. Again, let's stick with a clinical example. Suppose that we had a $2 \\times 2$ design comparing two different treatments for phobias (e.g., systematic desensitisation vs flooding), and two different anxiety reducing drugs (e.g., Anxifree vs Joyzepam). Now suppose what we found was that Anxifree had no effect when desensitisation was the treatment, and Joyzepam had no effect when flooding was the treatment. But both were pretty effective for the other treatment. This is a classic crossover interaction, and what we'd find when running the ANOVA is that there is no main effect of drug, but a significant interaction. Now, what does it actually *mean* to say that there's no main effect? Well, it means that, if we average over the two different psychological treatments, then the *average* effect of Anxifree and Joyzepam is the same. But why would anyone care about that? When treating someone for phobias, it is never the case that a person can be treated using an \"average\" of flooding and desensitisation: that doesn't make a lot of sense. You either get one or the other. For one treatment, one drug is effective; and for the other treatment, the other drug is effective. The interaction is the important thing; the main effect is kind of irrelevant. \n",
    "\n",
    "This sort of thing happens a lot: the main effect are tests of marginal means, and when an interaction is present we often find ourselves not being terribly interested in marginal means, because they imply averaging over things that the interaction tells us shouldn't be averaged! Of course, it's not always the case that a main effect is meaningless when an interaction is present. Often you can get a big main effect and a very small interaction, in which case you can still say things like \"drug A is generally more effective than drug B\" (because there was a big effect of drug), but you'd need to modify it a bit by adding that \"the difference in effectiveness was different for different psychological treatments\". In any case, the main point here is that whenever you get a significant interaction you should stop and *think* about what the main effect actually means in this context. Don't automatically assume that the main effect is interesting. "
   ]
  },
  {
   "attachments": {},
   "cell_type": "markdown",
   "id": "07bd5740",
   "metadata": {},
   "source": [
    "### Effect sizes\n",
    "\n",
    "The effect size calculations for a factorial ANOVA is pretty similar to [those used in one way ANOVA](etasquared). Specifically, we can use $\\eta^2$ (eta-squared) as simple way to measure how big the overall effect is for any particular term. As before, $\\eta^2$ is defined by dividing the sum of squares associated with that term by the total sum of squares. For instance, to determine the size of the main effect of Factor A, we would use the following formula\n",
    "\n",
    "$$\n",
    "\\eta_A^2 = \\frac{\\mbox{SS}_{A}}{\\mbox{SS}_{T}}\n",
    "$$\n",
    "\n",
    "As before, this can be interpreted in much the same way as $R^2$ in regression.[^R]  It tells you the proportion of variance in the outcome variable that can be accounted for by the main effect of Factor A. It is therefore a number that ranges from 0 (no effect at all) to 1 (accounts for *all* of the variability in the outcome). Moreover, the sum of all the $\\eta^2$ values, taken across all the terms in the model, will sum to the the total $R^2$ for the ANOVA model. If, for instance, the ANOVA model fits perfectly (i.e., there is no within-groups variability at all!), the $\\eta^2$ values will sum to 1. Of course, that rarely if ever happens in real life.\n",
    "\n",
    "However, when doing a factorial ANOVA, there is a second measure of effect size that people like to report, known as partial $\\eta^2$. This is the effect size measure that `pingouin` gives you by default. The idea behind partial $\\eta^2$ (which is sometimes denoted $_p\\eta^2$ or $\\eta^2_p$) is that, when measuring the effect size for a particular term (say, the main effect of Factor A), you want to deliberately ignore the other effects in the model (e.g., the main effect of Factor B). That is, you would pretend that the effect of all these other terms is zero, and then calculate what the $\\eta^2$ value would have been. This is actually pretty easy to calculate. All you have to do is remove the sum of squares associated with the other terms from the denominator. In other words, if you want the partial $\\eta^2$ for the main effect of Factor A, the denominator is just the sum of the SS values for Factor A and the residuals:\n",
    "\n",
    "$$\n",
    "\\mbox{partial } \\eta^2_A = \\frac{\\mbox{SS}_{A}}{\\mbox{SS}_{A} + \\mbox{SS}_{R}}\n",
    "$$\n",
    "\n",
    "This will always give you a larger number than $\\eta^2$, which the cynic in me suspects accounts for the popularity of partial $\\eta^2$. And once again you get a number between 0 and 1, where 0 represents no effect. However, it's slightly trickier to interpret what a large partial $\\eta^2$ value means. In particular, you can't actually compare the partial $\\eta^2$ values across terms! Suppose, for instance, there is no within-groups variability at all: if so, SS$_R = 0$. What that means is that *every* term has a partial $\\eta^2$ value of 1. But that doesn't mean that all terms in your model are equally important, or indeed that they are equally large. All it mean is that all terms in your model have effect sizes that are large *relative to the residual variation*. It is not comparable across terms.\n",
    "\n",
    "[^R]: This chapter seems to be setting a new record for the number of different things that the letter R can stand for: so far we have R referring to the number of rows in our table of means, the residuals in the model, and now the correlation coefficient in a regression. Sorry: we clearly don't have enough letters in the alphabet. However, I've tried pretty hard to be clear on which thing R is referring to in each case.\n",
    "\n",
    "To see what I mean by this, it's useful to see a concrete example. We can get `pingouin` to report $\\eta^2$ instead of partial $\\eta^2$ by specifying this in the `effsize` argument when we run our ANOVA:"
   ]
  },
  {
   "cell_type": "code",
   "execution_count": 46,
   "id": "0e24f51c",
   "metadata": {},
   "outputs": [
    {
     "data": {
      "text/html": [
       "<div>\n",
       "<style scoped>\n",
       "    .dataframe tbody tr th:only-of-type {\n",
       "        vertical-align: middle;\n",
       "    }\n",
       "\n",
       "    .dataframe tbody tr th {\n",
       "        vertical-align: top;\n",
       "    }\n",
       "\n",
       "    .dataframe thead th {\n",
       "        text-align: right;\n",
       "    }\n",
       "</style>\n",
       "<table border=\"1\" class=\"dataframe\">\n",
       "  <thead>\n",
       "    <tr style=\"text-align: right;\">\n",
       "      <th></th>\n",
       "      <th>Source</th>\n",
       "      <th>SS</th>\n",
       "      <th>DF</th>\n",
       "      <th>MS</th>\n",
       "      <th>F</th>\n",
       "      <th>p-unc</th>\n",
       "      <th>n2</th>\n",
       "    </tr>\n",
       "  </thead>\n",
       "  <tbody>\n",
       "    <tr>\n",
       "      <th>0</th>\n",
       "      <td>drug</td>\n",
       "      <td>3.453</td>\n",
       "      <td>2</td>\n",
       "      <td>1.727</td>\n",
       "      <td>31.714</td>\n",
       "      <td>0.000</td>\n",
       "      <td>0.713</td>\n",
       "    </tr>\n",
       "    <tr>\n",
       "      <th>1</th>\n",
       "      <td>therapy</td>\n",
       "      <td>0.467</td>\n",
       "      <td>1</td>\n",
       "      <td>0.467</td>\n",
       "      <td>8.582</td>\n",
       "      <td>0.013</td>\n",
       "      <td>0.096</td>\n",
       "    </tr>\n",
       "    <tr>\n",
       "      <th>2</th>\n",
       "      <td>drug * therapy</td>\n",
       "      <td>0.271</td>\n",
       "      <td>2</td>\n",
       "      <td>0.136</td>\n",
       "      <td>2.490</td>\n",
       "      <td>0.125</td>\n",
       "      <td>0.056</td>\n",
       "    </tr>\n",
       "    <tr>\n",
       "      <th>3</th>\n",
       "      <td>Residual</td>\n",
       "      <td>0.653</td>\n",
       "      <td>12</td>\n",
       "      <td>0.054</td>\n",
       "      <td>NaN</td>\n",
       "      <td>NaN</td>\n",
       "      <td>NaN</td>\n",
       "    </tr>\n",
       "  </tbody>\n",
       "</table>\n",
       "</div>"
      ],
      "text/plain": [
       "           Source     SS  DF     MS       F  p-unc     n2\n",
       "0            drug  3.453   2  1.727  31.714  0.000  0.713\n",
       "1         therapy  0.467   1  0.467   8.582  0.013  0.096\n",
       "2  drug * therapy  0.271   2  0.136   2.490  0.125  0.056\n",
       "3        Residual  0.653  12  0.054     NaN    NaN    NaN"
      ]
     },
     "execution_count": 46,
     "metadata": {},
     "output_type": "execute_result"
    }
   ],
   "source": [
    "model2 = pg.anova(dv='mood_gain', \n",
    "                  between=['drug', 'therapy'], \n",
    "                  data=df, \n",
    "                  detailed=True, \n",
    "                  effsize='n2')\n",
    "round(model2, 3)"
   ]
  },
  {
   "attachments": {},
   "cell_type": "markdown",
   "id": "e2641e95",
   "metadata": {},
   "source": [
    "Looking at the $\\eta^2$ values first, we see that `drug` accounts for 71.3\\% of the variance (i.e. $\\eta^2 = 0.713$) in `mood_gain`, whereas `therapy` only accounts for 9.6\\%. This leaves a total of 19.1\\% of the variation unaccounted for (i.e., the residuals constitute 19.1\\% of the variation in the outcome). Overall, this implies that we have a very large effect[^bigeffect] of `drug` and a modest effect of `therapy`. \n",
    "\n",
    "[^bigeffect]: Implausibly large, I would think: the artificiality of this data set is really starting to show!\n",
    "\n",
    "Now let's look at the partial $\\eta^2$ values. \n"
   ]
  },
  {
   "cell_type": "code",
   "execution_count": 47,
   "id": "0de77fdd",
   "metadata": {},
   "outputs": [
    {
     "data": {
      "text/html": [
       "<div>\n",
       "<style scoped>\n",
       "    .dataframe tbody tr th:only-of-type {\n",
       "        vertical-align: middle;\n",
       "    }\n",
       "\n",
       "    .dataframe tbody tr th {\n",
       "        vertical-align: top;\n",
       "    }\n",
       "\n",
       "    .dataframe thead th {\n",
       "        text-align: right;\n",
       "    }\n",
       "</style>\n",
       "<table border=\"1\" class=\"dataframe\">\n",
       "  <thead>\n",
       "    <tr style=\"text-align: right;\">\n",
       "      <th></th>\n",
       "      <th>Source</th>\n",
       "      <th>SS</th>\n",
       "      <th>DF</th>\n",
       "      <th>MS</th>\n",
       "      <th>F</th>\n",
       "      <th>p-unc</th>\n",
       "      <th>np2</th>\n",
       "    </tr>\n",
       "  </thead>\n",
       "  <tbody>\n",
       "    <tr>\n",
       "      <th>0</th>\n",
       "      <td>drug</td>\n",
       "      <td>3.453</td>\n",
       "      <td>2</td>\n",
       "      <td>1.727</td>\n",
       "      <td>31.714</td>\n",
       "      <td>0.000</td>\n",
       "      <td>0.841</td>\n",
       "    </tr>\n",
       "    <tr>\n",
       "      <th>1</th>\n",
       "      <td>therapy</td>\n",
       "      <td>0.467</td>\n",
       "      <td>1</td>\n",
       "      <td>0.467</td>\n",
       "      <td>8.582</td>\n",
       "      <td>0.013</td>\n",
       "      <td>0.417</td>\n",
       "    </tr>\n",
       "    <tr>\n",
       "      <th>2</th>\n",
       "      <td>drug * therapy</td>\n",
       "      <td>0.271</td>\n",
       "      <td>2</td>\n",
       "      <td>0.136</td>\n",
       "      <td>2.490</td>\n",
       "      <td>0.125</td>\n",
       "      <td>0.293</td>\n",
       "    </tr>\n",
       "    <tr>\n",
       "      <th>3</th>\n",
       "      <td>Residual</td>\n",
       "      <td>0.653</td>\n",
       "      <td>12</td>\n",
       "      <td>0.054</td>\n",
       "      <td>NaN</td>\n",
       "      <td>NaN</td>\n",
       "      <td>NaN</td>\n",
       "    </tr>\n",
       "  </tbody>\n",
       "</table>\n",
       "</div>"
      ],
      "text/plain": [
       "           Source     SS  DF     MS       F  p-unc    np2\n",
       "0            drug  3.453   2  1.727  31.714  0.000  0.841\n",
       "1         therapy  0.467   1  0.467   8.582  0.013  0.417\n",
       "2  drug * therapy  0.271   2  0.136   2.490  0.125  0.293\n",
       "3        Residual  0.653  12  0.054     NaN    NaN    NaN"
      ]
     },
     "execution_count": 47,
     "metadata": {},
     "output_type": "execute_result"
    }
   ],
   "source": [
    "model2 = pg.anova(dv='mood_gain', \n",
    "                  between=['drug', 'therapy'], \n",
    "                  data=df, \n",
    "                  detailed=True, \n",
    "                  effsize='np2')\n",
    "round(model2, 3)"
   ]
  },
  {
   "attachments": {},
   "cell_type": "markdown",
   "id": "ca624119",
   "metadata": {},
   "source": [
    "Because the effect of `therapy` isn't all that large, controlling for it doesn't make much of a difference, so the partial $\\eta^2$ for `drug` doesn't increase very much, and we obtain a value of $_p\\eta^2 = 0.789$). In contrast, because the effect of `drug` was very large, controlling for it makes a big difference, and so when we calculate the partial $\\eta^2$ for `therapy` you can see that it rises to $_p\\eta^2 = 0.336$. The question that we have to ask ourselves is, what do these partial $\\eta^2$ values actually *mean*? The way I generally interpret the partial $\\eta^2$ for the main effect of Factor A is to interpret it as a statement about a hypothetical experiment in which *only* Factor A was being varied. So, even though in *this* experiment we varied both A and B, we can easily imagine an experiment in which only Factor A was varied: the partial $\\eta^2$ statistic tells you how much of the variance in the outcome variable you would expect to see accounted for in that experiment. However, it should be noted that this interpretation -- like many things associated with main effects -- doesn't make a lot of sense when there is a large and significant interaction effect. "
   ]
  },
  {
   "attachments": {},
   "cell_type": "markdown",
   "id": "45fbeceb",
   "metadata": {},
   "source": [
    "(factorialanovaassumptions)=\n",
    "## Assumption checking\n",
    "\n",
    "As with one-way ANOVA, the key assumptions of factorial ANOVA are homogeneity of variance (all groups have the same standard deviation), normality of the residuals, and independence of the observations. The first two are things we can test for. The third is something that you need to assess yourself by asking if there are any special relationships between different observations. What about homogeneity of variance and normality of the residuals? As it turns out, these are pretty easy to check: it's no different to the checks we did for a one-way ANOVA.\n",
    "\n",
    "### Levene test for homogeneity of variance\n",
    "\n",
    "To test whether the groups have the same variance, we can use the Levene test. The theory behind the Levene test has [already been discussed](levene), so I won't discuss it again. The funny thing is, though, that while pacakges exist to perform a Levene test on factorial ANOVA models in e.g. R, I have not been able to find a package that does the same in Python. As of the date of writing this, I can only find examples of Levene's tests being performed on one-way models in Python. However, as far as I can tell, all that one needs to do is to create a new column in the dataframe that represents the interaction of the two factors, and run the Levene's test on that. This seems to give the same result as e.g. the R function `levene()` run on a two-way model with interactions, so I offer it here as my solution to this problem:\n",
    "\n"
   ]
  },
  {
   "cell_type": "code",
   "execution_count": 48,
   "id": "352bfe32",
   "metadata": {},
   "outputs": [
    {
     "data": {
      "text/html": [
       "<div>\n",
       "<style scoped>\n",
       "    .dataframe tbody tr th:only-of-type {\n",
       "        vertical-align: middle;\n",
       "    }\n",
       "\n",
       "    .dataframe tbody tr th {\n",
       "        vertical-align: top;\n",
       "    }\n",
       "\n",
       "    .dataframe thead th {\n",
       "        text-align: right;\n",
       "    }\n",
       "</style>\n",
       "<table border=\"1\" class=\"dataframe\">\n",
       "  <thead>\n",
       "    <tr style=\"text-align: right;\">\n",
       "      <th></th>\n",
       "      <th>W</th>\n",
       "      <th>pval</th>\n",
       "      <th>equal_var</th>\n",
       "    </tr>\n",
       "  </thead>\n",
       "  <tbody>\n",
       "    <tr>\n",
       "      <th>levene</th>\n",
       "      <td>0.09545</td>\n",
       "      <td>0.99123</td>\n",
       "      <td>True</td>\n",
       "    </tr>\n",
       "  </tbody>\n",
       "</table>\n",
       "</div>"
      ],
      "text/plain": [
       "              W     pval  equal_var\n",
       "levene  0.09545  0.99123       True"
      ]
     },
     "execution_count": 48,
     "metadata": {},
     "output_type": "execute_result"
    }
   ],
   "source": [
    "\n",
    "df['interaction'] = df['drug']+df['therapy']\n",
    "\n",
    "pg.homoscedasticity(data=df, \n",
    "                    dv='mood_gain', \n",
    "                    group='interaction').round(5)"
   ]
  },
  {
   "attachments": {},
   "cell_type": "markdown",
   "id": "1249612f",
   "metadata": {},
   "source": [
    "The fact that the Levene test is non-significant means that we can safely assume that the homogeneity of variance assumption is not violated."
   ]
  },
  {
   "attachments": {},
   "cell_type": "markdown",
   "id": "2ac77ad3",
   "metadata": {},
   "source": [
    "### Normality of residuals\n",
    "\n",
    "As with one-way ANOVA, we can test for the normality of residuals in a [straightforward fashion](anovanormality). At the time of writing, `pingouin` doesn't have a way to extract the residuals, so we will need to use `statsmodels` to run our ANOVA first, and then use the `.resid` method to extract the residuals from the model. Once we have done that, we can examine those residuals in a few different ways. It's generally a good idea to examine them graphically, by drawing histograms (i.e., `sns.histplot()` function) and QQ plots (i.e., `pg.qqplot()` function. If you want a formal test for the normality of the residuals, then we can run the Shapiro-Wilk test (i.e., `pg.normality()`). If we wanted to check the residuals with respect to our two-way ANOVA (including interactions), we could first get the residuals using the following code:"
   ]
  },
  {
   "cell_type": "code",
   "execution_count": 49,
   "id": "e9badcb6",
   "metadata": {},
   "outputs": [],
   "source": [
    "import statsmodels.api as sm\n",
    "from statsmodels.formula.api import ols\n",
    "\n",
    "formula = 'mood_gain ~ drug + therapy + drug:therapy'\n",
    "\n",
    "model = ols(formula, data=df).fit()\n",
    "res = model.resid"
   ]
  },
  {
   "attachments": {},
   "cell_type": "markdown",
   "id": "b84077fb",
   "metadata": {},
   "source": [
    "As you can see from the `formula` variable above, in `statsmodels` we need to explicitly ask it to model the interactions for us, while `pingouin` does this automatically. We specify the interaction using `:`, so the interaction of `drug` and `therapy`is written as `drug:therapy`.\n",
    "\n",
    "Now we can do our normality test:"
   ]
  },
  {
   "cell_type": "code",
   "execution_count": 50,
   "id": "6ee2f46f",
   "metadata": {},
   "outputs": [
    {
     "data": {
      "text/html": [
       "<div>\n",
       "<style scoped>\n",
       "    .dataframe tbody tr th:only-of-type {\n",
       "        vertical-align: middle;\n",
       "    }\n",
       "\n",
       "    .dataframe tbody tr th {\n",
       "        vertical-align: top;\n",
       "    }\n",
       "\n",
       "    .dataframe thead th {\n",
       "        text-align: right;\n",
       "    }\n",
       "</style>\n",
       "<table border=\"1\" class=\"dataframe\">\n",
       "  <thead>\n",
       "    <tr style=\"text-align: right;\">\n",
       "      <th></th>\n",
       "      <th>W</th>\n",
       "      <th>pval</th>\n",
       "      <th>normal</th>\n",
       "    </tr>\n",
       "  </thead>\n",
       "  <tbody>\n",
       "    <tr>\n",
       "      <th>0</th>\n",
       "      <td>0.928816</td>\n",
       "      <td>0.185093</td>\n",
       "      <td>True</td>\n",
       "    </tr>\n",
       "  </tbody>\n",
       "</table>\n",
       "</div>"
      ],
      "text/plain": [
       "          W      pval  normal\n",
       "0  0.928816  0.185093    True"
      ]
     },
     "execution_count": 50,
     "metadata": {},
     "output_type": "execute_result"
    }
   ],
   "source": [
    "pg.normality(res)"
   ]
  },
  {
   "attachments": {},
   "cell_type": "markdown",
   "id": "b86b61a9",
   "metadata": {},
   "source": [
    "I haven’t included the plots (you can draw them yourself if you want to see them), but you can see from the non-significance of the Shapiro-Wilk test that normality isn’t violated here."
   ]
  },
  {
   "attachments": {},
   "cell_type": "markdown",
   "id": "33423cb2",
   "metadata": {},
   "source": [
    "(omnibusF)=\n",
    "## The $F$ test as a model comparison\n",
    "\n",
    "At this point, I want to talk in a little more detail about what the $F$-tests in an ANOVA are actually doing. In the context of ANOVA, I've been referring to the $F$-test as a way of testing whether a particular term in the model (e.g., main effect of Factor A) is significant. This interpretation is perfectly valid, but it's not necessarily the most useful way to think about the test. In fact, it's actually a fairly limiting way of thinking about what the $F$-test does. Consider the clinical trial data we've been working with in this chapter. Suppose I want to see if there are *any* effects of any kind that involve `therapy`. I'm not fussy: I don't care if it's a main effect or an interaction effect.[^imagine] One thing I could do is look at the output for `model2` earlier: in this model we did see a main effect of therapy ($p=.013$) but we did not see an interaction effect ($p=.125$). That's kind of telling us what we want to know, but it's not quite the same thing. What we really want is a single test that *jointly* checks the main effect of therapy and the interaction effect. \n",
    "\n",
    "Given the way that I've been describing the ANOVA $F$-test up to this point, you'd be tempted to think that this isn't possible. On the other hand, if you recall the [chapter on regression](modelselreg), we were able to use $F$-tests to make comparisons between a wide variety of regression models. Perhaps something of that sort is possible with ANOVA? And of course, the answer here is yes. The thing that you really need to understand is that the $F$-test, as it is used in both ANOVA and regression, is really a comparison of *two* statistical models. One of these models is the full model (alternative hypothesis), and the other model is a simpler model that is missing one or more of the terms that the full model includes (null hypothesis). The null model cannot contain any terms that are not in the full model. In the example I gave above, the full model is `model2`, and it contains a main effect for therapy, a main effect for drug, and the drug by therapy interaction term. The null model would be `model1` since it contains only the main effect of drug. \n",
    "\n",
    "### The $F$ test comparing two models\n",
    "\n",
    "Let's frame this in a slightly more abstract way. We'll say that our full model can be written as a `statsmodels` formula that contains several different terms, say `Y ~ A + B + C + D` (remember that `~` here can be read as \"predicted by\"). Our null model only contains some subset of these terms, say `Y ~ A + B`. Some of these terms might be main effect terms, others might be interaction terms. It really doesn't matter. The only thing that matters here is that we want to treat some of these terms as the \"starting point\" (i.e. the terms in the null model, `A` and `B`), and we want to see if including the other terms (i.e., `C` and `D`) leads to a significant improvement in model performance, over and above what could be achieved by a model that includes only `A` and `B`.\n",
    "\n",
    "\n",
    "[^imagine]: There could be all sorts of reasons for doing this, I would imagine."
   ]
  },
  {
   "attachments": {},
   "cell_type": "markdown",
   "id": "7964f149",
   "metadata": {},
   "source": [
    "Is there a way of making this comparison directly?\n",
    "\n",
    "To answer this, let's go back to fundamentals. As we saw back when we learned about [one-way ANOVA](ANOVA), the $F$-test is constructed from two kinds of quantity: sums of squares (SS) and degrees of freedom (df). These two things define a mean square value (MS = SS/df), and we obtain our $F$ statistic by contrasting the MS value associated with \"the thing we're interested in\" (the model) with the MS value associated with \"everything else\" (the residuals). What we want to do is figure out how to talk about the SS value that is associated with the *difference* between two models. It's actually not all that hard to do. \n",
    "\n",
    "Let's start with the fundamental rule that we used throughout the chapter on regression:\n",
    "\n",
    "$$\n",
    "\\mbox{SS}_{T} = \\mbox{SS}_{M} + \\mbox{SS}_{R} \n",
    "$$\n",
    "\n",
    "That is, the total sums of squares (i.e., the overall variability of the outcome variable) can be decomposed into two parts: the variability associated with the model $\\mbox{SS}_{M}$, and the residual or leftover variability, $\\mbox{SS}_{R}$. However, it's kind of useful to rearrange this equation slightly, and say that the SS value associated with a model is defined like this...\n",
    "\n",
    "$$\n",
    "\\mbox{SS}_{M} = \\mbox{SS}_{T} - \\mbox{SS}_{R} \n",
    "$$\n",
    "\n",
    "Now, in our scenario, we have two models: the null model (M0) and the full model (M1):\n",
    "\n",
    "$$\n",
    "\\mbox{SS}_{M0} = \\mbox{SS}_{T} - \\mbox{SS}_{R0}\n",
    "$$\n",
    "\n",
    "$$\n",
    "\\mbox{SS}_{M1} = \\mbox{SS}_{T} - \\mbox{SS}_{R1} \n",
    "$$\n",
    "\n",
    "Next, let's think about what it is we *actually* care about here. What we're interested in is the *difference* between the full model and the null model. So, if we want to preserve the idea that what we're doing is an \"analysis of the variance\" (ANOVA) in the outcome variable, what we should do is define the SS associated with the difference to be equal to the difference in the SS:\n",
    "\n",
    "$$\n",
    "\\begin{align}\n",
    "\\mbox{SS}_{\\Delta} &= \\mbox{SS}_{M1} - \\mbox{SS}_{M0}\\\\\n",
    "&= (\\mbox{SS}_{T} - \\mbox{SS}_{R1}) - (\\mbox{SS}_{T} - \\mbox{SS}_{R0} ) \\\\\n",
    "&= \\mbox{SS}_{R0} - \\mbox{SS}_{R1}\n",
    "\\end{align}\n",
    "$$\n",
    "\n",
    "Now that we have our degrees of freedom, we can calculate mean squares and $F$ values in the usual way. Specifically, we're interested in the mean square for the difference between models, and the mean square for the residuals associated with the *full* model (M1), which are given by\n",
    "\n",
    "$$\n",
    "\\begin{align}\n",
    "\\mbox{MS}_{\\Delta} &= \\frac{\\mbox{SS}_{\\Delta} }{ \\mbox{df}_{\\Delta} } \\\\\n",
    "\\mbox{MS}_{R1} &= \\frac{ \\mbox{SS}_{R1} }{  \\mbox{df}_{R1} }\\\\\n",
    "\\end{align}\n",
    "$$\n",
    "\n",
    "Finally, taking the ratio of these two gives us our $F$ statistic:\n",
    "\n",
    "$$\n",
    "F = \\frac{\\mbox{MS}_\\Delta} {\\mbox{MS}_{R1}}\n",
    "$$\n",
    "\n",
    "\n",
    "\n"
   ]
  },
  {
   "attachments": {},
   "cell_type": "markdown",
   "id": "b43a3623",
   "metadata": {},
   "source": [
    "### Running the test in Python\n",
    "\n",
    "At this point, it may help to go back to our concrete example. The null model here is `model1`, which stipulates that there is a main effect of drug, but no other effects exist. We expressed this via the model formula `mood_gain ~ drug`. The alternative model here is `model3`, which stipulates that there is a main effect of drug, a main effect of therapy, and an interaction. This model corresponds to the formula `mood_gain ~ drug + therapy + drug:therapy`. The key thing here is that if we compare `model1` to `model3`, we’re lumping the main effect of therapy and the interaction term together. Running this test in Python is straightforward: we just input both models to the `anova_lm` function from `statsmodels`, and it will run the exact F -test that I outlined above."
   ]
  },
  {
   "cell_type": "code",
   "execution_count": 51,
   "id": "f770232c",
   "metadata": {},
   "outputs": [
    {
     "data": {
      "text/html": [
       "<div>\n",
       "<style scoped>\n",
       "    .dataframe tbody tr th:only-of-type {\n",
       "        vertical-align: middle;\n",
       "    }\n",
       "\n",
       "    .dataframe tbody tr th {\n",
       "        vertical-align: top;\n",
       "    }\n",
       "\n",
       "    .dataframe thead th {\n",
       "        text-align: right;\n",
       "    }\n",
       "</style>\n",
       "<table border=\"1\" class=\"dataframe\">\n",
       "  <thead>\n",
       "    <tr style=\"text-align: right;\">\n",
       "      <th></th>\n",
       "      <th>df_resid</th>\n",
       "      <th>ssr</th>\n",
       "      <th>df_diff</th>\n",
       "      <th>ss_diff</th>\n",
       "      <th>F</th>\n",
       "      <th>Pr(&gt;F)</th>\n",
       "    </tr>\n",
       "  </thead>\n",
       "  <tbody>\n",
       "    <tr>\n",
       "      <th>0</th>\n",
       "      <td>15.0</td>\n",
       "      <td>1.391667</td>\n",
       "      <td>0.0</td>\n",
       "      <td>NaN</td>\n",
       "      <td>NaN</td>\n",
       "      <td>NaN</td>\n",
       "    </tr>\n",
       "    <tr>\n",
       "      <th>1</th>\n",
       "      <td>12.0</td>\n",
       "      <td>0.653333</td>\n",
       "      <td>3.0</td>\n",
       "      <td>0.738333</td>\n",
       "      <td>4.520408</td>\n",
       "      <td>0.024242</td>\n",
       "    </tr>\n",
       "  </tbody>\n",
       "</table>\n",
       "</div>"
      ],
      "text/plain": [
       "   df_resid       ssr  df_diff   ss_diff         F    Pr(>F)\n",
       "0      15.0  1.391667      0.0       NaN       NaN       NaN\n",
       "1      12.0  0.653333      3.0  0.738333  4.520408  0.024242"
      ]
     },
     "execution_count": 51,
     "metadata": {},
     "output_type": "execute_result"
    }
   ],
   "source": [
    "import pandas as pd\n",
    "from statsmodels.formula.api import ols\n",
    "from statsmodels.stats.anova import anova_lm\n",
    "\n",
    "df = pd.read_csv(\"https://raw.githubusercontent.com/ethanweed/pythonbook/main/Data/clintrial.csv\")\n",
    "\n",
    "formula1 = 'mood_gain ~ drug'\n",
    "formula2 = 'mood_gain ~ drug + therapy + drug:therapy'\n",
    "\n",
    "model1 = ols(formula1, data=df).fit()\n",
    "model2 = ols(formula2, data=df).fit()\n",
    "\n",
    "anovaResults = anova_lm(model1, model2)\n",
    "anovaResults"
   ]
  },
  {
   "cell_type": "markdown",
   "id": "654a0c87",
   "metadata": {},
   "source": [
    "Let's see if we can reproduce this $F$-test ourselves. Firstly, if you go back and look at the ANOVA tables that we printed out for `model1` and `model3` you can reassure yourself that the RSS values printed in this table really do correspond to the residual sum of squares associated with these two models. So let's type them in as variables:"
   ]
  },
  {
   "cell_type": "code",
   "execution_count": 52,
   "id": "b8ec6850",
   "metadata": {},
   "outputs": [],
   "source": [
    " ss_res_null = 1.391667\n",
    " ss_res_full = 0.653333"
   ]
  },
  {
   "cell_type": "markdown",
   "id": "91df920f",
   "metadata": {},
   "source": [
    "Now, following the procedure that I described above, we will say that the \"between model\" sum of squares, is the difference between these two residual sum of squares values. So, if we do the subtraction, we discover that the sum of squares associated with those terms that appear in the full model but not the null model is:"
   ]
  },
  {
   "cell_type": "code",
   "execution_count": 53,
   "id": "9dcc4fa5",
   "metadata": {},
   "outputs": [
    {
     "data": {
      "text/plain": [
       "0.7383339999999999"
      ]
     },
     "execution_count": 53,
     "metadata": {},
     "output_type": "execute_result"
    }
   ],
   "source": [
    " ss_diff = ss_res_null - ss_res_full \n",
    " ss_diff"
   ]
  },
  {
   "cell_type": "markdown",
   "id": "c89b4380",
   "metadata": {},
   "source": [
    "Right. Next, as always we need to convert these SS values into MS (mean square) values, which we do by dividing by the degrees of freedom. The degrees of freedom associated with the full-model residuals hasn't changed from our original ANOVA for `model2`: it's the total sample size $N$, minus the total number of groups $G$ that are relevant to the model. We have 18 people in the trial and 6 possible groups (i.e., 2 therapies $\\times$ 3 drugs), so the degrees of freedom here is 12. The degrees of freedom for the null model are calculated similarly. The only difference here is that there are only 3 relevant groups (i.e., 3 drugs), so the degrees of freedom here is 15. And, because the degrees of freedom associated with the difference is equal to the difference in the two degrees of freedom, we arrive at the conclusion that we have $15-12 = 3$ degrees of freedom. Now that we know the degrees of freedom, we can calculate our MS values:"
   ]
  },
  {
   "cell_type": "code",
   "execution_count": 54,
   "id": "0a107207",
   "metadata": {},
   "outputs": [],
   "source": [
    " ms_res = ss_res_full / 12\n",
    " ms_diff = ss_diff / 3 "
   ]
  },
  {
   "cell_type": "markdown",
   "id": "e951e0f8",
   "metadata": {},
   "source": [
    "Okay, now that we have our two MS values, we can divide one by the other, and obtain an $F$-statistic ..."
   ]
  },
  {
   "cell_type": "code",
   "execution_count": 55,
   "id": "644ccf98",
   "metadata": {},
   "outputs": [
    {
     "data": {
      "text/plain": [
       "4.520414551231913"
      ]
     },
     "execution_count": 55,
     "metadata": {},
     "output_type": "execute_result"
    }
   ],
   "source": [
    " F_stat = ms_diff / ms_res \n",
    " F_stat"
   ]
  },
  {
   "cell_type": "markdown",
   "id": "e5226a3e",
   "metadata": {},
   "source": [
    "... and, just as we had hoped, this turns out to be nearly identical to the $F$-statistic that the `anova_lm()` function produced earlier. "
   ]
  },
  {
   "attachments": {},
   "cell_type": "markdown",
   "id": "a1c074c0",
   "metadata": {},
   "source": [
    "(anovalm)=\n",
    "## ANOVA as a linear model\n",
    "\n",
    "One of the most important things to understand about ANOVA and regression is that they're basically the same thing. On the surface of it, you wouldn't think that this is true: after all, the way that I've described them so far suggests that ANOVA is primarily concerned with testing for group differences, and regression is primarily concerned with understanding the correlations between variables. And as far as it goes, that's perfectly true. But when you look under the hood, so to speak, the underlying mechanics of ANOVA and regression are awfully similar. In fact, if you think about it, you've already seen evidence of this. ANOVA and regression both rely heavily on sums of squares (SS), both make use of $F$ tests, and so on. Looking back, it's hard to escape the feeling that the chapters on ANOVA and regression were a bit repetitive. \n",
    "\n",
    "The reason for this is that ANOVA and regression are both kinds of **_linear models_**. In the case of regression, this is kind of obvious. The regression equation that we use to define the relationship between predictors and outcomes *is* the equation for a straight line, so it's quite obviously a linear model. When we use e.g. a `pingouin` command like `pg.linear_regression([predictor1, predictor2], outcome)` what we're really working with is the somewhat uglier linear model:\n",
    "\n",
    "$$\n",
    "Y_{p} = b_1 X_{1p} + b_2 X_{2p} + b_0 + \\epsilon_{p}\n",
    "$$\n",
    "\n",
    "where $Y_p$ is the outcome value for the $p$-th observation (e.g., $p$-th person), $X_{1p}$ is the value of the first predictor for the $p$-th observation, $X_{2p}$ is the value of the second predictor for the $p$-th observation, the $b_1$, $b_2$ and $b_0$ terms are our regression coefficients, and $\\epsilon_{p}$ is the $p$-th residual. If we ignore the residuals $\\epsilon_{p}$ and just focus on the regression line itself, we get the following formula:\n",
    "\n",
    "$$\n",
    "\\hat{Y}_{p} = b_1 X_{1p} + b_2 X_{2p} + b_0\n",
    "$$\n",
    "\n",
    "where $\\hat{Y}_p$ is the value of $Y$ that the regression line predicts for person $p$, as opposed to the actually-observed value $Y_p$. The thing that isn't immediately obvious is that we can write ANOVA as a linear model as well. However, it's actually pretty straightforward to do this. Let's start with a really simple example: rewriting a $2 \\times 2$ factorial ANOVA as a linear model. "
   ]
  },
  {
   "cell_type": "markdown",
   "id": "73ffb9de-fb23-4667-9c0a-42ef4d32505e",
   "metadata": {
    "scrolled": true
   },
   "source": [
    "### Some data\n",
    "\n",
    "To make things concrete, let's suppose that our outcome variable is the `grade` that a student receives in my class, a ratio-scale variable corresponding to a mark from 0\\% to 100\\%. There are two predictor variables of interest: whether or not the student turned up to lectures (the `attend` variable), and whether or not the student actually read the textbook (the `reading` variable). We'll say that `attend = 1` if the student attended class, and `attend = 0` if they did not. Similarly, we'll say that `reading = 1` if the student read the textbook, and `reading = 0` if they did not. \n",
    "\n",
    "Okay, so far that's simple enough. The next thing we need to do is to wrap some maths around this (sorry!). For the purposes of this example, let $Y_p$ denote the `grade` of the $p$-th student in the class. This is not quite the same notation that we used earlier in this chapter: previously, we've used the notation $Y_{rci}$ to refer to the $i$-th person in the $r$-th group for predictor 1 (the row factor) and the $c$-th group for predictor 2 (the column factor). This extended notation was really handy for describing how the SS values are calculated, but it's a pain in the current context, so I'll switch notation here. Now, the $Y_p$ notation is visually simpler than $Y_{rci}$, but it has the shortcoming that it doesn't actually keep track of the group memberships! That is, if I told you that $Y_{0,0,3} = 35$, you'd immediately know that we're talking about a student (the 3rd such student, in fact) who didn't attend the lectures (i.e., `attend = 0`) and didn't read the textbook (i.e. `reading = 0`), and who ended up failing the class (`grade = 35`). But if I tell you that $Y_p = 35$ all you know is that the $p$-th student didn't get a good grade. We've lost some key information here. Of course, it doesn't take a lot of thought to figure out how to fix this: what we'll do instead is introduce two new variables $X_{1p}$ and $X_{2p}$ that keep track of this information. In the case of our hypothetical student, we know that $X_{1p} = 0$ (i.e., `attend = 0`) and $X_{2p} = 0$ (i.e., `reading = 0`). So the data might look like this:"
   ]
  },
  {
   "cell_type": "markdown",
   "id": "caef9b8f-ecda-49fc-9468-36697ccfb639",
   "metadata": {},
   "source": [
    "| person $p$ | grade $Y_p$ | attendance $X_{1p}$ | reading $X_{2p}$ |   |\n",
    "|------------|-------------|---------------------|------------------|---|\n",
    "| 1          | 90          | 1                   | 1                |   |\n",
    "| 2          | 87          | 1                   | 1                |   |\n",
    "| 3          | 75          | 0                   | 1                |   |\n",
    "| 4          | 60          | 1                   | 0                |   |\n",
    "| 5          | 35          | 0                   | 0                |   |\n",
    "| 6          | 50          | 0                   | 0                |   |\n",
    "| 7          | 65          | 1                   | 0                |   |\n",
    "| 8          | 70          | 0                   | 1                |   |"
   ]
  },
  {
   "cell_type": "markdown",
   "id": "40be45ec-07d7-4deb-857b-e3a963e3dca7",
   "metadata": {},
   "source": [
    "This isn't anything particularly special, of course: it's exactly the format in which we expect to see our data! In other words, if your data have been stored as a ``pandas`` data frame, then you're probably expecting to see something that looks like the ``rtfm1`` data frame:"
   ]
  },
  {
   "cell_type": "code",
   "execution_count": 56,
   "id": "e031a15a-c31a-456a-8e58-922823ae39cd",
   "metadata": {},
   "outputs": [
    {
     "data": {
      "text/html": [
       "<div>\n",
       "<style scoped>\n",
       "    .dataframe tbody tr th:only-of-type {\n",
       "        vertical-align: middle;\n",
       "    }\n",
       "\n",
       "    .dataframe tbody tr th {\n",
       "        vertical-align: top;\n",
       "    }\n",
       "\n",
       "    .dataframe thead th {\n",
       "        text-align: right;\n",
       "    }\n",
       "</style>\n",
       "<table border=\"1\" class=\"dataframe\">\n",
       "  <thead>\n",
       "    <tr style=\"text-align: right;\">\n",
       "      <th></th>\n",
       "      <th>grade</th>\n",
       "      <th>attend</th>\n",
       "      <th>reading</th>\n",
       "    </tr>\n",
       "  </thead>\n",
       "  <tbody>\n",
       "    <tr>\n",
       "      <th>0</th>\n",
       "      <td>90</td>\n",
       "      <td>1</td>\n",
       "      <td>1</td>\n",
       "    </tr>\n",
       "    <tr>\n",
       "      <th>1</th>\n",
       "      <td>87</td>\n",
       "      <td>1</td>\n",
       "      <td>1</td>\n",
       "    </tr>\n",
       "    <tr>\n",
       "      <th>2</th>\n",
       "      <td>75</td>\n",
       "      <td>0</td>\n",
       "      <td>1</td>\n",
       "    </tr>\n",
       "    <tr>\n",
       "      <th>3</th>\n",
       "      <td>60</td>\n",
       "      <td>1</td>\n",
       "      <td>0</td>\n",
       "    </tr>\n",
       "    <tr>\n",
       "      <th>4</th>\n",
       "      <td>35</td>\n",
       "      <td>0</td>\n",
       "      <td>0</td>\n",
       "    </tr>\n",
       "    <tr>\n",
       "      <th>5</th>\n",
       "      <td>50</td>\n",
       "      <td>0</td>\n",
       "      <td>0</td>\n",
       "    </tr>\n",
       "    <tr>\n",
       "      <th>6</th>\n",
       "      <td>65</td>\n",
       "      <td>1</td>\n",
       "      <td>0</td>\n",
       "    </tr>\n",
       "    <tr>\n",
       "      <th>7</th>\n",
       "      <td>70</td>\n",
       "      <td>0</td>\n",
       "      <td>1</td>\n",
       "    </tr>\n",
       "  </tbody>\n",
       "</table>\n",
       "</div>"
      ],
      "text/plain": [
       "   grade  attend  reading\n",
       "0     90       1        1\n",
       "1     87       1        1\n",
       "2     75       0        1\n",
       "3     60       1        0\n",
       "4     35       0        0\n",
       "5     50       0        0\n",
       "6     65       1        0\n",
       "7     70       0        1"
      ]
     },
     "execution_count": 56,
     "metadata": {},
     "output_type": "execute_result"
    }
   ],
   "source": [
    "rtfm1 = pd.read_csv('https://raw.githubusercontent.com/ethanweed/pythonbook/main/Data/rtfm1.csv')\n",
    "rtfm1"
   ]
  },
  {
   "cell_type": "markdown",
   "id": "54ded97e-e298-407b-8795-e6f4603b2d9a",
   "metadata": {},
   "source": [
    "Well, sort of. I suspect that a few readers are probably frowning a little at this point. Earlier on in the book (for example back when we talked about the [McNemar test](mcnemar)),we have typically represented nominal scale variables such as `attend` and `reading` as text, rather than encoding them as numeric variables. The ``rtfm1`` data frame doesn't do this, but the `rtfm2` data frame does, and so you might instead be expecting to see data like this:"
   ]
  },
  {
   "cell_type": "code",
   "execution_count": 57,
   "id": "bb20d924-0c93-4344-97e1-7668f356feae",
   "metadata": {},
   "outputs": [
    {
     "data": {
      "text/html": [
       "<div>\n",
       "<style scoped>\n",
       "    .dataframe tbody tr th:only-of-type {\n",
       "        vertical-align: middle;\n",
       "    }\n",
       "\n",
       "    .dataframe tbody tr th {\n",
       "        vertical-align: top;\n",
       "    }\n",
       "\n",
       "    .dataframe thead th {\n",
       "        text-align: right;\n",
       "    }\n",
       "</style>\n",
       "<table border=\"1\" class=\"dataframe\">\n",
       "  <thead>\n",
       "    <tr style=\"text-align: right;\">\n",
       "      <th></th>\n",
       "      <th>grade</th>\n",
       "      <th>attend</th>\n",
       "      <th>reading</th>\n",
       "    </tr>\n",
       "  </thead>\n",
       "  <tbody>\n",
       "    <tr>\n",
       "      <th>0</th>\n",
       "      <td>90</td>\n",
       "      <td>yes</td>\n",
       "      <td>yes</td>\n",
       "    </tr>\n",
       "    <tr>\n",
       "      <th>1</th>\n",
       "      <td>87</td>\n",
       "      <td>yes</td>\n",
       "      <td>yes</td>\n",
       "    </tr>\n",
       "    <tr>\n",
       "      <th>2</th>\n",
       "      <td>75</td>\n",
       "      <td>no</td>\n",
       "      <td>yes</td>\n",
       "    </tr>\n",
       "    <tr>\n",
       "      <th>3</th>\n",
       "      <td>60</td>\n",
       "      <td>yes</td>\n",
       "      <td>no</td>\n",
       "    </tr>\n",
       "    <tr>\n",
       "      <th>4</th>\n",
       "      <td>35</td>\n",
       "      <td>no</td>\n",
       "      <td>no</td>\n",
       "    </tr>\n",
       "    <tr>\n",
       "      <th>5</th>\n",
       "      <td>50</td>\n",
       "      <td>no</td>\n",
       "      <td>no</td>\n",
       "    </tr>\n",
       "    <tr>\n",
       "      <th>6</th>\n",
       "      <td>65</td>\n",
       "      <td>yes</td>\n",
       "      <td>no</td>\n",
       "    </tr>\n",
       "    <tr>\n",
       "      <th>7</th>\n",
       "      <td>70</td>\n",
       "      <td>no</td>\n",
       "      <td>yes</td>\n",
       "    </tr>\n",
       "  </tbody>\n",
       "</table>\n",
       "</div>"
      ],
      "text/plain": [
       "   grade attend reading\n",
       "0     90    yes     yes\n",
       "1     87    yes     yes\n",
       "2     75     no     yes\n",
       "3     60    yes      no\n",
       "4     35     no      no\n",
       "5     50     no      no\n",
       "6     65    yes      no\n",
       "7     70     no     yes"
      ]
     },
     "execution_count": 57,
     "metadata": {},
     "output_type": "execute_result"
    }
   ],
   "source": [
    "rtfm2 = pd.read_csv('https://raw.githubusercontent.com/ethanweed/pythonbook/main/Data/rtfm2.csv')\n",
    "rtfm2"
   ]
  },
  {
   "cell_type": "markdown",
   "id": "12caf1dc-eae8-4bcc-af18-c00d8f85394e",
   "metadata": {},
   "source": [
    "However, for the purposes of this section it's important that we be able to switch back and forth between these two different ways of thinking about the data. After all, our goal in this section is to look at some of the mathematics that underpins ANOVA, and if we want to do that we need to be able to see the numerical representation of the data (in `rtfm1`) as well as the more meaningful factor representation (in `rtfm2`). We will [return to this problem](changingbaseline) however, because it is not irrelevant which numbers we use to represent our categories. For now, however, we are on safe ground with our 0's and 1's, so let's proceed and confirm that this data set corresponds to a balanced design:"
   ]
  },
  {
   "cell_type": "code",
   "execution_count": 58,
   "id": "a79d642f-b1c3-407b-a895-03a20ff88c09",
   "metadata": {},
   "outputs": [
    {
     "data": {
      "text/html": [
       "<div>\n",
       "<style scoped>\n",
       "    .dataframe tbody tr th:only-of-type {\n",
       "        vertical-align: middle;\n",
       "    }\n",
       "\n",
       "    .dataframe tbody tr th {\n",
       "        vertical-align: top;\n",
       "    }\n",
       "\n",
       "    .dataframe thead th {\n",
       "        text-align: right;\n",
       "    }\n",
       "</style>\n",
       "<table border=\"1\" class=\"dataframe\">\n",
       "  <thead>\n",
       "    <tr style=\"text-align: right;\">\n",
       "      <th>reading</th>\n",
       "      <th>no</th>\n",
       "      <th>yes</th>\n",
       "    </tr>\n",
       "    <tr>\n",
       "      <th>attend</th>\n",
       "      <th></th>\n",
       "      <th></th>\n",
       "    </tr>\n",
       "  </thead>\n",
       "  <tbody>\n",
       "    <tr>\n",
       "      <th>no</th>\n",
       "      <td>2</td>\n",
       "      <td>2</td>\n",
       "    </tr>\n",
       "    <tr>\n",
       "      <th>yes</th>\n",
       "      <td>2</td>\n",
       "      <td>2</td>\n",
       "    </tr>\n",
       "  </tbody>\n",
       "</table>\n",
       "</div>"
      ],
      "text/plain": [
       "reading  no  yes\n",
       "attend          \n",
       "no        2    2\n",
       "yes       2    2"
      ]
     },
     "execution_count": 58,
     "metadata": {},
     "output_type": "execute_result"
    }
   ],
   "source": [
    "pd.crosstab(rtfm2['attend'], rtfm2['reading'])"
   ]
  },
  {
   "cell_type": "markdown",
   "id": "ebae46e1-fb5a-43cb-ad27-6e386778561b",
   "metadata": {},
   "source": [
    "For each possible combination of the `attend` and `reading` variables, we have exactly two students. If we're interested in calculating the mean `grade` for each of these cells,"
   ]
  },
  {
   "cell_type": "code",
   "execution_count": 59,
   "id": "f18e2df4-07e0-4434-8f53-703c59c08f9b",
   "metadata": {},
   "outputs": [
    {
     "data": {
      "text/html": [
       "<div>\n",
       "<style scoped>\n",
       "    .dataframe tbody tr th:only-of-type {\n",
       "        vertical-align: middle;\n",
       "    }\n",
       "\n",
       "    .dataframe tbody tr th {\n",
       "        vertical-align: top;\n",
       "    }\n",
       "\n",
       "    .dataframe thead th {\n",
       "        text-align: right;\n",
       "    }\n",
       "</style>\n",
       "<table border=\"1\" class=\"dataframe\">\n",
       "  <thead>\n",
       "    <tr style=\"text-align: right;\">\n",
       "      <th></th>\n",
       "      <th></th>\n",
       "      <th>grade</th>\n",
       "    </tr>\n",
       "    <tr>\n",
       "      <th>attend</th>\n",
       "      <th>reading</th>\n",
       "      <th></th>\n",
       "    </tr>\n",
       "  </thead>\n",
       "  <tbody>\n",
       "    <tr>\n",
       "      <th rowspan=\"2\" valign=\"top\">no</th>\n",
       "      <th>no</th>\n",
       "      <td>42.5</td>\n",
       "    </tr>\n",
       "    <tr>\n",
       "      <th>yes</th>\n",
       "      <td>72.5</td>\n",
       "    </tr>\n",
       "    <tr>\n",
       "      <th rowspan=\"2\" valign=\"top\">yes</th>\n",
       "      <th>no</th>\n",
       "      <td>62.5</td>\n",
       "    </tr>\n",
       "    <tr>\n",
       "      <th>yes</th>\n",
       "      <td>88.5</td>\n",
       "    </tr>\n",
       "  </tbody>\n",
       "</table>\n",
       "</div>"
      ],
      "text/plain": [
       "                grade\n",
       "attend reading       \n",
       "no     no        42.5\n",
       "       yes       72.5\n",
       "yes    no        62.5\n",
       "       yes       88.5"
      ]
     },
     "execution_count": 59,
     "metadata": {},
     "output_type": "execute_result"
    }
   ],
   "source": [
    "rtfm_agg = rtfm2.groupby(['attend', 'reading']).mean()\n",
    "rtfm_agg"
   ]
  },
  {
   "cell_type": "markdown",
   "id": "629e1d54-f922-4ab4-9bb2-465d83b9ac25",
   "metadata": {},
   "source": [
    "Looking at this table, one gets the strong impression that reading the text and attending the class both matter a lot. "
   ]
  },
  {
   "cell_type": "markdown",
   "id": "ebaf7665-a259-4560-bf38-b16136b6da1c",
   "metadata": {},
   "source": [
    "### ANOVA with binary factors as a regression model\n",
    "\n",
    "Okay, let's get back to talking about the mathematics. We now have our data expressed in terms of three numeric variables: the continuous variable $Y$, and the two binary variables $X_1$ and $X_2$. What I want to you to recognise is that our 2$\\times$2 factorial ANOVA is *exactly* equivalent to the regression model \n",
    "\n",
    "$$\n",
    "Y_{p} = b_1 X_{1p} + b_2 X_{2p} + b_0 + \\epsilon_p\n",
    "$$\n",
    "\n",
    "This is, of course, the exact same equation that I used earlier to describe a two-predictor regression model! The only difference is that $X_1$ and $X_2$ are now *binary* variables (i.e., values can only be 0 or 1), whereas in a regression analysis we expect that $X_1$ and $X_2$ will be continuous. There's a couple of ways I could try to convince you of this. One possibility would be to do a lengthy mathematical exercise, proving that the two are identical. However, I'm going to go out on a limb and guess that most of the readership of this book will find that to be annoying rather than helpful. Instead, I'll explain the basic ideas, and then rely on Python to show that that ANOVA analyses and regression analyses aren't just similar, they're identical for all intents and purposes. Let's start by running this as an ANOVA."
   ]
  },
  {
   "cell_type": "markdown",
   "id": "159d3e91-67ba-45f7-9ec3-78f53a13902b",
   "metadata": {},
   "source": [
    "Now, you may remember that [back when we ran one-way ANOVAs](introduceaov), I said I thought the `statsmodels` package was great, but I also gushed about how we could use good old `pingouin` too. For this example, I am going to use `statsmodels`. I'll explain why in a bit, but first let's run our ANOVA:"
   ]
  },
  {
   "cell_type": "code",
   "execution_count": 60,
   "id": "d8afc8e5-3a97-4a88-9090-75c814abd4b3",
   "metadata": {},
   "outputs": [
    {
     "data": {
      "text/html": [
       "<div>\n",
       "<style scoped>\n",
       "    .dataframe tbody tr th:only-of-type {\n",
       "        vertical-align: middle;\n",
       "    }\n",
       "\n",
       "    .dataframe tbody tr th {\n",
       "        vertical-align: top;\n",
       "    }\n",
       "\n",
       "    .dataframe thead th {\n",
       "        text-align: right;\n",
       "    }\n",
       "</style>\n",
       "<table border=\"1\" class=\"dataframe\">\n",
       "  <thead>\n",
       "    <tr style=\"text-align: right;\">\n",
       "      <th></th>\n",
       "      <th>sum_sq</th>\n",
       "      <th>df</th>\n",
       "      <th>F</th>\n",
       "      <th>PR(&gt;F)</th>\n",
       "    </tr>\n",
       "  </thead>\n",
       "  <tbody>\n",
       "    <tr>\n",
       "      <th>attend</th>\n",
       "      <td>648.0</td>\n",
       "      <td>1.0</td>\n",
       "      <td>21.600</td>\n",
       "      <td>0.006</td>\n",
       "    </tr>\n",
       "    <tr>\n",
       "      <th>reading</th>\n",
       "      <td>1568.0</td>\n",
       "      <td>1.0</td>\n",
       "      <td>52.267</td>\n",
       "      <td>0.001</td>\n",
       "    </tr>\n",
       "    <tr>\n",
       "      <th>Residual</th>\n",
       "      <td>150.0</td>\n",
       "      <td>5.0</td>\n",
       "      <td>NaN</td>\n",
       "      <td>NaN</td>\n",
       "    </tr>\n",
       "  </tbody>\n",
       "</table>\n",
       "</div>"
      ],
      "text/plain": [
       "          sum_sq   df       F  PR(>F)\n",
       "attend     648.0  1.0  21.600   0.006\n",
       "reading   1568.0  1.0  52.267   0.001\n",
       "Residual   150.0  5.0     NaN     NaN"
      ]
     },
     "execution_count": 60,
     "metadata": {},
     "output_type": "execute_result"
    }
   ],
   "source": [
    "import statsmodels.api as sm\n",
    "from statsmodels.formula.api import ols\n",
    "\n",
    "# Here we define our model.\n",
    "\n",
    "model = ols('grade ~ attend + reading', data=rtfm1).fit()\n",
    "sm.stats.anova_lm(model, typ=2).round(3)"
   ]
  },
  {
   "cell_type": "markdown",
   "id": "b0422951-6311-43c2-9bc2-cf8a5a36957e",
   "metadata": {},
   "source": [
    "So, by reading the key numbers off the ANOVA table and the table of means that we presented earlier, we can see that the students obtained a higher grade if they attended class $(F_{1,5} = 26.1, p = .0056)$ and if they read the textbook $(F_{1,5} = 52.3, p = .0008)$."
   ]
  },
  {
   "cell_type": "markdown",
   "id": "45d62e8e-426f-428f-818b-9588f2aa0654",
   "metadata": {},
   "source": [
    "Now let's think about the same analysis from a linear regression perspective. In the `rtfm1` data set, we have encoded `attend` and `reading` as if they were numeric predictors. In this case, this is perfectly acceptable. There really is a sense in which a student who turns up to class (i.e. `attend = 1`) has in fact done \"more attendance\" than a student who does not (i.e. `attend = 0`). So it's not at all unreasonable to include it as a predictor in a regression model. It's a little unusual, because the predictor only takes on two possible values, but it doesn't violate any of the assumptions of linear regression. And it's easy to interpret. If the regression coefficient for `attend` is greater than 0, it means that students that attend lectures get higher grades; if it's less than zero, then students attending lectures get lower grades. The same is true for our `reading` variable.\n",
    "\n",
    "Wait a second... *why* is this true? It's something that is intuitively obvious to everyone who has taken a few stats classes and is comfortable with the maths, but it *isn't* clear to everyone else at first pass. To see why this is true, it helps to look closely at a few specific students. Let's start by considering the 6th and 7th students in our data set (i.e. $p=6$ and $p=7$). Neither one has read the textbook, so in both cases we can set `reading = 0`. Or, to say the same thing in our mathematical notation, we observe $X_{2,6} = 0$ and $X_{2,7} = 0$. However, student number 7 did turn up to lectures (i.e., `attend = 1`, $X_{1,7} = 1$) whereas student number 6 did not (i.e., `attend = 0`, $X_{1,6} = 0$). Now let's look at what happens when we insert these numbers into the general formula for our regression line. For student number 6, the regression predicts that"
   ]
  },
  {
   "cell_type": "markdown",
   "id": "9751fd9b-7dbc-45dd-8b7a-89f32f73ff62",
   "metadata": {},
   "source": [
    "$$\n",
    "\\begin{array}\n",
    "\\hat{Y}_{6} &=& b_1 X_{1,6} + b_2 X_{2,6} + b_0 \\\\\n",
    "&=&  (b_1 \\times 0)  + ( b_2 \\times 0)  + b_0 \\\\\n",
    "&=&  b_0\n",
    "\\end{array}\n",
    "$$"
   ]
  },
  {
   "cell_type": "markdown",
   "id": "b891a7cf-06b1-42b1-bad7-d2dc5ac5a40a",
   "metadata": {},
   "source": [
    "So we're expecting that this student will obtain a grade corresponding to the value of the intercept term $b_0$. What about student 7? This time, when we insert the numbers into the formula for the regression line, we obtain the following:"
   ]
  },
  {
   "cell_type": "markdown",
   "id": "e88d71f7-68eb-4c4e-bee8-a65c80296bf3",
   "metadata": {},
   "source": [
    "$$\n",
    "\\begin{array}\n",
    "\\hat{Y}_{7} &=& b_1 X_{1,7} + b_2 X_{2,7} + b_0 \\\\\n",
    "&=&  (b_1 \\times 1)  + ( b_2 \\times 0)  + b_0 \\\\\n",
    "&=&  b_1 + b_0\n",
    "\\end{array}\n",
    "$$"
   ]
  },
  {
   "cell_type": "markdown",
   "id": "d6cc3c74-09d4-42fa-9da3-54bcd915ee9b",
   "metadata": {},
   "source": [
    "Because this student attended class, the predicted grade is equal to the intercept term $b_0$ *plus* the coefficient associated with the `attend` variable, $b_1$. So, if $b_1$ is greater than zero, we're expecting that the students who turn up to lectures will get higher grades than those students who don't. If this coefficient is negative, we're expecting the opposite: students who turn up at class end up performing much worse. In fact, we can push this a little bit further. What about student number 1, who turned up to class ($X_{1,1} = 1$) *and* read the textbook ($X_{2,1} = 1$)? If we plug these numbers into the regression, we get\n",
    "\n",
    "$$\n",
    "\\begin{array}\n",
    "\\hat{Y}_{1} &=& b_1 X_{1,1} + b_2 X_{2,1} + b_0 \\\\\n",
    "&=&  (b_1 \\times 1)  + ( b_2 \\times 1)  + b_0 \\\\\n",
    "&=&  b_1 + b_2 + b_0\n",
    "\\end{array}\n",
    "$$"
   ]
  },
  {
   "cell_type": "markdown",
   "id": "f09395ba-041b-4315-ae22-c616ccc436a8",
   "metadata": {},
   "source": [
    "So if we assume that attending class helps you get a good grade (i.e., $b_1 > 0$) and if we assume that reading the textbook also helps you get a good grade (i.e., $b_2 >0$), then our expectation is that student 1 will get a grade that that is higher than student 6 and student 7. \n",
    "\n",
    "And at this point, you won't be at all suprised to learn that the regression model predicts that student 3, who read the book but didn't attend lectures, will obtain a grade of $b_2 + b_0$. I won't bore you with yet another regression formula. Instead, what I'll do is show you the following table of *expected grades*:"
   ]
  },
  {
   "cell_type": "markdown",
   "id": "6c11cbb7-f589-489a-a94f-31aa735fa0df",
   "metadata": {},
   "source": [
    "|               |         | read textbook?                     ||\n",
    "|---------------|---------|----------------|-------------------|\n",
    "|               |         | **no**         | **yes**           |\n",
    "| **attended?** | **no**  | $b_0$          | $b_0 + b_2$       |\n",
    "|               | **yes** | $b_0 + b_1$\"   | $b_0 + b_1 + b_2$ |"
   ]
  },
  {
   "cell_type": "markdown",
   "id": "104edecf-15b1-4e38-a348-660df6fb80b4",
   "metadata": {},
   "source": [
    "As you can see, the intercept term $b_0$ acts like a kind of \"baseline\" grade that you would expect from those students who don't take the time to attend class or read the textbook. Similarly, $b_1$ represents the boost that you're expected to get if you come to class, and $b_2$ represents the boost that comes from reading the textbook. In fact, if this were an ANOVA you might very well want to characterise $b_1$ as the main effect of attendance, and $b_2$ as the main effect of reading! In fact, for a simple $2 \\times 2$ ANOVA that's *exactly* how it plays out. "
   ]
  },
  {
   "cell_type": "markdown",
   "id": "5fa1588c-c18e-4cbf-9213-c275a47f0ff7",
   "metadata": {},
   "source": [
    "Okay, now that we're really starting to see why ANOVA and regression are basically the same thing, let's actually run our regression using a regression function to convince ourselves that this is really true. And this brings us to the first reason for using `statsmodels` for this example rather than `pingouin`. If you look back at the code we used to run our ANOVA, you will see that it was this:\n",
    "\n",
    "`model = ols('grade ~ attend + reading', data=rtfm2).fit()`\n",
    "`sm.stats.anova_lm(model, typ=2).round(4)```\n",
    "\n",
    "That is to say, we already ran a regression! Our variable `model` literally is a linear regression, and all we did with `sm.stats.anova_lm` was dress up the results in an ANOVA costume[^halloween]\n",
    "\n",
    "Let's take a closer look at the output of that regression we did. `statsmodels` spits out a lot of information, but I just want to zoom in on the part that is relevant for us now, which can be found like this:\n",
    "\n",
    "[^halloween]: Wait a minute... I just got an idea for my next Halloween costume 🎃"
   ]
  },
  {
   "cell_type": "code",
   "execution_count": 61,
   "id": "1cc7a2ed-ee68-40f9-b16f-b25478a50964",
   "metadata": {
    "scrolled": true
   },
   "outputs": [
    {
     "name": "stderr",
     "output_type": "stream",
     "text": [
      "/Users/ethan/opt/miniconda3/envs/pythonbook3/lib/python3.11/site-packages/scipy/stats/_stats_py.py:1736: UserWarning: kurtosistest only valid for n>=20 ... continuing anyway, n=8\n",
      "  warnings.warn(\"kurtosistest only valid for n>=20 ... continuing \"\n"
     ]
    },
    {
     "data": {
      "text/html": [
       "<table class=\"simpletable\">\n",
       "<tr>\n",
       "      <td></td>         <th>coef</th>     <th>std err</th>      <th>t</th>      <th>P>|t|</th>  <th>[0.025</th>    <th>0.975]</th>  \n",
       "</tr>\n",
       "<tr>\n",
       "  <th>Intercept</th> <td>   43.5000</td> <td>    3.354</td> <td>   12.969</td> <td> 0.000</td> <td>   34.878</td> <td>   52.122</td>\n",
       "</tr>\n",
       "<tr>\n",
       "  <th>attend</th>    <td>   18.0000</td> <td>    3.873</td> <td>    4.648</td> <td> 0.006</td> <td>    8.044</td> <td>   27.956</td>\n",
       "</tr>\n",
       "<tr>\n",
       "  <th>reading</th>   <td>   28.0000</td> <td>    3.873</td> <td>    7.230</td> <td> 0.001</td> <td>   18.044</td> <td>   37.956</td>\n",
       "</tr>\n",
       "</table>"
      ],
      "text/latex": [
       "\\begin{center}\n",
       "\\begin{tabular}{lcccccc}\n",
       "\\toprule\n",
       "                   & \\textbf{coef} & \\textbf{std err} & \\textbf{t} & \\textbf{P$> |$t$|$} & \\textbf{[0.025} & \\textbf{0.975]}  \\\\\n",
       "\\midrule\n",
       "\\textbf{Intercept} &      43.5000  &        3.354     &    12.969  &         0.000        &       34.878    &       52.122     \\\\\n",
       "\\textbf{attend}    &      18.0000  &        3.873     &     4.648  &         0.006        &        8.044    &       27.956     \\\\\n",
       "\\textbf{reading}   &      28.0000  &        3.873     &     7.230  &         0.001        &       18.044    &       37.956     \\\\\n",
       "\\bottomrule\n",
       "\\end{tabular}\n",
       "\\end{center}"
      ],
      "text/plain": [
       "<class 'statsmodels.iolib.table.SimpleTable'>"
      ]
     },
     "execution_count": 61,
     "metadata": {},
     "output_type": "execute_result"
    }
   ],
   "source": [
    "model.summary().tables[1]"
   ]
  },
  {
   "cell_type": "markdown",
   "id": "998f52e6-6138-4b7a-a5d4-57410708225d",
   "metadata": {},
   "source": [
    "There's a few interesting things to note here. First, notice that the intercept term is 43.5, which is close to the \"group\" mean of 42.5 observed for those two students who didn't read the text or attend class. Second, notice that we have the regression coefficient of $b_1 = 18.0$ for the attendance variable, suggesting that those students that attended class scored 18\\% higher than those who didn't. So our expectation would be that those students who turned up to class but didn't read the textbook would obtain a grade of $b_0 + b_1$, which is equal to $43.5 + 18.0 = 61.5$. Again, this is similar to the observed group mean of 62.5. You can verify for yourself that the same thing happens when we look at the students that read the textbook.\n",
    "\n",
    "Actually, we can push a little further in establishing the equivalence of our ANOVA and our regression. Look at the $p$-values associated with the `attend` variable and the `reading` variable in the regression output. They're identical to the ones we encountered earlier when running the ANOVA. This might seem a little surprising, since the test used when running our regression model calculates a $t$-statistic and the ANOVA calculates an $F$-statistic. However, if you can remember all the way back to the chapter on [probability](probability), I mentioned that there's a relationship between the $t$-distribution and the $F$-distribution: if you have some quantity that is distributed according to a $t$-distribution with $k$ degrees of freedom and you square it, then this new squared quantity follows an $F$-distribution whose degrees of freedom are 1 and $k$. We can check this with respect to the $t$ statistics in our regression model. For the `attend` variable we get a $t$ value of 4.648. If we square this number we end up with 21.604, which is identical to the corresponding $F$ statistic in our ANOVA. [I love it when a plan comes together.](https://www.youtube.com/watch?v=NsUFBm1uENs)\n"
   ]
  },
  {
   "cell_type": "markdown",
   "id": "76fcaa5a-c7b3-497d-9fe3-5a01701e199f",
   "metadata": {},
   "source": [
    "I mentioned there was a second reason I didn't use `pingouin` for this example. This is because as far as I can tell, when performing an ANOVA `pingouin` always calculates not only the main effects, but also the interaction, thus giving slightly different results. In order to keep things simple (and maintain parity with [LSR](http://learningstatisticswithr.com/), I decided to go with `statsmodels` and not specify any interactions. Just to be sure though, let's run the ANOVA with `pingouin`, and then run the regression in `statsmodels` with a little ANOVA dressing on top, and confirm that we get the same result:"
   ]
  },
  {
   "cell_type": "code",
   "execution_count": 62,
   "id": "ec480505-abcd-43fa-abdd-a5622915820a",
   "metadata": {},
   "outputs": [
    {
     "data": {
      "text/html": [
       "<div>\n",
       "<style scoped>\n",
       "    .dataframe tbody tr th:only-of-type {\n",
       "        vertical-align: middle;\n",
       "    }\n",
       "\n",
       "    .dataframe tbody tr th {\n",
       "        vertical-align: top;\n",
       "    }\n",
       "\n",
       "    .dataframe thead th {\n",
       "        text-align: right;\n",
       "    }\n",
       "</style>\n",
       "<table border=\"1\" class=\"dataframe\">\n",
       "  <thead>\n",
       "    <tr style=\"text-align: right;\">\n",
       "      <th></th>\n",
       "      <th>Source</th>\n",
       "      <th>SS</th>\n",
       "      <th>DF</th>\n",
       "      <th>MS</th>\n",
       "      <th>F</th>\n",
       "      <th>p-unc</th>\n",
       "      <th>np2</th>\n",
       "    </tr>\n",
       "  </thead>\n",
       "  <tbody>\n",
       "    <tr>\n",
       "      <th>0</th>\n",
       "      <td>attend</td>\n",
       "      <td>648.0</td>\n",
       "      <td>1</td>\n",
       "      <td>648.0</td>\n",
       "      <td>18.254</td>\n",
       "      <td>0.013</td>\n",
       "      <td>0.820</td>\n",
       "    </tr>\n",
       "    <tr>\n",
       "      <th>1</th>\n",
       "      <td>reading</td>\n",
       "      <td>1568.0</td>\n",
       "      <td>1</td>\n",
       "      <td>1568.0</td>\n",
       "      <td>44.169</td>\n",
       "      <td>0.003</td>\n",
       "      <td>0.917</td>\n",
       "    </tr>\n",
       "    <tr>\n",
       "      <th>2</th>\n",
       "      <td>attend * reading</td>\n",
       "      <td>8.0</td>\n",
       "      <td>1</td>\n",
       "      <td>8.0</td>\n",
       "      <td>0.225</td>\n",
       "      <td>0.660</td>\n",
       "      <td>0.053</td>\n",
       "    </tr>\n",
       "    <tr>\n",
       "      <th>3</th>\n",
       "      <td>Residual</td>\n",
       "      <td>142.0</td>\n",
       "      <td>4</td>\n",
       "      <td>35.5</td>\n",
       "      <td>NaN</td>\n",
       "      <td>NaN</td>\n",
       "      <td>NaN</td>\n",
       "    </tr>\n",
       "  </tbody>\n",
       "</table>\n",
       "</div>"
      ],
      "text/plain": [
       "             Source      SS  DF      MS       F  p-unc    np2\n",
       "0            attend   648.0   1   648.0  18.254  0.013  0.820\n",
       "1           reading  1568.0   1  1568.0  44.169  0.003  0.917\n",
       "2  attend * reading     8.0   1     8.0   0.225  0.660  0.053\n",
       "3          Residual   142.0   4    35.5     NaN    NaN    NaN"
      ]
     },
     "execution_count": 62,
     "metadata": {},
     "output_type": "execute_result"
    }
   ],
   "source": [
    "pg.anova(dv='grade', between=['attend', 'reading'], data=rtfm1).round(3)"
   ]
  },
  {
   "cell_type": "code",
   "execution_count": 63,
   "id": "b8cbf2e1-be49-4206-a2ea-35dc01501053",
   "metadata": {
    "scrolled": true
   },
   "outputs": [
    {
     "data": {
      "text/html": [
       "<div>\n",
       "<style scoped>\n",
       "    .dataframe tbody tr th:only-of-type {\n",
       "        vertical-align: middle;\n",
       "    }\n",
       "\n",
       "    .dataframe tbody tr th {\n",
       "        vertical-align: top;\n",
       "    }\n",
       "\n",
       "    .dataframe thead th {\n",
       "        text-align: right;\n",
       "    }\n",
       "</style>\n",
       "<table border=\"1\" class=\"dataframe\">\n",
       "  <thead>\n",
       "    <tr style=\"text-align: right;\">\n",
       "      <th></th>\n",
       "      <th>sum_sq</th>\n",
       "      <th>df</th>\n",
       "      <th>F</th>\n",
       "      <th>PR(&gt;F)</th>\n",
       "    </tr>\n",
       "  </thead>\n",
       "  <tbody>\n",
       "    <tr>\n",
       "      <th>attend</th>\n",
       "      <td>648.0</td>\n",
       "      <td>1.0</td>\n",
       "      <td>18.254</td>\n",
       "      <td>0.013</td>\n",
       "    </tr>\n",
       "    <tr>\n",
       "      <th>reading</th>\n",
       "      <td>1568.0</td>\n",
       "      <td>1.0</td>\n",
       "      <td>44.169</td>\n",
       "      <td>0.003</td>\n",
       "    </tr>\n",
       "    <tr>\n",
       "      <th>attend:reading</th>\n",
       "      <td>8.0</td>\n",
       "      <td>1.0</td>\n",
       "      <td>0.225</td>\n",
       "      <td>0.660</td>\n",
       "    </tr>\n",
       "    <tr>\n",
       "      <th>Residual</th>\n",
       "      <td>142.0</td>\n",
       "      <td>4.0</td>\n",
       "      <td>NaN</td>\n",
       "      <td>NaN</td>\n",
       "    </tr>\n",
       "  </tbody>\n",
       "</table>\n",
       "</div>"
      ],
      "text/plain": [
       "                sum_sq   df       F  PR(>F)\n",
       "attend           648.0  1.0  18.254   0.013\n",
       "reading         1568.0  1.0  44.169   0.003\n",
       "attend:reading     8.0  1.0   0.225   0.660\n",
       "Residual         142.0  4.0     NaN     NaN"
      ]
     },
     "execution_count": 63,
     "metadata": {},
     "output_type": "execute_result"
    }
   ],
   "source": [
    "model = ols('grade ~ attend + reading + attend:reading', data=rtfm1).fit()\n",
    "sm.stats.anova_lm(model, typ=2).round(3)"
   ]
  },
  {
   "cell_type": "markdown",
   "id": "d8e11264-5512-4524-9ae5-f91f6fd8497d",
   "metadata": {},
   "source": [
    "Yup. Same thing."
   ]
  },
  {
   "cell_type": "markdown",
   "id": "cfe6ea9b-adfe-47cc-8b79-6c128ad6dda9",
   "metadata": {},
   "source": [
    "(changingbaseline) =\n",
    "### Changing the baseline category\n",
    "\n",
    "At this point, you're probably convinced that the ANOVA and the regression are actually identical to each other. So there's one last thing I should show you. What happens if I use the data from `rtfm2` to run the regression? In `rtfm2`, we coded the `attend` and `reading` variables as text rather than as numeric variables. Does this matter? In this case, it turns out that it doesn't. The only differences are superficial:"
   ]
  },
  {
   "cell_type": "code",
   "execution_count": 64,
   "id": "968f5b6d-66aa-43fb-812a-7a8a212e528f",
   "metadata": {},
   "outputs": [
    {
     "name": "stderr",
     "output_type": "stream",
     "text": [
      "/Users/ethan/opt/miniconda3/envs/pythonbook3/lib/python3.11/site-packages/scipy/stats/_stats_py.py:1736: UserWarning: kurtosistest only valid for n>=20 ... continuing anyway, n=8\n",
      "  warnings.warn(\"kurtosistest only valid for n>=20 ... continuing \"\n"
     ]
    },
    {
     "data": {
      "text/html": [
       "<table class=\"simpletable\">\n",
       "<tr>\n",
       "      <td></td>         <th>coef</th>     <th>std err</th>      <th>t</th>      <th>P>|t|</th>  <th>[0.025</th>    <th>0.975]</th>  \n",
       "</tr>\n",
       "<tr>\n",
       "  <th>Intercept</th> <td>   43.5000</td> <td>    3.354</td> <td>   12.969</td> <td> 0.000</td> <td>   34.878</td> <td>   52.122</td>\n",
       "</tr>\n",
       "<tr>\n",
       "  <th>attend</th>    <td>   18.0000</td> <td>    3.873</td> <td>    4.648</td> <td> 0.006</td> <td>    8.044</td> <td>   27.956</td>\n",
       "</tr>\n",
       "<tr>\n",
       "  <th>reading</th>   <td>   28.0000</td> <td>    3.873</td> <td>    7.230</td> <td> 0.001</td> <td>   18.044</td> <td>   37.956</td>\n",
       "</tr>\n",
       "</table>"
      ],
      "text/latex": [
       "\\begin{center}\n",
       "\\begin{tabular}{lcccccc}\n",
       "\\toprule\n",
       "                   & \\textbf{coef} & \\textbf{std err} & \\textbf{t} & \\textbf{P$> |$t$|$} & \\textbf{[0.025} & \\textbf{0.975]}  \\\\\n",
       "\\midrule\n",
       "\\textbf{Intercept} &      43.5000  &        3.354     &    12.969  &         0.000        &       34.878    &       52.122     \\\\\n",
       "\\textbf{attend}    &      18.0000  &        3.873     &     4.648  &         0.006        &        8.044    &       27.956     \\\\\n",
       "\\textbf{reading}   &      28.0000  &        3.873     &     7.230  &         0.001        &       18.044    &       37.956     \\\\\n",
       "\\bottomrule\n",
       "\\end{tabular}\n",
       "\\end{center}"
      ],
      "text/plain": [
       "<class 'statsmodels.iolib.table.SimpleTable'>"
      ]
     },
     "execution_count": 64,
     "metadata": {},
     "output_type": "execute_result"
    }
   ],
   "source": [
    "# With factors encoded numerically\n",
    "model = ols('grade ~ attend + reading', data=rtfm1).fit()\n",
    "model.summary().tables[1]"
   ]
  },
  {
   "cell_type": "code",
   "execution_count": 65,
   "id": "aa85b1f1-ff2b-4a68-9617-1b755c1aa023",
   "metadata": {
    "scrolled": true
   },
   "outputs": [
    {
     "name": "stderr",
     "output_type": "stream",
     "text": [
      "/Users/ethan/opt/miniconda3/envs/pythonbook3/lib/python3.11/site-packages/scipy/stats/_stats_py.py:1736: UserWarning: kurtosistest only valid for n>=20 ... continuing anyway, n=8\n",
      "  warnings.warn(\"kurtosistest only valid for n>=20 ... continuing \"\n"
     ]
    },
    {
     "data": {
      "text/html": [
       "<table class=\"simpletable\">\n",
       "<tr>\n",
       "         <td></td>           <th>coef</th>     <th>std err</th>      <th>t</th>      <th>P>|t|</th>  <th>[0.025</th>    <th>0.975]</th>  \n",
       "</tr>\n",
       "<tr>\n",
       "  <th>Intercept</th>      <td>   43.5000</td> <td>    3.354</td> <td>   12.969</td> <td> 0.000</td> <td>   34.878</td> <td>   52.122</td>\n",
       "</tr>\n",
       "<tr>\n",
       "  <th>attend[T.yes]</th>  <td>   18.0000</td> <td>    3.873</td> <td>    4.648</td> <td> 0.006</td> <td>    8.044</td> <td>   27.956</td>\n",
       "</tr>\n",
       "<tr>\n",
       "  <th>reading[T.yes]</th> <td>   28.0000</td> <td>    3.873</td> <td>    7.230</td> <td> 0.001</td> <td>   18.044</td> <td>   37.956</td>\n",
       "</tr>\n",
       "</table>"
      ],
      "text/latex": [
       "\\begin{center}\n",
       "\\begin{tabular}{lcccccc}\n",
       "\\toprule\n",
       "                        & \\textbf{coef} & \\textbf{std err} & \\textbf{t} & \\textbf{P$> |$t$|$} & \\textbf{[0.025} & \\textbf{0.975]}  \\\\\n",
       "\\midrule\n",
       "\\textbf{Intercept}      &      43.5000  &        3.354     &    12.969  &         0.000        &       34.878    &       52.122     \\\\\n",
       "\\textbf{attend[T.yes]}  &      18.0000  &        3.873     &     4.648  &         0.006        &        8.044    &       27.956     \\\\\n",
       "\\textbf{reading[T.yes]} &      28.0000  &        3.873     &     7.230  &         0.001        &       18.044    &       37.956     \\\\\n",
       "\\bottomrule\n",
       "\\end{tabular}\n",
       "\\end{center}"
      ],
      "text/plain": [
       "<class 'statsmodels.iolib.table.SimpleTable'>"
      ]
     },
     "execution_count": 65,
     "metadata": {},
     "output_type": "execute_result"
    }
   ],
   "source": [
    "# With factors encoded as text\n",
    "model = ols('grade ~ attend + reading', data=rtfm2).fit()\n",
    "model.summary().tables[1]"
   ]
  },
  {
   "cell_type": "markdown",
   "id": "f90d2b4b-5d16-4b6e-8746-46d813cacf91",
   "metadata": {},
   "source": [
    "The only thing that is different is that `statsmodels` labels the two variables differently: the output now refers to `attend[T.yes]` and `reading[T.yes]`. You can probably guess what this means. When `statsmodels` refers to `reading[T.yes]` it's trying to indicate that it is assuming that \"yes = 1\" and \"no = 0\". This is important for two reasons, one having to do with textually-encoded categories, and one having to do with numerically-encoded categories. \n",
    "\n",
    "Let's take the textually-encoded categories first. Suppose we wanted to say that \"yes = 0\" and \"no = 1\". We could still run this as a regression model, but now all of our coefficients will go in the opposite direction, because the effect of `reading[T.no]` would be referring to the consequences of *not* reading the textbook.\n",
    "\n",
    "We can do this in `statsmodels` by using the `Treatment` syntax, and manually specifiying the reference variable, like so:"
   ]
  },
  {
   "cell_type": "code",
   "execution_count": 68,
   "id": "872f7533-0885-40e4-aa0e-f5598e351eec",
   "metadata": {},
   "outputs": [
    {
     "name": "stderr",
     "output_type": "stream",
     "text": [
      "/Users/ethan/opt/miniconda3/envs/pythonbook3/lib/python3.11/site-packages/scipy/stats/_stats_py.py:1736: UserWarning: kurtosistest only valid for n>=20 ... continuing anyway, n=8\n",
      "  warnings.warn(\"kurtosistest only valid for n>=20 ... continuing \"\n"
     ]
    },
    {
     "data": {
      "text/html": [
       "<table class=\"simpletable\">\n",
       "<tr>\n",
       "                        <td></td>                          <th>coef</th>     <th>std err</th>      <th>t</th>      <th>P>|t|</th>  <th>[0.025</th>    <th>0.975]</th>  \n",
       "</tr>\n",
       "<tr>\n",
       "  <th>Intercept</th>                                    <td>   71.5000</td> <td>    3.354</td> <td>   21.317</td> <td> 0.000</td> <td>   62.878</td> <td>   80.122</td>\n",
       "</tr>\n",
       "<tr>\n",
       "  <th>C(attend)[T.yes]</th>                             <td>   18.0000</td> <td>    3.873</td> <td>    4.648</td> <td> 0.006</td> <td>    8.044</td> <td>   27.956</td>\n",
       "</tr>\n",
       "<tr>\n",
       "  <th>C(reading, Treatment(reference=\"yes\"))[T.no]</th> <td>  -28.0000</td> <td>    3.873</td> <td>   -7.230</td> <td> 0.001</td> <td>  -37.956</td> <td>  -18.044</td>\n",
       "</tr>\n",
       "</table>"
      ],
      "text/latex": [
       "\\begin{center}\n",
       "\\begin{tabular}{lcccccc}\n",
       "\\toprule\n",
       "                                                      & \\textbf{coef} & \\textbf{std err} & \\textbf{t} & \\textbf{P$> |$t$|$} & \\textbf{[0.025} & \\textbf{0.975]}  \\\\\n",
       "\\midrule\n",
       "\\textbf{Intercept}                                    &      71.5000  &        3.354     &    21.317  &         0.000        &       62.878    &       80.122     \\\\\n",
       "\\textbf{C(attend)[T.yes]}                             &      18.0000  &        3.873     &     4.648  &         0.006        &        8.044    &       27.956     \\\\\n",
       "\\textbf{C(reading, Treatment(reference=\"yes\"))[T.no]} &     -28.0000  &        3.873     &    -7.230  &         0.001        &      -37.956    &      -18.044     \\\\\n",
       "\\bottomrule\n",
       "\\end{tabular}\n",
       "\\end{center}"
      ],
      "text/plain": [
       "<class 'statsmodels.iolib.table.SimpleTable'>"
      ]
     },
     "execution_count": 68,
     "metadata": {},
     "output_type": "execute_result"
    }
   ],
   "source": [
    "model = ols('grade ~ C(attend) + C(reading, Treatment(reference=\"yes\"))', data=rtfm2).fit()\n",
    "model.summary().tables[1]"
   ]
  },
  {
   "cell_type": "markdown",
   "id": "a2347e54-0d50-456a-b51e-b1b6145f5352",
   "metadata": {
    "editable": true,
    "scrolled": true,
    "slideshow": {
     "slide_type": ""
    },
    "tags": []
   },
   "source": [
    "If we compare these results with the results using the default reference above, we see that the overall result has not changed (e.g. the p-value for \"reading\" is still 0.001, but the direction of the result is the opposite.\n",
    "\n",
    "So how does `statsmodels` choose the reference level, if we do not specify it manually? The answer is simple, if a little arbitrary: it just goes by alphabetical order. Yup. N comes before Y in the alphabet, so \"No\" is picked as the reference level.\n",
    "\n",
    "As it happens, this corresponds nicely with our numeric encoding, in which \"No\" was coded as 0, and \"Yes\" as 1, and 0 comes before 1 in the number line, but this will not necessarily be the case, so we need to stay alert, especially when using text to encode our levels. In the (admittedly unlikely) event that we had labelled our data \"affirmative\" and \"negative\" instead of \"yes\" and \"no\", the direction of our results would be reversed, and we might not even notice!\n",
    "\n"
   ]
  },
  {
   "cell_type": "code",
   "execution_count": 75,
   "id": "703f05de-4267-4130-ab6c-4cfbc89a0535",
   "metadata": {
    "editable": true,
    "slideshow": {
     "slide_type": ""
    },
    "tags": []
   },
   "outputs": [
    {
     "data": {
      "text/html": [
       "<div>\n",
       "<style scoped>\n",
       "    .dataframe tbody tr th:only-of-type {\n",
       "        vertical-align: middle;\n",
       "    }\n",
       "\n",
       "    .dataframe tbody tr th {\n",
       "        vertical-align: top;\n",
       "    }\n",
       "\n",
       "    .dataframe thead th {\n",
       "        text-align: right;\n",
       "    }\n",
       "</style>\n",
       "<table border=\"1\" class=\"dataframe\">\n",
       "  <thead>\n",
       "    <tr style=\"text-align: right;\">\n",
       "      <th></th>\n",
       "      <th>grade</th>\n",
       "      <th>attend</th>\n",
       "      <th>reading</th>\n",
       "    </tr>\n",
       "  </thead>\n",
       "  <tbody>\n",
       "    <tr>\n",
       "      <th>0</th>\n",
       "      <td>90</td>\n",
       "      <td>4</td>\n",
       "      <td>1</td>\n",
       "    </tr>\n",
       "    <tr>\n",
       "      <th>1</th>\n",
       "      <td>87</td>\n",
       "      <td>4</td>\n",
       "      <td>1</td>\n",
       "    </tr>\n",
       "    <tr>\n",
       "      <th>2</th>\n",
       "      <td>75</td>\n",
       "      <td>1</td>\n",
       "      <td>1</td>\n",
       "    </tr>\n",
       "    <tr>\n",
       "      <th>3</th>\n",
       "      <td>60</td>\n",
       "      <td>4</td>\n",
       "      <td>0</td>\n",
       "    </tr>\n",
       "    <tr>\n",
       "      <th>4</th>\n",
       "      <td>35</td>\n",
       "      <td>1</td>\n",
       "      <td>0</td>\n",
       "    </tr>\n",
       "    <tr>\n",
       "      <th>5</th>\n",
       "      <td>50</td>\n",
       "      <td>1</td>\n",
       "      <td>0</td>\n",
       "    </tr>\n",
       "    <tr>\n",
       "      <th>6</th>\n",
       "      <td>65</td>\n",
       "      <td>4</td>\n",
       "      <td>0</td>\n",
       "    </tr>\n",
       "    <tr>\n",
       "      <th>7</th>\n",
       "      <td>70</td>\n",
       "      <td>1</td>\n",
       "      <td>1</td>\n",
       "    </tr>\n",
       "  </tbody>\n",
       "</table>\n",
       "</div>"
      ],
      "text/plain": [
       "   grade  attend  reading\n",
       "0     90       4        1\n",
       "1     87       4        1\n",
       "2     75       1        1\n",
       "3     60       4        0\n",
       "4     35       1        0\n",
       "5     50       1        0\n",
       "6     65       4        0\n",
       "7     70       1        1"
      ]
     },
     "execution_count": 75,
     "metadata": {},
     "output_type": "execute_result"
    }
   ],
   "source": [
    "rtfm3 = rtfm1\n",
    "rtfm3['attend'] =[4,4,1,4,1,1,4,1]\n",
    "rtfm3"
   ]
  },
  {
   "cell_type": "code",
   "execution_count": 76,
   "id": "05d52668-4d20-4b4f-af25-5c196037236c",
   "metadata": {
    "editable": true,
    "slideshow": {
     "slide_type": ""
    },
    "tags": []
   },
   "outputs": [
    {
     "name": "stderr",
     "output_type": "stream",
     "text": [
      "/Users/ethan/opt/miniconda3/envs/pythonbook3/lib/python3.11/site-packages/scipy/stats/_stats_py.py:1736: UserWarning: kurtosistest only valid for n>=20 ... continuing anyway, n=8\n",
      "  warnings.warn(\"kurtosistest only valid for n>=20 ... continuing \"\n"
     ]
    },
    {
     "data": {
      "text/html": [
       "<table class=\"simpletable\">\n",
       "<tr>\n",
       "      <td></td>         <th>coef</th>     <th>std err</th>      <th>t</th>      <th>P>|t|</th>  <th>[0.025</th>    <th>0.975]</th>  \n",
       "</tr>\n",
       "<tr>\n",
       "  <th>Intercept</th> <td>   37.5000</td> <td>    4.233</td> <td>    8.859</td> <td> 0.000</td> <td>   26.619</td> <td>   48.381</td>\n",
       "</tr>\n",
       "<tr>\n",
       "  <th>attend</th>    <td>    6.0000</td> <td>    1.291</td> <td>    4.648</td> <td> 0.006</td> <td>    2.681</td> <td>    9.319</td>\n",
       "</tr>\n",
       "<tr>\n",
       "  <th>reading</th>   <td>   28.0000</td> <td>    3.873</td> <td>    7.230</td> <td> 0.001</td> <td>   18.044</td> <td>   37.956</td>\n",
       "</tr>\n",
       "</table>"
      ],
      "text/latex": [
       "\\begin{center}\n",
       "\\begin{tabular}{lcccccc}\n",
       "\\toprule\n",
       "                   & \\textbf{coef} & \\textbf{std err} & \\textbf{t} & \\textbf{P$> |$t$|$} & \\textbf{[0.025} & \\textbf{0.975]}  \\\\\n",
       "\\midrule\n",
       "\\textbf{Intercept} &      37.5000  &        4.233     &     8.859  &         0.000        &       26.619    &       48.381     \\\\\n",
       "\\textbf{attend}    &       6.0000  &        1.291     &     4.648  &         0.006        &        2.681    &        9.319     \\\\\n",
       "\\textbf{reading}   &      28.0000  &        3.873     &     7.230  &         0.001        &       18.044    &       37.956     \\\\\n",
       "\\bottomrule\n",
       "\\end{tabular}\n",
       "\\end{center}"
      ],
      "text/plain": [
       "<class 'statsmodels.iolib.table.SimpleTable'>"
      ]
     },
     "execution_count": 76,
     "metadata": {},
     "output_type": "execute_result"
    }
   ],
   "source": [
    "model = ols('grade ~ attend + reading', data=rtfm3).fit()\n",
    "model.summary().tables[1]"
   ]
  },
  {
   "attachments": {},
   "cell_type": "markdown",
   "id": "5129dee9",
   "metadata": {
    "editable": true,
    "slideshow": {
     "slide_type": ""
    },
    "tags": []
   },
   "source": [
    "(encodingnonbinary)=\n",
    "### How to encode non binary factors as contrasts\n",
    "\n",
    "At this point, I've shown you how we can view a $2\\times 2$ ANOVA into a linear model. And it's pretty easy to see how this generalises to a $2 \\times 2 \\times 2$ ANOVA or a $2 \\times 2 \\times 2 \\times 2$ ANOVA... it's the same thing, really: you just add a new binary variable for each of your factors. Where it begins to get trickier is when we consider factors that have more than two levels. Consider, for instance, the $3 \\times 2$ ANOVA that we ran earlier in this chapter using the `clin.trial` data. How can we convert the three-level `drug` factor into a numerical form that is appropriate for a regression?\n",
    "\n",
    "The answer to this question is pretty simple, actually. All we have to do is realise that a three-level factor can be redescribed as *two* binary variables. Suppose, for instance, I were to create a new binary variable called `druganxifree`. Whenever the `drug` variable is equal to `\"anxifree\"` we set `druganxifree = 1`. Otherwise, we set `druganxifree = 0`. This variable sets up a **_contrast_**, in this case between anxifree and the other two drugs. By itself, of course, the `druganxifree` contrast isn't enough to fully capture all of the information in our `drug` variable. We need a second contrast, one that allows us to distinguish between joyzepam and the placebo. To do this, we can create a second binary contrast, called `drugjoyzepam`, which equals 1 if the drug is joyzepam, and 0 if it is not. Taken together, these two contrasts allows us to perfectly discriminate between all three possible drugs. The table below illustrates this:"
   ]
  },
  {
   "attachments": {},
   "cell_type": "markdown",
   "id": "c8cb1b8a",
   "metadata": {},
   "source": [
    "### The equivalence between ANOVA and regression for non-binary factors"
   ]
  },
  {
   "attachments": {},
   "cell_type": "markdown",
   "id": "023eb81c",
   "metadata": {},
   "source": [
    "### Degrees of freedom as parameter counting!"
   ]
  },
  {
   "attachments": {},
   "cell_type": "markdown",
   "id": "9822b55a",
   "metadata": {},
   "source": [
    "### A postscript"
   ]
  },
  {
   "attachments": {},
   "cell_type": "markdown",
   "id": "7312a906",
   "metadata": {},
   "source": [
    "(contrasts)=\n",
    "## Different ways to specify contrasts"
   ]
  },
  {
   "attachments": {},
   "cell_type": "markdown",
   "id": "73844ec3",
   "metadata": {},
   "source": [
    "### Treatment contrasts"
   ]
  },
  {
   "attachments": {},
   "cell_type": "markdown",
   "id": "8a371e42",
   "metadata": {},
   "source": [
    "### Helmert contrasts"
   ]
  },
  {
   "attachments": {},
   "cell_type": "markdown",
   "id": "e3143af1",
   "metadata": {},
   "source": [
    "### Sum to zero contrasts"
   ]
  },
  {
   "attachments": {},
   "cell_type": "markdown",
   "id": "099029dc",
   "metadata": {},
   "source": [
    "### Setting contrasts"
   ]
  },
  {
   "attachments": {},
   "cell_type": "markdown",
   "id": "601681f7",
   "metadata": {},
   "source": [
    "(posthoc2)=\n",
    "## Post hoc tests"
   ]
  },
  {
   "attachments": {},
   "cell_type": "markdown",
   "id": "750fbb0a",
   "metadata": {},
   "source": [
    "(unbalancedanova)=\n",
    "## Unbalanced designs"
   ]
  },
  {
   "attachments": {},
   "cell_type": "markdown",
   "id": "7b40d4f6",
   "metadata": {},
   "source": [
    "### The coffee data"
   ]
  },
  {
   "attachments": {},
   "cell_type": "markdown",
   "id": "f764979f",
   "metadata": {},
   "source": [
    "### \"Standard ANOVA\" does not exist for unbalanced designs"
   ]
  },
  {
   "attachments": {},
   "cell_type": "markdown",
   "id": "79bdb60a",
   "metadata": {},
   "source": [
    "### Type I sum of squares"
   ]
  },
  {
   "attachments": {},
   "cell_type": "markdown",
   "id": "c5c57864",
   "metadata": {},
   "source": [
    "### Type III sum of squares"
   ]
  },
  {
   "attachments": {},
   "cell_type": "markdown",
   "id": "ab95a1b2",
   "metadata": {},
   "source": [
    "### Type II sum of squares"
   ]
  },
  {
   "attachments": {},
   "cell_type": "markdown",
   "id": "4e7be2d7",
   "metadata": {},
   "source": [
    "### Effect sizes (and non-additive sums of squares)"
   ]
  },
  {
   "attachments": {},
   "cell_type": "markdown",
   "id": "a14fdc6d",
   "metadata": {},
   "source": [
    "## Summary"
   ]
  },
  {
   "attachments": {},
   "cell_type": "markdown",
   "id": "02399b77",
   "metadata": {},
   "source": []
  }
 ],
 "metadata": {
  "celltoolbar": "Tags",
  "kernelspec": {
   "display_name": "Python 3 (ipykernel)",
   "language": "python",
   "name": "python3"
  },
  "language_info": {
   "codemirror_mode": {
    "name": "ipython",
    "version": 3
   },
   "file_extension": ".py",
   "mimetype": "text/x-python",
   "name": "python",
   "nbconvert_exporter": "python",
   "pygments_lexer": "ipython3",
   "version": "3.11.3"
  }
 },
 "nbformat": 4,
 "nbformat_minor": 5
}
