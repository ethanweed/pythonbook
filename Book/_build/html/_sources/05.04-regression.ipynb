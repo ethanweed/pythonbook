{
 "cells": [
  {
   "attachments": {},
   "cell_type": "markdown",
   "id": "constant-nation",
   "metadata": {},
   "source": [
    "(regression)=\n",
    "# Linear regression"
   ]
  },
  {
   "attachments": {},
   "cell_type": "markdown",
   "id": "34ea410f",
   "metadata": {},
   "source": [
    "\n",
    "\n",
    "The goal in this chapter is to introduce **_linear regression_**. Stripped to its bare essentials, linear regression models are basically a slightly fancier version of the [Pearson correlation](correl), though as we'll see, regression models are much more powerful tools."
   ]
  },
  {
   "attachments": {},
   "cell_type": "markdown",
   "id": "e7971302",
   "metadata": {
    "editable": true,
    "slideshow": {
     "slide_type": ""
    },
    "tags": []
   },
   "source": [
    "Since the basic ideas in regression are closely tied to correlation, we'll return to the `parenthood.csv` file that we were using to illustrate how correlations work. Recall that, in this data set, we were trying to find out why Dan is so very grumpy all the time, and our working hypothesis was that I'm not getting enough sleep. "
   ]
  },
  {
   "cell_type": "code",
   "execution_count": 1,
   "id": "56714750",
   "metadata": {
    "editable": true,
    "slideshow": {
     "slide_type": ""
    },
    "tags": []
   },
   "outputs": [
    {
     "data": {
      "text/html": [
       "<div>\n",
       "<style scoped>\n",
       "    .dataframe tbody tr th:only-of-type {\n",
       "        vertical-align: middle;\n",
       "    }\n",
       "\n",
       "    .dataframe tbody tr th {\n",
       "        vertical-align: top;\n",
       "    }\n",
       "\n",
       "    .dataframe thead th {\n",
       "        text-align: right;\n",
       "    }\n",
       "</style>\n",
       "<table border=\"1\" class=\"dataframe\">\n",
       "  <thead>\n",
       "    <tr style=\"text-align: right;\">\n",
       "      <th></th>\n",
       "      <th>dan_sleep</th>\n",
       "      <th>baby_sleep</th>\n",
       "      <th>dan_grump</th>\n",
       "      <th>day</th>\n",
       "    </tr>\n",
       "  </thead>\n",
       "  <tbody>\n",
       "    <tr>\n",
       "      <th>0</th>\n",
       "      <td>7.59</td>\n",
       "      <td>10.18</td>\n",
       "      <td>56</td>\n",
       "      <td>1</td>\n",
       "    </tr>\n",
       "    <tr>\n",
       "      <th>1</th>\n",
       "      <td>7.91</td>\n",
       "      <td>11.66</td>\n",
       "      <td>60</td>\n",
       "      <td>2</td>\n",
       "    </tr>\n",
       "    <tr>\n",
       "      <th>2</th>\n",
       "      <td>5.14</td>\n",
       "      <td>7.92</td>\n",
       "      <td>82</td>\n",
       "      <td>3</td>\n",
       "    </tr>\n",
       "    <tr>\n",
       "      <th>3</th>\n",
       "      <td>7.71</td>\n",
       "      <td>9.61</td>\n",
       "      <td>55</td>\n",
       "      <td>4</td>\n",
       "    </tr>\n",
       "    <tr>\n",
       "      <th>4</th>\n",
       "      <td>6.68</td>\n",
       "      <td>9.75</td>\n",
       "      <td>67</td>\n",
       "      <td>5</td>\n",
       "    </tr>\n",
       "  </tbody>\n",
       "</table>\n",
       "</div>"
      ],
      "text/plain": [
       "   dan_sleep  baby_sleep  dan_grump  day\n",
       "0       7.59       10.18         56    1\n",
       "1       7.91       11.66         60    2\n",
       "2       5.14        7.92         82    3\n",
       "3       7.71        9.61         55    4\n",
       "4       6.68        9.75         67    5"
      ]
     },
     "execution_count": 1,
     "metadata": {},
     "output_type": "execute_result"
    }
   ],
   "source": [
    "import pandas as pd\n",
    "\n",
    "file = 'https://raw.githubusercontent.com/ethanweed/pythonbook/main/Data/parenthood.csv'\n",
    "df = pd.read_csv(file)\n",
    "\n",
    "df.head()"
   ]
  },
  {
   "attachments": {},
   "cell_type": "markdown",
   "id": "d75e9ab0",
   "metadata": {
    "editable": true,
    "slideshow": {
     "slide_type": ""
    },
    "tags": []
   },
   "source": [
    "We drew some scatterplots to help us examine the relationship between the amount of sleep I get, and my grumpiness the following day. "
   ]
  },
  {
   "cell_type": "code",
   "execution_count": 3,
   "id": "b8cd9bbd",
   "metadata": {
    "editable": true,
    "slideshow": {
     "slide_type": ""
    },
    "tags": [
     "hide-input"
    ]
   },
   "outputs": [
    {
     "data": {
      "application/papermill.record/image/png": "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",
      "application/papermill.record/text/plain": "<Figure size 640x480 with 1 Axes>"
     },
     "metadata": {
      "scrapbook": {
       "mime_prefix": "application/papermill.record/",
       "name": "sleepycorrelation-fig"
      }
     },
     "output_type": "display_data"
    }
   ],
   "source": [
    "from myst_nb import glue\n",
    "from matplotlib import pyplot as plt\n",
    "import seaborn as sns\n",
    "\n",
    "fig = plt.figure()\n",
    "\n",
    "ax = sns.scatterplot(data = df,\n",
    "                x = 'dan_sleep', \n",
    "                y = 'dan_grump')\n",
    "ax.set(title = 'Grumpiness and sleep', ylabel = 'My grumpiness (0-100)', xlabel='My sleep (hours)')\n",
    "sns.despine()\n",
    "\n",
    "plt.close()\n",
    "\n",
    "glue(\"sleepycorrelation-fig\", fig, display=False)"
   ]
  },
  {
   "attachments": {},
   "cell_type": "markdown",
   "id": "eea7dea4",
   "metadata": {
    "editable": true,
    "slideshow": {
     "slide_type": ""
    },
    "tags": []
   },
   "source": [
    " ```{glue:figure} sleepycorrelation-fig\n",
    ":figwidth: 600px\n",
    ":name: fig-sleepycorrelation\n",
    "\n",
    "Scatterplot showing grumpiness as a function of hours slept.\n",
    "\n",
    "```\n"
   ]
  },
  {
   "attachments": {},
   "cell_type": "markdown",
   "id": "75808a56",
   "metadata": {
    "editable": true,
    "slideshow": {
     "slide_type": ""
    },
    "tags": []
   },
   "source": [
    "The actual scatterplot that we draw is the one shown in {numref}`fig-sleepycorrelation`, and as we saw previously this corresponds to a correlation of $r=-.90$, but what we find ourselves secretly imagining is something that looks closer to the left panel in {numref}`fig-sleep_regressions_1`. That is, we mentally draw a straight line through the middle of the data. In statistics, this line that we're drawing is called a **_regression line_**. Notice that -- since we're not idiots -- the regression line goes through the middle of the data. We don't find ourselves imagining anything like the rather silly plot shown in the right panel in {numref}`fig-sleep_regressions_1`. "
   ]
  },
  {
   "cell_type": "code",
   "execution_count": 5,
   "id": "74508823",
   "metadata": {
    "editable": true,
    "slideshow": {
     "slide_type": ""
    },
    "tags": [
     "hide-input"
    ]
   },
   "outputs": [
    {
     "data": {
      "application/papermill.record/image/png": "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",
      "application/papermill.record/text/plain": "<Figure size 1000x500 with 2 Axes>"
     },
     "metadata": {
      "scrapbook": {
       "mime_prefix": "application/papermill.record/",
       "name": "sleep_regressions_1-fig"
      }
     },
     "output_type": "display_data"
    }
   ],
   "source": [
    "import numpy as np \n",
    "import matplotlib.pyplot as plt\n",
    "import statsmodels.formula.api as smf\n",
    "\n",
    "# find the regression coefficients to allow manually plotting the line\n",
    "model = smf.ols(formula=\"dan_grump ~ dan_sleep\", data=df).fit()\n",
    "intercept = model.params.Intercept\n",
    "slope = model.params.dan_sleep\n",
    "\n",
    "\n",
    "fig, axes = plt.subplots(1, 2, figsize=(10, 5), sharey=True)\n",
    "\n",
    "x = np.linspace(4,10)\n",
    "\n",
    "\n",
    "sns.scatterplot(data = df, x = 'dan_sleep', y = 'dan_grump', ax = axes[0])\n",
    "fig.axes[0].set_title(\"The best-fitting regression line\")\n",
    "fig.axes[0].set_xlabel(\"My sleep (hours)\")\n",
    "fig.axes[0].set_ylabel(\"My grumpiness (0-10)\")\n",
    "fig.axes[0].plot(x,slope*x+intercept)\n",
    "\n",
    "sns.scatterplot(data = df, x = 'dan_sleep', y = 'dan_grump', ax = axes[1])\n",
    "fig.axes[1].set_title(\"Not the best-fitting regression line!\")\n",
    "fig.axes[1].set_xlabel(\"My sleep (hours)\")\n",
    "fig.axes[1].set_ylabel(\"My grumpiness (0-10)\")\n",
    "fig.axes[1].plot(x,-3*x+80)\n",
    "\n",
    "sns.despine()\n",
    "\n",
    "plt.close()\n",
    "\n",
    "glue(\"sleep_regressions_1-fig\", fig, display=False)"
   ]
  },
  {
   "attachments": {},
   "cell_type": "markdown",
   "id": "2ee1dcd1",
   "metadata": {
    "editable": true,
    "slideshow": {
     "slide_type": ""
    },
    "tags": []
   },
   "source": [
    " ```{glue:figure} sleep_regressions_1-fig\n",
    ":figwidth: 600px\n",
    ":name: fig-sleep_regressions_1\n",
    "\n",
    "The panel to the left shows the sleep-grumpiness scatterplot from {numref}`fig-sleepycorrelation` with the best fitting regression line drawn over the top. Not surprisingly, the line goes through the middle of the data. In contrast, the panel to the right shows the same data, but with a very poor choice of regression line drawn over the top.\n",
    "\n",
    "```\n"
   ]
  },
  {
   "attachments": {},
   "cell_type": "markdown",
   "id": "69a143d7",
   "metadata": {
    "editable": true,
    "slideshow": {
     "slide_type": ""
    },
    "tags": []
   },
   "source": [
    "This is not highly surprising: the line that I've drawn in panel to the right doesn't \"fit\" the data very well, so it doesn't make a lot of sense to propose it as a way of summarising the data, right? This is a very simple observation to make, but it turns out to be very powerful when we start trying to wrap just a little bit of maths around it. To do so, let's start with a refresher of some high school maths. The formula for a straight line is usually written like this:\n",
    "\n",
    "$$\n",
    "y = mx + c\n",
    "$$ \n",
    "\n",
    "\n",
    "Or, at least, that's what it was when I went to high school all those years ago.[^americanhighschool] The two *variables* are $x$ and $y$, and we have two *coefficients*, $m$ and $c$. The coefficient $m$ represents the *slope* of the line, and the coefficient $c$ represents the *$y$-intercept* of the line. Digging further back into our decaying memories of high school (sorry, for some of us high school was a long time ago), we remember that the intercept is interpreted as \"the value of $y$ that you get when $x=0$\". Similarly, a slope of $m$ means that if you increase the $x$-value by 1 unit, then the $y$-value goes up by $m$ units; a negative slope means that the $y$-value would go down rather than up. Ah yes, it's all coming back to me now. \n",
    "\n",
    "Now that we've remembered that, it should come as no surprise to discover that we use the exact same formula to describe a regression line. If $Y$ is the outcome variable (the DV) and $X$ is the predictor variable (the IV), then the formula that describes our regression is written like this:\n",
    "\n",
    "$$\n",
    "\\hat{Y_i} = b_1 X_i + b_0\n",
    "$$\n",
    "\n",
    "Hm. Looks like the same formula, but there's some extra frilly bits in this version. Let's make sure we understand them. Firstly, notice that I've written $X_i$ and $Y_i$ rather than just plain old $X$ and $Y$. This is because we want to remember that we're dealing with actual data. In this equation, $X_i$ is the value of predictor variable for the $i$th observation (i.e., the number of hours of sleep that I got on day $i$ of my little study), and $Y_i$ is the corresponding value of the outcome variable (i.e., my grumpiness on that day). And although I haven't said so explicitly in the equation, what we're assuming is that this formula works for all observations in the data set (i.e., for all $i$). Secondly, notice that I wrote $\\hat{Y}_i$ and not $Y_i$. This is because we want to make the distinction between the *actual data* $Y_i$, and the *estimate* $\\hat{Y}_i$ (i.e., the prediction that our regression line is making). Thirdly, I changed the letters used to describe the coefficients from $m$ and $c$ to $b_1$ and $b_0$. That's just the way that statisticians like to refer to the coefficients in a regression model. I've no idea why they chose $b$, but that's what they did. In any case $b_0$ always refers to the intercept term, and $b_1$ refers to the slope.\n",
    "\n",
    "\n",
    "Excellent, excellent. Next, I can't help but notice that -- regardless of whether we're talking about the good regression line or the bad one -- the data don't fall perfectly on the line. Or, to say it another way, the data $Y_i$ are not identical to the predictions of the regression model $\\hat{Y_i}$. Since statisticians love to attach letters, names and numbers to everything, let's refer to the difference between the model prediction and that actual data point as a *residual*, and we'll refer to it as $\\epsilon_i$.[^noteepsilon] Written using mathematics, the residuals are defined as:\n",
    "\n",
    "$$\n",
    "\\epsilon_i = Y_i - \\hat{Y}_i\n",
    "$$\n",
    "\n",
    "which in turn means that we can write down the complete linear regression model as:\n",
    "\n",
    "$$\n",
    "Y_i = b_1 X_i + b_0 + \\epsilon_i\n",
    "$$\n",
    "\n",
    "[^noteepsilon]: The $\\epsilon$ symbol is the Greek letter epsilon. It's traditional to use $\\epsilon_i$ or $e_i$ to denote a residual.\n",
    "\n",
    "[^americanhighschool]: Translator's note: and when _I_ went to high school in the United States ca. [1990](https://en.wikipedia.org/wiki/1990) [CE](https://en.wikipedia.org/wiki/Common_Era)  we learned this as $y=ax+b$. Why? Who decides whether it is $a$ or $m$? $c$ or $b$? I truly have no idea, but either way, it represents the same idea."
   ]
  },
  {
   "attachments": {},
   "cell_type": "markdown",
   "id": "c247ec1d",
   "metadata": {
    "editable": true,
    "slideshow": {
     "slide_type": ""
    },
    "tags": []
   },
   "source": [
    "(regressionestimation)=\n",
    "## Estimating a linear regression model\n",
    "\n",
    "\n",
    "Okay, now let's redraw our pictures, but this time I'll add some lines to show the size of the residual for all observations. When the regression line is good, our residuals (the lengths of the solid black lines) all look pretty small, as shown in the left panel of {numref}`fig-sleep_regressions_2`, but when the regression line is a bad one, the residuals are a lot larger, as you can see from looking at the right panel of {numref}`fig-sleep_regressions_2`. Hm. Maybe what we \"want\" in a regression model is *small* residuals. Yes, that does seem to make sense. In fact, I think I'll go so far as to say that the \"best fitting\" regression line is the one that has the smallest residuals. Or, better yet, since statisticians seem to like to take squares of everything why not say that ...\n",
    "\n",
    "> The estimated regression coefficients, $\\hat{b}_0$ and $\\hat{b}_1$ are those that minimise the sum of the squared residuals, which we could either write as $\\sum_i (Y_i - \\hat{Y}_i)^2$ or as $\\sum_i {\\epsilon_i}^2$.\n",
    "\n",
    "Yes, yes that sounds even better. And since I've indented it like that, it probably means that this is the right answer. And since this is the right answer, it's probably worth making a note of the fact that our regression coefficients are *estimates* (we're trying to guess the parameters that describe a population!), which is why I've added the little hats, so that we get $\\hat{b}_0$ and $\\hat{b}_1$ rather than $b_0$ and $b_1$. Finally, I should also note that -- since there's actually more than one way to estimate a regression model -- the more technical name for this estimation process is **_ordinary least squares (OLS) regression_**.  \n",
    "\n",
    "At this point, we now have a concrete definition for what counts as our \"best\" choice of regression coefficients, $\\hat{b}_0$ and $\\hat{b}_1$. The natural question to ask next is,  if our optimal regression coefficients are those that minimise the sum squared residuals, how do we *find* these wonderful numbers? The actual answer to this question is complicated, and it doesn't help you understand the logic of regression.[^notekungfu] As a result, this time I'm going to let you off the hook. Instead of showing you how to do it the long and tedious way first, and then \"revealing\" the wonderful shortcut that Python provides you with, let's cut straight to the chase... and use Python to do all the heavy lifting. \n",
    "\n",
    "\n",
    "[^notekungfu]: Or at least, I'm assuming that it doesn't help most people. But on the off chance that someone reading this is a proper kung fu master of linear algebra (and to be fair, I always have a few of these people in my intro stats class), it *will* help *you* to know that the solution to the estimation problem turns out to be $\\hat{b} = (X^TX)^{-1} X^T y$, where $\\hat{b}$ is a vector containing the estimated regression coefficients,  $X$ is the \"design matrix\" that contains the predictor variables (plus an additional column containing all ones; strictly $X$ is a matrix of the regressors, but I haven't discussed the distinction yet), and $y$ is a vector containing the outcome variable. For everyone else, this isn't exactly helpful, and can be downright scary. However, since quite a few things in linear regression can be written in linear algebra terms, you'll see a bunch of footnotes like this one in this chapter. If you can follow the maths in them, great. If not, ignore it."
   ]
  },
  {
   "cell_type": "code",
   "execution_count": 6,
   "id": "ffd9dca1",
   "metadata": {
    "editable": true,
    "slideshow": {
     "slide_type": ""
    },
    "tags": [
     "hide-input"
    ]
   },
   "outputs": [
    {
     "data": {
      "application/papermill.record/image/png": "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",
      "application/papermill.record/text/plain": "<Figure size 1500x500 with 2 Axes>"
     },
     "metadata": {
      "scrapbook": {
       "mime_prefix": "application/papermill.record/",
       "name": "sleep_regressions_2-fig"
      }
     },
     "output_type": "display_data"
    }
   ],
   "source": [
    "import numpy, scipy, matplotlib\n",
    "import matplotlib.pyplot as plt\n",
    "from scipy.optimize import curve_fit\n",
    "\n",
    "xData = df['dan_sleep']\n",
    "yData = numpy.array(df['dan_grump'])\n",
    "\n",
    "# (the solution to this figure stolen shamelessly from this stack-overflow answer by James Phillips:\n",
    "# https://stackoverflow.com/questions/53779773/python-linear-regression-best-fit-line-with-residuals)\n",
    "\n",
    "# fit linear regression model and save parameters\n",
    "def func(x, a, b):\n",
    "    return a * x + b\n",
    "\n",
    "initialParameters = numpy.array([1.0, 1.0])\n",
    "\n",
    "fittedParameters, pcov = curve_fit(func, xData, yData, initialParameters)\n",
    "\n",
    "modelPredictions = func(xData, *fittedParameters) \n",
    "\n",
    "data = pd.DataFrame({'x': xData,\n",
    "                     'y': yData})\n",
    "\n",
    "# plot data points\n",
    "fig, axes = plt.subplots(1, 2, figsize=(15, 5), sharey=True)\n",
    "sns.scatterplot(data = data, x = 'x', y = 'y', ax = axes[0])\n",
    "fig.axes[0].set_title(\"The best-fitting regression line!\")\n",
    "fig.axes[0].set_xlabel(\"My sleep (hours)\")\n",
    "fig.axes[0].set_ylabel(\"My grumpiness (0-10)\")\n",
    "\n",
    "# add regression line\n",
    "xModel = numpy.linspace(min(xData), max(xData))\n",
    "yModel = func(xModel, *fittedParameters)\n",
    "\n",
    "axes[0].plot(xModel, yModel)\n",
    "\n",
    "# add drop lines\n",
    "for i in range(len(xData)):\n",
    "    lineXdata = (xData[i], xData[i]) # same X\n",
    "    lineYdata = (yData[i], modelPredictions[i]) # different Y\n",
    "    axes[0].plot(lineXdata, lineYdata)\n",
    "\n",
    "    \n",
    "#####\n",
    "\n",
    "# create poor-fitting model\n",
    "badParameters = np.array([-3, 80])\n",
    "badPredictions = func(xData, *badParameters) \n",
    "\n",
    "bad_xModel = numpy.linspace(min(xData), max(xData))\n",
    "bad_yModel = func(bad_xModel, *badParameters)\n",
    "\n",
    "# plot data with poor-fitting model\n",
    "sns.scatterplot(data = data, x = 'x', y = 'y', ax = axes[1])\n",
    "fig.axes[1].set_title(\"Not the best-fitting regression line!\")\n",
    "fig.axes[1].set_xlabel(\"My sleep (hours)\")\n",
    "fig.axes[1].set_ylabel(\"My grumpiness (0-10)\")\n",
    "fig.axes[1].plot(bad_xModel, bad_yModel)  \n",
    "\n",
    "# add drop lines\n",
    "for i in range(len(xData)):\n",
    "    lineXdata = (xData[i], xData[i]) \n",
    "    lineYdata = (yData[i], badPredictions[i]) \n",
    "    axes[1].plot(lineXdata, lineYdata)\n",
    "  \n",
    "    \n",
    "sns.despine()\n",
    "\n",
    "plt.close()\n",
    "glue(\"sleep_regressions_2-fig\", fig, display=False)\n"
   ]
  },
  {
   "attachments": {},
   "cell_type": "markdown",
   "id": "72ceba5b",
   "metadata": {
    "editable": true,
    "slideshow": {
     "slide_type": ""
    },
    "tags": []
   },
   "source": [
    " ```{glue:figure} sleep_regressions_2-fig\n",
    ":figwidth: 600px\n",
    ":name: fig-sleep_regressions_2\n",
    "\n",
    "A depiction of the residuals associated with the best fitting regression line (left panel), and the residuals associated with a poor regression line (right panel). The residuals are much smaller for the good regression line. Again, this is no surprise given that the good line is the one that goes right through the middle of the data.\n",
    "\n",
    "```"
   ]
  },
  {
   "attachments": {},
   "cell_type": "markdown",
   "id": "17e9c720",
   "metadata": {
    "editable": true,
    "slideshow": {
     "slide_type": ""
    },
    "tags": []
   },
   "source": [
    "(pingouinregression)=\n",
    "## Linear Regression with Python\n",
    "\n",
    "As always, there are several different ways we could go about calculating a linear regression in Python, but we'll stick with `pingouin`[^drink], which for my money is one of the simplest and easiest packages to use. The `pingouin` command for linear regression is, well, `linear_regression`, so that couldn't be much more straightforward. After that, we just need to tell `pinguoin` which variable we want to use as a predictor variable (independent variable), and which one we want to use as the outcome variable (dependent variable). `pingouin` wants the predictor variable first, so, since we want to model my grumpiness as a function of my sleep, we write:\n",
    "\n",
    "[^drink]: You saw that coming, didn't you? If not, then I bet you haven't read the sections on [t-tests](ttest) or [ANOVA](ANOVA) yet, have you? I'm such a shill for `pingouin`. "
   ]
  },
  {
   "cell_type": "code",
   "execution_count": 7,
   "id": "solved-yesterday",
   "metadata": {
    "editable": true,
    "slideshow": {
     "slide_type": ""
    },
    "tags": []
   },
   "outputs": [],
   "source": [
    "import pingouin as pg\n",
    "\n",
    "mod1 = pg.linear_regression(df['dan_sleep'], df['dan_grump'])"
   ]
  },
  {
   "cell_type": "code",
   "execution_count": 8,
   "id": "lined-recommendation",
   "metadata": {
    "editable": true,
    "slideshow": {
     "slide_type": ""
    },
    "tags": []
   },
   "outputs": [
    {
     "data": {
      "text/html": [
       "<div>\n",
       "<style scoped>\n",
       "    .dataframe tbody tr th:only-of-type {\n",
       "        vertical-align: middle;\n",
       "    }\n",
       "\n",
       "    .dataframe tbody tr th {\n",
       "        vertical-align: top;\n",
       "    }\n",
       "\n",
       "    .dataframe thead th {\n",
       "        text-align: right;\n",
       "    }\n",
       "</style>\n",
       "<table border=\"1\" class=\"dataframe\">\n",
       "  <thead>\n",
       "    <tr style=\"text-align: right;\">\n",
       "      <th></th>\n",
       "      <th>names</th>\n",
       "      <th>coef</th>\n",
       "      <th>se</th>\n",
       "      <th>T</th>\n",
       "      <th>pval</th>\n",
       "      <th>r2</th>\n",
       "      <th>adj_r2</th>\n",
       "      <th>CI[2.5%]</th>\n",
       "      <th>CI[97.5%]</th>\n",
       "    </tr>\n",
       "  </thead>\n",
       "  <tbody>\n",
       "    <tr>\n",
       "      <th>0</th>\n",
       "      <td>Intercept</td>\n",
       "      <td>125.96</td>\n",
       "      <td>3.02</td>\n",
       "      <td>41.76</td>\n",
       "      <td>0.0</td>\n",
       "      <td>0.82</td>\n",
       "      <td>0.81</td>\n",
       "      <td>119.97</td>\n",
       "      <td>131.94</td>\n",
       "    </tr>\n",
       "    <tr>\n",
       "      <th>1</th>\n",
       "      <td>dan_sleep</td>\n",
       "      <td>-8.94</td>\n",
       "      <td>0.43</td>\n",
       "      <td>-20.85</td>\n",
       "      <td>0.0</td>\n",
       "      <td>0.82</td>\n",
       "      <td>0.81</td>\n",
       "      <td>-9.79</td>\n",
       "      <td>-8.09</td>\n",
       "    </tr>\n",
       "  </tbody>\n",
       "</table>\n",
       "</div>"
      ],
      "text/plain": [
       "       names    coef    se      T  pval    r2  adj_r2  CI[2.5%]  CI[97.5%]\n",
       "0  Intercept  125.96  3.02  41.76   0.0  0.82    0.81    119.97     131.94\n",
       "1  dan_sleep   -8.94  0.43 -20.85   0.0  0.82    0.81     -9.79      -8.09"
      ]
     },
     "execution_count": 8,
     "metadata": {},
     "output_type": "execute_result"
    }
   ],
   "source": [
    "# Display results, rounded to two decimal places.\n",
    "mod1.round(2)"
   ]
  },
  {
   "attachments": {},
   "cell_type": "markdown",
   "id": "09bbc1ca",
   "metadata": {
    "editable": true,
    "slideshow": {
     "slide_type": ""
    },
    "tags": []
   },
   "source": [
    "As is its way, `pingouin` gives us a nice simple table, with a lot of information. Most importantly for now, we can see that `pingouin` has caclulated the intercept $\\hat{b}_0 = 125.96$ and the slope $\\hat{b}_1 = -8.94$. In other words, the best-fitting regression line that I plotted in {numref}`fig-sleep_regressions_1` has this formula: \n",
    "\n",
    "$$\n",
    "\\hat{Y}_i = -8.94 \\ X_i + 125.96\n",
    "$$ "
   ]
  },
  {
   "attachments": {},
   "cell_type": "markdown",
   "id": "7fdd35c3",
   "metadata": {
    "editable": true,
    "slideshow": {
     "slide_type": ""
    },
    "tags": []
   },
   "source": [
    "### Warning!!!\n",
    "\n",
    "Remember, it's critical that you put the variables in the right order. If you reverse the predictor and outcome variables, `pinguoin` will happily calculate a result for you, but it will not be the one you are looking for. If instead, we had written `pg.linear_regression(df['dan_grump'], df['dan_sleep'])`, we would get the following:"
   ]
  },
  {
   "cell_type": "code",
   "execution_count": 9,
   "id": "f27c3f32",
   "metadata": {
    "editable": true,
    "slideshow": {
     "slide_type": ""
    },
    "tags": []
   },
   "outputs": [
    {
     "data": {
      "text/html": [
       "<div>\n",
       "<style scoped>\n",
       "    .dataframe tbody tr th:only-of-type {\n",
       "        vertical-align: middle;\n",
       "    }\n",
       "\n",
       "    .dataframe tbody tr th {\n",
       "        vertical-align: top;\n",
       "    }\n",
       "\n",
       "    .dataframe thead th {\n",
       "        text-align: right;\n",
       "    }\n",
       "</style>\n",
       "<table border=\"1\" class=\"dataframe\">\n",
       "  <thead>\n",
       "    <tr style=\"text-align: right;\">\n",
       "      <th></th>\n",
       "      <th>names</th>\n",
       "      <th>coef</th>\n",
       "      <th>se</th>\n",
       "      <th>T</th>\n",
       "      <th>pval</th>\n",
       "      <th>r2</th>\n",
       "      <th>adj_r2</th>\n",
       "      <th>CI[2.5%]</th>\n",
       "      <th>CI[97.5%]</th>\n",
       "    </tr>\n",
       "  </thead>\n",
       "  <tbody>\n",
       "    <tr>\n",
       "      <th>0</th>\n",
       "      <td>Intercept</td>\n",
       "      <td>12.78</td>\n",
       "      <td>0.28</td>\n",
       "      <td>45.27</td>\n",
       "      <td>0.0</td>\n",
       "      <td>0.82</td>\n",
       "      <td>0.81</td>\n",
       "      <td>12.22</td>\n",
       "      <td>13.34</td>\n",
       "    </tr>\n",
       "    <tr>\n",
       "      <th>1</th>\n",
       "      <td>dan_grump</td>\n",
       "      <td>-0.09</td>\n",
       "      <td>0.00</td>\n",
       "      <td>-20.85</td>\n",
       "      <td>0.0</td>\n",
       "      <td>0.82</td>\n",
       "      <td>0.81</td>\n",
       "      <td>-0.10</td>\n",
       "      <td>-0.08</td>\n",
       "    </tr>\n",
       "  </tbody>\n",
       "</table>\n",
       "</div>"
      ],
      "text/plain": [
       "       names   coef    se      T  pval    r2  adj_r2  CI[2.5%]  CI[97.5%]\n",
       "0  Intercept  12.78  0.28  45.27   0.0  0.82    0.81     12.22      13.34\n",
       "1  dan_grump  -0.09  0.00 -20.85   0.0  0.82    0.81     -0.10      -0.08"
      ]
     },
     "execution_count": 9,
     "metadata": {},
     "output_type": "execute_result"
    }
   ],
   "source": [
    "modx = pg.linear_regression(df['dan_grump'], df['dan_sleep'])\n",
    "modx.round(2)"
   ]
  },
  {
   "attachments": {},
   "cell_type": "markdown",
   "id": "ccc72aef",
   "metadata": {
    "editable": true,
    "slideshow": {
     "slide_type": ""
    },
    "tags": []
   },
   "source": [
    "The output looks valid enough on the face of it, and it is even statistically significant. But in this model, we just predicted my son's sleepiness as a function of my grumpiness, which is madness! Reversing the direction of causality would make a great scifi movie[^noteNolan], but it's no good in statistics. So remember, predictor first, outcome second[^noteformula]\n",
    "\n",
    "[^noteNolan]: Christopher Nolan, have your people call my people if you're interested, we'll do lunch!\n",
    "[^noteformula]: This is extra confusing if you happen to have come from the world of R, where this sort of model is usually defined with a formula, in which the outcome measure comes first, followed by the predictor(s), or even if you have used `statsmodels`, which also preserves the R-style formula notation."
   ]
  },
  {
   "attachments": {},
   "cell_type": "markdown",
   "id": "31c60fc0",
   "metadata": {
    "editable": true,
    "slideshow": {
     "slide_type": ""
    },
    "tags": []
   },
   "source": [
    "### Interpreting the estimated model\n",
    "\n",
    "The most important thing to be able to understand is how to interpret these coefficients. Let's start with $\\hat{b}_1$, the slope. If we remember the definition of the slope, a regression coefficient of $\\hat{b}_1 = -8.94$ means that if I increase $X_i$ by 1, then I'm decreasing $Y_i$ by 8.94. That is, each additional hour of sleep that I gain will improve my mood, reducing my grumpiness by 8.94 grumpiness points. What about the intercept? Well, since $\\hat{b}_0$ corresponds to \"the expected value of $Y_i$ when $X_i$ equals 0\", it's pretty straightforward. It implies that if I get zero hours of sleep ($X_i =0$) then my grumpiness will go off the scale, to an insane value of ($Y_i = 125.96$). Best to be avoided, I think.\n"
   ]
  },
  {
   "attachments": {},
   "cell_type": "markdown",
   "id": "ef122d96",
   "metadata": {
    "editable": true,
    "slideshow": {
     "slide_type": ""
    },
    "tags": []
   },
   "source": [
    "(multipleregression)=\n",
    "## Multiple linear regression\n",
    "\n",
    "The simple linear regression model that we've discussed up to this point assumes that there's a single predictor variable that you're interested in, in this case `dan_sleep`. In fact, up to this point, *every* statistical tool that we've talked about has assumed that your analysis uses one predictor variable and one outcome variable. However, in many (perhaps most) research projects you actually have multiple predictors that you want to examine. If so, it would be nice to be able to extend the linear regression framework to be able to include multiple predictors. Perhaps some kind of **_multiple regression_** model would be in order?\n",
    "\n",
    "Multiple regression is conceptually very simple. All we do is add more terms to our regression equation. Let's suppose that we've got two variables that we're interested in; perhaps we want to use both `dan_sleep` and `baby_sleep` to predict the `dan_grump` variable. As before, we let $Y_i$ refer to my grumpiness on the $i$-th day. But now we have two $X$ variables: the first corresponding to the amount of sleep I got and the second corresponding to the amount of sleep my son got. So we'll let $X_{i1}$ refer to the hours I slept on the $i$-th day, and $X_{i2}$ refers to the hours that the baby slept on that day. If so, then we can write our regression model like this:\n",
    "\n",
    "$$\n",
    "Y_i = b_2 X_{i2} + b_1 X_{i1} + b_0 + \\epsilon_i\n",
    "$$"
   ]
  },
  {
   "attachments": {},
   "cell_type": "markdown",
   "id": "8d98bead",
   "metadata": {
    "editable": true,
    "slideshow": {
     "slide_type": ""
    },
    "tags": []
   },
   "source": [
    "As before, $\\epsilon_i$ is the residual associated with the $i$-th observation, $\\epsilon_i = {Y}_i - \\hat{Y}_i$. In this model, we now have three coefficients that need to be estimated: $b_0$ is the intercept, $b_1$ is the coefficient associated with my sleep, and $b_2$ is the coefficient associated with my son's sleep. However, although the number of coefficients that need to be estimated has changed, the basic idea of how the estimation works is unchanged: our estimated coefficients $\\hat{b}_0$, $\\hat{b}_1$ and $\\hat{b}_2$ are those that minimise the sum squared residuals. "
   ]
  },
  {
   "attachments": {},
   "cell_type": "markdown",
   "id": "ad3ad281",
   "metadata": {
    "editable": true,
    "slideshow": {
     "slide_type": ""
    },
    "tags": []
   },
   "source": [
    "(pingouinmultiplelinearregression)=\n",
    "## Multiple Linear Regression in Python\n",
    "\n",
    "Doing mulitiple linear regression in `pingouin` is just as easy as adding some more predictor variables, like this:"
   ]
  },
  {
   "cell_type": "code",
   "execution_count": 11,
   "id": "f9c9eddf",
   "metadata": {
    "editable": true,
    "slideshow": {
     "slide_type": ""
    },
    "tags": []
   },
   "outputs": [],
   "source": [
    "mod2 = pg.linear_regression(df[['dan_sleep', 'baby_sleep']], df['dan_grump'])"
   ]
  },
  {
   "attachments": {},
   "cell_type": "markdown",
   "id": "8a117839",
   "metadata": {
    "editable": true,
    "slideshow": {
     "slide_type": ""
    },
    "tags": []
   },
   "source": [
    "Still, there is one thing to watch out for. If you look carefully at the command above, you will notice that not only have we added a new predictor (`baby_sleep`), we have also added some extra brackets. While before our predictor variable was `['dan_sleep']`, now we have `[['dan_sleep', 'baby_sleep']]`. Why the extra set of `[]`?\n",
    "\n",
    "This is because we are using the brackets in two different ways. When we wrote `['dan_sleep']`, the square brackets meant \"select the column in the `pandas` dataframe with the header 'dan_sleep'\". But now we are giving `pingouin` a _list_ of columns to select, and `list` objects are _also_ defined by square brackets in Python. To keep things clear, another way to achieve the same result would be to define the list of predictor variables outside the call to `pingouin`:"
   ]
  },
  {
   "cell_type": "code",
   "execution_count": 12,
   "id": "49eff9c6",
   "metadata": {
    "editable": true,
    "slideshow": {
     "slide_type": ""
    },
    "tags": []
   },
   "outputs": [],
   "source": [
    "predictors = ['dan_sleep', 'baby_sleep']\n",
    "outcome = 'dan_grump'\n",
    "\n",
    "mod2 = pg.linear_regression(df[predictors], df[outcome])"
   ]
  },
  {
   "attachments": {},
   "cell_type": "markdown",
   "id": "fa7a4ce3",
   "metadata": {
    "editable": true,
    "slideshow": {
     "slide_type": ""
    },
    "tags": []
   },
   "source": [
    "You could even do all the work outside of `pinguoin`, like this:"
   ]
  },
  {
   "cell_type": "code",
   "execution_count": 13,
   "id": "b3dddf41",
   "metadata": {
    "editable": true,
    "slideshow": {
     "slide_type": ""
    },
    "tags": []
   },
   "outputs": [],
   "source": [
    "predictors = df[['dan_sleep', 'baby_sleep']]\n",
    "outcome = df['dan_grump']\n",
    "\n",
    "mod2 = pg.linear_regression(predictors, outcome)"
   ]
  },
  {
   "attachments": {},
   "cell_type": "markdown",
   "id": "d6650a32",
   "metadata": {
    "editable": true,
    "slideshow": {
     "slide_type": ""
    },
    "tags": []
   },
   "source": [
    "All three of these will give the same result, so it's up to you choose what makes most sense to you. But now it's time to take a look at the results:"
   ]
  },
  {
   "cell_type": "code",
   "execution_count": 14,
   "id": "3acaa6b8",
   "metadata": {
    "editable": true,
    "slideshow": {
     "slide_type": ""
    },
    "tags": []
   },
   "outputs": [
    {
     "data": {
      "text/html": [
       "<div>\n",
       "<style scoped>\n",
       "    .dataframe tbody tr th:only-of-type {\n",
       "        vertical-align: middle;\n",
       "    }\n",
       "\n",
       "    .dataframe tbody tr th {\n",
       "        vertical-align: top;\n",
       "    }\n",
       "\n",
       "    .dataframe thead th {\n",
       "        text-align: right;\n",
       "    }\n",
       "</style>\n",
       "<table border=\"1\" class=\"dataframe\">\n",
       "  <thead>\n",
       "    <tr style=\"text-align: right;\">\n",
       "      <th></th>\n",
       "      <th>names</th>\n",
       "      <th>coef</th>\n",
       "      <th>se</th>\n",
       "      <th>T</th>\n",
       "      <th>pval</th>\n",
       "      <th>r2</th>\n",
       "      <th>adj_r2</th>\n",
       "      <th>CI[2.5%]</th>\n",
       "      <th>CI[97.5%]</th>\n",
       "    </tr>\n",
       "  </thead>\n",
       "  <tbody>\n",
       "    <tr>\n",
       "      <th>0</th>\n",
       "      <td>Intercept</td>\n",
       "      <td>125.97</td>\n",
       "      <td>3.04</td>\n",
       "      <td>41.42</td>\n",
       "      <td>0.00</td>\n",
       "      <td>0.82</td>\n",
       "      <td>0.81</td>\n",
       "      <td>119.93</td>\n",
       "      <td>132.00</td>\n",
       "    </tr>\n",
       "    <tr>\n",
       "      <th>1</th>\n",
       "      <td>dan_sleep</td>\n",
       "      <td>-8.95</td>\n",
       "      <td>0.55</td>\n",
       "      <td>-16.17</td>\n",
       "      <td>0.00</td>\n",
       "      <td>0.82</td>\n",
       "      <td>0.81</td>\n",
       "      <td>-10.05</td>\n",
       "      <td>-7.85</td>\n",
       "    </tr>\n",
       "    <tr>\n",
       "      <th>2</th>\n",
       "      <td>baby_sleep</td>\n",
       "      <td>0.01</td>\n",
       "      <td>0.27</td>\n",
       "      <td>0.04</td>\n",
       "      <td>0.97</td>\n",
       "      <td>0.82</td>\n",
       "      <td>0.81</td>\n",
       "      <td>-0.53</td>\n",
       "      <td>0.55</td>\n",
       "    </tr>\n",
       "  </tbody>\n",
       "</table>\n",
       "</div>"
      ],
      "text/plain": [
       "        names    coef    se      T  pval    r2  adj_r2  CI[2.5%]  CI[97.5%]\n",
       "0   Intercept  125.97  3.04  41.42  0.00  0.82    0.81    119.93     132.00\n",
       "1   dan_sleep   -8.95  0.55 -16.17  0.00  0.82    0.81    -10.05      -7.85\n",
       "2  baby_sleep    0.01  0.27   0.04  0.97  0.82    0.81     -0.53       0.55"
      ]
     },
     "execution_count": 14,
     "metadata": {},
     "output_type": "execute_result"
    }
   ],
   "source": [
    "mod2.round(2)"
   ]
  },
  {
   "attachments": {},
   "cell_type": "markdown",
   "id": "5d1e86a2",
   "metadata": {
    "editable": true,
    "slideshow": {
     "slide_type": ""
    },
    "tags": []
   },
   "source": [
    "The coefficient associated with dan_sleep is quite large, suggesting that every hour of sleep I lose makes me a lot grumpier. However, the coefficient for baby_sleep is very small, suggesting that it doesn’t really matter how much sleep my son gets, not really. What matters as far as my grumpiness goes is how much sleep _I_ get. Although conceptually similar, multiple linear regressions are much harder to visualize than a simple linear regression with only one predictor. To get a sense of what this multiple regression model with two predictors looks like, {numref}`fig-sleep_regressions_3d` shows a 3D plot that plots all three variables, along with the regression model itself."
   ]
  },
  {
   "cell_type": "code",
   "execution_count": 15,
   "id": "4757a6d2",
   "metadata": {
    "editable": true,
    "slideshow": {
     "slide_type": ""
    },
    "tags": [
     "hide-input"
    ]
   },
   "outputs": [
    {
     "data": {
      "application/papermill.record/image/png": "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",
      "application/papermill.record/text/plain": "<Figure size 2500x1000 with 1 Axes>"
     },
     "metadata": {
      "scrapbook": {
       "mime_prefix": "application/papermill.record/",
       "name": "sleep_regressions_3d-fig"
      }
     },
     "output_type": "display_data"
    }
   ],
   "source": [
    "import matplotlib.pyplot as plt\n",
    "import pandas as pd\n",
    "import seaborn as sns\n",
    "from mpl_toolkits.mplot3d import Axes3D\n",
    "\n",
    "# style the plot\n",
    "sns.set_style(\"whitegrid\")\n",
    "\n",
    "# construct 3d plot space\n",
    "fig = plt.figure(figsize=(25, 10)) \n",
    "ax = fig.add_subplot(111, projection = '3d')\n",
    "\n",
    "# define axes\n",
    "x = df['dan_sleep']\n",
    "y = df['baby_sleep']\n",
    "z = df['dan_grump']\n",
    "\n",
    "# set axis labels\n",
    "ax.set_xlabel(\"dan_sleep\")\n",
    "ax.set_ylabel(\"baby_sleep\")\n",
    "ax.set_zlabel(\"dan_grump\")\n",
    "\n",
    "\n",
    "# get intercept and regression coefficients from the lmm model\n",
    "coefs = list(mod2['coef'][1:])\n",
    "intercept = mod2['coef'][0]\n",
    "\n",
    "# create a 3d plane representation of the lmm predictions\n",
    "xs = np.tile(np.arange(12), (12,1))\n",
    "ys = np.tile(np.arange(12), (12,1)).T\n",
    "zs = xs*coefs[0]+ys*coefs[1]+intercept\n",
    "ax.plot_surface(xs,ys,zs, alpha=0.5)\n",
    "\n",
    "# plot the data and plane\n",
    "ax.plot_surface(xs,ys,zs, alpha=0.01)\n",
    "ax.scatter(x, y, z, color = 'blue')\n",
    "\n",
    "# adjust the viewing angle\n",
    "ax.view_init(11,97)\n",
    "\n",
    "\n",
    "\n",
    "# plot the figure in the book with the caption (and no duplicate figure)\n",
    "plt.close()\n",
    "glue(\"sleep_regressions_3d-fig\", fig, display=False)\n"
   ]
  },
  {
   "attachments": {},
   "cell_type": "markdown",
   "id": "db5e9ad1",
   "metadata": {
    "editable": true,
    "slideshow": {
     "slide_type": ""
    },
    "tags": []
   },
   "source": [
    " ```{glue:figure} sleep_regressions_3d-fig\n",
    ":figwidth: 600px\n",
    ":name: fig-sleep_regressions_3d\n",
    "\n",
    "A 3D visualisation of a multiple regression model. There are two predictors in the model, `dan_sleep` and `baby_sleep`; the outcome variable is `dan.grump`. Together, these three variables form a 3D space: each observation (blue dots) is a point in this space. In much the same way that a simple linear regression model forms a line in 2D space, this multiple regression model forms a plane in 3D space. When we estimate the regression coefficients, what we're trying to do is find a plane that is as close to all the blue dots as possible.\n",
    "\n",
    "```"
   ]
  },
  {
   "attachments": {},
   "cell_type": "markdown",
   "id": "67bddbf7",
   "metadata": {
    "editable": true,
    "slideshow": {
     "slide_type": ""
    },
    "tags": []
   },
   "source": [
    "### Formula for the general case\n",
    "\n",
    "The equation that I gave above shows you what a multiple regression model looks like when you include two predictors. Not surprisingly, then, if you want more than two predictors, all you have to do is add more $X$ terms and more $b$ coefficients. In other words, if you have $K$ predictor variables in the model then the regression equation looks like this:\n",
    "\n",
    "$$\n",
    "Y_i = \\left( \\sum_{k=1}^K b_{k} X_{ik} \\right) + b_0 + \\epsilon_i\n",
    "$$"
   ]
  },
  {
   "attachments": {},
   "cell_type": "markdown",
   "id": "3689e030",
   "metadata": {
    "editable": true,
    "slideshow": {
     "slide_type": ""
    },
    "tags": []
   },
   "source": [
    "(r2)=\n",
    "## Quantifying the fit of the regression model\n",
    "\n",
    "So we now know how to estimate the coefficients of a linear regression model. The problem is, we don't yet know if this regression model is any good. For example, our multiple linear regression model `mod2` *claims* that every hour of sleep will improve my mood by quite a lot, but it might just be rubbish. Remember, the regression model only produces a prediction $\\hat{Y}_i$ about what my mood is like: my actual mood is $Y_i$. If these two are very close, then the regression model has done a good job. If they are very different, then it has done a bad job. "
   ]
  },
  {
   "attachments": {},
   "cell_type": "markdown",
   "id": "c4d35773",
   "metadata": {
    "editable": true,
    "slideshow": {
     "slide_type": ""
    },
    "tags": []
   },
   "source": [
    "### The $R^2$ value\n",
    "\n",
    "Once again, let's wrap a little bit of mathematics around this. First, we've got the sum of the squared residuals:\n",
    "\n",
    "$$\n",
    "\\text{SS}_{res} = \\sum_i (Y_i - \\hat{Y}_i)^2\n",
    "$$"
   ]
  },
  {
   "attachments": {},
   "cell_type": "markdown",
   "id": "f19b18b6",
   "metadata": {
    "editable": true,
    "slideshow": {
     "slide_type": ""
    },
    "tags": []
   },
   "source": [
    "which we would hope to be pretty small. Specifically, what we'd like is for it to be very small in comparison to the total variability in the outcome variable, \n",
    "\n",
    "$$\n",
    "\\text{SS}_{tot} = \\sum_i (Y_i - \\bar{Y})^2\n",
    "$$"
   ]
  },
  {
   "attachments": {},
   "cell_type": "markdown",
   "id": "2ad3aed6",
   "metadata": {
    "editable": true,
    "slideshow": {
     "slide_type": ""
    },
    "tags": []
   },
   "source": [
    "While we're here, let's calculate these values in Python. Just to make my Python commands look a bit more similar to the mathematical equations, I'll create variables `X` and `Y`:"
   ]
  },
  {
   "cell_type": "code",
   "execution_count": 16,
   "id": "4d5fe885",
   "metadata": {
    "editable": true,
    "slideshow": {
     "slide_type": ""
    },
    "tags": []
   },
   "outputs": [],
   "source": [
    "X = df['dan_sleep'] # the predictor\n",
    "Y = df['dan_grump'] # the outcome"
   ]
  },
  {
   "attachments": {},
   "cell_type": "markdown",
   "id": "c6aa9b62",
   "metadata": {
    "editable": true,
    "slideshow": {
     "slide_type": ""
    },
    "tags": []
   },
   "source": [
    "First, lets just examine the output for the simple model that uses only a single predictor:"
   ]
  },
  {
   "cell_type": "code",
   "execution_count": 17,
   "id": "3c11290e",
   "metadata": {
    "editable": true,
    "slideshow": {
     "slide_type": ""
    },
    "tags": []
   },
   "outputs": [
    {
     "data": {
      "text/html": [
       "<div>\n",
       "<style scoped>\n",
       "    .dataframe tbody tr th:only-of-type {\n",
       "        vertical-align: middle;\n",
       "    }\n",
       "\n",
       "    .dataframe tbody tr th {\n",
       "        vertical-align: top;\n",
       "    }\n",
       "\n",
       "    .dataframe thead th {\n",
       "        text-align: right;\n",
       "    }\n",
       "</style>\n",
       "<table border=\"1\" class=\"dataframe\">\n",
       "  <thead>\n",
       "    <tr style=\"text-align: right;\">\n",
       "      <th></th>\n",
       "      <th>names</th>\n",
       "      <th>coef</th>\n",
       "      <th>se</th>\n",
       "      <th>T</th>\n",
       "      <th>pval</th>\n",
       "      <th>r2</th>\n",
       "      <th>adj_r2</th>\n",
       "      <th>CI[2.5%]</th>\n",
       "      <th>CI[97.5%]</th>\n",
       "    </tr>\n",
       "  </thead>\n",
       "  <tbody>\n",
       "    <tr>\n",
       "      <th>0</th>\n",
       "      <td>Intercept</td>\n",
       "      <td>125.96</td>\n",
       "      <td>3.02</td>\n",
       "      <td>41.76</td>\n",
       "      <td>0.0</td>\n",
       "      <td>0.82</td>\n",
       "      <td>0.81</td>\n",
       "      <td>119.97</td>\n",
       "      <td>131.94</td>\n",
       "    </tr>\n",
       "    <tr>\n",
       "      <th>1</th>\n",
       "      <td>dan_sleep</td>\n",
       "      <td>-8.94</td>\n",
       "      <td>0.43</td>\n",
       "      <td>-20.85</td>\n",
       "      <td>0.0</td>\n",
       "      <td>0.82</td>\n",
       "      <td>0.81</td>\n",
       "      <td>-9.79</td>\n",
       "      <td>-8.09</td>\n",
       "    </tr>\n",
       "  </tbody>\n",
       "</table>\n",
       "</div>"
      ],
      "text/plain": [
       "       names    coef    se      T  pval    r2  adj_r2  CI[2.5%]  CI[97.5%]\n",
       "0  Intercept  125.96  3.02  41.76   0.0  0.82    0.81    119.97     131.94\n",
       "1  dan_sleep   -8.94  0.43 -20.85   0.0  0.82    0.81     -9.79      -8.09"
      ]
     },
     "execution_count": 17,
     "metadata": {},
     "output_type": "execute_result"
    }
   ],
   "source": [
    "mod1 = pg.linear_regression(X, Y)\n",
    "mod1.round(2)"
   ]
  },
  {
   "attachments": {},
   "cell_type": "markdown",
   "id": "fe76ae05",
   "metadata": {
    "editable": true,
    "slideshow": {
     "slide_type": ""
    },
    "tags": []
   },
   "source": [
    "In this output, we can see that Python has calculated an intercept of 125.96 and a regression coefficient ($beta$) of -8.94. So for every hour of sleep I get, the model estimates that this will correspond to a decrease in grumpiness of about 9 on my incredibly scientific grumpiness scale. We can use this information to calculate $\\hat{Y}$, that is, the values that the model _predicts_ for the outcome measure, as opposed to $Y$, which are the actual data we observed. So, for each value of the predictor variable X, we multiply that value by the regression coefficient -8.84, and add the intercept 125.97:"
   ]
  },
  {
   "cell_type": "code",
   "execution_count": 18,
   "id": "6f66d0de",
   "metadata": {
    "editable": true,
    "slideshow": {
     "slide_type": ""
    },
    "tags": []
   },
   "outputs": [],
   "source": [
    "\n",
    "Y_pred = -8.94 * X + 125.97"
   ]
  },
  {
   "attachments": {},
   "cell_type": "markdown",
   "id": "654af8d9",
   "metadata": {
    "editable": true,
    "slideshow": {
     "slide_type": ""
    },
    "tags": []
   },
   "source": [
    "Okay, now that we've got a variable which stores the regression model predictions for how grumpy I will be on any given day, let's calculate our sum of squared residuals. We would do that using the following command:"
   ]
  },
  {
   "cell_type": "code",
   "execution_count": 19,
   "id": "bcce8ffe",
   "metadata": {
    "editable": true,
    "slideshow": {
     "slide_type": ""
    },
    "tags": []
   },
   "outputs": [
    {
     "data": {
      "text/plain": [
       "1838.7224883200004"
      ]
     },
     "execution_count": 19,
     "metadata": {},
     "output_type": "execute_result"
    }
   ],
   "source": [
    "SS_resid = sum( (Y - Y_pred)**2 )\n",
    "SS_resid"
   ]
  },
  {
   "attachments": {},
   "cell_type": "markdown",
   "id": "1f8403ba",
   "metadata": {
    "editable": true,
    "slideshow": {
     "slide_type": ""
    },
    "tags": []
   },
   "source": [
    "Wonderful. A big number that doesn't mean very much. Still, let's forge boldly onwards anyway, and calculate the total sum of squares as well. That's also pretty simple:"
   ]
  },
  {
   "cell_type": "code",
   "execution_count": 20,
   "id": "738f942e",
   "metadata": {
    "editable": true,
    "slideshow": {
     "slide_type": ""
    },
    "tags": []
   },
   "outputs": [
    {
     "data": {
      "text/plain": [
       "9998.590000000002"
      ]
     },
     "execution_count": 20,
     "metadata": {},
     "output_type": "execute_result"
    }
   ],
   "source": [
    "import numpy as np\n",
    "SS_tot = sum( (Y - np.mean(Y))**2 )\n",
    "SS_tot"
   ]
  },
  {
   "attachments": {},
   "cell_type": "markdown",
   "id": "a4671c01",
   "metadata": {
    "editable": true,
    "slideshow": {
     "slide_type": ""
    },
    "tags": []
   },
   "source": [
    "\n",
    "Hm. Well, it's a much bigger number than the last one, so this does suggest that our regression model was making good predictions. But it's not very interpretable. \n",
    "\n",
    "Perhaps we can fix this. What we'd like to do is to convert these two fairly meaningless numbers into one number. A nice, interpretable number, which for no particular reason we'll call $R^2$. What we would like is for the value of $R^2$ to be equal to 1 if the regression model makes no errors in predicting the data. In other words, if it turns out that the residual errors are zero, that is, if $\\text{SS}_{res} = 0$, then we expect $R^2 = 1$. Similarly, if the model is completely useless, we would like $R^2$ to be equal to 0. What do I mean by \"useless\"? Tempting as it is demand that the regression model move out of the house, cut its hair and get a real job, I'm probably going to have to pick a more practical definition: in this case, all I mean is that the residual sum of squares is no smaller than the total sum of squares, $\\text{SS}_{res} = \\text{SS}_{tot}$. Wait, why don't we do exactly that? In fact, the formula that provides us with our $R^2$ value is pretty simple to write down,\n",
    "\n",
    "$$\n",
    "R^2 = 1 - \\frac{\\text{SS}_{res}}{\\text{SS}_{tot}}\n",
    "$$"
   ]
  },
  {
   "attachments": {},
   "cell_type": "markdown",
   "id": "cc472da0",
   "metadata": {
    "editable": true,
    "slideshow": {
     "slide_type": ""
    },
    "tags": []
   },
   "source": [
    "and equally simple to calculate in Python:"
   ]
  },
  {
   "cell_type": "code",
   "execution_count": 21,
   "id": "a0ddbf1a",
   "metadata": {
    "editable": true,
    "slideshow": {
     "slide_type": ""
    },
    "tags": []
   },
   "outputs": [
    {
     "data": {
      "text/plain": [
       "0.816101821524835"
      ]
     },
     "execution_count": 21,
     "metadata": {},
     "output_type": "execute_result"
    }
   ],
   "source": [
    "R2 = 1- (SS_resid / SS_tot)\n",
    "R2"
   ]
  },
  {
   "attachments": {},
   "cell_type": "markdown",
   "id": "f83a76ce",
   "metadata": {
    "editable": true,
    "slideshow": {
     "slide_type": ""
    },
    "tags": []
   },
   "source": [
    "The $R^2$ value, sometimes called the **_coefficient of determination_**[^notenever] has a simple interpretation: it is the *proportion* of the variance in the outcome variable that can be accounted for by the predictor. So in this case, the fact that we have obtained $R^2 = .816$ means that the predictor (`my_sleep`) explains 81.6\\% of the variance in the outcome (`my_grump`). \n",
    "\n",
    "Naturally, you don't actually need to type in all these commands yourself if you want to obtain the $R^2$ value for your regression model. And as you have probably already noticed, `pingouin` calculates $R^2$  for us without even being asked to. But there's another property of $R^2$ that I want to point out. \n",
    "\n",
    "[^notenever]: And by \"sometimes\" I mean \"almost never\". In practice everyone just calls it \"$R$-squared\"."
   ]
  },
  {
   "attachments": {},
   "cell_type": "markdown",
   "id": "12c7087b",
   "metadata": {
    "editable": true,
    "slideshow": {
     "slide_type": ""
    },
    "tags": []
   },
   "source": [
    "### The relationship between regression and correlation\n",
    "\n",
    "At this point we can revisit my earlier claim that regression, in this very simple form that I've discussed so far, is basically the same thing as a correlation. Previously, we used the symbol $r$ to denote a Pearson correlation. Might there be some relationship between the value of the correlation coefficient $r$ and the $R^2$ value from linear regression? Of course there is: the squared correlation $r^2$ is identical to the $R^2$ value for a linear regression with only a single predictor. To illustrate this, here's the squared correlation:"
   ]
  },
  {
   "cell_type": "code",
   "execution_count": 22,
   "id": "ce50df54",
   "metadata": {
    "editable": true,
    "slideshow": {
     "slide_type": ""
    },
    "tags": []
   },
   "outputs": [
    {
     "data": {
      "text/plain": [
       "0.8161027191478786"
      ]
     },
     "execution_count": 22,
     "metadata": {},
     "output_type": "execute_result"
    }
   ],
   "source": [
    "r = X.corr(Y)  # calculate the correlation\n",
    "r**2    # print the squared correlation"
   ]
  },
  {
   "attachments": {},
   "cell_type": "markdown",
   "id": "2805acd4",
   "metadata": {
    "editable": true,
    "slideshow": {
     "slide_type": ""
    },
    "tags": []
   },
   "source": [
    "\n",
    "Yep, same number. In other words, running a Pearson correlation is more or less equivalent to running a linear regression model that uses only one predictor variable.\n",
    "\n",
    "### The adjusted $R^2$ value\n",
    "\n",
    "One final thing to point out before moving on. It's quite common for people to report a slightly different measure of model performance, known as \"adjusted $R^2$\". The motivation behind calculating the adjusted $R^2$ value is the observation that adding more predictors into the model will *always* cause the $R^2$ value to increase (or at least not decrease). The adjusted $R^2$ value introduces a slight change to the calculation, as follows. For a regression model with $K$ predictors, fit to a data set containing $N$ observations, the adjusted $R^2$ is:\n",
    "\n",
    "$$\n",
    "\\text{adj. } R^2 = 1 - \\left(\\frac{\\text{SS}_{res}}{\\text{SS}_{tot}} \\times \\frac{N-1}{N-K-1} \\right)\n",
    "$$"
   ]
  },
  {
   "attachments": {},
   "cell_type": "markdown",
   "id": "b1291af5",
   "metadata": {
    "editable": true,
    "slideshow": {
     "slide_type": ""
    },
    "tags": []
   },
   "source": [
    "This adjustment is an attempt to take the degrees of freedom into account. The big advantage of the adjusted $R^2$ value is that when you add more predictors to the model, the adjusted $R^2$ value will only increase if the new variables improve the model performance more than you'd expect by chance. The big disadvantage is that the adjusted $R^2$ value *can't* be interpreted in the elegant way that $R^2$ can. $R^2$ has a simple interpretation as the proportion of variance in the outcome variable that is explained by the regression model; to my knowledge, no equivalent interpretation exists for adjusted $R^2$. \n",
    "\n",
    "An obvious question then, is whether you should report $R^2$ or adjusted $R^2$. This is probably a matter of personal preference. If you care more about interpretability, then $R^2$ is better. If you care more about correcting for bias, then adjusted $R^2$ is probably better. Speaking just for myself, I prefer $R^2$: my feeling is that it's more important to be able to interpret your measure of model performance. Besides, as we'll soon see in the upcoming section on hypothesis tests for regression models, which I am going to link to even though it is [literally the next section in this book](regressiontests), if you're worried that the improvement in $R^2$ that you get by adding a predictor is just due to chance and not because it's a better model, well, we've got hypothesis tests for that. "
   ]
  },
  {
   "attachments": {},
   "cell_type": "markdown",
   "id": "fd5caab6",
   "metadata": {
    "editable": true,
    "slideshow": {
     "slide_type": ""
    },
    "tags": []
   },
   "source": [
    "(regressiontests)=\n",
    "## Hypothesis tests for regression models\n",
    "\n",
    "So far we've talked about what a regression model is, how the coefficients of a regression model are estimated, and how we quantify the performance of the model (the last of these, incidentally, is basically our measure of effect size). The next thing we need to talk about is hypothesis tests. There are two different (but related) kinds of hypothesis tests that we need to talk about: those in which we test whether the regression model as a whole is performing significantly better than a null model; and those in which we test whether a particular regression coefficient is significantly different from zero. \n",
    "\n",
    "At this point, you're probably groaning internally, thinking that I'm going to introduce a whole new collection of tests. You're probably sick of hypothesis tests by now, and don't want to learn any new ones. Me too. I'm so sick of hypothesis tests that I'm going to shamelessly reuse the $F$-test from the [chapter on ANOVAs](anova) and the $t$-test from [the chapter on t-tests](ttest). In fact, all I'm going to do in this section is show you how those tests are imported wholesale into the regression framework.  "
   ]
  },
  {
   "attachments": {},
   "cell_type": "markdown",
   "id": "6c435d23",
   "metadata": {
    "editable": true,
    "slideshow": {
     "slide_type": ""
    },
    "tags": []
   },
   "source": [
    "### Testing the model as a whole\n",
    "\n",
    "Okay, suppose you've estimated your regression model. The first hypothesis test you might want to try is one in which the null hypothesis that there is *no relationship* between the predictors and the outcome, and the alternative hypothesis is that *the data are distributed in exactly the way that the regression model predicts*. Formally, our \"null model\" corresponds to the fairly trivial \"regression\" model in which we include 0 predictors, and only include the intercept term $b_0$\n",
    "\n",
    "$$\n",
    "H_0: Y_i = b_0 + \\epsilon_i\n",
    "$$"
   ]
  },
  {
   "attachments": {},
   "cell_type": "markdown",
   "id": "5c500ec4",
   "metadata": {
    "editable": true,
    "slideshow": {
     "slide_type": ""
    },
    "tags": []
   },
   "source": [
    "If our regression model has $K$ predictors, the \"alternative model\" is described using the usual formula for a multiple regression model:\n",
    "\n",
    "$$\n",
    "H_1: Y_i = \\left( \\sum_{k=1}^K b_{k} X_{ik} \\right) + b_0 + \\epsilon_i\n",
    "$$"
   ]
  },
  {
   "attachments": {},
   "cell_type": "markdown",
   "id": "53f575d7",
   "metadata": {
    "editable": true,
    "slideshow": {
     "slide_type": ""
    },
    "tags": []
   },
   "source": [
    "How can we test these two hypotheses against each other? The trick is to understand that just like we did with ANOVA, it's possible to divide up the total variance $\\text{SS}_{tot}$ into the sum of the residual variance $\\text{SS}_{res}$ and the regression model variance $\\text{SS}_{mod}$. I'll skip over the technicalities, since we covered most of them in the [ANOVA chapter](anova), and just note that:\n",
    "\n",
    "$$\n",
    "\\text{SS}_{mod} = \\text{SS}_{tot} - \\text{SS}_{res}\n",
    "$$"
   ]
  },
  {
   "attachments": {},
   "cell_type": "markdown",
   "id": "e1306fd7",
   "metadata": {
    "editable": true,
    "slideshow": {
     "slide_type": ""
    },
    "tags": []
   },
   "source": [
    "And, just like we did with the ANOVA, we can convert the sums of squares into mean squares by dividing by the degrees of freedom. \n",
    "\n",
    "$$\n",
    "\\begin{array}{rcl}\n",
    "\\text{MS}_{mod} &=& \\displaystyle\\frac{\\text{SS}_{mod} }{df_{mod}} \\\\ \\\\\n",
    "\\text{MS}_{res} &=& \\displaystyle\\frac{\\text{SS}_{res} }{df_{res} }\n",
    "\\end{array}\n",
    "$$"
   ]
  },
  {
   "attachments": {},
   "cell_type": "markdown",
   "id": "db91e296",
   "metadata": {
    "editable": true,
    "slideshow": {
     "slide_type": ""
    },
    "tags": []
   },
   "source": [
    "So, how many degrees of freedom do we have? As you might expect, the $df$ associated with the model is closely tied to the number of predictors that we've included. In fact, it turns out that $df_{mod} = K$. For the residuals, the total degrees of freedom is $df_{res} = N -K - 1$. \n",
    "\n",
    "Now that we've got our mean square values, you're probably going to be entirely unsurprised (possibly even bored) to discover that we can calculate an $F$-statistic like this:\n",
    "\n",
    "$$\n",
    "F =  \\frac{\\text{MS}_{mod}}{\\text{MS}_{res}}\n",
    "$$"
   ]
  },
  {
   "attachments": {},
   "cell_type": "markdown",
   "id": "63692822",
   "metadata": {
    "editable": true,
    "slideshow": {
     "slide_type": ""
    },
    "tags": []
   },
   "source": [
    "and the degrees of freedom associated with this are $K$ and $N-K-1$. This $F$ statistic has exactly the same interpretation as the one we introduced [when learning about ANOVAs](anova). Large $F$ values indicate that the null hypothesis is performing poorly in comparison to the alternative hypothesis."
   ]
  },
  {
   "attachments": {},
   "cell_type": "markdown",
   "id": "9e9a64e9",
   "metadata": {
    "editable": true,
    "slideshow": {
     "slide_type": ""
    },
    "tags": []
   },
   "source": [
    "\"Ok, this is fine\", I hear you say, \"but now show me the easy way! Show me how easy it is to get an $F$ statistic from `pingouin`! `pingouin` makes everything so much easier! Surely `pingouin` does this for me as well?\"\n",
    "\n",
    "Yeah. About that... actually, as of the time of writing (Tuesday the 17th of May, 2022), `pingouin` does _not_ automatically calculate the $F$ statistic for the model for you. This seems like kind of a strange omission to me, since it is pretty normal to report overall $F$ and $p$ values for a model, and `pingouin` seems to be all about making the normal things easy. So, I can only assume this will get added at some point, but for now, sadly, we are left to ourselves on this one. \n",
    "\n",
    "I should mention that there are other statistics packages for Python that will do this for you. [statsmodels](https://www.statsmodels.org/stable/regression.html) comes to mind, for instance. But this is opening a whole new can of worms that I'd rather avoid for now, so instead I provide you with code to calculate the $F$ statistic and $p$-value for the model \"manually\" below:"
   ]
  },
  {
   "cell_type": "code",
   "execution_count": 23,
   "id": "eb455782",
   "metadata": {
    "editable": true,
    "slideshow": {
     "slide_type": ""
    },
    "tags": []
   },
   "outputs": [
    {
     "name": "stdout",
     "output_type": "stream",
     "text": [
      "F= 215.2382865368443 p= 2.1457300163209325e-36\n"
     ]
    }
   ],
   "source": [
    "import numpy as np\n",
    "from scipy import stats as st\n",
    "\n",
    "# your predictor and outcome variables (aka, \"the data\")\n",
    "predictors = df[['dan_sleep', 'baby_sleep']]\n",
    "outcome = df['dan_grump']\n",
    "\n",
    "# model the data, and store the model information in a variable called \"mod\"\n",
    "mod = pg.linear_regression(predictors, outcome)\n",
    "\n",
    "\n",
    "# call the outcome data \"Y\", just for the sake of generalizability\n",
    "Y = outcome\n",
    "\n",
    "# get the model residuals from the model object\n",
    "res = mod.residuals_\n",
    "\n",
    "# calculate the residual, the model, and the total sums of squares\n",
    "SS_res = np.sum(np.square(res))\n",
    "SS_tot = sum( (Y - np.mean(Y))**2 )\n",
    "SS_mod = SS_tot - SS_res\n",
    "\n",
    "# get the degrees of freedom for the model and the residuals\n",
    "df_mod = mod.df_model_\n",
    "df_res = mod.df_resid_\n",
    "\n",
    "# caluculate the mean squares for the model and the residuals\n",
    "MS_mod = SS_mod / df_mod\n",
    "MS_res = SS_res / df_res\n",
    "\n",
    "# calculate the F-statistic\n",
    "F = MS_mod / MS_res\n",
    "\n",
    "# estimate the p-value\n",
    "p = st.f.sf(F, df_mod, df_res)\n",
    "\n",
    "# display the results\n",
    "print(\"F=\",F, \"p=\", p)\n"
   ]
  },
  {
   "attachments": {},
   "cell_type": "markdown",
   "id": "e29bbba8",
   "metadata": {
    "editable": true,
    "slideshow": {
     "slide_type": ""
    },
    "tags": []
   },
   "source": [
    "(ftestfunction)=\n",
    "### An F-test function\n",
    "\n",
    "A more compact way to do this would be to take everything I have done above and put it inside a [function](functions). I've done this below, not least so that I will be able to copy/paste from it myself at some later date. Here is a function called `regression_f` that takes as its arguments a list of predictors, and an outcome variable, and spits out the $F$ and $p$ values."
   ]
  },
  {
   "cell_type": "code",
   "execution_count": 24,
   "id": "387b7ea4",
   "metadata": {
    "editable": true,
    "slideshow": {
     "slide_type": ""
    },
    "tags": []
   },
   "outputs": [],
   "source": [
    "def regression_f(predictors, outcome):\n",
    "    mod = pg.linear_regression(predictors, outcome)\n",
    "    Y = outcome\n",
    "    res = mod.residuals_\n",
    "    SS_res = np.sum(np.square(res))\n",
    "    SS_tot = sum( (Y - np.mean(Y))**2 )\n",
    "    SS_mod = SS_tot - SS_res\n",
    "    df_mod = mod.df_model_\n",
    "    df_res = mod.df_resid_\n",
    "    MS_mod = SS_mod / df_mod\n",
    "    MS_res = SS_res / df_res\n",
    "    F = MS_mod / MS_res\n",
    "    p = st.f.sf(F, df_mod, df_res)\n",
    "    return(F, p)"
   ]
  },
  {
   "attachments": {},
   "cell_type": "markdown",
   "id": "9120a43b",
   "metadata": {
    "editable": true,
    "slideshow": {
     "slide_type": ""
    },
    "tags": []
   },
   "source": [
    "Once we have run the function, all we need to do is plug in our values, and `regression_f` does the rest:"
   ]
  },
  {
   "cell_type": "code",
   "execution_count": 25,
   "id": "50ffea08",
   "metadata": {
    "editable": true,
    "slideshow": {
     "slide_type": ""
    },
    "tags": []
   },
   "outputs": [
    {
     "data": {
      "text/plain": [
       "(215.2382865368443, 2.1457300163209325e-36)"
      ]
     },
     "execution_count": 25,
     "metadata": {},
     "output_type": "execute_result"
    }
   ],
   "source": [
    "predictors = df[['dan_sleep', 'baby_sleep']]\n",
    "outcome = df['dan_grump']\n",
    "\n",
    "regression_f(predictors, outcome)"
   ]
  },
  {
   "attachments": {},
   "cell_type": "markdown",
   "id": "6c23c6a4",
   "metadata": {
    "editable": true,
    "slideshow": {
     "slide_type": ""
    },
    "tags": []
   },
   "source": [
    "### Tests for individual coefficients\n",
    "\n",
    "The $F$-test that we've just introduced is useful for checking that the model as a whole is performing better than chance. This is important: if your regression model doesn't produce a significant result for the $F$-test then you probably don't have a very good regression model (or, quite possibly, you don't have very good data). However, while failing this test is a pretty strong indicator that the model has problems, *passing* the test (i.e., rejecting the null) doesn't imply that the model is good! Why is that, you might be wondering? The answer to that can be found by looking at the coefficients for the multiple linear regression model we calculated earlier:"
   ]
  },
  {
   "cell_type": "code",
   "execution_count": 26,
   "id": "5fc70431",
   "metadata": {
    "editable": true,
    "slideshow": {
     "slide_type": ""
    },
    "tags": []
   },
   "outputs": [
    {
     "data": {
      "text/html": [
       "<div>\n",
       "<style scoped>\n",
       "    .dataframe tbody tr th:only-of-type {\n",
       "        vertical-align: middle;\n",
       "    }\n",
       "\n",
       "    .dataframe tbody tr th {\n",
       "        vertical-align: top;\n",
       "    }\n",
       "\n",
       "    .dataframe thead th {\n",
       "        text-align: right;\n",
       "    }\n",
       "</style>\n",
       "<table border=\"1\" class=\"dataframe\">\n",
       "  <thead>\n",
       "    <tr style=\"text-align: right;\">\n",
       "      <th></th>\n",
       "      <th>names</th>\n",
       "      <th>coef</th>\n",
       "      <th>se</th>\n",
       "      <th>T</th>\n",
       "      <th>pval</th>\n",
       "      <th>r2</th>\n",
       "      <th>adj_r2</th>\n",
       "      <th>CI[2.5%]</th>\n",
       "      <th>CI[97.5%]</th>\n",
       "    </tr>\n",
       "  </thead>\n",
       "  <tbody>\n",
       "    <tr>\n",
       "      <th>0</th>\n",
       "      <td>Intercept</td>\n",
       "      <td>125.97</td>\n",
       "      <td>3.04</td>\n",
       "      <td>41.42</td>\n",
       "      <td>0.00</td>\n",
       "      <td>0.82</td>\n",
       "      <td>0.81</td>\n",
       "      <td>119.93</td>\n",
       "      <td>132.00</td>\n",
       "    </tr>\n",
       "    <tr>\n",
       "      <th>1</th>\n",
       "      <td>dan_sleep</td>\n",
       "      <td>-8.95</td>\n",
       "      <td>0.55</td>\n",
       "      <td>-16.17</td>\n",
       "      <td>0.00</td>\n",
       "      <td>0.82</td>\n",
       "      <td>0.81</td>\n",
       "      <td>-10.05</td>\n",
       "      <td>-7.85</td>\n",
       "    </tr>\n",
       "    <tr>\n",
       "      <th>2</th>\n",
       "      <td>baby_sleep</td>\n",
       "      <td>0.01</td>\n",
       "      <td>0.27</td>\n",
       "      <td>0.04</td>\n",
       "      <td>0.97</td>\n",
       "      <td>0.82</td>\n",
       "      <td>0.81</td>\n",
       "      <td>-0.53</td>\n",
       "      <td>0.55</td>\n",
       "    </tr>\n",
       "  </tbody>\n",
       "</table>\n",
       "</div>"
      ],
      "text/plain": [
       "        names    coef    se      T  pval    r2  adj_r2  CI[2.5%]  CI[97.5%]\n",
       "0   Intercept  125.97  3.04  41.42  0.00  0.82    0.81    119.93     132.00\n",
       "1   dan_sleep   -8.95  0.55 -16.17  0.00  0.82    0.81    -10.05      -7.85\n",
       "2  baby_sleep    0.01  0.27   0.04  0.97  0.82    0.81     -0.53       0.55"
      ]
     },
     "execution_count": 26,
     "metadata": {},
     "output_type": "execute_result"
    }
   ],
   "source": [
    "predictors = df[['dan_sleep', 'baby_sleep']]\n",
    "outcome = df['dan_grump']\n",
    "\n",
    "mod2 = pg.linear_regression(predictors, outcome)\n",
    "mod2.round(2)"
   ]
  },
  {
   "attachments": {},
   "cell_type": "markdown",
   "id": "67c75cc1",
   "metadata": {
    "editable": true,
    "slideshow": {
     "slide_type": ""
    },
    "tags": []
   },
   "source": [
    "\n",
    "I can't help but notice that the estimated regression coefficient for the `baby_sleep` variable is tiny (0.01), relative to the value that we get for `dan_sleep` (-8.95). Given that these two variables are absolutely on the same scale (they're both measured in \"hours slept\"), I find this suspicious. In fact, I'm beginning to suspect that it's really only the amount of sleep that *I* get that matters in order to predict my grumpiness.\n",
    "\n",
    "Once again, we can reuse a hypothesis test that we discussed earlier, this time the $t$-test. The test that we're interested has a null hypothesis that the true regression coefficient is zero ($b = 0$), which is to be tested against the alternative hypothesis that it isn't ($b \\neq 0$). That is:\n",
    "\n",
    "$$\n",
    "\\begin{array}{rl}\n",
    "H_0: & b = 0 \\\\\n",
    "H_1: & b \\neq 0 \n",
    "\\end{array}\n",
    "$$"
   ]
  },
  {
   "attachments": {},
   "cell_type": "markdown",
   "id": "59650808",
   "metadata": {
    "editable": true,
    "slideshow": {
     "slide_type": ""
    },
    "tags": []
   },
   "source": [
    "How can we test this? Well, if the [central limit theorem](clt) is kind to us, we might be able to guess that the sampling distribution of $\\hat{b}$, the estimated regression coefficient, is a normal distribution with mean centred on $b$. What that would mean is that if the null hypothesis were true, then the sampling distribution of $\\hat{b}$ has mean zero and unknown standard deviation. Assuming that we can come up with a good estimate for the [standard error](clt) of the regression coefficient, $\\text{SE}({\\hat{b}})$, then we're in luck. That's *exactly* the situation for which we introduced the one-sample $t$ way back in [the chapter on t-tests](ttest). So let's define a $t$-statistic like this,\n",
    "\n",
    "$$\n",
    "t = \\frac{\\hat{b}}{\\text{SE}({\\hat{b})}}\n",
    "$$"
   ]
  },
  {
   "attachments": {},
   "cell_type": "markdown",
   "id": "829f64ab",
   "metadata": {
    "editable": true,
    "slideshow": {
     "slide_type": ""
    },
    "tags": []
   },
   "source": [
    "I'll skip over the reasons why, but our degrees of freedom in this case are $df = N- K- 1$. Irritatingly, the estimate of the standard error of the regression coefficient, $\\text{SE}({\\hat{b}})$, is not as easy to calculate as the standard error of the mean that we used for the simpler $t$-tests [earlier](ttest). In fact, the formula is somewhat ugly, and not terribly helpful to look at. For our purposes it's sufficient to point out that the standard error of the  estimated regression coefficient depends on both the predictor and outcome variables, and is somewhat sensitive to violations of the homogeneity of variance assumption (discussed shortly). \n",
    "\n",
    "In any case, this $t$-statistic can be interpreted in the same way as the $t$-statistics that we discussed [earlier](ttest). Assuming that you have a two-sided alternative (i.e., you don't really care if $b >0$ or $b < 0$), then it's the extreme values of $t$ (i.e., a lot less than zero or a lot greater than zero) that suggest that you should reject the null hypothesis. "
   ]
  },
  {
   "attachments": {},
   "cell_type": "markdown",
   "id": "3c306575",
   "metadata": {
    "editable": true,
    "slideshow": {
     "slide_type": ""
    },
    "tags": []
   },
   "source": [
    "Now we are in a position to understand all the values in the multiple regression table provided by `pingouin`:"
   ]
  },
  {
   "cell_type": "code",
   "execution_count": 27,
   "id": "782d33f1",
   "metadata": {
    "editable": true,
    "slideshow": {
     "slide_type": ""
    },
    "tags": []
   },
   "outputs": [
    {
     "data": {
      "text/html": [
       "<div>\n",
       "<style scoped>\n",
       "    .dataframe tbody tr th:only-of-type {\n",
       "        vertical-align: middle;\n",
       "    }\n",
       "\n",
       "    .dataframe tbody tr th {\n",
       "        vertical-align: top;\n",
       "    }\n",
       "\n",
       "    .dataframe thead th {\n",
       "        text-align: right;\n",
       "    }\n",
       "</style>\n",
       "<table border=\"1\" class=\"dataframe\">\n",
       "  <thead>\n",
       "    <tr style=\"text-align: right;\">\n",
       "      <th></th>\n",
       "      <th>names</th>\n",
       "      <th>coef</th>\n",
       "      <th>se</th>\n",
       "      <th>T</th>\n",
       "      <th>pval</th>\n",
       "      <th>r2</th>\n",
       "      <th>adj_r2</th>\n",
       "      <th>CI[2.5%]</th>\n",
       "      <th>CI[97.5%]</th>\n",
       "    </tr>\n",
       "  </thead>\n",
       "  <tbody>\n",
       "    <tr>\n",
       "      <th>0</th>\n",
       "      <td>Intercept</td>\n",
       "      <td>125.97</td>\n",
       "      <td>3.04</td>\n",
       "      <td>41.42</td>\n",
       "      <td>0.00</td>\n",
       "      <td>0.82</td>\n",
       "      <td>0.81</td>\n",
       "      <td>119.93</td>\n",
       "      <td>132.00</td>\n",
       "    </tr>\n",
       "    <tr>\n",
       "      <th>1</th>\n",
       "      <td>dan_sleep</td>\n",
       "      <td>-8.95</td>\n",
       "      <td>0.55</td>\n",
       "      <td>-16.17</td>\n",
       "      <td>0.00</td>\n",
       "      <td>0.82</td>\n",
       "      <td>0.81</td>\n",
       "      <td>-10.05</td>\n",
       "      <td>-7.85</td>\n",
       "    </tr>\n",
       "    <tr>\n",
       "      <th>2</th>\n",
       "      <td>baby_sleep</td>\n",
       "      <td>0.01</td>\n",
       "      <td>0.27</td>\n",
       "      <td>0.04</td>\n",
       "      <td>0.97</td>\n",
       "      <td>0.82</td>\n",
       "      <td>0.81</td>\n",
       "      <td>-0.53</td>\n",
       "      <td>0.55</td>\n",
       "    </tr>\n",
       "  </tbody>\n",
       "</table>\n",
       "</div>"
      ],
      "text/plain": [
       "        names    coef    se      T  pval    r2  adj_r2  CI[2.5%]  CI[97.5%]\n",
       "0   Intercept  125.97  3.04  41.42  0.00  0.82    0.81    119.93     132.00\n",
       "1   dan_sleep   -8.95  0.55 -16.17  0.00  0.82    0.81    -10.05      -7.85\n",
       "2  baby_sleep    0.01  0.27   0.04  0.97  0.82    0.81     -0.53       0.55"
      ]
     },
     "execution_count": 27,
     "metadata": {},
     "output_type": "execute_result"
    }
   ],
   "source": [
    "mod2.round(2)"
   ]
  },
  {
   "attachments": {},
   "cell_type": "markdown",
   "id": "21e8af68",
   "metadata": {
    "editable": true,
    "slideshow": {
     "slide_type": ""
    },
    "tags": []
   },
   "source": [
    "Each row in this table refers to one of the coefficients in the regression model. The first row is the intercept term, and the later ones look at each of the predictors. The columns give you all of the relevant information. The `coef` column is the actual estimate of $b$ (e.g., 125.96 for the intercept, -8.9 for the `dan_sleep` predictor, and 0.01 for the `baby_sleep` predictor). The `se` column is the standard error estimate $\\hat\\sigma_b$. The `T` column gives you the $t$-statistic, and it's worth noticing that in this table $t= \\hat{b}/\\text{SE}({\\hat{b}})$ every time. The `pval` column gives you the actual $p$ value for each of these tests.[^notecorrection] The `r2`and àdj_r2` columns give the $R^2$ value and the adjusted $R^2$ for the model, and the last two columns give us the upper and lower [confidence interval](ci) bounds for each estimate.\n",
    "\n",
    "[^notecorrection]: Note that, although `pingouin` has done multiple tests here, it hasn't done a Bonferroni correction or anything. These are standard one-sample $t$-tests with a two-sided alternative. If you want to make corrections for multiple tests, you need to do that yourself."
   ]
  },
  {
   "attachments": {},
   "cell_type": "markdown",
   "id": "ac9e50c0",
   "metadata": {
    "editable": true,
    "slideshow": {
     "slide_type": ""
    },
    "tags": []
   },
   "source": [
    "If we add our [F-test results](ftestfunction) to the mix:"
   ]
  },
  {
   "cell_type": "code",
   "execution_count": 28,
   "id": "1e7e0a09",
   "metadata": {
    "editable": true,
    "slideshow": {
     "slide_type": ""
    },
    "tags": []
   },
   "outputs": [
    {
     "name": "stdout",
     "output_type": "stream",
     "text": [
      "F: 215.24 p: 2.1457300163209325e-36\n"
     ]
    }
   ],
   "source": [
    "f = regression_f(predictors, outcome)\n",
    "print(\"F:\", f[0].round(2), \"p:\", f[1])"
   ]
  },
  {
   "attachments": {},
   "cell_type": "markdown",
   "id": "50523e3b",
   "metadata": {
    "editable": true,
    "slideshow": {
     "slide_type": ""
    },
    "tags": []
   },
   "source": [
    "we have everything we need to evaluate our model. In this case, the model performs significantly better than you'd expect by chance ($F(2,97) = 215.2$, $p<.001$), which isn't all that surprising: the $R^2 = .812$ value indicate that the regression model accounts for 81.2\\% of the variability in the outcome measure. However, when we look back up at the $t$-tests for each of the individual coefficients, we have pretty strong evidence that the `baby_sleep` variable has no significant effect; all the work is being done by the `dan_sleep` variable. Taken together, these results suggest that `mod2` is actually the wrong model for the data: you'd probably be better off dropping the `baby_sleep` predictor entirely. In other words, the `mod1` model that we started with is the better model. "
   ]
  },
  {
   "attachments": {},
   "cell_type": "markdown",
   "id": "cc471f67",
   "metadata": {
    "editable": true,
    "slideshow": {
     "slide_type": ""
    },
    "tags": []
   },
   "source": [
    "(corrhyp)=\n",
    "## Testing the significance of a correlation\n",
    "\n",
    "\n",
    "### Hypothesis tests for a single correlation\n",
    "\n",
    "I don't want to spend too much time on this, but it's worth very briefly returning to the point I made earlier, that Pearson correlations are basically the same thing as linear regressions with only a single predictor added to the model. What this means is that the hypothesis tests that I just described in a regression context can also be applied to correlation coefficients. To see this, let's just revist our `mod1` model:"
   ]
  },
  {
   "cell_type": "code",
   "execution_count": 29,
   "id": "dbac25b8",
   "metadata": {
    "editable": true,
    "slideshow": {
     "slide_type": ""
    },
    "tags": []
   },
   "outputs": [
    {
     "data": {
      "text/html": [
       "<div>\n",
       "<style scoped>\n",
       "    .dataframe tbody tr th:only-of-type {\n",
       "        vertical-align: middle;\n",
       "    }\n",
       "\n",
       "    .dataframe tbody tr th {\n",
       "        vertical-align: top;\n",
       "    }\n",
       "\n",
       "    .dataframe thead th {\n",
       "        text-align: right;\n",
       "    }\n",
       "</style>\n",
       "<table border=\"1\" class=\"dataframe\">\n",
       "  <thead>\n",
       "    <tr style=\"text-align: right;\">\n",
       "      <th></th>\n",
       "      <th>names</th>\n",
       "      <th>coef</th>\n",
       "      <th>se</th>\n",
       "      <th>T</th>\n",
       "      <th>pval</th>\n",
       "      <th>r2</th>\n",
       "      <th>adj_r2</th>\n",
       "      <th>CI[2.5%]</th>\n",
       "      <th>CI[97.5%]</th>\n",
       "    </tr>\n",
       "  </thead>\n",
       "  <tbody>\n",
       "    <tr>\n",
       "      <th>0</th>\n",
       "      <td>Intercept</td>\n",
       "      <td>125.96</td>\n",
       "      <td>3.02</td>\n",
       "      <td>41.76</td>\n",
       "      <td>0.0</td>\n",
       "      <td>0.82</td>\n",
       "      <td>0.81</td>\n",
       "      <td>119.97</td>\n",
       "      <td>131.94</td>\n",
       "    </tr>\n",
       "    <tr>\n",
       "      <th>1</th>\n",
       "      <td>dan_sleep</td>\n",
       "      <td>-8.94</td>\n",
       "      <td>0.43</td>\n",
       "      <td>-20.85</td>\n",
       "      <td>0.0</td>\n",
       "      <td>0.82</td>\n",
       "      <td>0.81</td>\n",
       "      <td>-9.79</td>\n",
       "      <td>-8.09</td>\n",
       "    </tr>\n",
       "  </tbody>\n",
       "</table>\n",
       "</div>"
      ],
      "text/plain": [
       "       names    coef    se      T  pval    r2  adj_r2  CI[2.5%]  CI[97.5%]\n",
       "0  Intercept  125.96  3.02  41.76   0.0  0.82    0.81    119.97     131.94\n",
       "1  dan_sleep   -8.94  0.43 -20.85   0.0  0.82    0.81     -9.79      -8.09"
      ]
     },
     "execution_count": 29,
     "metadata": {},
     "output_type": "execute_result"
    }
   ],
   "source": [
    "X = df['dan_sleep'] # the predictor\n",
    "Y = df['dan_grump'] # the outcome\n",
    "mod1 = pg.linear_regression(X, Y)\n",
    "mod1.round(2)"
   ]
  },
  {
   "attachments": {},
   "cell_type": "markdown",
   "id": "e0987de1",
   "metadata": {
    "editable": true,
    "slideshow": {
     "slide_type": ""
    },
    "tags": []
   },
   "source": [
    "The important thing to note here is the $t$ test associated with the predictor, in which we get a result of $t(98) = -20.85$, $p<.001$. Now let's compare this to the output of the `corr` function from `pinguoin`, which runs a hypothesis test to see if the observed correlation between two variables is significantly different from 0. "
   ]
  },
  {
   "cell_type": "code",
   "execution_count": 30,
   "id": "77497fa4",
   "metadata": {
    "editable": true,
    "slideshow": {
     "slide_type": ""
    },
    "tags": []
   },
   "outputs": [
    {
     "data": {
      "text/html": [
       "<div>\n",
       "<style scoped>\n",
       "    .dataframe tbody tr th:only-of-type {\n",
       "        vertical-align: middle;\n",
       "    }\n",
       "\n",
       "    .dataframe tbody tr th {\n",
       "        vertical-align: top;\n",
       "    }\n",
       "\n",
       "    .dataframe thead th {\n",
       "        text-align: right;\n",
       "    }\n",
       "</style>\n",
       "<table border=\"1\" class=\"dataframe\">\n",
       "  <thead>\n",
       "    <tr style=\"text-align: right;\">\n",
       "      <th></th>\n",
       "      <th>n</th>\n",
       "      <th>r</th>\n",
       "      <th>CI95%</th>\n",
       "      <th>p-val</th>\n",
       "      <th>BF10</th>\n",
       "      <th>power</th>\n",
       "    </tr>\n",
       "  </thead>\n",
       "  <tbody>\n",
       "    <tr>\n",
       "      <th>pearson</th>\n",
       "      <td>100</td>\n",
       "      <td>-0.903384</td>\n",
       "      <td>[-0.93, -0.86]</td>\n",
       "      <td>8.176426e-38</td>\n",
       "      <td>2.591e+34</td>\n",
       "      <td>1.0</td>\n",
       "    </tr>\n",
       "  </tbody>\n",
       "</table>\n",
       "</div>"
      ],
      "text/plain": [
       "           n         r           CI95%         p-val       BF10  power\n",
       "pearson  100 -0.903384  [-0.93, -0.86]  8.176426e-38  2.591e+34    1.0"
      ]
     },
     "execution_count": 30,
     "metadata": {},
     "output_type": "execute_result"
    }
   ],
   "source": [
    "pg.corr(X,Y)"
   ]
  },
  {
   "attachments": {},
   "cell_type": "markdown",
   "id": "466ae212",
   "metadata": {
    "editable": true,
    "slideshow": {
     "slide_type": ""
    },
    "tags": []
   },
   "source": [
    "Now, just like the $F$-test from earlier, `pingouin` unfortunately doesn't calculate a $t$-statistic for us automatically when running a correlation. But the formula for the $t$-statistic of a Pearson correlation is just\n",
    "\n",
    "\n",
    "$$\n",
    "t = r\\sqrt{\\frac{n-2}{1-r^2}}\n",
    "$$\n",
    "\n",
    "so, with the output from `pg.corr(X,Y)` above, it's not too difficult to find $t$:"
   ]
  },
  {
   "cell_type": "code",
   "execution_count": 31,
   "id": "d4567e48",
   "metadata": {
    "editable": true,
    "slideshow": {
     "slide_type": ""
    },
    "tags": []
   },
   "outputs": [
    {
     "data": {
      "text/plain": [
       "-20.85439996017091"
      ]
     },
     "execution_count": 31,
     "metadata": {},
     "output_type": "execute_result"
    }
   ],
   "source": [
    "from math import sqrt\n",
    "\n",
    "t = -0.903384*sqrt((100-2) / (1-(-0.903384)**2))\n",
    "t"
   ]
  },
  {
   "attachments": {},
   "cell_type": "markdown",
   "id": "cd2e26bc",
   "metadata": {
    "editable": true,
    "slideshow": {
     "slide_type": ""
    },
    "tags": []
   },
   "source": [
    "Look familiar? -20.85 was the same $t$-value that we got when we ran the regression model. That's because the test for the significance of a correlation is identical to the $t$ test that we run on a coefficient in a regression model. "
   ]
  },
  {
   "attachments": {},
   "cell_type": "markdown",
   "id": "319fae53",
   "metadata": {
    "editable": true,
    "slideshow": {
     "slide_type": ""
    },
    "tags": []
   },
   "source": [
    "(corrhyp2)=\n",
    "### Hypothesis tests for all pairwise correlations\n",
    "\n",
    "Okay, one more digression before I return to regression properly. In the previous section I talked about you can run a hypothesis test on a single correlation. But we aren't restricted to computing a single correlation: you can compute *all* pairwise correlations among the variables in your data set. This leads people to the natural question: can we also run hypothesis tests on all of the pairwise correlations in our data using `pg.corr`?\n",
    "\n",
    "The answer is no, and there's a very good reason for this. Testing a single correlation is fine: if you've got some reason to be asking \"is A related to B?\", then you should absolutely run a test to see if there's a significant correlation. But if you've got variables A, B, C, D and E and you're thinking about testing the correlations among all possible pairs of these, a statistician would want to ask: what's your hypothesis? If you're in the position of wanting to test all possible pairs of variables, then you're pretty clearly on a fishing expedition, hunting around in search of significant effects when you don't actually have a clear research hypothesis in mind. This is *dangerous*, and perhaps the authors of the `corr` function didn't want to endorse this sort of behavior. `corr` does have the nice feature that you can call it as an attribute of your dataframe, so for our parenthood data, if we want to see all the parwise correlations in the data, you can simply write"
   ]
  },
  {
   "cell_type": "code",
   "execution_count": 32,
   "id": "03a9c5b8",
   "metadata": {
    "editable": true,
    "slideshow": {
     "slide_type": ""
    },
    "tags": []
   },
   "outputs": [
    {
     "data": {
      "text/html": [
       "<div>\n",
       "<style scoped>\n",
       "    .dataframe tbody tr th:only-of-type {\n",
       "        vertical-align: middle;\n",
       "    }\n",
       "\n",
       "    .dataframe tbody tr th {\n",
       "        vertical-align: top;\n",
       "    }\n",
       "\n",
       "    .dataframe thead th {\n",
       "        text-align: right;\n",
       "    }\n",
       "</style>\n",
       "<table border=\"1\" class=\"dataframe\">\n",
       "  <thead>\n",
       "    <tr style=\"text-align: right;\">\n",
       "      <th></th>\n",
       "      <th>dan_sleep</th>\n",
       "      <th>baby_sleep</th>\n",
       "      <th>dan_grump</th>\n",
       "      <th>day</th>\n",
       "    </tr>\n",
       "  </thead>\n",
       "  <tbody>\n",
       "    <tr>\n",
       "      <th>dan_sleep</th>\n",
       "      <td>1.000000</td>\n",
       "      <td>0.627949</td>\n",
       "      <td>-0.903384</td>\n",
       "      <td>-0.098408</td>\n",
       "    </tr>\n",
       "    <tr>\n",
       "      <th>baby_sleep</th>\n",
       "      <td>0.627949</td>\n",
       "      <td>1.000000</td>\n",
       "      <td>-0.565964</td>\n",
       "      <td>-0.010434</td>\n",
       "    </tr>\n",
       "    <tr>\n",
       "      <th>dan_grump</th>\n",
       "      <td>-0.903384</td>\n",
       "      <td>-0.565964</td>\n",
       "      <td>1.000000</td>\n",
       "      <td>0.076479</td>\n",
       "    </tr>\n",
       "    <tr>\n",
       "      <th>day</th>\n",
       "      <td>-0.098408</td>\n",
       "      <td>-0.010434</td>\n",
       "      <td>0.076479</td>\n",
       "      <td>1.000000</td>\n",
       "    </tr>\n",
       "  </tbody>\n",
       "</table>\n",
       "</div>"
      ],
      "text/plain": [
       "            dan_sleep  baby_sleep  dan_grump       day\n",
       "dan_sleep    1.000000    0.627949  -0.903384 -0.098408\n",
       "baby_sleep   0.627949    1.000000  -0.565964 -0.010434\n",
       "dan_grump   -0.903384   -0.565964   1.000000  0.076479\n",
       "day         -0.098408   -0.010434   0.076479  1.000000"
      ]
     },
     "execution_count": 32,
     "metadata": {},
     "output_type": "execute_result"
    }
   ],
   "source": [
    "df.corr()"
   ]
  },
  {
   "attachments": {},
   "cell_type": "markdown",
   "id": "06550355",
   "metadata": {
    "editable": true,
    "slideshow": {
     "slide_type": ""
    },
    "tags": []
   },
   "source": [
    "and you get a nice correlation matrix, but no p-values.\n",
    "\n",
    "On the other hand... a somewhat less hardline view might be to argue we've encountered this situation before, back when we talked about *post hoc tests* in ANOVA. When running post hoc tests, we didn't have any specific comparisons in mind, so what we did was apply a correction (e.g., Bonferroni, Holm, etc) in order to avoid the possibility of an inflated Type I error rate. From this perspective, it's okay to run hypothesis tests on all your pairwise correlations, but you must treat them as post hoc analyses, and if so you need to apply a correction for multiple comparisons. `rcorr`, also from `pingouin`, lets you do this. You can use the `padjust` argument to specify what kind of correction you would like to apply; here I have chosen a Bonferroni correction:"
   ]
  },
  {
   "cell_type": "code",
   "execution_count": 33,
   "id": "c1d4b47d",
   "metadata": {
    "editable": true,
    "slideshow": {
     "slide_type": ""
    },
    "tags": []
   },
   "outputs": [
    {
     "data": {
      "text/html": [
       "<div>\n",
       "<style scoped>\n",
       "    .dataframe tbody tr th:only-of-type {\n",
       "        vertical-align: middle;\n",
       "    }\n",
       "\n",
       "    .dataframe tbody tr th {\n",
       "        vertical-align: top;\n",
       "    }\n",
       "\n",
       "    .dataframe thead th {\n",
       "        text-align: right;\n",
       "    }\n",
       "</style>\n",
       "<table border=\"1\" class=\"dataframe\">\n",
       "  <thead>\n",
       "    <tr style=\"text-align: right;\">\n",
       "      <th></th>\n",
       "      <th>dan_sleep</th>\n",
       "      <th>baby_sleep</th>\n",
       "      <th>dan_grump</th>\n",
       "      <th>day</th>\n",
       "    </tr>\n",
       "  </thead>\n",
       "  <tbody>\n",
       "    <tr>\n",
       "      <th>dan_sleep</th>\n",
       "      <td>-</td>\n",
       "      <td>***</td>\n",
       "      <td>***</td>\n",
       "      <td></td>\n",
       "    </tr>\n",
       "    <tr>\n",
       "      <th>baby_sleep</th>\n",
       "      <td>0.628</td>\n",
       "      <td>-</td>\n",
       "      <td>***</td>\n",
       "      <td></td>\n",
       "    </tr>\n",
       "    <tr>\n",
       "      <th>dan_grump</th>\n",
       "      <td>-0.903</td>\n",
       "      <td>-0.566</td>\n",
       "      <td>-</td>\n",
       "      <td></td>\n",
       "    </tr>\n",
       "    <tr>\n",
       "      <th>day</th>\n",
       "      <td>-0.098</td>\n",
       "      <td>-0.01</td>\n",
       "      <td>0.076</td>\n",
       "      <td>-</td>\n",
       "    </tr>\n",
       "  </tbody>\n",
       "</table>\n",
       "</div>"
      ],
      "text/plain": [
       "           dan_sleep baby_sleep dan_grump day\n",
       "dan_sleep          -        ***       ***    \n",
       "baby_sleep     0.628          -       ***    \n",
       "dan_grump     -0.903     -0.566         -    \n",
       "day           -0.098      -0.01     0.076   -"
      ]
     },
     "execution_count": 33,
     "metadata": {},
     "output_type": "execute_result"
    }
   ],
   "source": [
    "df.rcorr(padjust = 'bonf')"
   ]
  },
  {
   "attachments": {},
   "cell_type": "markdown",
   "id": "7e7bcec5",
   "metadata": {
    "editable": true,
    "slideshow": {
     "slide_type": ""
    },
    "tags": []
   },
   "source": [
    "The little stars indicate the \"significance level\": one star for $p<0.05$, two stars for $p<0.01$, and three stars for $p<0.001$.\n",
    "\n",
    "So there you have it. If you really desperately want to do pairwise hypothesis tests on your correlations, the `rcorr` function will let you do it. But please, **please** be careful. I can't count the number of times I've had a student panicking in my office because they've run these pairwise correlation tests, and they get one or two significant results that don't make any sense. For some reason, the moment people see those little significance stars appear, they feel compelled to throw away all common sense and assume that the results must correspond to something real that requires an explanation. In most such cases, my experience has been that the right answer is \"it's a Type I error\". Remember when we talked about the [family-wise error rate](fwer)? The more tests you do on the same data, the greater your chances of finding statistically significant results just by, uh, chance."
   ]
  },
  {
   "attachments": {},
   "cell_type": "markdown",
   "id": "1329623c",
   "metadata": {
    "editable": true,
    "slideshow": {
     "slide_type": ""
    },
    "tags": []
   },
   "source": [
    "(regressioncoefs)=\n",
    "### Calculating standardised regression coefficients\n",
    "\n",
    "One more thing that you might want to do is to calculate \"standardised\" regression coefficients, often denoted $\\beta$. The rationale behind standardised coefficients goes like this. In a lot of situations, your variables are on fundamentally different scales. Suppose, for example, my regression model aims to predict people's IQ scores, using their educational attainment (number of years of education) and their income as predictors. Obviously, educational attainment and income are not on the same scales: the number of years of schooling can only vary by 10s of years, whereas income would vary by 10,000s of dollars (or more). The units of measurement have a big influence on the regression coefficients: the $b$ coefficients only make sense when interpreted in light of the units, both of the predictor variables and the outcome variable. This makes it very difficult to compare the coefficients of different predictors. Yet there are situations where you really do want to make comparisons between different coefficients. Specifically, you might want some kind of standard measure of which predictors have the strongest relationship to the outcome. This is what **_standardised coefficients_** aim to do. "
   ]
  },
  {
   "attachments": {},
   "cell_type": "markdown",
   "id": "ccd35c64",
   "metadata": {
    "editable": true,
    "slideshow": {
     "slide_type": ""
    },
    "tags": []
   },
   "source": [
    "The basic idea is quite simple: the standardised coefficients are the coefficients that you would have obtained if you'd converted all the variables to [standard scores](zscores) $z$-scores before running the regression.[^noteregressors]  The idea here is that, by converting all the predictors to $z$-scores, they all go into the regression on the same scale, thereby removing the problem of having variables on different scales. Regardless of what the original variables were, a $\\beta$ value of 1 means that an increase in the predictor of 1 standard deviation will produce a corresponding 1 standard deviation increase in the outcome variable. Therefore, if variable A has a larger absolute value of $\\beta$ than variable B, it is deemed to have a stronger relationship with the outcome. Or at least that's the idea: it's worth being a little cautious here, since this does rely very heavily on the assumption that \"a 1 standard deviation change\" is fundamentally the same kind of thing for all variables. It's not always obvious that this is true. \n",
    "\n",
    "[^noteregressors]: Strictly, you standardise all the *regressors*: that is, every \"thing\" that has a regression coefficient associated with it in the model. For the regression models that I've talked about so far, each predictor variable maps onto exactly one regressor, and vice versa. However, that's not actually true in general: we'll see some examples of this when we learn about [factorial ANOVA](anova2). But for now, we don't need to care too much about this distinction."
   ]
  },
  {
   "attachments": {},
   "cell_type": "markdown",
   "id": "229e5c52",
   "metadata": {
    "editable": true,
    "slideshow": {
     "slide_type": ""
    },
    "tags": []
   },
   "source": [
    "Still, let's give it a try on the `parenthood` data.\n",
    "\n"
   ]
  },
  {
   "cell_type": "code",
   "execution_count": 34,
   "id": "82d6568e",
   "metadata": {
    "editable": true,
    "slideshow": {
     "slide_type": ""
    },
    "tags": []
   },
   "outputs": [
    {
     "data": {
      "text/html": [
       "<div>\n",
       "<style scoped>\n",
       "    .dataframe tbody tr th:only-of-type {\n",
       "        vertical-align: middle;\n",
       "    }\n",
       "\n",
       "    .dataframe tbody tr th {\n",
       "        vertical-align: top;\n",
       "    }\n",
       "\n",
       "    .dataframe thead th {\n",
       "        text-align: right;\n",
       "    }\n",
       "</style>\n",
       "<table border=\"1\" class=\"dataframe\">\n",
       "  <thead>\n",
       "    <tr style=\"text-align: right;\">\n",
       "      <th></th>\n",
       "      <th>names</th>\n",
       "      <th>coef</th>\n",
       "      <th>se</th>\n",
       "      <th>T</th>\n",
       "      <th>pval</th>\n",
       "      <th>r2</th>\n",
       "      <th>adj_r2</th>\n",
       "      <th>CI[2.5%]</th>\n",
       "      <th>CI[97.5%]</th>\n",
       "    </tr>\n",
       "  </thead>\n",
       "  <tbody>\n",
       "    <tr>\n",
       "      <th>0</th>\n",
       "      <td>Intercept</td>\n",
       "      <td>-0.0000</td>\n",
       "      <td>0.0435</td>\n",
       "      <td>-0.0000</td>\n",
       "      <td>1.0000</td>\n",
       "      <td>0.8161</td>\n",
       "      <td>0.8123</td>\n",
       "      <td>-0.0864</td>\n",
       "      <td>0.0864</td>\n",
       "    </tr>\n",
       "    <tr>\n",
       "      <th>1</th>\n",
       "      <td>dan_sleep_standard</td>\n",
       "      <td>-0.9047</td>\n",
       "      <td>0.0559</td>\n",
       "      <td>-16.1715</td>\n",
       "      <td>0.0000</td>\n",
       "      <td>0.8161</td>\n",
       "      <td>0.8123</td>\n",
       "      <td>-1.0158</td>\n",
       "      <td>-0.7937</td>\n",
       "    </tr>\n",
       "    <tr>\n",
       "      <th>2</th>\n",
       "      <td>baby_sleep_standard</td>\n",
       "      <td>0.0022</td>\n",
       "      <td>0.0559</td>\n",
       "      <td>0.0388</td>\n",
       "      <td>0.9691</td>\n",
       "      <td>0.8161</td>\n",
       "      <td>0.8123</td>\n",
       "      <td>-0.1089</td>\n",
       "      <td>0.1132</td>\n",
       "    </tr>\n",
       "  </tbody>\n",
       "</table>\n",
       "</div>"
      ],
      "text/plain": [
       "                 names    coef      se        T    pval      r2  adj_r2  \\\n",
       "0            Intercept -0.0000  0.0435  -0.0000  1.0000  0.8161  0.8123   \n",
       "1   dan_sleep_standard -0.9047  0.0559 -16.1715  0.0000  0.8161  0.8123   \n",
       "2  baby_sleep_standard  0.0022  0.0559   0.0388  0.9691  0.8161  0.8123   \n",
       "\n",
       "   CI[2.5%]  CI[97.5%]  \n",
       "0   -0.0864     0.0864  \n",
       "1   -1.0158    -0.7937  \n",
       "2   -0.1089     0.1132  "
      ]
     },
     "execution_count": 34,
     "metadata": {},
     "output_type": "execute_result"
    }
   ],
   "source": [
    "from scipy import stats\n",
    "import pingouin as pg\n",
    "\n",
    "df['dan_sleep_standard'] = stats.zscore(df['dan_sleep'])\n",
    "df['baby_sleep_standard'] = stats.zscore(df['baby_sleep'])\n",
    "df['dan_grump'] = stats.zscore(df['dan_grump'])\n",
    "\n",
    "\n",
    "predictors = df[['dan_sleep_standard', 'baby_sleep_standard']]\n",
    "outcome = df['dan_grump']\n",
    "\n",
    "mod3 = pg.linear_regression(predictors, outcome)\n",
    "mod3.round(4)\n"
   ]
  },
  {
   "attachments": {},
   "cell_type": "markdown",
   "id": "63cc2cde",
   "metadata": {
    "editable": true,
    "slideshow": {
     "slide_type": ""
    },
    "tags": []
   },
   "source": [
    "This clearly shows that the `dan_sleep` variable has a much stronger effect than the `baby_sleep` variable. However, this is a perfect example of a situation where it would probably make sense to use the original coefficients $b$ rather than the standardised coefficients $\\beta$. After all, my sleep and the baby's sleep are *already* on the same scale: number of hours slept. Why complicate matters by converting these to $z$-scores?"
   ]
  },
  {
   "attachments": {},
   "cell_type": "markdown",
   "id": "ab779f4e",
   "metadata": {
    "editable": true,
    "slideshow": {
     "slide_type": ""
    },
    "tags": []
   },
   "source": [
    "(regressionassumptions)=\n",
    "\n",
    "## Assumptions of regression\n",
    "\n",
    "The linear regression model that I've been discussing relies on several assumptions. In the section on [regression diagnostics](regressiondiagnostics) we'll talk a lot more about how to check that these assumptions are being met, but first, let's have a look at each of them.\n",
    "\n",
    "\n",
    "- *Normality*. Like half the models in statistics, standard linear regression relies on an assumption of normality. Specifically, it assumes that the *residuals* are normally distributed. It's actually okay if the predictors $X$ and the outcome $Y$ are non-normal, so long as the residuals $\\epsilon$ are normal. See [](regressionnormality).\n",
    "- *Linearity*. A pretty fundamental assumption of the linear regression model is that relationship between $X$ and $Y$ actually be linear! Regardless of whether it's a simple regression or a multiple regression, we assume that the relatiships involved are linear. See [](regressionlinearity).\n",
    "- *Homogeneity of variance*. Strictly speaking, the regression model assumes that each residual $\\epsilon_i$ is generated from a normal distribution with mean 0, and (more importantly for the current purposes) with a standard deviation $\\sigma$ that is the same for every single residual. In practice, it's impossible to test the assumption that every residual is identically distributed. Instead, what we care about is that the standard deviation of the residual is the same for all values of $\\hat{Y}$, and (if we're being especially paranoid) all values of every predictor $X$ in the model. See [](regressionhomogeneity).\n",
    "- *Uncorrelated predictors*. The idea here is that, is a multiple regression model, you don't want your predictors to be too strongly correlated with each other. This isn't  \"technically\" an assumption of the regression model, but in practice it's required. Predictors that are too strongly correlated with each other (referred to as \"collinearity\") can cause problems when evaluating the model. See [](regressioncollinearity)\n",
    "- *Residuals are independent of each other*. This is really just a \"catch all\" assumption, to the effect that \"there's nothing else funny going on in the residuals\". If there is something weird (e.g., the residuals all depend heavily on some other unmeasured variable) going on, it might screw things up.\n",
    "- *No \"bad\" outliers*. Again, not actually a technical assumption of the model (or rather, it's sort of implied by all the others), but there is an implicit assumption that your regression model isn't being too strongly influenced by one or two anomalous data points; since this raises questions about the adequacy of the model, and the trustworthiness of the data in some cases. See [](regressionoutliers).\n",
    "\n"
   ]
  },
  {
   "attachments": {},
   "cell_type": "markdown",
   "id": "00528a88",
   "metadata": {
    "editable": true,
    "slideshow": {
     "slide_type": ""
    },
    "tags": []
   },
   "source": [
    "(regressiondiagnostics)=\n",
    "## Model checking\n",
    "\n",
    "The main focus of this section is **_regression diagnostics_**, a term that refers to the art of checking that the assumptions of your regression model have been met, figuring out how to fix the model if the assumptions are violated, and generally to check that nothing \"funny\" is going on. I refer to this as the \"art\" of model checking with good reason: it's not easy, and while there are a lot of fairly standardised tools that you can use to diagnose and maybe even cure the problems that ail your model (if there are any, that is!), you really do need to exercise a certain amount of judgment when doing this. It's easy to get lost in all the details of checking this thing or that thing, and it's quite exhausting to try to remember what all the different things are. This has the very nasty side effect that a lot of people get frustrated when trying to learn *all* the tools, so instead they decide not to do *any* model checking. This is a bit of a worry! \n",
    "\n",
    "In this section, I describe several different things you can do to check that your regression model is doing what it's supposed to. It doesn't cover the full range of things you could do, but it's still much more detailed than what I see a lot of people doing in practice; and I don't usually cover all of this in my intro stats class myself. However, I do think it's important that you get a sense of what tools are at your disposal, so I'll try to introduce a bunch of them here. \n",
    "\n",
    "\n",
    "### Three kinds of residuals\n",
    "\n",
    "The majority of regression diagnostics revolve around looking at the residuals, and by now you've probably formed a sufficiently pessimistic theory of statistics to be able to guess that -- precisely *because* of the fact that we care a lot about the residuals -- there are several different kinds of  residual that we might consider. In particular, the following three kinds of residual are referred to in this section: \"ordinary residuals\", \"standardised residuals\", and \"Studentised residuals\". There is a fourth kind that you'll see referred to in some of the figures, and that's the \"Pearson residual\": however, for the models that we're talking about in this chapter, the Pearson residual is identical to the ordinary residual. \n",
    "\n",
    "The first and simplest kind of residuals that we care about are **_ordinary residuals_**. These are the actual, raw residuals that I've been talking about throughout this chapter. The ordinary residual is just the difference between the fitted value $\\hat{Y}_i$ and the observed value $Y_i$. I've been using the notation $\\epsilon_i$ to refer to the $i$-th ordinary residual, and by gum I'm going to stick to it. With this in mind, we have the very simple equation\n",
    "\n",
    "$$\n",
    "\\epsilon_i = Y_i - \\hat{Y}_i\n",
    "$$"
   ]
  },
  {
   "attachments": {},
   "cell_type": "markdown",
   "id": "42eb1e52",
   "metadata": {
    "editable": true,
    "slideshow": {
     "slide_type": ""
    },
    "tags": []
   },
   "source": [
    "This is of course what we saw earlier, and unless I specifically refer to some other kind of residual, this is the one I'm talking about. So there's nothing new here: I just wanted to repeat myself. In any case, if you have run your regression model using `pingouin`, you can access the residuals from your model (in our case, our `mod2`)like this:"
   ]
  },
  {
   "cell_type": "code",
   "execution_count": 35,
   "id": "3742285c",
   "metadata": {
    "editable": true,
    "slideshow": {
     "slide_type": ""
    },
    "tags": []
   },
   "outputs": [],
   "source": [
    "res = mod2.residuals_"
   ]
  },
  {
   "attachments": {},
   "cell_type": "markdown",
   "id": "7a19efa9",
   "metadata": {
    "editable": true,
    "slideshow": {
     "slide_type": ""
    },
    "tags": []
   },
   "source": [
    "One drawback to using ordinary residuals is that they're always on a different scale, depending on what the outcome variable is and how good the regression model is. That is, unless you've decided to run a regression model without an intercept term, the ordinary residuals will have mean 0; but the variance is different for every regression. In a lot of contexts, especially where you're only interested in the *pattern* of the residuals and not their actual values, it's convenient to estimate the **_standardised residuals_**, which are normalised in such a way as to have standard deviation 1. The way we calculate these is to divide the ordinary residual by an estimate of the (population) standard deviation of these residuals. For technical reasons, mumble mumble, the formula for this is:\n",
    "\n",
    "$$\n",
    "\\epsilon_{i}^\\prime = \\frac{\\epsilon_i}{\\hat{\\sigma} \\sqrt{1-h_i}}\n",
    "$$"
   ]
  },
  {
   "attachments": {},
   "cell_type": "markdown",
   "id": "efea5e30",
   "metadata": {
    "editable": true,
    "slideshow": {
     "slide_type": ""
    },
    "tags": []
   },
   "source": [
    "where $\\hat\\sigma$ in this context is the estimated population standard deviation of the ordinary residuals, and $h_i$ is the \"hat value\" of the $i$th observation. I haven't explained hat values to you yet (but have no fear,[^notehope] it's coming shortly), so this won't make a lot of sense. For now, it's enough to interpret the standardised residuals as if we'd converted the ordinary residuals to $z$-scores. In fact, that is more or less the truth, it's just that we're being a bit fancier. Now, unfortunately, `pingouin` does not provide standardized residuals, so if we want to inspect these, the best option is probably `statsmodels`:\n",
    "\n",
    "[^notehope]: Or have no hope, as the case may be."
   ]
  },
  {
   "cell_type": "code",
   "execution_count": 36,
   "id": "930915eb",
   "metadata": {
    "editable": true,
    "slideshow": {
     "slide_type": ""
    },
    "tags": []
   },
   "outputs": [],
   "source": [
    "import statsmodels.api as sm\n",
    "\n",
    "predictors = df[['dan_sleep', 'baby_sleep']]\n",
    "outcome = df['dan_grump']\n",
    "\n",
    "## fit regression model\n",
    "predictors = sm.add_constant(predictors)\n",
    "mod = sm.OLS(outcome, predictors)\n",
    "est = mod.fit()\n",
    "\n",
    "#obtain standardized residuals\n",
    "influence = est.get_influence()\n",
    "res_standard = influence.resid_studentized_internal\n"
   ]
  },
  {
   "attachments": {},
   "cell_type": "markdown",
   "id": "d8724979",
   "metadata": {
    "editable": true,
    "slideshow": {
     "slide_type": ""
    },
    "tags": []
   },
   "source": [
    "\n",
    "The third kind of residuals are **_Studentised residuals_** (also called \"jackknifed residuals\") and they're even fancier than standardised residuals. Again, the idea is to take the ordinary residual and divide it by some quantity in order to estimate some standardised notion of the residual, but the formula for doing the calculations this time is subtly different:\n",
    "\n",
    "$$\n",
    "\\epsilon_{i}^* = \\frac{\\epsilon_i}{\\hat{\\sigma}_{(-i)} \\sqrt{1-h_i}}\n",
    "$$"
   ]
  },
  {
   "attachments": {},
   "cell_type": "markdown",
   "id": "cb00bfc5",
   "metadata": {
    "editable": true,
    "slideshow": {
     "slide_type": ""
    },
    "tags": []
   },
   "source": [
    "Notice that our estimate of the standard deviation here is written $\\hat{\\sigma}_{(-i)}$. What this corresponds to is the estimate of the residual standard deviation that you *would have obtained*, if you just deleted the $i$th observation from the data set. This sounds like the sort of thing that would be a nightmare to calculate, since it seems to be saying that you have to run $N$ new regression models (even a modern computer might grumble a bit at that, especially if you've got a large data set). Fortunately, some terribly clever person has shown that this standard deviation estimate is actually given by the following equation:\n",
    "\n",
    "$$\n",
    "\\hat\\sigma_{(-i)} = \\hat{\\sigma} \\ \\sqrt{\\frac{N-K-1 - {\\epsilon_{i}^\\prime}^2}{N-K-2}}\n",
    "$$\n",
    "\n",
    "Isn't that a pip?\n",
    "\n",
    "If you ever need to calculate studentised residuals yourself, this is also possible using `statsmodels`. Since we have already used `statmodels` to estimate our model above, when we calculated the standardized residuals, we can just re-use our model estimate `est` from before, and the first column of the resulting dataframe gives us our studentized residuals:"
   ]
  },
  {
   "cell_type": "code",
   "execution_count": 37,
   "id": "e1e357d9",
   "metadata": {
    "editable": true,
    "slideshow": {
     "slide_type": ""
    },
    "tags": []
   },
   "outputs": [
    {
     "data": {
      "text/html": [
       "<div>\n",
       "<style scoped>\n",
       "    .dataframe tbody tr th:only-of-type {\n",
       "        vertical-align: middle;\n",
       "    }\n",
       "\n",
       "    .dataframe tbody tr th {\n",
       "        vertical-align: top;\n",
       "    }\n",
       "\n",
       "    .dataframe thead th {\n",
       "        text-align: right;\n",
       "    }\n",
       "</style>\n",
       "<table border=\"1\" class=\"dataframe\">\n",
       "  <thead>\n",
       "    <tr style=\"text-align: right;\">\n",
       "      <th></th>\n",
       "      <th>student_resid</th>\n",
       "      <th>unadj_p</th>\n",
       "      <th>bonf(p)</th>\n",
       "    </tr>\n",
       "  </thead>\n",
       "  <tbody>\n",
       "    <tr>\n",
       "      <th>0</th>\n",
       "      <td>-0.494821</td>\n",
       "      <td>0.621857</td>\n",
       "      <td>1.0</td>\n",
       "    </tr>\n",
       "    <tr>\n",
       "      <th>1</th>\n",
       "      <td>1.105570</td>\n",
       "      <td>0.271676</td>\n",
       "      <td>1.0</td>\n",
       "    </tr>\n",
       "    <tr>\n",
       "      <th>2</th>\n",
       "      <td>0.461729</td>\n",
       "      <td>0.645321</td>\n",
       "      <td>1.0</td>\n",
       "    </tr>\n",
       "    <tr>\n",
       "      <th>3</th>\n",
       "      <td>-0.475346</td>\n",
       "      <td>0.635620</td>\n",
       "      <td>1.0</td>\n",
       "    </tr>\n",
       "    <tr>\n",
       "      <th>4</th>\n",
       "      <td>0.166721</td>\n",
       "      <td>0.867940</td>\n",
       "      <td>1.0</td>\n",
       "    </tr>\n",
       "  </tbody>\n",
       "</table>\n",
       "</div>"
      ],
      "text/plain": [
       "   student_resid   unadj_p  bonf(p)\n",
       "0      -0.494821  0.621857      1.0\n",
       "1       1.105570  0.271676      1.0\n",
       "2       0.461729  0.645321      1.0\n",
       "3      -0.475346  0.635620      1.0\n",
       "4       0.166721  0.867940      1.0"
      ]
     },
     "execution_count": 37,
     "metadata": {},
     "output_type": "execute_result"
    }
   ],
   "source": [
    "stud_res = est.outlier_test()\n",
    "stud_res.head()"
   ]
  },
  {
   "attachments": {},
   "cell_type": "markdown",
   "id": "fde761fe",
   "metadata": {
    "editable": true,
    "slideshow": {
     "slide_type": ""
    },
    "tags": []
   },
   "source": [
    "Before moving on, I should point out that you don't often need to manually extract these residuals yourself, even though they are at the heart of almost all regression diagnostics. Most of the time the various functions that run the diagnostics will take care of these calculations for you."
   ]
  },
  {
   "attachments": {},
   "cell_type": "markdown",
   "id": "183d7642",
   "metadata": {
    "editable": true,
    "slideshow": {
     "slide_type": ""
    },
    "tags": []
   },
   "source": [
    "(regressionoutliers)=\n",
    "\n",
    "### Three kinds of anomalous data\n",
    "One danger that you can run into with linear regression models is that your analysis might be disproportionately sensitive to a smallish number of \"unusual\" or \"anomalous\" observations. In the context of linear regression, there are three conceptually distinct ways in which an observation might be called \"anomalous\". All three are interesting, but they have rather different implications for your analysis.\n",
    "\n",
    "The first kind of unusual observation is an **_outlier_**. The definition of an outlier (in this context) is an observation that is very different from what the regression model predicts. An example is shown in {numref}`fig-outlier`. In practice, we operationalise this concept by saying that an outlier is an observation that has a very large Studentised residual, $\\epsilon_i^*$. Outliers are interesting: a big outlier *might* correspond to junk data -- e.g., the variables might have been entered incorrectly, or some other defect may be detectable. Note that you shouldn't throw an observation away just because it's an outlier. But the fact that it's an outlier is often a cue to look more closely at that case, and try to find out why it's so different."
   ]
  },
  {
   "cell_type": "code",
   "execution_count": 38,
   "id": "dcc141dc",
   "metadata": {
    "editable": true,
    "slideshow": {
     "slide_type": ""
    },
    "tags": [
     "hide-input"
    ]
   },
   "outputs": [
    {
     "data": {
      "application/papermill.record/image/png": "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",
      "application/papermill.record/text/plain": "<Figure size 640x480 with 1 Axes>"
     },
     "metadata": {
      "scrapbook": {
       "mime_prefix": "application/papermill.record/",
       "name": "outlier-fig"
      }
     },
     "output_type": "display_data"
    }
   ],
   "source": [
    "import numpy as np\n",
    "import matplotlib.pyplot as plt\n",
    "from scipy.optimize import curve_fit\n",
    "import pandas as pd\n",
    "import seaborn as sns\n",
    "\n",
    "\n",
    "df = pd.DataFrame(\n",
    "    {'x': [1, 1.3, 1.8, 1.9, 2.4, 2.3, 2.4, 2.6, 2.8, 3.6, 4],\n",
    "     'y': [1.5, 1.4, 1.9, 1.7, 2.3, 2.1, 2.6, 2.8, 2.4, 2.6, 2.8],\n",
    "     'y2': [1.5, 1.4, 1.9, 1.7, 4, 2.1, 2.6, 2.8, 2.4, 2.6, 2.8]\n",
    "    })\n",
    "\n",
    "\n",
    "\n",
    "# fit linear regression model and save parameters\n",
    "def func(x, a, b):\n",
    "    return a * x + b\n",
    "\n",
    "initialParameters = np.array([1.0, 1.0])\n",
    "\n",
    "fittedParameters, pcov = curve_fit(func, df['x'], df['y'], initialParameters)\n",
    "\n",
    "modelPredictions = func(df['x'], *fittedParameters) \n",
    "\n",
    "xModel = np.linspace(min(df['x']), max(df['x']))\n",
    "yModel = func(xModel, *fittedParameters)\n",
    "\n",
    "\n",
    "# plot data\n",
    "fig = plt.figure() \n",
    "ax = fig.add_subplot()\n",
    "\n",
    "\n",
    "sns.scatterplot(data = df, x='x', y='y')\n",
    "\n",
    "# add regression line\n",
    "ax.plot(xModel, yModel)\n",
    "\n",
    "\n",
    "initialParameters = np.array([1.0, 1.0])\n",
    "\n",
    "fittedParameters, pcov = curve_fit(func, df['x'], df['y2'], initialParameters)\n",
    "\n",
    "modelPredictions = func(df['x'], *fittedParameters) \n",
    "\n",
    "xModel = np.linspace(min(df['x']), max(df['x']))\n",
    "yModel = func(xModel, *fittedParameters)\n",
    "\n",
    "ax.plot(xModel, yModel)\n",
    "ax.plot(2.4, 4, 'ro')\n",
    "ax.plot([2.4, 2.4], [2.4 ,4], linestyle='dashed')\n",
    "ax.grid(False)\n",
    "\n",
    "sns.despine()\n",
    "plt.close()\n",
    "glue(\"outlier-fig\", fig, display=False)"
   ]
  },
  {
   "attachments": {},
   "cell_type": "markdown",
   "id": "358631a1",
   "metadata": {
    "editable": true,
    "slideshow": {
     "slide_type": ""
    },
    "tags": []
   },
   "source": [
    " ```{glue:figure} outlier-fig\n",
    ":figwidth: 600px\n",
    ":name: fig-outlier\n",
    "\n",
    "An illustration of outliers. The orange line plots the regression line estimated when the anomalous (red) data point is included, and the dotted line shows the residual for the outlier. The blue line shows the regression line that would have been estimated without the anomalous observation included. The outlier has an unusual value on the outcome (y axis location) but not the predictor (x axis location), and lies a long way from the regression line.\n",
    "\n",
    "```"
   ]
  },
  {
   "attachments": {},
   "cell_type": "markdown",
   "id": "c72b4d9e",
   "metadata": {
    "editable": true,
    "slideshow": {
     "slide_type": ""
    },
    "tags": []
   },
   "source": [
    "The second way in which an observation can be unusual is if it has high **_leverage_**: this happens when the observation is very different from all the other observations. This doesn't necessarily have to correspond to a large residual: if the observation happens to be unusual on all variables in precisely the same way, it can actually lie very close to the regression line. An example of this is shown in panel A of {numref}`fig-leverage-influence`. The leverage of an observation is operationalised in terms of its *hat value*, usually written $h_i$. The formula for the hat value is rather complicated[^notehatmatrix] but its interpretation is not: $h_i$ is a measure of the extent to which the $i$-th observation is \"in control\" of where the regression line ends up going. We won't bother extracting the hat values here, but if you want to do this, you can use the `get_influence` method from the `statsmodels.api` package to inspect the relative influence of data points. For now, it is enough to get an intuitive, visual idea of what leverage can mean.\n",
    "\n",
    "[^notehatmatrix]: Again, for the linear algebra fanatics: the \"hat matrix\" is defined to be that matrix $H$ that converts the vector of observed values $y$ into a vector of fitted values $\\hat{y}$, such that $\\hat{y} = H y$. The name comes from the fact that this is the matrix that \"puts a hat on $y$\". The  hat *value* of the $i$-th observation is the $i$-th diagonal element of this matrix (so technically I should be writing it as $h_{ii}$ rather than $h_{i}$). Oh, and in case you care, here's how it's calculated: $H = X(X^TX)^{-1} X^T$. Pretty, isn't it?"
   ]
  },
  {
   "cell_type": "code",
   "execution_count": 39,
   "id": "ee9dcdf5",
   "metadata": {
    "editable": true,
    "slideshow": {
     "slide_type": ""
    },
    "tags": [
     "hide-input"
    ]
   },
   "outputs": [
    {
     "data": {
      "application/papermill.record/image/png": "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",
      "application/papermill.record/text/plain": "<Figure size 1000x500 with 2 Axes>"
     },
     "metadata": {
      "scrapbook": {
       "mime_prefix": "application/papermill.record/",
       "name": "leverage-influence-fig"
      }
     },
     "output_type": "display_data"
    }
   ],
   "source": [
    "import numpy as np\n",
    "import matplotlib.pyplot as plt\n",
    "from scipy.optimize import curve_fit\n",
    "import pandas as pd\n",
    "import seaborn as sns\n",
    "import string\n",
    "\n",
    "fig, axes = plt.subplots(1, 2, figsize=(10, 5), sharey=True)\n",
    "\n",
    "df = pd.DataFrame(\n",
    "    {'x': [1, 1.3, 1.8, 1.9, 2.4, 2.3, 2.4, 2.6, 2.8, 3.6, 4, 8],\n",
    "     'y': [1.5, 1.4, 1.9, 1.7, 2.3, 2.1, 2.6, 2.8, 2.4, 2.6, 2.8, 7.8],\n",
    "     'y2': [1.5, 1.4, 1.9, 1.7, 4, 2.1, 2.6, 2.8, 2.4, 2.6, 2.8, 7.4]\n",
    "    })\n",
    "\n",
    "\n",
    "\n",
    "# fit linear regression model and save parameters\n",
    "def func(x, a, b):\n",
    "    return a * x + b\n",
    "\n",
    "initialParameters = np.array([1.0, 1.0])\n",
    "\n",
    "fittedParameters, pcov = curve_fit(func, df['x'], df['y'], initialParameters)\n",
    "\n",
    "modelPredictions = func(df['x'], *fittedParameters) \n",
    "\n",
    "xModel = np.linspace(min(df['x']), max(df['x']))\n",
    "yModel = func(xModel, *fittedParameters)\n",
    "\n",
    "\n",
    "\n",
    "sns.scatterplot(data = df, x='x', y='y', ax = axes[0])\n",
    "\n",
    "# add regression line\n",
    "axes[0].plot(xModel, yModel)\n",
    "\n",
    "\n",
    "initialParameters = np.array([1.0, 1.0])\n",
    "\n",
    "fittedParameters, pcov = curve_fit(func, df['x'], df['y2'], initialParameters)\n",
    "\n",
    "modelPredictions = func(df['x'], *fittedParameters) \n",
    "\n",
    "xModel = np.linspace(min(df['x']), max(df['x']))\n",
    "yModel = func(xModel, *fittedParameters)\n",
    "\n",
    "axes[0].plot(xModel, yModel)\n",
    "axes[0].plot(8, 7.4, 'ro')\n",
    "axes[0].plot([8, 8], [7.4 ,7.6], linestyle='dashed')\n",
    "axes[0].grid(False)\n",
    "\n",
    "# Plot 2\n",
    "\n",
    "df = pd.DataFrame(\n",
    "    {'x': [1, 1.3, 1.8, 1.9, 2.4, 2.3, 2.4, 2.6, 2.8, 3.6, 4, 8],\n",
    "     'y': [1.5, 1.4, 1.9, 1.7, 2.3, 2.1, 2.6, 2.8, 2.4, 2.6, 2.8, 7.8],\n",
    "     'y2': [1.5, 1.4, 1.9, 1.7, 4, 2.1, 2.6, 2.8, 2.4, 2.6, 2.8, 5]\n",
    "    })\n",
    "\n",
    "\n",
    "\n",
    "# fit linear regression model and save parameters\n",
    "def func(x, a, b):\n",
    "    return a * x + b\n",
    "\n",
    "initialParameters = np.array([1.0, 1.0])\n",
    "\n",
    "fittedParameters, pcov = curve_fit(func, df['x'], df['y'], initialParameters)\n",
    "\n",
    "modelPredictions = func(df['x'], *fittedParameters) \n",
    "\n",
    "xModel = np.linspace(min(df['x']), max(df['x']))\n",
    "yModel = func(xModel, *fittedParameters)\n",
    "\n",
    "\n",
    "\n",
    "\n",
    "sns.scatterplot(data = df, x='x', y='y', ax = axes[1])\n",
    "\n",
    "# add regression line\n",
    "axes[1].plot(xModel, yModel)\n",
    "\n",
    "\n",
    "initialParameters = np.array([1.0, 1.0])\n",
    "\n",
    "fittedParameters, pcov = curve_fit(func, df['x'], df['y2'], initialParameters)\n",
    "\n",
    "modelPredictions = func(df['x'], *fittedParameters) \n",
    "\n",
    "xModel = np.linspace(min(df['x']), max(df['x']))\n",
    "yModel = func(xModel, *fittedParameters)\n",
    "\n",
    "axes[1].plot(xModel, yModel)\n",
    "axes[1].plot(8, 5, 'ro')\n",
    "axes[1].plot([8, 8], [5 ,7.3], linestyle='dashed')\n",
    "axes[1].grid(False)\n",
    "\n",
    "\n",
    "for n, ax in enumerate(axes):   \n",
    "    ax.text(-0.1, 1.1, string.ascii_uppercase[n], transform=ax.transAxes, \n",
    "            size=20)\n",
    "\n",
    "\n",
    "sns.despine()\n",
    "plt.close()\n",
    "glue(\"leverage-influence-fig\", fig, display=False)"
   ]
  },
  {
   "attachments": {},
   "cell_type": "markdown",
   "id": "c279c3e6",
   "metadata": {
    "editable": true,
    "slideshow": {
     "slide_type": ""
    },
    "tags": []
   },
   "source": [
    " ```{glue:figure} leverage-influence-fig\n",
    ":figwidth: 600px\n",
    ":name: fig-leverage-influence\n",
    "\n",
    "Outliers showing high leverage points (panel A) and high influence points (panel B).\n",
    "\n",
    "```"
   ]
  },
  {
   "attachments": {},
   "cell_type": "markdown",
   "id": "f6587dc5",
   "metadata": {
    "editable": true,
    "slideshow": {
     "slide_type": ""
    },
    "tags": []
   },
   "source": [
    "In general, if an observation lies far away from the other ones in terms of the predictor variables, it will have a large hat value (as a rough guide, high leverage is when the hat value is more than 2-3 times the average; and note that the sum of the hat values is constrained to be equal to $K+1$). High leverage points are also worth looking at in more detail, but they're much less likely to be a cause for concern unless they are also outliers.\n",
    "\n",
    "This brings us to our third measure of unusualness, the **_influence_** of an observation. A high influence observation is an outlier that has high leverage. That is, it is an observation that is very different to all the other ones in some respect, and also lies a long way from the regression line. This is illustrated in {numref}`fig-leverage-influence`, panel B. Notice the contrast to panel A, and to {numref}`fig-outlier`: outliers don't move the regression line much, and neither do high leverage points. But something that is an outlier and has high leverage... that has a big effect on the regression line."
   ]
  },
  {
   "attachments": {},
   "cell_type": "markdown",
   "id": "7c53757c",
   "metadata": {
    "editable": true,
    "slideshow": {
     "slide_type": ""
    },
    "tags": []
   },
   "source": [
    "That's why we call these points high influence; and it's why they're the biggest worry. We operationalise influence in terms of a measure known as **_Cook's distance_**, \n",
    "\n",
    "$$\n",
    "D_i = \\frac{{\\epsilon_i^*}^2 }{K+1} \\times \\frac{h_i}{1-h_i}\n",
    "$$ \n",
    "\n",
    "Notice that this is a multiplication of something that measures the outlier-ness of the observation (the bit on the \n",
    "left), and something that measures the leverage of the observation (the bit on the right). In other words, in order to have a large Cook's distance, an observation must be a fairly substantial outlier *and* have high leverage."
   ]
  },
  {
   "attachments": {},
   "cell_type": "markdown",
   "id": "4b132160",
   "metadata": {
    "editable": true,
    "slideshow": {
     "slide_type": ""
    },
    "tags": []
   },
   "source": [
    "Again, if you want to quantify Cook's distance, this can be done using using `statsmodels.api`. I won't go through this in detail, but if you are interested, you can click to show the code, and see how I got the Cook's distance values from `statmodels`."
   ]
  },
  {
   "cell_type": "code",
   "execution_count": 40,
   "id": "fbb75951",
   "metadata": {
    "editable": true,
    "slideshow": {
     "slide_type": ""
    },
    "tags": [
     "hide-input"
    ]
   },
   "outputs": [
    {
     "data": {
      "application/papermill.record/image/png": "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",
      "application/papermill.record/text/plain": "<Figure size 800x500 with 2 Axes>"
     },
     "metadata": {
      "scrapbook": {
       "mime_prefix": "application/papermill.record/",
       "name": "cooks-fig"
      }
     },
     "output_type": "display_data"
    }
   ],
   "source": [
    "import seaborn as sns\n",
    "import statsmodels.api as sm\n",
    "\n",
    "# Define a figure with two panels\n",
    "fig, axes = plt.subplots(1, 2, figsize=(8, 5))\n",
    "\n",
    "# Define our made-up data\n",
    "df = pd.DataFrame(\n",
    "    {'x': [1, 1.3, 1.8, 1.9, 2.4, 2.3, 2.4, 2.6, 2.8, 3.6, 4, 8],\n",
    "     'y': [1.5, 1.4, 1.9, 1.7, 2.3, 2.1, 2.6, 2.8, 2.4, 2.6, 2.8, 7.8],\n",
    "     'y2': [1.5, 1.4, 1.9, 1.7, 4, 2.1, 2.6, 2.8, 2.4, 2.6, 2.8, 5]\n",
    "    })\n",
    "\n",
    "# Get Cook's distance\n",
    "\n",
    "# model the data using statsmodels.api OLS (ordinary least squares)\n",
    "model = sm.OLS(df['y2'], df['x'])\n",
    "results = model.fit()\n",
    "\n",
    "# extract cook's distance\n",
    "influence = results.get_influence()\n",
    "cooks = influence.cooks_distance\n",
    "\n",
    "# for plotting, make a dataframe with the x data, and the corresponding cook's distances\n",
    "df_cooks = pd.DataFrame(\n",
    "    {'x': df['x'],\n",
    "     'y': cooks[0]\n",
    "    })\n",
    "\n",
    "# Panel A\n",
    "\n",
    "# plot Cook's distance against the x data points\n",
    "sns.scatterplot(data = df_cooks, x = 'x', y = 'y', ax = axes[0])\n",
    "axes[0].axhline(y=1, color='gray', linestyle='--')\n",
    "axes[0].axhline(y= 4/len(df['x']), color='gray', linestyle='--')\n",
    "\n",
    "\n",
    "\n",
    "# Panel B (same as before)\n",
    "\n",
    "df = pd.DataFrame(\n",
    "    {'x': [1, 1.3, 1.8, 1.9, 2.4, 2.3, 2.4, 2.6, 2.8, 3.6, 4, 8],\n",
    "     'y': [1.5, 1.4, 1.9, 1.7, 2.3, 2.1, 2.6, 2.8, 2.4, 2.6, 2.8, 7.8],\n",
    "     'y2': [1.5, 1.4, 1.9, 1.7, 4, 2.1, 2.6, 2.8, 2.4, 2.6, 2.8, 5]\n",
    "    })\n",
    "\n",
    "\n",
    "\n",
    "# fit linear regression model and save parameters\n",
    "def func(x, a, b):\n",
    "    return a * x + b\n",
    "\n",
    "\n",
    "# first regression line\n",
    "initialParameters = np.array([1.0, 1.0])\n",
    "\n",
    "fittedParameters, pcov = curve_fit(func, df['x'], df['y'], initialParameters)\n",
    "\n",
    "modelPredictions = func(df['x'], *fittedParameters) \n",
    "\n",
    "xModel = np.linspace(min(df['x']), max(df['x']))\n",
    "yModel = func(xModel, *fittedParameters)\n",
    "\n",
    "\n",
    "# plot data points\n",
    "sns.scatterplot(data = df, x='x', y='y', ax = axes[1])\n",
    "\n",
    "# plot first regression line\n",
    "axes[1].plot(xModel, yModel)\n",
    "\n",
    "\n",
    "# second regression line\n",
    "\n",
    "initialParameters = np.array([1.0, 1.0])\n",
    "\n",
    "fittedParameters, pcov = curve_fit(func, df['x'], df['y2'], initialParameters)\n",
    "\n",
    "modelPredictions = func(df['x'], *fittedParameters) \n",
    "\n",
    "xModel = np.linspace(min(df['x']), max(df['x']))\n",
    "yModel = func(xModel, *fittedParameters)\n",
    "\n",
    "axes[1].plot(xModel, yModel)\n",
    "\n",
    "# add red point to show \"outlier\"\n",
    "axes[1].plot(8, 5, 'ro')\n",
    "\n",
    "# add dashed line to show change in residual\n",
    "axes[1].plot([8, 8], [5 ,7.3], linestyle='dashed')\n",
    "axes[1].grid(False)\n",
    "\n",
    "# add letter labels\n",
    "for n, ax in enumerate(axes):   \n",
    "    ax.text(-0.1, 1.1, string.ascii_uppercase[n], transform=ax.transAxes, \n",
    "            size=20)\n",
    "\n",
    "# prettify\n",
    "sns.despine()\n",
    "for ax in axes:\n",
    "    ax.grid(False)\n",
    "plt.close()\n",
    "glue(\"cooks-fig\", fig, display=False)"
   ]
  },
  {
   "attachments": {},
   "cell_type": "markdown",
   "id": "e2664025",
   "metadata": {
    "editable": true,
    "slideshow": {
     "slide_type": ""
    },
    "tags": []
   },
   "source": [
    " ```{glue:figure} cooks-fig\n",
    ":figwidth: 600px\n",
    ":name: fig-cooks\n",
    "\n",
    "A visualization of Cook's distance as a means for identifying the influence of each data point. Panel B is the same as panel B in {numref}`fig-leverage-influence` above. The red dot show the effect on the entire regression line that sinking the final point from 7.4 to 5 has. Panel A shows Cook's distance for the data set in which the data point at x = 8 is 5 (the orange line). The dashed lines show two possible cutoff points for a \"large\" Cook's distance: either 1 or 4/N, in which N is the number of data points.\n",
    "\n",
    "```"
   ]
  },
  {
   "attachments": {},
   "cell_type": "markdown",
   "id": "5c0c4ecb",
   "metadata": {
    "editable": true,
    "slideshow": {
     "slide_type": ""
    },
    "tags": []
   },
   "source": [
    "As a rough guide, Cook's distance greater than 1 is often considered large (that's what I typically use as a quick and dirty rule), though a quick scan of the internet and a few papers suggests that $4/N$ has also been suggested as a possible rule of thumb. As the visualization in {numref}`fig-cooks` illustrates, the red data point at x = 8 has a large Cook's distance."
   ]
  },
  {
   "attachments": {},
   "cell_type": "markdown",
   "id": "e0ecd657",
   "metadata": {
    "editable": true,
    "slideshow": {
     "slide_type": ""
    },
    "tags": []
   },
   "source": [
    "An obvious question to ask next is, if you do have large values of Cook's distance, what should you do? As always, there's no hard and fast rules. Probably the first thing to do is to try running the regression with that point excluded and see what happens to the model performance and to the regression coefficients. If they really are substantially different, it's time to start digging into your data set and your notes that you no doubt were scribbling as your ran your study; try to figure out *why* the point is so different. If you start to become convinced that this one data point is badly distorting your results, you might consider excluding it, but that's less than ideal unless you have a solid explanation for why this particular case is qualitatively different from the others and therefore deserves to be handled separately.[^noterobust] To give an example, let's delete the observation from day 64, the observation with the largest Cook's distance for the `mod2` model, where we predicted my grumpiness on the basis of my sleep, and my baby's sleep.\n",
    "\n",
    "[^noterobust]: An alternative is to run a \"robust regression\"; I might discuss robust regression in a later version of this book, but I don't promise."
   ]
  },
  {
   "attachments": {},
   "cell_type": "markdown",
   "id": "95401e5b",
   "metadata": {
    "editable": true,
    "slideshow": {
     "slide_type": ""
    },
    "tags": []
   },
   "source": [
    "First, let's get back to the original sleep data, and remind ourselves of what our model coefficients looked like:"
   ]
  },
  {
   "cell_type": "code",
   "execution_count": 41,
   "id": "cef42308",
   "metadata": {
    "editable": true,
    "slideshow": {
     "slide_type": ""
    },
    "tags": []
   },
   "outputs": [
    {
     "data": {
      "text/html": [
       "<div>\n",
       "<style scoped>\n",
       "    .dataframe tbody tr th:only-of-type {\n",
       "        vertical-align: middle;\n",
       "    }\n",
       "\n",
       "    .dataframe tbody tr th {\n",
       "        vertical-align: top;\n",
       "    }\n",
       "\n",
       "    .dataframe thead th {\n",
       "        text-align: right;\n",
       "    }\n",
       "</style>\n",
       "<table border=\"1\" class=\"dataframe\">\n",
       "  <thead>\n",
       "    <tr style=\"text-align: right;\">\n",
       "      <th></th>\n",
       "      <th>names</th>\n",
       "      <th>coef</th>\n",
       "      <th>se</th>\n",
       "      <th>T</th>\n",
       "      <th>pval</th>\n",
       "      <th>r2</th>\n",
       "      <th>adj_r2</th>\n",
       "      <th>CI[2.5%]</th>\n",
       "      <th>CI[97.5%]</th>\n",
       "    </tr>\n",
       "  </thead>\n",
       "  <tbody>\n",
       "    <tr>\n",
       "      <th>0</th>\n",
       "      <td>Intercept</td>\n",
       "      <td>125.97</td>\n",
       "      <td>3.04</td>\n",
       "      <td>41.42</td>\n",
       "      <td>0.00</td>\n",
       "      <td>0.82</td>\n",
       "      <td>0.81</td>\n",
       "      <td>119.93</td>\n",
       "      <td>132.00</td>\n",
       "    </tr>\n",
       "    <tr>\n",
       "      <th>1</th>\n",
       "      <td>dan_sleep</td>\n",
       "      <td>-8.95</td>\n",
       "      <td>0.55</td>\n",
       "      <td>-16.17</td>\n",
       "      <td>0.00</td>\n",
       "      <td>0.82</td>\n",
       "      <td>0.81</td>\n",
       "      <td>-10.05</td>\n",
       "      <td>-7.85</td>\n",
       "    </tr>\n",
       "    <tr>\n",
       "      <th>2</th>\n",
       "      <td>baby_sleep</td>\n",
       "      <td>0.01</td>\n",
       "      <td>0.27</td>\n",
       "      <td>0.04</td>\n",
       "      <td>0.97</td>\n",
       "      <td>0.82</td>\n",
       "      <td>0.81</td>\n",
       "      <td>-0.53</td>\n",
       "      <td>0.55</td>\n",
       "    </tr>\n",
       "  </tbody>\n",
       "</table>\n",
       "</div>"
      ],
      "text/plain": [
       "        names    coef    se      T  pval    r2  adj_r2  CI[2.5%]  CI[97.5%]\n",
       "0   Intercept  125.97  3.04  41.42  0.00  0.82    0.81    119.93     132.00\n",
       "1   dan_sleep   -8.95  0.55 -16.17  0.00  0.82    0.81    -10.05      -7.85\n",
       "2  baby_sleep    0.01  0.27   0.04  0.97  0.82    0.81     -0.53       0.55"
      ]
     },
     "execution_count": 41,
     "metadata": {},
     "output_type": "execute_result"
    }
   ],
   "source": [
    "import pandas as pd\n",
    "import pingouin as pg\n",
    "\n",
    "file = 'https://raw.githubusercontent.com/ethanweed/pythonbook/main/Data/parenthood.csv'\n",
    "df = pd.read_csv(file)\n",
    "\n",
    "predictors = df[['dan_sleep', 'baby_sleep']]\n",
    "outcome = df['dan_grump']\n",
    "\n",
    "mod2 = pg.linear_regression(predictors, outcome)\n",
    "mod2.round(2)"
   ]
  },
  {
   "attachments": {},
   "cell_type": "markdown",
   "id": "84576f7f",
   "metadata": {
    "editable": true,
    "slideshow": {
     "slide_type": ""
    },
    "tags": []
   },
   "source": [
    "Then, we can remove the data from day 64, using the `drop()` method from `pandas`. Remember, as always, it's Python, and Python is zero-indexed, so it starts counting the days at 0 and not 1, and that means that day 64 is on row 63!"
   ]
  },
  {
   "cell_type": "code",
   "execution_count": 42,
   "id": "41f92756",
   "metadata": {
    "editable": true,
    "slideshow": {
     "slide_type": ""
    },
    "tags": []
   },
   "outputs": [],
   "source": [
    "df_2 = df.drop(63)"
   ]
  },
  {
   "cell_type": "code",
   "execution_count": 43,
   "id": "d0b77749",
   "metadata": {
    "editable": true,
    "slideshow": {
     "slide_type": ""
    },
    "tags": []
   },
   "outputs": [
    {
     "data": {
      "text/html": [
       "<div>\n",
       "<style scoped>\n",
       "    .dataframe tbody tr th:only-of-type {\n",
       "        vertical-align: middle;\n",
       "    }\n",
       "\n",
       "    .dataframe tbody tr th {\n",
       "        vertical-align: top;\n",
       "    }\n",
       "\n",
       "    .dataframe thead th {\n",
       "        text-align: right;\n",
       "    }\n",
       "</style>\n",
       "<table border=\"1\" class=\"dataframe\">\n",
       "  <thead>\n",
       "    <tr style=\"text-align: right;\">\n",
       "      <th></th>\n",
       "      <th>names</th>\n",
       "      <th>coef</th>\n",
       "      <th>se</th>\n",
       "      <th>T</th>\n",
       "      <th>pval</th>\n",
       "      <th>r2</th>\n",
       "      <th>adj_r2</th>\n",
       "      <th>CI[2.5%]</th>\n",
       "      <th>CI[97.5%]</th>\n",
       "    </tr>\n",
       "  </thead>\n",
       "  <tbody>\n",
       "    <tr>\n",
       "      <th>0</th>\n",
       "      <td>Intercept</td>\n",
       "      <td>126.36</td>\n",
       "      <td>3.00</td>\n",
       "      <td>42.19</td>\n",
       "      <td>0.00</td>\n",
       "      <td>0.82</td>\n",
       "      <td>0.82</td>\n",
       "      <td>120.41</td>\n",
       "      <td>132.30</td>\n",
       "    </tr>\n",
       "    <tr>\n",
       "      <th>1</th>\n",
       "      <td>dan_sleep</td>\n",
       "      <td>-8.83</td>\n",
       "      <td>0.55</td>\n",
       "      <td>-16.13</td>\n",
       "      <td>0.00</td>\n",
       "      <td>0.82</td>\n",
       "      <td>0.82</td>\n",
       "      <td>-9.91</td>\n",
       "      <td>-7.74</td>\n",
       "    </tr>\n",
       "    <tr>\n",
       "      <th>2</th>\n",
       "      <td>baby_sleep</td>\n",
       "      <td>-0.13</td>\n",
       "      <td>0.28</td>\n",
       "      <td>-0.48</td>\n",
       "      <td>0.63</td>\n",
       "      <td>0.82</td>\n",
       "      <td>0.82</td>\n",
       "      <td>-0.68</td>\n",
       "      <td>0.41</td>\n",
       "    </tr>\n",
       "  </tbody>\n",
       "</table>\n",
       "</div>"
      ],
      "text/plain": [
       "        names    coef    se      T  pval    r2  adj_r2  CI[2.5%]  CI[97.5%]\n",
       "0   Intercept  126.36  3.00  42.19  0.00  0.82    0.82    120.41     132.30\n",
       "1   dan_sleep   -8.83  0.55 -16.13  0.00  0.82    0.82     -9.91      -7.74\n",
       "2  baby_sleep   -0.13  0.28  -0.48  0.63  0.82    0.82     -0.68       0.41"
      ]
     },
     "execution_count": 43,
     "metadata": {},
     "output_type": "execute_result"
    }
   ],
   "source": [
    "predictors = df_2[['dan_sleep', 'baby_sleep']]\n",
    "outcome = df_2['dan_grump']\n",
    "\n",
    "mod3 = pg.linear_regression(predictors, outcome)\n",
    "mod3.round(2)"
   ]
  },
  {
   "attachments": {},
   "cell_type": "markdown",
   "id": "d8025450",
   "metadata": {
    "editable": true,
    "slideshow": {
     "slide_type": ""
    },
    "tags": []
   },
   "source": [
    "As you can see, those regression coefficients have barely changed in comparison to the values we got earlier. In other words, we really don't have any problem as far as anomalous data are concerned."
   ]
  },
  {
   "attachments": {},
   "cell_type": "markdown",
   "id": "5e354965",
   "metadata": {
    "editable": true,
    "slideshow": {
     "slide_type": ""
    },
    "tags": []
   },
   "source": [
    "(regressionnormality)=\n",
    "### Checking the normality of the residuals\n",
    "\n",
    "Like many of the statistical tools we've discussed in this book, regression models rely on a normality assumption. In this case, we assume that the residuals are normally distributed. The tools for testing this aren't fundamentally different to those that we discussed [earlier](shapiro). First, I firmly believe that it never hurts to draw a good old-fashioned histogram:"
   ]
  },
  {
   "cell_type": "code",
   "execution_count": 44,
   "id": "09e7adf8",
   "metadata": {
    "editable": true,
    "slideshow": {
     "slide_type": ""
    },
    "tags": [
     "hide-input"
    ]
   },
   "outputs": [
    {
     "data": {
      "application/papermill.record/image/png": "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",
      "application/papermill.record/text/plain": "<Figure size 640x480 with 1 Axes>"
     },
     "metadata": {
      "scrapbook": {
       "mime_prefix": "application/papermill.record/",
       "name": "res-hist-fig"
      }
     },
     "output_type": "display_data"
    }
   ],
   "source": [
    "import pandas as pd\n",
    "import pingouin as pg\n",
    "import seaborn as sns\n",
    "\n",
    "predictors = df[['dan_sleep', 'baby_sleep']]\n",
    "outcome = df['dan_grump']\n",
    "\n",
    "mod2 = pg.linear_regression(predictors, outcome)\n",
    "\n",
    "res = mod2.residuals_\n",
    "res = pd.DataFrame(res, columns = ['Residuals'])\n",
    "\n",
    "fig = plt.figure()\n",
    "\n",
    "ax = sns.histplot(data = res, x = 'Residuals')\n",
    "ax.grid(False)\n",
    "sns.despine()\n",
    "plt.close()\n",
    "glue(\"res-hist-fig\", fig, display=False)"
   ]
  },
  {
   "attachments": {},
   "cell_type": "markdown",
   "id": "2b6d8383",
   "metadata": {
    "editable": true,
    "slideshow": {
     "slide_type": ""
    },
    "tags": []
   },
   "source": [
    " ```{glue:figure} res-hist-fig\n",
    ":figwidth: 600px\n",
    ":name: fig-res-hist\n",
    "\n",
    "A histogram of the (ordinary) residuals in the `mod2` model. These residuals look very close to being normally distributed, much moreso than is typically seen with real data. This shouldn’t surprise you... they aren’t real data, and they aren’t real residuals!\n",
    "\n",
    "```"
   ]
  },
  {
   "attachments": {},
   "cell_type": "markdown",
   "id": "2f56983c",
   "metadata": {
    "editable": true,
    "slideshow": {
     "slide_type": ""
    },
    "tags": []
   },
   "source": [
    "The resulting plot is shown in {numref}`fig-res-hist`, and as you can see the plot looks pretty damn close to normal, almost unnaturally so. I could also run a Shapiro-Wilk test to check, using the `normality` function from `pingouin`:"
   ]
  },
  {
   "cell_type": "code",
   "execution_count": 45,
   "id": "b566420f",
   "metadata": {
    "editable": true,
    "slideshow": {
     "slide_type": ""
    },
    "tags": []
   },
   "outputs": [
    {
     "data": {
      "text/html": [
       "<div>\n",
       "<style scoped>\n",
       "    .dataframe tbody tr th:only-of-type {\n",
       "        vertical-align: middle;\n",
       "    }\n",
       "\n",
       "    .dataframe tbody tr th {\n",
       "        vertical-align: top;\n",
       "    }\n",
       "\n",
       "    .dataframe thead th {\n",
       "        text-align: right;\n",
       "    }\n",
       "</style>\n",
       "<table border=\"1\" class=\"dataframe\">\n",
       "  <thead>\n",
       "    <tr style=\"text-align: right;\">\n",
       "      <th></th>\n",
       "      <th>W</th>\n",
       "      <th>pval</th>\n",
       "      <th>normal</th>\n",
       "    </tr>\n",
       "  </thead>\n",
       "  <tbody>\n",
       "    <tr>\n",
       "      <th>Residuals</th>\n",
       "      <td>0.99</td>\n",
       "      <td>0.84</td>\n",
       "      <td>True</td>\n",
       "    </tr>\n",
       "  </tbody>\n",
       "</table>\n",
       "</div>"
      ],
      "text/plain": [
       "              W  pval  normal\n",
       "Residuals  0.99  0.84    True"
      ]
     },
     "execution_count": 45,
     "metadata": {},
     "output_type": "execute_result"
    }
   ],
   "source": [
    "sw = pg.normality(res, method = 'shapiro')\n",
    "sw.round(2)"
   ]
  },
  {
   "attachments": {},
   "cell_type": "markdown",
   "id": "a9593ad0",
   "metadata": {
    "editable": true,
    "slideshow": {
     "slide_type": ""
    },
    "tags": []
   },
   "source": [
    "The W value of .99, at this sample size, is non-significant ($p$ = .82), again suggesting that the normality assumption isn’t in any danger here. As a third measure, we might also want to draw a QQ-plot. This can be most easily done using the `qqplot` function from `statsmodels.api`:"
   ]
  },
  {
   "cell_type": "code",
   "execution_count": 46,
   "id": "a75c505c",
   "metadata": {
    "editable": true,
    "slideshow": {
     "slide_type": ""
    },
    "tags": []
   },
   "outputs": [
    {
     "data": {
      "image/png": "[encoded data removed]",
      "text/plain": [
       "<Figure size 640x480 with 1 Axes>"
      ]
     },
     "metadata": {},
     "output_type": "display_data"
    }
   ],
   "source": [
    "import statsmodels.api as sm\n",
    "\n",
    "\n",
    "sm.qqplot(res['Residuals'], line = 's')\n",
    "sns.despine()\n"
   ]
  },
  {
   "attachments": {},
   "cell_type": "markdown",
   "id": "f94bc8ba",
   "metadata": {
    "editable": true,
    "slideshow": {
     "slide_type": ""
    },
    "tags": []
   },
   "source": [
    " ```{glue:figure} qq-fig\n",
    ":figwidth: 600px\n",
    ":name: fig-qq\n",
    "\n",
    "A Q-Q (quantile-quantile) plot, the theoretical quantiles according to the model, against the quantiles of the standardised residuals.\n",
    "\n",
    "```"
   ]
  },
  {
   "attachments": {},
   "cell_type": "markdown",
   "id": "2077e62d",
   "metadata": {
    "editable": true,
    "slideshow": {
     "slide_type": ""
    },
    "tags": []
   },
   "source": [
    "If our residuals were _perfectly_ normally distributed, then they would lie right on the red line. These residuals veer off a little at the ends, but again, pretty damn close, so the Q-Q plot further confirms our conviction based on the histogram and the Shapiro-Wilk test, that it is appropriate to model these data with a linear regression.\n",
    "\n",
    "A little note: Q-Q plots are often created by plotting the quantiles of the _standardized_ residuals against the theoretical quantiles. Since using Q-Q plots for assessing normality is basically a matter of squinting at the plot at getting a _feeling_, based on your great experience of squinting at plots, for whether the data _seem_ normal enough, it probably doesn't matter so much which way you do it. Below you can see a side-by-side comparison of a Q-Q plot of the ordinary (left) and standardized (right) residuals. Honestly, they look about the same to me, and you can get the ordinary residuals straight from `pingouin`, without needing to invoke `statsmodels`."
   ]
  },
  {
   "cell_type": "code",
   "execution_count": 47,
   "id": "20d8719d",
   "metadata": {
    "editable": true,
    "slideshow": {
     "slide_type": ""
    },
    "tags": [
     "hide-input"
    ]
   },
   "outputs": [
    {
     "data": {
      "image/png": "[encoded data removed]",
      "text/plain": [
       "<Figure size 1500x500 with 2 Axes>"
      ]
     },
     "metadata": {},
     "output_type": "display_data"
    }
   ],
   "source": [
    "# Define a figure with two panels\n",
    "import matplotlib.pyplot as plt\n",
    "\n",
    "fig, axes = plt.subplots(1, 2, figsize=(15, 5))\n",
    "\n",
    "res_standard = pd.DataFrame(res_standard, columns = ['Standardized_Residuals'])\n",
    "\n",
    "sm.qqplot(res['Residuals'], line = 's', ax = axes[0])\n",
    "sm.qqplot(res_standard['Standardized_Residuals'], line = 's', ax = axes[1])\n",
    "\n",
    "axes[0].set_title('Ordinary residuals')\n",
    "axes[1].set_title('Standardized residuals')\n",
    "\n",
    "for ax in axes:\n",
    "    ax.grid(False)\n",
    "\n",
    "sns.despine()"
   ]
  },
  {
   "attachments": {},
   "cell_type": "markdown",
   "id": "49829d8d",
   "metadata": {
    "editable": true,
    "slideshow": {
     "slide_type": ""
    },
    "tags": []
   },
   "source": [
    "(regressionlinearity)=\n",
    "### Checking the linearity of the relationship\n",
    "\n",
    "The third thing we might want to test is the linearity of the relationships between the predictors and\n",
    "the outcomes. There’s a few different things that you might want to do in order to check this. Firstly, it\n",
    "never hurts to just plot the relationship between the fitted values $\\hat{Y}_i$ and the observed values $Y_i$ for the\n",
    "outcome variable, as illustrated in {numref}`fig-fitted_v_observed`."
   ]
  },
  {
   "cell_type": "code",
   "execution_count": 48,
   "id": "55be1b48",
   "metadata": {
    "editable": true,
    "slideshow": {
     "slide_type": ""
    },
    "tags": [
     "hide-input"
    ]
   },
   "outputs": [
    {
     "data": {
      "application/papermill.record/image/png": "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",
      "application/papermill.record/text/plain": "<Figure size 640x480 with 1 Axes>"
     },
     "metadata": {
      "scrapbook": {
       "mime_prefix": "application/papermill.record/",
       "name": "fitted_v_observed-fig"
      }
     },
     "output_type": "display_data"
    }
   ],
   "source": [
    "predictors = df[['dan_sleep', 'baby_sleep']]\n",
    "outcome = df['dan_grump']\n",
    "\n",
    "mod2 = pg.linear_regression(predictors, outcome, as_dataframe = False)\n",
    "\n",
    "df_res_pred = pd.DataFrame(\n",
    "    {'observed': outcome,\n",
    "     'fitted': mod2['pred']\n",
    "    })\n",
    "\n",
    "fig = plt.figure()\n",
    "\n",
    "ax=sns.scatterplot(data = df_res_pred, x = 'fitted', y = 'observed')\n",
    "ax.grid(False)\n",
    "sns.despine()\n",
    "plt.close()\n",
    "glue(\"fitted_v_observed-fig\", fig, display=False)"
   ]
  },
  {
   "attachments": {},
   "cell_type": "markdown",
   "id": "cd7ce4ef",
   "metadata": {
    "editable": true,
    "slideshow": {
     "slide_type": ""
    },
    "tags": []
   },
   "source": [
    " ```{glue:figure} fitted_v_observed-fig\n",
    ":figwidth: 600px\n",
    ":name: fig-fitted_v_observed\n",
    "\n",
    "Plot of the fitted values against the observed values of the outcome variable. A straight line is what we’re hoping to see here. This looks pretty good, suggesting that there’s nothing grossly wrong, but there could be hidden subtle issues.\n",
    "\n",
    "```\n"
   ]
  },
  {
   "attachments": {},
   "cell_type": "markdown",
   "id": "ab1b5312",
   "metadata": {
    "editable": true,
    "slideshow": {
     "slide_type": ""
    },
    "tags": []
   },
   "source": [
    "\n",
    "One of the reasons I like to draw these plots is that they give you a kind of “big picture view”. If this plot looks approximately linear, then we’re probably not doing too badly (though that’s not to say that there aren’t problems). However, if you can see big departures from linearity here, then it strongly suggests that you need to make some changes.\n",
    "\n",
    "In any case, in order to get a more detailed picture it’s often more informative to look at the relationship between the fitted values and the residuals themselves. Let's take a look. Here, we use the `residplot` function from `seaborn`, and in addition to drawing a straight line through all the points, we can ask Python to compute a \"locally-weighed linear linear\" regression, by setting the argument `lowess` to `True`. This gives us a sort of moving window, as Python fits a series of little regressions as it moves through the data. With a little work, we can also use ``regplot`` to produce the same figure for the multiple linear regression model with both ``dan_sleep`` and ``baby_sleep`` as predictors (click the show button to see how). If the relationship in our data is truly linear, then we should see a straight, perfectly horizontal line. There’s some hint of curvature here, but it’s not clear whether or not we be concerned. "
   ]
  },
  {
   "cell_type": "code",
   "execution_count": 49,
   "id": "e2586aee",
   "metadata": {
    "editable": true,
    "slideshow": {
     "slide_type": ""
    },
    "tags": [
     "hide-input"
    ]
   },
   "outputs": [
    {
     "data": {
      "application/papermill.record/image/png": "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",
      "application/papermill.record/text/plain": "<Figure size 800x500 with 3 Axes>"
     },
     "metadata": {
      "scrapbook": {
       "mime_prefix": "application/papermill.record/",
       "name": "resid1-fig"
      }
     },
     "output_type": "display_data"
    }
   ],
   "source": [
    "# Define a figure with two panels\n",
    "import matplotlib.pyplot as plt\n",
    "\n",
    "fig, axes = plt.subplots(3, 1, figsize=(8, 5))\n",
    "\n",
    "# Fit linear regressions for both predictors, and plot residuals\n",
    "\n",
    "p1=sns.residplot(data=df, x='dan_sleep', y='dan_grump', lowess=True, line_kws=dict(color=\"r\"), ax=axes[0])\n",
    "p2=p3=sns.residplot(data=df, x='baby_sleep', y='dan_grump', lowess=True, line_kws=dict(color=\"r\"), ax=axes[1])\n",
    "\n",
    "\n",
    "# Add panel for multiple linear regression\n",
    "\n",
    "df_res_pred['residuals'] = mod2['residuals']\n",
    "\n",
    "\n",
    "p3=sns.regplot(data = df_res_pred, x = 'fitted', y = 'residuals', lowess = True, line_kws=dict(color=\"r\"), ax=axes[2])\n",
    "\n",
    "plt.axhline(y=0, color='b', linestyle='dotted')\n",
    "\n",
    "# Make figures look nicer\n",
    "for n, ax in enumerate(axes):\n",
    "    ax.text(-0.1, 1.1, string.ascii_uppercase[n], transform=ax.transAxes, \n",
    "            size=20)\n",
    "    ax.grid(False)\n",
    "    sns.despine()\n",
    "\n",
    "subplots=[p1,p2,p3]\n",
    "for p in subplots:\n",
    "    p.tick_params(axis='x', which='both', bottom=False, top=False, labelbottom=False)\n",
    "\n",
    "\n",
    "# Plot figure in book, with caption\n",
    "plt.close(fig)\n",
    "glue(\"resid1-fig\", fig, display=False)"
   ]
  },
  {
   "attachments": {},
   "cell_type": "markdown",
   "id": "dff2beef",
   "metadata": {
    "editable": true,
    "slideshow": {
     "slide_type": ""
    },
    "tags": []
   },
   "source": [
    "\n",
    " ```{glue:figure} resid1-fig\n",
    ":figwidth: 600px\n",
    ":name: fig-resid1\n",
    "\n",
    "Scatterplots of the residuals when a linear regression is fit separately for either ``dan_sleep`` as a predictor (panel A) or ``baby_sleep`` as a predictor (panel B). Panel C plots the residuals for the overall fit of the model including both predictors. The dotted horizontal line represents the fitted regression model. If a linear model is appropriate for our data, then the points should lie evenly above and below the dotted line, the whole away along the x-axis. The red line shows a locally-weighted smoothing of the regressionn line. Too much curvature in this line would suggest that maybe a straight line is not the best model for our data. But how much curvature is too much?\n",
    "\n",
    "```\n",
    "\n",
    "\n"
   ]
  },
  {
   "attachments": {},
   "cell_type": "markdown",
   "id": "f7e8e9bb",
   "metadata": {
    "editable": true,
    "slideshow": {
     "slide_type": ""
    },
    "tags": []
   },
   "source": [
    "One method for testing the degree of curvature is known as Tukey's test for nonadditivity {cite:`tukey1949one, fox2018r`}. The test is quite simple: you just take the fitted (predicted) values from your original model, square them, and then include these squared fitted values as a predictor when you re-run the model. If the $t$-test for the new predictor comes up significant, this implies that there is some nonlinear relationship between the variable and the residuals. Let's give this a try:"
   ]
  },
  {
   "cell_type": "code",
   "execution_count": 50,
   "id": "10bf9e26",
   "metadata": {
    "editable": true,
    "slideshow": {
     "slide_type": ""
    },
    "tags": []
   },
   "outputs": [
    {
     "data": {
      "text/html": [
       "<div>\n",
       "<style scoped>\n",
       "    .dataframe tbody tr th:only-of-type {\n",
       "        vertical-align: middle;\n",
       "    }\n",
       "\n",
       "    .dataframe tbody tr th {\n",
       "        vertical-align: top;\n",
       "    }\n",
       "\n",
       "    .dataframe thead th {\n",
       "        text-align: right;\n",
       "    }\n",
       "</style>\n",
       "<table border=\"1\" class=\"dataframe\">\n",
       "  <thead>\n",
       "    <tr style=\"text-align: right;\">\n",
       "      <th></th>\n",
       "      <th>names</th>\n",
       "      <th>coef</th>\n",
       "      <th>se</th>\n",
       "      <th>T</th>\n",
       "      <th>pval</th>\n",
       "      <th>r2</th>\n",
       "      <th>adj_r2</th>\n",
       "      <th>CI[2.5%]</th>\n",
       "      <th>CI[97.5%]</th>\n",
       "    </tr>\n",
       "  </thead>\n",
       "  <tbody>\n",
       "    <tr>\n",
       "      <th>0</th>\n",
       "      <td>Intercept</td>\n",
       "      <td>1.540</td>\n",
       "      <td>57.642</td>\n",
       "      <td>0.027</td>\n",
       "      <td>0.979</td>\n",
       "      <td>0.825</td>\n",
       "      <td>0.819</td>\n",
       "      <td>-112.878</td>\n",
       "      <td>115.958</td>\n",
       "    </tr>\n",
       "    <tr>\n",
       "      <th>1</th>\n",
       "      <td>dan_sleep</td>\n",
       "      <td>2.867</td>\n",
       "      <td>5.494</td>\n",
       "      <td>0.522</td>\n",
       "      <td>0.603</td>\n",
       "      <td>0.825</td>\n",
       "      <td>0.819</td>\n",
       "      <td>-8.039</td>\n",
       "      <td>13.773</td>\n",
       "    </tr>\n",
       "    <tr>\n",
       "      <th>2</th>\n",
       "      <td>baby_sleep</td>\n",
       "      <td>0.011</td>\n",
       "      <td>0.266</td>\n",
       "      <td>0.043</td>\n",
       "      <td>0.966</td>\n",
       "      <td>0.825</td>\n",
       "      <td>0.819</td>\n",
       "      <td>-0.517</td>\n",
       "      <td>0.540</td>\n",
       "    </tr>\n",
       "    <tr>\n",
       "      <th>3</th>\n",
       "      <td>Tukey</td>\n",
       "      <td>0.010</td>\n",
       "      <td>0.005</td>\n",
       "      <td>2.162</td>\n",
       "      <td>0.033</td>\n",
       "      <td>0.825</td>\n",
       "      <td>0.819</td>\n",
       "      <td>0.001</td>\n",
       "      <td>0.020</td>\n",
       "    </tr>\n",
       "  </tbody>\n",
       "</table>\n",
       "</div>"
      ],
      "text/plain": [
       "        names   coef      se      T   pval     r2  adj_r2  CI[2.5%]  CI[97.5%]\n",
       "0   Intercept  1.540  57.642  0.027  0.979  0.825   0.819  -112.878    115.958\n",
       "1   dan_sleep  2.867   5.494  0.522  0.603  0.825   0.819    -8.039     13.773\n",
       "2  baby_sleep  0.011   0.266  0.043  0.966  0.825   0.819    -0.517      0.540\n",
       "3       Tukey  0.010   0.005  2.162  0.033  0.825   0.819     0.001      0.020"
      ]
     },
     "execution_count": 50,
     "metadata": {},
     "output_type": "execute_result"
    }
   ],
   "source": [
    "# square the fitted values for our model, and add them to our dataframe\n",
    "df['Tukey'] = mod2['pred']**2\n",
    "\n",
    "#re-run the model, with squared fitted values added as predictor (here I have called them \"Tukey\")\n",
    "mod_curve_check = pg.linear_regression(df[['dan_sleep', 'baby_sleep', 'Tukey']], df['dan_grump'])\n",
    "mod_curve_check.round(3)"
   ]
  },
  {
   "attachments": {},
   "cell_type": "markdown",
   "id": "df18df5a",
   "metadata": {
    "editable": true,
    "slideshow": {
     "slide_type": ""
    },
    "tags": []
   },
   "source": [
    "Since the $t$-test on the coefficients for new ``Tukey`` predictor is significant ($p$ < 0.05), this suggests that the curvature we see in {numref}`fig-resid1` is genuine, although it still bears remembering that the pattern in {numref}`fig-fitted_v_observed` is pretty damn straight: in other words the deviations from linearity are fairly small, and probably not worth worrying about."
   ]
  },
  {
   "attachments": {},
   "cell_type": "markdown",
   "id": "10695d53",
   "metadata": {
    "editable": true,
    "slideshow": {
     "slide_type": ""
    },
    "tags": []
   },
   "source": [
    "In a lot of cases, the solution to this problem (and many others) is to transform one or more of the variables. We have already discussed the [basics of variable transformation](transform), but I do want to make special note of one additional possibility that I didn't mention earlier: the Box-Cox transform. The Box-Cox function is a fairly simple one, but it's very widely used \n",
    "\n",
    "$$\n",
    "f(x,\\lambda) = \\frac{x^\\lambda - 1}{\\lambda}\n",
    "$$\n",
    "\n",
    "for all values of $\\lambda$ except $\\lambda = 0$. When $\\lambda = 0$ we just take the natural logarithm (i.e., $\\ln(x)$). You can calculate it using the ``boxcox`` function from ``scipy.stats``, which will automatically calculate the optimal value of $\\lambda$. In the case of our ``dan_sleep`` data though, the data were already pretty normally distributed (panel A), so applying the transformation (panel B) really doesn't do much. Now, if only the _quality_ of my sleep could be transformed, and not just the _distribution_, ah, then we would really be on to something!"
   ]
  },
  {
   "cell_type": "code",
   "execution_count": 51,
   "id": "7e60bcee",
   "metadata": {
    "editable": true,
    "slideshow": {
     "slide_type": ""
    },
    "tags": [
     "hide-input"
    ]
   },
   "outputs": [
    {
     "name": "stdout",
     "output_type": "stream",
     "text": [
      "Optimal value for lambda: 1.7912772737277842\n"
     ]
    },
    {
     "data": {
      "application/papermill.record/image/png": "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",
      "application/papermill.record/text/plain": "<Figure size 800x500 with 2 Axes>"
     },
     "metadata": {
      "scrapbook": {
       "mime_prefix": "application/papermill.record/",
       "name": "boxcox-fig"
      }
     },
     "output_type": "display_data"
    }
   ],
   "source": [
    "from scipy.stats import boxcox\n",
    "\n",
    "df['dan_sleep_transformed'], best_lambda = boxcox(df['dan_sleep'])\n",
    "\n",
    "# Define a figure with two panels\n",
    "import matplotlib.pyplot as plt\n",
    "\n",
    "fig, axes = plt.subplots(1, 2, figsize=(8, 5))\n",
    "\n",
    "# Fit linear regressions for both predictors, and plot residuals\n",
    "\n",
    "p1=sns.kdeplot(df['dan_sleep'], ax=axes[0])\n",
    "p2=sns.kdeplot(df['dan_sleep_transformed'], ax=axes[1])\n",
    "\n",
    "# Make figures look nicer\n",
    "for n, ax in enumerate(axes):\n",
    "    ax.text(-0.1, 1.1, string.ascii_uppercase[n], transform=ax.transAxes, \n",
    "            size=20)\n",
    "    ax.grid(False)\n",
    "    sns.despine()\n",
    "\n",
    "subplots=[p1,p2,p3]\n",
    "for p in subplots:\n",
    "    p.tick_params(axis='x', which='both', bottom=False, top=False, labelbottom=False)\n",
    "\n",
    "print('Optimal value for lambda:', best_lambda)\n",
    "\n",
    "\n",
    "# Plot figure in book, with caption\n",
    "plt.close(fig)\n",
    "glue(\"boxcox-fig\", fig, display=False)"
   ]
  },
  {
   "attachments": {},
   "cell_type": "markdown",
   "id": "692b6be8",
   "metadata": {
    "editable": true,
    "slideshow": {
     "slide_type": ""
    },
    "tags": []
   },
   "source": [
    " ```{glue:figure} boxcox-fig\n",
    ":figwidth: 600px\n",
    ":name: fig-boxcox\n",
    "\n",
    "Distribution for the raw ``dan_sleep`` data (panel A) and the distribution same data after a Box-Cox transformation (panel B). In this case, the transformation has not had much of an effect, as the data were reasonably normally-distributed to begin with.\n",
    "\n",
    "```\n"
   ]
  },
  {
   "attachments": {},
   "cell_type": "markdown",
   "id": "8787af7f",
   "metadata": {
    "editable": true,
    "slideshow": {
     "slide_type": ""
    },
    "tags": []
   },
   "source": [
    "(regressionhomogeneity)=\n",
    "### Checking the homogeneity of variance\n",
    "\n",
    "The regression models that we've talked about all make a homogeneity of variance assumption: the variance of the residuals is assumed to be constant. One way to inspect this visually is to use a \"Scale-Location Plot\", which is just a variation on the plots we made in {numref}`fig-resid1`. In a Scale-Location Plot, instead of plotting the fitted values against the raw residuals, we plot them against the square root of the absolute value of the standardized residuals, which can make it easier to visually assess the homogeneity of the variance.\n",
    "\n",
    "As far as I know (and admittedly, that's not so far), there is no ready-made package in Python that will produce a Scale-Location Plot, but if you have made it this far in the book, you already have the knowledge to build one of these yourself. It could go something like this:"
   ]
  },
  {
   "cell_type": "code",
   "execution_count": 52,
   "id": "554b5a3c",
   "metadata": {
    "editable": true,
    "slideshow": {
     "slide_type": ""
    },
    "tags": [
     "hide-input"
    ]
   },
   "outputs": [
    {
     "data": {
      "image/png": "[encoded data removed]",
      "text/plain": [
       "<Figure size 640x480 with 1 Axes>"
      ]
     },
     "metadata": {},
     "output_type": "display_data"
    }
   ],
   "source": [
    "\n",
    "predictors = df[['dan_sleep', 'baby_sleep']]\n",
    "outcome = df['dan_grump']\n",
    "\n",
    "mod2 = pg.linear_regression(predictors, outcome, as_dataframe = False)\n",
    "\n",
    "\n",
    "# Thanks to Ivan Savov (https://github.com/ivanistheone) for contributing this solution for getting the standardized residuals\n",
    "SS_resid = np.sum(mod2[\"residuals\"]**2)\n",
    "n = len(mod2['residuals'])\n",
    "p = len(list(predictors))\n",
    "sigmahat = np.sqrt(abs( SS_resid/(n-p-1) ))\n",
    "stand_res = mod2['residuals'] / sigmahat\n",
    "df_slplot = pd.DataFrame(\n",
    "    {'fitted': mod2['pred'],\n",
    "     'sqrt_abs_stand_res': np.sqrt(np.abs(stand_res))\n",
    "    })\n",
    "\n",
    "\n",
    "fig = plt.figure()\n",
    "\n",
    "ax=sns.regplot(data = df_slplot, x = 'fitted', y = 'sqrt_abs_stand_res', lowess = True, line_kws=dict(color=\"r\"))\n",
    "\n",
    "# Make figures look nicer\n",
    "ax.set_ylabel(r'$\\sqrt{|standardized residuals|}$')\n",
    "ax.set_xlabel('Fitted Values')\n",
    "ax.tick_params(axis='x', which='both', bottom=False, top=False, labelbottom=False)\n",
    "ax.grid(False)\n",
    "sns.despine()\n",
    "\n",
    "\n",
    "\n",
    "# Plot figure in book, with caption\n",
    "\n",
    "#glue(\"sl-plot-fig\", fig, display=False)\n",
    "#plt.close(fig)"
   ]
  },
  {
   "attachments": {},
   "cell_type": "markdown",
   "id": "af65c95d",
   "metadata": {
    "editable": true,
    "slideshow": {
     "slide_type": ""
    },
    "tags": []
   },
   "source": [
    " ```{glue:figure} sl-plot-fig\n",
    ":figwidth: 600px\n",
    ":name: fig_sl-plot\n",
    "\n",
    "Plot of the fitted values (model predictions) against the square root of the abs standardised residuals. This plot is used to diagnose violations of homogeneity of variance. If the variance is really constant, then the line through the middle should be horizontal and flat.\n",
    "\n",
    "```\n"
   ]
  },
  {
   "attachments": {},
   "cell_type": "markdown",
   "id": "e3689558",
   "metadata": {},
   "source": [
    "A slightly more formal approach is to run a hypothesis test such as the Breusch–Pagan test {cite}`breusch1979simple`. Unfortunately, to run the test, we'll have to leave the cozy world of `pingouin` and use `statsmodels` instead, but luckily the code is not complicated. Basically, we just run our regression in `statsmodels` instead of `pinguoin`, and then run the Breusch-Pagan test on the output (see below). I won't go into how it works, other than to say that after we fit our regression model, we then fit _another_ regression model in which we use our predicted values to predict our residuals. We then use something called the \"Lagrange multiplier statistic\" (similar to a $x^2$ test) to check the significance of our new model. If the new model is not significant, this can be used to support the assumption that we are indeed dealing with a relationship that can be modelled linearly."
   ]
  },
  {
   "cell_type": "code",
   "execution_count": 53,
   "id": "1b4b0ee0",
   "metadata": {},
   "outputs": [
    {
     "name": "stdout",
     "output_type": "stream",
     "text": [
      "Lagrange multiplier statistic: 0.4886831614554388\n",
      "p: 0.7832200556890354\n"
     ]
    }
   ],
   "source": [
    "import statsmodels.formula.api as smf\n",
    "import statsmodels.stats.api as sms\n",
    "\n",
    "# fit our regression model using statsmodels\n",
    "fit = smf.ols('dan_grump ~ dan_sleep+baby_sleep', data=df).fit()\n",
    "\n",
    "bptest=sms.diagnostic.het_breuschpagan(fit.resid, fit.model.exog)\n",
    "\n",
    "print('Lagrange multiplier statistic:', bptest[0])\n",
    "print('p:', bptest[1])\n",
    "\n",
    "\n"
   ]
  },
  {
   "attachments": {},
   "cell_type": "markdown",
   "id": "cafb5c9d",
   "metadata": {},
   "source": [
    "We see that our original impression was right: there’s no violations of homogeneity of variance in this data.\n",
    "\n",
    "It’s a bit beyond the scope of this chapter to talk too much about how to deal with violations of homogeneity of variance, but I’ll give you a quick sense of what you need to consider. The main thing to worry about, if homogeneity of variance is violated, is that the standard error estimates associated with the regression coefficients are no longer entirely reliable, and so your $t$-tests for the coefficients aren’t quite right either. A simple fix to the problem is to make use of a “heteroscedasticity corrected covariance matrix” when estimating the standard errors. \n",
    "\n",
    "Again, this goes beyond what we can do with `pingouin`, but `statmodels` can get us there. Before I show you how, let's just re-assure ourselves that both `pingouin` and `statsmodels` are doing the same basic calculations when we fit our regression models. We'll start by re-running our mulitiple regression with `pingouin`, but I'll bump up the number of decimal places that we round our answer to, so that it is easier to compare with the `statsmodels` output:"
   ]
  },
  {
   "cell_type": "code",
   "execution_count": 54,
   "id": "7f78b86a",
   "metadata": {},
   "outputs": [
    {
     "data": {
      "text/html": [
       "<div>\n",
       "<style scoped>\n",
       "    .dataframe tbody tr th:only-of-type {\n",
       "        vertical-align: middle;\n",
       "    }\n",
       "\n",
       "    .dataframe tbody tr th {\n",
       "        vertical-align: top;\n",
       "    }\n",
       "\n",
       "    .dataframe thead th {\n",
       "        text-align: right;\n",
       "    }\n",
       "</style>\n",
       "<table border=\"1\" class=\"dataframe\">\n",
       "  <thead>\n",
       "    <tr style=\"text-align: right;\">\n",
       "      <th></th>\n",
       "      <th>names</th>\n",
       "      <th>coef</th>\n",
       "      <th>se</th>\n",
       "      <th>T</th>\n",
       "      <th>pval</th>\n",
       "      <th>r2</th>\n",
       "      <th>adj_r2</th>\n",
       "      <th>CI[2.5%]</th>\n",
       "      <th>CI[97.5%]</th>\n",
       "    </tr>\n",
       "  </thead>\n",
       "  <tbody>\n",
       "    <tr>\n",
       "      <th>0</th>\n",
       "      <td>Intercept</td>\n",
       "      <td>125.9656</td>\n",
       "      <td>3.0409</td>\n",
       "      <td>41.4231</td>\n",
       "      <td>0.0000</td>\n",
       "      <td>0.8161</td>\n",
       "      <td>0.8123</td>\n",
       "      <td>119.9301</td>\n",
       "      <td>132.0010</td>\n",
       "    </tr>\n",
       "    <tr>\n",
       "      <th>1</th>\n",
       "      <td>dan_sleep</td>\n",
       "      <td>-8.9502</td>\n",
       "      <td>0.5535</td>\n",
       "      <td>-16.1715</td>\n",
       "      <td>0.0000</td>\n",
       "      <td>0.8161</td>\n",
       "      <td>0.8123</td>\n",
       "      <td>-10.0487</td>\n",
       "      <td>-7.8518</td>\n",
       "    </tr>\n",
       "    <tr>\n",
       "      <th>2</th>\n",
       "      <td>baby_sleep</td>\n",
       "      <td>0.0105</td>\n",
       "      <td>0.2711</td>\n",
       "      <td>0.0388</td>\n",
       "      <td>0.9691</td>\n",
       "      <td>0.8161</td>\n",
       "      <td>0.8123</td>\n",
       "      <td>-0.5275</td>\n",
       "      <td>0.5485</td>\n",
       "    </tr>\n",
       "  </tbody>\n",
       "</table>\n",
       "</div>"
      ],
      "text/plain": [
       "        names      coef      se        T    pval      r2  adj_r2  CI[2.5%]  \\\n",
       "0   Intercept  125.9656  3.0409  41.4231  0.0000  0.8161  0.8123  119.9301   \n",
       "1   dan_sleep   -8.9502  0.5535 -16.1715  0.0000  0.8161  0.8123  -10.0487   \n",
       "2  baby_sleep    0.0105  0.2711   0.0388  0.9691  0.8161  0.8123   -0.5275   \n",
       "\n",
       "   CI[97.5%]  \n",
       "0   132.0010  \n",
       "1    -7.8518  \n",
       "2     0.5485  "
      ]
     },
     "execution_count": 54,
     "metadata": {},
     "output_type": "execute_result"
    }
   ],
   "source": [
    "predictors = df[['dan_sleep', 'baby_sleep']]\n",
    "outcome = df['dan_grump']\n",
    "\n",
    "mod2 = pg.linear_regression(predictors, outcome)\n",
    "mod2.round(4)"
   ]
  },
  {
   "attachments": {},
   "cell_type": "markdown",
   "id": "0ad3c960",
   "metadata": {},
   "source": [
    "Next, we'll fit the same model, but using `statsmodels` instead:"
   ]
  },
  {
   "cell_type": "code",
   "execution_count": 55,
   "id": "6cf22983",
   "metadata": {},
   "outputs": [
    {
     "data": {
      "text/html": [
       "<table class=\"simpletable\">\n",
       "<caption>OLS Regression Results</caption>\n",
       "<tr>\n",
       "  <th>Dep. Variable:</th>        <td>dan_grump</td>    <th>  R-squared:         </th> <td>   0.816</td>\n",
       "</tr>\n",
       "<tr>\n",
       "  <th>Model:</th>                   <td>OLS</td>       <th>  Adj. R-squared:    </th> <td>   0.812</td>\n",
       "</tr>\n",
       "<tr>\n",
       "  <th>Method:</th>             <td>Least Squares</td>  <th>  F-statistic:       </th> <td>   215.2</td>\n",
       "</tr>\n",
       "<tr>\n",
       "  <th>Date:</th>             <td>Mon, 03 Feb 2025</td> <th>  Prob (F-statistic):</th> <td>2.15e-36</td>\n",
       "</tr>\n",
       "<tr>\n",
       "  <th>Time:</th>                 <td>14:43:54</td>     <th>  Log-Likelihood:    </th> <td> -287.48</td>\n",
       "</tr>\n",
       "<tr>\n",
       "  <th>No. Observations:</th>      <td>   100</td>      <th>  AIC:               </th> <td>   581.0</td>\n",
       "</tr>\n",
       "<tr>\n",
       "  <th>Df Residuals:</th>          <td>    97</td>      <th>  BIC:               </th> <td>   588.8</td>\n",
       "</tr>\n",
       "<tr>\n",
       "  <th>Df Model:</th>              <td>     2</td>      <th>                     </th>     <td> </td>   \n",
       "</tr>\n",
       "<tr>\n",
       "  <th>Covariance Type:</th>      <td>nonrobust</td>    <th>                     </th>     <td> </td>   \n",
       "</tr>\n",
       "</table>\n",
       "<table class=\"simpletable\">\n",
       "<tr>\n",
       "       <td></td>         <th>coef</th>     <th>std err</th>      <th>t</th>      <th>P>|t|</th>  <th>[0.025</th>    <th>0.975]</th>  \n",
       "</tr>\n",
       "<tr>\n",
       "  <th>Intercept</th>  <td>  125.9656</td> <td>    3.041</td> <td>   41.423</td> <td> 0.000</td> <td>  119.930</td> <td>  132.001</td>\n",
       "</tr>\n",
       "<tr>\n",
       "  <th>dan_sleep</th>  <td>   -8.9502</td> <td>    0.553</td> <td>  -16.172</td> <td> 0.000</td> <td>  -10.049</td> <td>   -7.852</td>\n",
       "</tr>\n",
       "<tr>\n",
       "  <th>baby_sleep</th> <td>    0.0105</td> <td>    0.271</td> <td>    0.039</td> <td> 0.969</td> <td>   -0.527</td> <td>    0.549</td>\n",
       "</tr>\n",
       "</table>\n",
       "<table class=\"simpletable\">\n",
       "<tr>\n",
       "  <th>Omnibus:</th>       <td> 0.593</td> <th>  Durbin-Watson:     </th> <td>   2.120</td>\n",
       "</tr>\n",
       "<tr>\n",
       "  <th>Prob(Omnibus):</th> <td> 0.743</td> <th>  Jarque-Bera (JB):  </th> <td>   0.218</td>\n",
       "</tr>\n",
       "<tr>\n",
       "  <th>Skew:</th>          <td>-0.053</td> <th>  Prob(JB):          </th> <td>   0.897</td>\n",
       "</tr>\n",
       "<tr>\n",
       "  <th>Kurtosis:</th>      <td> 3.203</td> <th>  Cond. No.          </th> <td>    76.9</td>\n",
       "</tr>\n",
       "</table><br/><br/>Notes:<br/>[1] Standard Errors assume that the covariance matrix of the errors is correctly specified."
      ],
      "text/latex": [
       "\\begin{center}\n",
       "\\begin{tabular}{lclc}\n",
       "\\toprule\n",
       "\\textbf{Dep. Variable:}    &    dan\\_grump    & \\textbf{  R-squared:         } &     0.816   \\\\\n",
       "\\textbf{Model:}            &       OLS        & \\textbf{  Adj. R-squared:    } &     0.812   \\\\\n",
       "\\textbf{Method:}           &  Least Squares   & \\textbf{  F-statistic:       } &     215.2   \\\\\n",
       "\\textbf{Date:}             & Mon, 03 Feb 2025 & \\textbf{  Prob (F-statistic):} &  2.15e-36   \\\\\n",
       "\\textbf{Time:}             &     14:43:54     & \\textbf{  Log-Likelihood:    } &   -287.48   \\\\\n",
       "\\textbf{No. Observations:} &         100      & \\textbf{  AIC:               } &     581.0   \\\\\n",
       "\\textbf{Df Residuals:}     &          97      & \\textbf{  BIC:               } &     588.8   \\\\\n",
       "\\textbf{Df Model:}         &           2      & \\textbf{                     } &             \\\\\n",
       "\\textbf{Covariance Type:}  &    nonrobust     & \\textbf{                     } &             \\\\\n",
       "\\bottomrule\n",
       "\\end{tabular}\n",
       "\\begin{tabular}{lcccccc}\n",
       "                     & \\textbf{coef} & \\textbf{std err} & \\textbf{t} & \\textbf{P$> |$t$|$} & \\textbf{[0.025} & \\textbf{0.975]}  \\\\\n",
       "\\midrule\n",
       "\\textbf{Intercept}   &     125.9656  &        3.041     &    41.423  &         0.000        &      119.930    &      132.001     \\\\\n",
       "\\textbf{dan\\_sleep}  &      -8.9502  &        0.553     &   -16.172  &         0.000        &      -10.049    &       -7.852     \\\\\n",
       "\\textbf{baby\\_sleep} &       0.0105  &        0.271     &     0.039  &         0.969        &       -0.527    &        0.549     \\\\\n",
       "\\bottomrule\n",
       "\\end{tabular}\n",
       "\\begin{tabular}{lclc}\n",
       "\\textbf{Omnibus:}       &  0.593 & \\textbf{  Durbin-Watson:     } &    2.120  \\\\\n",
       "\\textbf{Prob(Omnibus):} &  0.743 & \\textbf{  Jarque-Bera (JB):  } &    0.218  \\\\\n",
       "\\textbf{Skew:}          & -0.053 & \\textbf{  Prob(JB):          } &    0.897  \\\\\n",
       "\\textbf{Kurtosis:}      &  3.203 & \\textbf{  Cond. No.          } &     76.9  \\\\\n",
       "\\bottomrule\n",
       "\\end{tabular}\n",
       "%\\caption{OLS Regression Results}\n",
       "\\end{center}\n",
       "\n",
       "Notes: \\newline\n",
       " [1] Standard Errors assume that the covariance matrix of the errors is correctly specified."
      ],
      "text/plain": [
       "<class 'statsmodels.iolib.summary.Summary'>\n",
       "\"\"\"\n",
       "                            OLS Regression Results                            \n",
       "==============================================================================\n",
       "Dep. Variable:              dan_grump   R-squared:                       0.816\n",
       "Model:                            OLS   Adj. R-squared:                  0.812\n",
       "Method:                 Least Squares   F-statistic:                     215.2\n",
       "Date:                Mon, 03 Feb 2025   Prob (F-statistic):           2.15e-36\n",
       "Time:                        14:43:54   Log-Likelihood:                -287.48\n",
       "No. Observations:                 100   AIC:                             581.0\n",
       "Df Residuals:                      97   BIC:                             588.8\n",
       "Df Model:                           2                                         \n",
       "Covariance Type:            nonrobust                                         \n",
       "==============================================================================\n",
       "                 coef    std err          t      P>|t|      [0.025      0.975]\n",
       "------------------------------------------------------------------------------\n",
       "Intercept    125.9656      3.041     41.423      0.000     119.930     132.001\n",
       "dan_sleep     -8.9502      0.553    -16.172      0.000     -10.049      -7.852\n",
       "baby_sleep     0.0105      0.271      0.039      0.969      -0.527       0.549\n",
       "==============================================================================\n",
       "Omnibus:                        0.593   Durbin-Watson:                   2.120\n",
       "Prob(Omnibus):                  0.743   Jarque-Bera (JB):                0.218\n",
       "Skew:                          -0.053   Prob(JB):                        0.897\n",
       "Kurtosis:                       3.203   Cond. No.                         76.9\n",
       "==============================================================================\n",
       "\n",
       "Notes:\n",
       "[1] Standard Errors assume that the covariance matrix of the errors is correctly specified.\n",
       "\"\"\""
      ]
     },
     "execution_count": 55,
     "metadata": {},
     "output_type": "execute_result"
    }
   ],
   "source": [
    "smf.ols('dan_grump ~ dan_sleep+baby_sleep', data=df).fit().summary()"
   ]
  },
  {
   "attachments": {},
   "cell_type": "markdown",
   "id": "1fb72643",
   "metadata": {},
   "source": [
    "Of course, `statsmodels` gives us way more information than `pingouin`, but if you hunt around in the output for the key things we are used to talking about (the coefficients for `dan_sleep` and `baby_sleep`, the t-values, the $R^2$ and adjusted $R^2$, etc.) it's all pretty much the same, right?\n",
    "\n",
    "Good. Now, we'll re-fit our regression model, but ask `statmodels` to take the potential non-homogeneity (aka the heteroskedasticity) of variance in our model into account by specifying a ``cov_type``, that is, the type of \"robust sandwich estimator\" we want to use. Yes. It really is called a \"robust sandwich estimator\". I'm not even kidding.[^sandwich]\n",
    "\n",
    "[^sandwich]: Again, a footnote that should be read only by the two readers of this book that love linear algebra (mmmm... I love the smell of matrix computations in the morning; smells like... nerd). In these estimators, the covariance matrix for $b$ is given by $(X^T X)^{-1}\\  X^T \\Sigma X \\ (X^T X)^{-1}$. See, it's a \"sandwich\"? Assuming you think that  $(X^T X)^{-1} = \\text{\"bread\"}$ and  $X^T \\Sigma X = \\text{\"filling\"}$, that is. Which of course everyone does, right? In any case, the usual estimator is what you get when you set $\\Sigma = \\hat\\sigma^2 I$. But there are others. For instance, the corrected version that I learned originally uses $\\Sigma = \\text{diag}(\\epsilon_i^2)$ {cite}`White1980`. `statsmodels` gives you a choice of four different sandwich estimators you can use, but not (at least that I can find today on June 21 2023) a lot of information on what they actually are, or references for where they come from, so if you _really_ need this information, you'll have to do your own digging. Sorry."
   ]
  },
  {
   "cell_type": "code",
   "execution_count": 56,
   "id": "3588a5e1",
   "metadata": {},
   "outputs": [
    {
     "data": {
      "text/html": [
       "<table class=\"simpletable\">\n",
       "<caption>OLS Regression Results</caption>\n",
       "<tr>\n",
       "  <th>Dep. Variable:</th>        <td>dan_grump</td>    <th>  R-squared:         </th> <td>   0.816</td>\n",
       "</tr>\n",
       "<tr>\n",
       "  <th>Model:</th>                   <td>OLS</td>       <th>  Adj. R-squared:    </th> <td>   0.812</td>\n",
       "</tr>\n",
       "<tr>\n",
       "  <th>Method:</th>             <td>Least Squares</td>  <th>  F-statistic:       </th> <td>   201.7</td>\n",
       "</tr>\n",
       "<tr>\n",
       "  <th>Date:</th>             <td>Mon, 03 Feb 2025</td> <th>  Prob (F-statistic):</th> <td>2.78e-35</td>\n",
       "</tr>\n",
       "<tr>\n",
       "  <th>Time:</th>                 <td>14:44:20</td>     <th>  Log-Likelihood:    </th> <td> -287.48</td>\n",
       "</tr>\n",
       "<tr>\n",
       "  <th>No. Observations:</th>      <td>   100</td>      <th>  AIC:               </th> <td>   581.0</td>\n",
       "</tr>\n",
       "<tr>\n",
       "  <th>Df Residuals:</th>          <td>    97</td>      <th>  BIC:               </th> <td>   588.8</td>\n",
       "</tr>\n",
       "<tr>\n",
       "  <th>Df Model:</th>              <td>     2</td>      <th>                     </th>     <td> </td>   \n",
       "</tr>\n",
       "<tr>\n",
       "  <th>Covariance Type:</th>         <td>HC1</td>       <th>                     </th>     <td> </td>   \n",
       "</tr>\n",
       "</table>\n",
       "<table class=\"simpletable\">\n",
       "<tr>\n",
       "       <td></td>         <th>coef</th>     <th>std err</th>      <th>z</th>      <th>P>|z|</th>  <th>[0.025</th>    <th>0.975]</th>  \n",
       "</tr>\n",
       "<tr>\n",
       "  <th>Intercept</th>  <td>  125.9656</td> <td>    3.149</td> <td>   39.996</td> <td> 0.000</td> <td>  119.793</td> <td>  132.138</td>\n",
       "</tr>\n",
       "<tr>\n",
       "  <th>dan_sleep</th>  <td>   -8.9502</td> <td>    0.597</td> <td>  -14.987</td> <td> 0.000</td> <td>  -10.121</td> <td>   -7.780</td>\n",
       "</tr>\n",
       "<tr>\n",
       "  <th>baby_sleep</th> <td>    0.0105</td> <td>    0.282</td> <td>    0.037</td> <td> 0.970</td> <td>   -0.541</td> <td>    0.563</td>\n",
       "</tr>\n",
       "</table>\n",
       "<table class=\"simpletable\">\n",
       "<tr>\n",
       "  <th>Omnibus:</th>       <td> 0.593</td> <th>  Durbin-Watson:     </th> <td>   2.120</td>\n",
       "</tr>\n",
       "<tr>\n",
       "  <th>Prob(Omnibus):</th> <td> 0.743</td> <th>  Jarque-Bera (JB):  </th> <td>   0.218</td>\n",
       "</tr>\n",
       "<tr>\n",
       "  <th>Skew:</th>          <td>-0.053</td> <th>  Prob(JB):          </th> <td>   0.897</td>\n",
       "</tr>\n",
       "<tr>\n",
       "  <th>Kurtosis:</th>      <td> 3.203</td> <th>  Cond. No.          </th> <td>    76.9</td>\n",
       "</tr>\n",
       "</table><br/><br/>Notes:<br/>[1] Standard Errors are heteroscedasticity robust (HC1)"
      ],
      "text/latex": [
       "\\begin{center}\n",
       "\\begin{tabular}{lclc}\n",
       "\\toprule\n",
       "\\textbf{Dep. Variable:}    &    dan\\_grump    & \\textbf{  R-squared:         } &     0.816   \\\\\n",
       "\\textbf{Model:}            &       OLS        & \\textbf{  Adj. R-squared:    } &     0.812   \\\\\n",
       "\\textbf{Method:}           &  Least Squares   & \\textbf{  F-statistic:       } &     201.7   \\\\\n",
       "\\textbf{Date:}             & Mon, 03 Feb 2025 & \\textbf{  Prob (F-statistic):} &  2.78e-35   \\\\\n",
       "\\textbf{Time:}             &     14:44:20     & \\textbf{  Log-Likelihood:    } &   -287.48   \\\\\n",
       "\\textbf{No. Observations:} &         100      & \\textbf{  AIC:               } &     581.0   \\\\\n",
       "\\textbf{Df Residuals:}     &          97      & \\textbf{  BIC:               } &     588.8   \\\\\n",
       "\\textbf{Df Model:}         &           2      & \\textbf{                     } &             \\\\\n",
       "\\textbf{Covariance Type:}  &       HC1        & \\textbf{                     } &             \\\\\n",
       "\\bottomrule\n",
       "\\end{tabular}\n",
       "\\begin{tabular}{lcccccc}\n",
       "                     & \\textbf{coef} & \\textbf{std err} & \\textbf{z} & \\textbf{P$> |$z$|$} & \\textbf{[0.025} & \\textbf{0.975]}  \\\\\n",
       "\\midrule\n",
       "\\textbf{Intercept}   &     125.9656  &        3.149     &    39.996  &         0.000        &      119.793    &      132.138     \\\\\n",
       "\\textbf{dan\\_sleep}  &      -8.9502  &        0.597     &   -14.987  &         0.000        &      -10.121    &       -7.780     \\\\\n",
       "\\textbf{baby\\_sleep} &       0.0105  &        0.282     &     0.037  &         0.970        &       -0.541    &        0.563     \\\\\n",
       "\\bottomrule\n",
       "\\end{tabular}\n",
       "\\begin{tabular}{lclc}\n",
       "\\textbf{Omnibus:}       &  0.593 & \\textbf{  Durbin-Watson:     } &    2.120  \\\\\n",
       "\\textbf{Prob(Omnibus):} &  0.743 & \\textbf{  Jarque-Bera (JB):  } &    0.218  \\\\\n",
       "\\textbf{Skew:}          & -0.053 & \\textbf{  Prob(JB):          } &    0.897  \\\\\n",
       "\\textbf{Kurtosis:}      &  3.203 & \\textbf{  Cond. No.          } &     76.9  \\\\\n",
       "\\bottomrule\n",
       "\\end{tabular}\n",
       "%\\caption{OLS Regression Results}\n",
       "\\end{center}\n",
       "\n",
       "Notes: \\newline\n",
       " [1] Standard Errors are heteroscedasticity robust (HC1)"
      ],
      "text/plain": [
       "<class 'statsmodels.iolib.summary.Summary'>\n",
       "\"\"\"\n",
       "                            OLS Regression Results                            \n",
       "==============================================================================\n",
       "Dep. Variable:              dan_grump   R-squared:                       0.816\n",
       "Model:                            OLS   Adj. R-squared:                  0.812\n",
       "Method:                 Least Squares   F-statistic:                     201.7\n",
       "Date:                Mon, 03 Feb 2025   Prob (F-statistic):           2.78e-35\n",
       "Time:                        14:44:20   Log-Likelihood:                -287.48\n",
       "No. Observations:                 100   AIC:                             581.0\n",
       "Df Residuals:                      97   BIC:                             588.8\n",
       "Df Model:                           2                                         \n",
       "Covariance Type:                  HC1                                         \n",
       "==============================================================================\n",
       "                 coef    std err          z      P>|z|      [0.025      0.975]\n",
       "------------------------------------------------------------------------------\n",
       "Intercept    125.9656      3.149     39.996      0.000     119.793     132.138\n",
       "dan_sleep     -8.9502      0.597    -14.987      0.000     -10.121      -7.780\n",
       "baby_sleep     0.0105      0.282      0.037      0.970      -0.541       0.563\n",
       "==============================================================================\n",
       "Omnibus:                        0.593   Durbin-Watson:                   2.120\n",
       "Prob(Omnibus):                  0.743   Jarque-Bera (JB):                0.218\n",
       "Skew:                          -0.053   Prob(JB):                        0.897\n",
       "Kurtosis:                       3.203   Cond. No.                         76.9\n",
       "==============================================================================\n",
       "\n",
       "Notes:\n",
       "[1] Standard Errors are heteroscedasticity robust (HC1)\n",
       "\"\"\""
      ]
     },
     "execution_count": 56,
     "metadata": {},
     "output_type": "execute_result"
    }
   ],
   "source": [
    "smf.ols('dan_grump ~ dan_sleep+baby_sleep', data=df).fit(cov_type='HC1').summary()"
   ]
  },
  {
   "attachments": {},
   "cell_type": "markdown",
   "id": "860244c9",
   "metadata": {},
   "source": [
    "Not surprisingly, the $z$-values are pretty similar to the $t$-values that we saw when we fit our basic, non-robust regression, because the homogeneity of variance assumption wasn’t violated in our data anyway. But if it had been, we might have seen some more substantial differences."
   ]
  },
  {
   "attachments": {},
   "cell_type": "markdown",
   "id": "cbb97f5f",
   "metadata": {},
   "source": [
    "(regressioncollinearity)=\n",
    "### Checking for collinearity\n",
    "\n",
    "The last kind of regression diagnostic that I'm going to discuss in this chapter is the use of **_variance inflation factors_** (VIFs), which are useful for determining whether or not the predictors in your regression model are too highly correlated with each other. There is a variance inflation factor associated with each predictor $X_k$ in the model, and the formula for the $k$-th VIF is:\n",
    "\n",
    "$$\n",
    "\\text{VIF}_k = \\frac{1}{1-{R^2_{(-k)}}}\n",
    "$$\n",
    "\n",
    "where $R^2_{(-k)}$ refers to $R$-squared value you would get if you ran a regression using $X_k$ as the outcome variable, and all the other $X$ variables as the predictors. The idea here is that $R^2_{(-k)}$ is a very good measure of the extent to which $X_k$ is correlated with all the other variables in the model. Better yet, the square root of the VIF is pretty interpretable: it tells you how much wider the confidence interval for the corresponding coefficient $b_k$ is, relative to what you would have expected if the predictors are all nice and uncorrelated with one another. If you've only got two predictors, the VIF values are always going to be the same, as we can see if we use the ``variance_inflation_factor`` function from ``statsmodels``.\n",
    "\n",
    "First, we need a dataframe with our predictor variables as columns, plus a column with a constant value representing the model intercept:"
   ]
  },
  {
   "attachments": {},
   "cell_type": "markdown",
   "id": "a5fdf7e5",
   "metadata": {},
   "source": []
  },
  {
   "cell_type": "code",
   "execution_count": 57,
   "id": "d3ccbeda",
   "metadata": {},
   "outputs": [
    {
     "data": {
      "text/html": [
       "<div>\n",
       "<style scoped>\n",
       "    .dataframe tbody tr th:only-of-type {\n",
       "        vertical-align: middle;\n",
       "    }\n",
       "\n",
       "    .dataframe tbody tr th {\n",
       "        vertical-align: top;\n",
       "    }\n",
       "\n",
       "    .dataframe thead th {\n",
       "        text-align: right;\n",
       "    }\n",
       "</style>\n",
       "<table border=\"1\" class=\"dataframe\">\n",
       "  <thead>\n",
       "    <tr style=\"text-align: right;\">\n",
       "      <th></th>\n",
       "      <th>Intercept</th>\n",
       "      <th>dan_sleep</th>\n",
       "      <th>baby_sleep</th>\n",
       "    </tr>\n",
       "  </thead>\n",
       "  <tbody>\n",
       "    <tr>\n",
       "      <th>0</th>\n",
       "      <td>1</td>\n",
       "      <td>7.59</td>\n",
       "      <td>10.18</td>\n",
       "    </tr>\n",
       "    <tr>\n",
       "      <th>1</th>\n",
       "      <td>1</td>\n",
       "      <td>7.91</td>\n",
       "      <td>11.66</td>\n",
       "    </tr>\n",
       "    <tr>\n",
       "      <th>2</th>\n",
       "      <td>1</td>\n",
       "      <td>5.14</td>\n",
       "      <td>7.92</td>\n",
       "    </tr>\n",
       "    <tr>\n",
       "      <th>3</th>\n",
       "      <td>1</td>\n",
       "      <td>7.71</td>\n",
       "      <td>9.61</td>\n",
       "    </tr>\n",
       "    <tr>\n",
       "      <th>4</th>\n",
       "      <td>1</td>\n",
       "      <td>6.68</td>\n",
       "      <td>9.75</td>\n",
       "    </tr>\n",
       "  </tbody>\n",
       "</table>\n",
       "</div>"
      ],
      "text/plain": [
       "   Intercept  dan_sleep  baby_sleep\n",
       "0          1       7.59       10.18\n",
       "1          1       7.91       11.66\n",
       "2          1       5.14        7.92\n",
       "3          1       7.71        9.61\n",
       "4          1       6.68        9.75"
      ]
     },
     "execution_count": 57,
     "metadata": {},
     "output_type": "execute_result"
    }
   ],
   "source": [
    "matrix = pd.DataFrame({'Intercept': [1]*len(df['dan_sleep']),\n",
    "                       'dan_sleep': df['dan_sleep'], \n",
    "                       'baby_sleep': df['baby_sleep']})\n",
    "matrix.head()\n"
   ]
  },
  {
   "attachments": {},
   "cell_type": "markdown",
   "id": "1857f79b",
   "metadata": {},
   "source": [
    "Then, we can calculate the VIF for each predictor and put the results in a dataframe:"
   ]
  },
  {
   "cell_type": "code",
   "execution_count": 58,
   "id": "c433a0f4",
   "metadata": {},
   "outputs": [
    {
     "data": {
      "text/html": [
       "<div>\n",
       "<style scoped>\n",
       "    .dataframe tbody tr th:only-of-type {\n",
       "        vertical-align: middle;\n",
       "    }\n",
       "\n",
       "    .dataframe tbody tr th {\n",
       "        vertical-align: top;\n",
       "    }\n",
       "\n",
       "    .dataframe thead th {\n",
       "        text-align: right;\n",
       "    }\n",
       "</style>\n",
       "<table border=\"1\" class=\"dataframe\">\n",
       "  <thead>\n",
       "    <tr style=\"text-align: right;\">\n",
       "      <th></th>\n",
       "      <th>VIF</th>\n",
       "      <th>variable</th>\n",
       "    </tr>\n",
       "  </thead>\n",
       "  <tbody>\n",
       "    <tr>\n",
       "      <th>0</th>\n",
       "      <td>48.784569</td>\n",
       "      <td>Intercept</td>\n",
       "    </tr>\n",
       "    <tr>\n",
       "      <th>1</th>\n",
       "      <td>1.651038</td>\n",
       "      <td>dan_sleep</td>\n",
       "    </tr>\n",
       "    <tr>\n",
       "      <th>2</th>\n",
       "      <td>1.651038</td>\n",
       "      <td>baby_sleep</td>\n",
       "    </tr>\n",
       "  </tbody>\n",
       "</table>\n",
       "</div>"
      ],
      "text/plain": [
       "         VIF    variable\n",
       "0  48.784569   Intercept\n",
       "1   1.651038   dan_sleep\n",
       "2   1.651038  baby_sleep"
      ]
     },
     "execution_count": 58,
     "metadata": {},
     "output_type": "execute_result"
    }
   ],
   "source": [
    "from statsmodels.stats.outliers_influence import variance_inflation_factor\n",
    "\n",
    "vif = pd.DataFrame()\n",
    "vif['VIF'] = [variance_inflation_factor(matrix.values, i) for i in range(matrix.shape[1])]\n",
    "vif['variable'] = matrix.columns\n",
    "vif\n"
   ]
  },
  {
   "attachments": {},
   "cell_type": "markdown",
   "id": "8da33b9d",
   "metadata": {},
   "source": [
    "And since the square root of 1.65 is 1.28, which isn't really a huge change in the confidence intervals for our predictors, we see that the correlation between our two predictors isn’t causing much of a problem.\n",
    "\n",
    "To give a sense of how we could end up with a model that has bigger collinearity problems, suppose I were to run a much less interesting regression model, in which I tried to predict the day on which the data were collected, as a function of all the other variables in the data set. To see why this would be a bit of a problem, let’s have a look at the correlation matrix for all four variables:"
   ]
  },
  {
   "cell_type": "code",
   "execution_count": 59,
   "id": "0d9d96d6",
   "metadata": {},
   "outputs": [
    {
     "data": {
      "text/html": [
       "<div>\n",
       "<style scoped>\n",
       "    .dataframe tbody tr th:only-of-type {\n",
       "        vertical-align: middle;\n",
       "    }\n",
       "\n",
       "    .dataframe tbody tr th {\n",
       "        vertical-align: top;\n",
       "    }\n",
       "\n",
       "    .dataframe thead th {\n",
       "        text-align: right;\n",
       "    }\n",
       "</style>\n",
       "<table border=\"1\" class=\"dataframe\">\n",
       "  <thead>\n",
       "    <tr style=\"text-align: right;\">\n",
       "      <th></th>\n",
       "      <th>dan_sleep</th>\n",
       "      <th>baby_sleep</th>\n",
       "      <th>dan_grump</th>\n",
       "      <th>day</th>\n",
       "      <th>Tukey</th>\n",
       "      <th>dan_sleep_transformed</th>\n",
       "    </tr>\n",
       "  </thead>\n",
       "  <tbody>\n",
       "    <tr>\n",
       "      <th>dan_sleep</th>\n",
       "      <td>1.000000</td>\n",
       "      <td>0.627949</td>\n",
       "      <td>-0.903384</td>\n",
       "      <td>-0.098408</td>\n",
       "      <td>-0.997024</td>\n",
       "      <td>0.997866</td>\n",
       "    </tr>\n",
       "    <tr>\n",
       "      <th>baby_sleep</th>\n",
       "      <td>0.627949</td>\n",
       "      <td>1.000000</td>\n",
       "      <td>-0.565964</td>\n",
       "      <td>-0.010434</td>\n",
       "      <td>-0.626177</td>\n",
       "      <td>0.625397</td>\n",
       "    </tr>\n",
       "    <tr>\n",
       "      <th>dan_grump</th>\n",
       "      <td>-0.903384</td>\n",
       "      <td>-0.565964</td>\n",
       "      <td>1.000000</td>\n",
       "      <td>0.076479</td>\n",
       "      <td>0.907817</td>\n",
       "      <td>-0.895394</td>\n",
       "    </tr>\n",
       "    <tr>\n",
       "      <th>day</th>\n",
       "      <td>-0.098408</td>\n",
       "      <td>-0.010434</td>\n",
       "      <td>0.076479</td>\n",
       "      <td>1.000000</td>\n",
       "      <td>0.103952</td>\n",
       "      <td>-0.093393</td>\n",
       "    </tr>\n",
       "    <tr>\n",
       "      <th>Tukey</th>\n",
       "      <td>-0.997024</td>\n",
       "      <td>-0.626177</td>\n",
       "      <td>0.907817</td>\n",
       "      <td>0.103952</td>\n",
       "      <td>1.000000</td>\n",
       "      <td>-0.989864</td>\n",
       "    </tr>\n",
       "    <tr>\n",
       "      <th>dan_sleep_transformed</th>\n",
       "      <td>0.997866</td>\n",
       "      <td>0.625397</td>\n",
       "      <td>-0.895394</td>\n",
       "      <td>-0.093393</td>\n",
       "      <td>-0.989864</td>\n",
       "      <td>1.000000</td>\n",
       "    </tr>\n",
       "  </tbody>\n",
       "</table>\n",
       "</div>"
      ],
      "text/plain": [
       "                       dan_sleep  baby_sleep  dan_grump       day     Tukey  \\\n",
       "dan_sleep               1.000000    0.627949  -0.903384 -0.098408 -0.997024   \n",
       "baby_sleep              0.627949    1.000000  -0.565964 -0.010434 -0.626177   \n",
       "dan_grump              -0.903384   -0.565964   1.000000  0.076479  0.907817   \n",
       "day                    -0.098408   -0.010434   0.076479  1.000000  0.103952   \n",
       "Tukey                  -0.997024   -0.626177   0.907817  0.103952  1.000000   \n",
       "dan_sleep_transformed   0.997866    0.625397  -0.895394 -0.093393 -0.989864   \n",
       "\n",
       "                       dan_sleep_transformed  \n",
       "dan_sleep                           0.997866  \n",
       "baby_sleep                          0.625397  \n",
       "dan_grump                          -0.895394  \n",
       "day                                -0.093393  \n",
       "Tukey                              -0.989864  \n",
       "dan_sleep_transformed               1.000000  "
      ]
     },
     "execution_count": 59,
     "metadata": {},
     "output_type": "execute_result"
    }
   ],
   "source": [
    "df.corr()"
   ]
  },
  {
   "attachments": {},
   "cell_type": "markdown",
   "id": "98f6a09e",
   "metadata": {},
   "source": [
    "We have some fairly large correlations between some of our predictor variables! When we run the regression model and look at the VIF values, we see that the collinearity is causing a lot of uncertainty about the coefficients. First, we'll add the ``day`` column and the ``dan_grump`` column to our ``matrix`` dataframe..."
   ]
  },
  {
   "cell_type": "code",
   "execution_count": 60,
   "id": "e0029a83",
   "metadata": {},
   "outputs": [
    {
     "data": {
      "text/html": [
       "<div>\n",
       "<style scoped>\n",
       "    .dataframe tbody tr th:only-of-type {\n",
       "        vertical-align: middle;\n",
       "    }\n",
       "\n",
       "    .dataframe tbody tr th {\n",
       "        vertical-align: top;\n",
       "    }\n",
       "\n",
       "    .dataframe thead th {\n",
       "        text-align: right;\n",
       "    }\n",
       "</style>\n",
       "<table border=\"1\" class=\"dataframe\">\n",
       "  <thead>\n",
       "    <tr style=\"text-align: right;\">\n",
       "      <th></th>\n",
       "      <th>Intercept</th>\n",
       "      <th>dan_sleep</th>\n",
       "      <th>baby_sleep</th>\n",
       "      <th>dan_grump</th>\n",
       "      <th>day</th>\n",
       "    </tr>\n",
       "  </thead>\n",
       "  <tbody>\n",
       "    <tr>\n",
       "      <th>0</th>\n",
       "      <td>1</td>\n",
       "      <td>7.59</td>\n",
       "      <td>10.18</td>\n",
       "      <td>56</td>\n",
       "      <td>1</td>\n",
       "    </tr>\n",
       "    <tr>\n",
       "      <th>1</th>\n",
       "      <td>1</td>\n",
       "      <td>7.91</td>\n",
       "      <td>11.66</td>\n",
       "      <td>60</td>\n",
       "      <td>2</td>\n",
       "    </tr>\n",
       "    <tr>\n",
       "      <th>2</th>\n",
       "      <td>1</td>\n",
       "      <td>5.14</td>\n",
       "      <td>7.92</td>\n",
       "      <td>82</td>\n",
       "      <td>3</td>\n",
       "    </tr>\n",
       "    <tr>\n",
       "      <th>3</th>\n",
       "      <td>1</td>\n",
       "      <td>7.71</td>\n",
       "      <td>9.61</td>\n",
       "      <td>55</td>\n",
       "      <td>4</td>\n",
       "    </tr>\n",
       "    <tr>\n",
       "      <th>4</th>\n",
       "      <td>1</td>\n",
       "      <td>6.68</td>\n",
       "      <td>9.75</td>\n",
       "      <td>67</td>\n",
       "      <td>5</td>\n",
       "    </tr>\n",
       "  </tbody>\n",
       "</table>\n",
       "</div>"
      ],
      "text/plain": [
       "   Intercept  dan_sleep  baby_sleep  dan_grump  day\n",
       "0          1       7.59       10.18         56    1\n",
       "1          1       7.91       11.66         60    2\n",
       "2          1       5.14        7.92         82    3\n",
       "3          1       7.71        9.61         55    4\n",
       "4          1       6.68        9.75         67    5"
      ]
     },
     "execution_count": 60,
     "metadata": {},
     "output_type": "execute_result"
    }
   ],
   "source": [
    "matrix['dan_grump'] = df['dan_grump']\n",
    "matrix['day'] = df['day']\n",
    "\n",
    "\n",
    "matrix.head()"
   ]
  },
  {
   "attachments": {},
   "cell_type": "markdown",
   "id": "f92a066c",
   "metadata": {},
   "source": [
    "and then, we'll look at the VIFs..."
   ]
  },
  {
   "cell_type": "code",
   "execution_count": 61,
   "id": "af44556e",
   "metadata": {},
   "outputs": [
    {
     "data": {
      "text/html": [
       "<div>\n",
       "<style scoped>\n",
       "    .dataframe tbody tr th:only-of-type {\n",
       "        vertical-align: middle;\n",
       "    }\n",
       "\n",
       "    .dataframe tbody tr th {\n",
       "        vertical-align: top;\n",
       "    }\n",
       "\n",
       "    .dataframe thead th {\n",
       "        text-align: right;\n",
       "    }\n",
       "</style>\n",
       "<table border=\"1\" class=\"dataframe\">\n",
       "  <thead>\n",
       "    <tr style=\"text-align: right;\">\n",
       "      <th></th>\n",
       "      <th>VIF</th>\n",
       "      <th>variable</th>\n",
       "    </tr>\n",
       "  </thead>\n",
       "  <tbody>\n",
       "    <tr>\n",
       "      <th>0</th>\n",
       "      <td>922.960321</td>\n",
       "      <td>Intercept</td>\n",
       "    </tr>\n",
       "    <tr>\n",
       "      <th>1</th>\n",
       "      <td>6.148528</td>\n",
       "      <td>dan_sleep</td>\n",
       "    </tr>\n",
       "    <tr>\n",
       "      <th>2</th>\n",
       "      <td>1.658389</td>\n",
       "      <td>baby_sleep</td>\n",
       "    </tr>\n",
       "    <tr>\n",
       "      <th>3</th>\n",
       "      <td>5.442617</td>\n",
       "      <td>dan_grump</td>\n",
       "    </tr>\n",
       "    <tr>\n",
       "      <th>4</th>\n",
       "      <td>1.015119</td>\n",
       "      <td>day</td>\n",
       "    </tr>\n",
       "  </tbody>\n",
       "</table>\n",
       "</div>"
      ],
      "text/plain": [
       "          VIF    variable\n",
       "0  922.960321   Intercept\n",
       "1    6.148528   dan_sleep\n",
       "2    1.658389  baby_sleep\n",
       "3    5.442617   dan_grump\n",
       "4    1.015119         day"
      ]
     },
     "execution_count": 61,
     "metadata": {},
     "output_type": "execute_result"
    }
   ],
   "source": [
    "vif = pd.DataFrame()\n",
    "vif['VIF'] = [variance_inflation_factor(matrix.values, i) for i in range(matrix.shape[1])]\n",
    "vif['variable'] = matrix.columns\n",
    "vif"
   ]
  },
  {
   "attachments": {},
   "cell_type": "markdown",
   "id": "99660940",
   "metadata": {},
   "source": [
    "Yep, that’s some mighty fine collinearity you’ve got there. Of course, if you suspect that your model might have some degree of collinearity between predictors, you are still left with some questions to which there are no concrete answers (sorry!). How much collinearity is ok? What should I do about the collinearity in my model? There are some suggestions and guidelines out there (e.g., in the ``statsmodels`` documentation, a vif of 5 is suggested to be the limit, but [elsewhere](https://en.wikipedia.org/wiki/Variance_inflation_factor) you can find other suggested values as cutoff lines), but like so many things in statistics (and in life), I'm afraid you will need to exercise your own judgment."
   ]
  },
  {
   "attachments": {},
   "cell_type": "markdown",
   "id": "a33d12c5",
   "metadata": {},
   "source": [
    "(modelselreg)=\n",
    "## Model Selection \n",
    "\n",
    "One fairly major problem that remains is the problem of \"model selection\". That is, if we have a data set that contains several variables, which ones should we include as predictors, and which ones should we not include? In other words, we have a problem of **_variable selection_**. In general, model selection is a complex business, but it's made somewhat simpler if we restrict ourselves to the problem of choosing a subset of the variables that ought to be included in the model. Nevertheless, I'm not going to try covering even this reduced topic in a lot of detail. Instead, I'll talk about two broad principles that you need to think about; and then discuss one concrete tool to help you select a subset of variables to include in your model. Firstly, the two principles:\n",
    "\n",
    "- It's nice to have an actual substantive basis for your choices. That is, in a lot of situations you the researcher have good reasons to pick out a smallish number of possible regression models that are of theoretical interest; these models will have a sensible interpretation in the context of your field. Never discount the importance of this. Statistics serves the scientific process, not the other way around. \n",
    "- To the extent that your choices rely on statistical inference, there is a trade off between simplicity and goodness of fit. As you add more predictors to the model, you make it more complex; each predictor adds a new free parameter (i.e., a new regression coefficient), and each new parameter increases the model's capacity to \"absorb\" random variations. So the goodness of fit (e.g., $R^2$) continues to rise as you add more predictors no matter what. If you want your model to be able to generalise well to new observations, you need to avoid throwing in too many variables. \n",
    "\n",
    "This latter principle is often referred to as **_Ockham's razor_**, and is often summarised in terms of the following pithy saying: *do not multiply entities beyond necessity*. In this context, it means: don't chuck in a bunch of largely irrelevant predictors just to boost your $R^2$. Hm. Yeah, the original was better. \n",
    "\n",
    "In any case, what we need is an actual mathematical criterion that will implement the qualitative principle behind Ockham's razor in the context of selecting a regression model. As it turns out there are several possibilities. The one that I'll talk about is the **_Akaike information criterion_** {cite}``Akaike1974`` simply because it's a common one, and because ``statsmodels`` will calculate it for you automatically when you run a linear regression There are many others, including BIC (Bayesian Information Criterion), which ``statsmodels`` also gives you for free. In the context of a linear regression model (and ignoring terms that don't depend on the model in any way!), the AIC for a model that has $K$ predictor variables plus an intercept is:\n",
    "\n",
    "$$\n",
    "\\text{AIC} = \\displaystyle\\frac{\\text{SS}_{res}}{\\hat{\\sigma}}^2+ 2K\n",
    "$$\n",
    "\n",
    "\n",
    "The smaller the AIC value, the better the model performance is.[^AIC_calc] If we ignore the low level details, it's fairly obvious what the AIC does: on the left we have a term that increases as the model predictions get worse; on the right we have a term that increases as the model complexity increases. The best model is the one that fits the data well (low residuals; left hand side) using as few predictors as possible (low $K$; right hand side). In short, this is a simple implementation of Ockham's razor. \n",
    "\n",
    "\n",
    "\n",
    "[^AIC_calc]: Note, depending on exactly how AIC is calculated, the actual AIC value may be different. That is, if you calculate AIC using the formula above, a Python function, or an algorithm from some other statistics software. However, if you use the same method to calculate AIC for two different models, and take the differnce between them, then this should end up being the same, no matter what method was used. In practice, this is all you care about: the actual value of an AIC statistic isn't very informative, but the differences between two AIC values *are* useful, since these provide a measure of the extent to which one model outperforms another."
   ]
  },
  {
   "attachments": {},
   "cell_type": "markdown",
   "id": "b9c52570",
   "metadata": {},
   "source": [
    "### Backward elimination\n",
    "\n",
    "Okay, let’s have a look at how this works in practice. In this example I’ll keep it simple and use only the basic backward elimination approach. That is, start with the complete regression model, including all possible predictors. Then, at each “step” we try all possible ways of removing one of the variables, and whichever of these is best (in terms of lowest AIC value) is accepted. This becomes our new regression model; and we then try all possible deletions from the new model, again choosing the option with lowest AIC. This process continues until we end up with a model that has a lower AIC value than any of the other possible models that you could produce by deleting one of its predictors. Let’s see this in action. First, I need to define the model from which the process starts."
   ]
  },
  {
   "cell_type": "code",
   "execution_count": 62,
   "id": "f5ac445f",
   "metadata": {},
   "outputs": [],
   "source": [
    "mod_full = smf.ols('dan_grump ~ dan_sleep + baby_sleep + day', data=df)"
   ]
  },
  {
   "attachments": {},
   "cell_type": "markdown",
   "id": "8eee3272",
   "metadata": {},
   "source": [
    "We can get ``statsmodels`` to fit the model and return a summay, which will include the AIC value."
   ]
  },
  {
   "cell_type": "code",
   "execution_count": 73,
   "id": "6ad334d1",
   "metadata": {},
   "outputs": [
    {
     "data": {
      "text/html": [
       "<table class=\"simpletable\">\n",
       "<caption>OLS Regression Results</caption>\n",
       "<tr>\n",
       "  <th>Dep. Variable:</th>        <td>dan_grump</td>    <th>  R-squared:         </th> <td>   0.816</td>\n",
       "</tr>\n",
       "<tr>\n",
       "  <th>Model:</th>                   <td>OLS</td>       <th>  Adj. R-squared:    </th> <td>   0.811</td>\n",
       "</tr>\n",
       "<tr>\n",
       "  <th>Method:</th>             <td>Least Squares</td>  <th>  F-statistic:       </th> <td>   142.2</td>\n",
       "</tr>\n",
       "<tr>\n",
       "  <th>Date:</th>             <td>Mon, 03 Feb 2025</td> <th>  Prob (F-statistic):</th> <td>3.42e-35</td>\n",
       "</tr>\n",
       "<tr>\n",
       "  <th>Time:</th>                 <td>14:51:31</td>     <th>  Log-Likelihood:    </th> <td> -287.43</td>\n",
       "</tr>\n",
       "<tr>\n",
       "  <th>No. Observations:</th>      <td>   100</td>      <th>  AIC:               </th> <td>   582.9</td>\n",
       "</tr>\n",
       "<tr>\n",
       "  <th>Df Residuals:</th>          <td>    96</td>      <th>  BIC:               </th> <td>   593.3</td>\n",
       "</tr>\n",
       "<tr>\n",
       "  <th>Df Model:</th>              <td>     3</td>      <th>                     </th>     <td> </td>   \n",
       "</tr>\n",
       "<tr>\n",
       "  <th>Covariance Type:</th>      <td>nonrobust</td>    <th>                     </th>     <td> </td>   \n",
       "</tr>\n",
       "</table>\n",
       "<table class=\"simpletable\">\n",
       "<tr>\n",
       "       <td></td>         <th>coef</th>     <th>std err</th>      <th>t</th>      <th>P>|t|</th>  <th>[0.025</th>    <th>0.975]</th>  \n",
       "</tr>\n",
       "<tr>\n",
       "  <th>Intercept</th>  <td>  126.2787</td> <td>    3.242</td> <td>   38.945</td> <td> 0.000</td> <td>  119.842</td> <td>  132.715</td>\n",
       "</tr>\n",
       "<tr>\n",
       "  <th>dan_sleep</th>  <td>   -8.9693</td> <td>    0.560</td> <td>  -16.016</td> <td> 0.000</td> <td>  -10.081</td> <td>   -7.858</td>\n",
       "</tr>\n",
       "<tr>\n",
       "  <th>baby_sleep</th> <td>    0.0157</td> <td>    0.273</td> <td>    0.058</td> <td> 0.954</td> <td>   -0.526</td> <td>    0.558</td>\n",
       "</tr>\n",
       "<tr>\n",
       "  <th>day</th>        <td>   -0.0044</td> <td>    0.015</td> <td>   -0.288</td> <td> 0.774</td> <td>   -0.035</td> <td>    0.026</td>\n",
       "</tr>\n",
       "</table>\n",
       "<table class=\"simpletable\">\n",
       "<tr>\n",
       "  <th>Omnibus:</th>       <td> 0.599</td> <th>  Durbin-Watson:     </th> <td>   2.120</td>\n",
       "</tr>\n",
       "<tr>\n",
       "  <th>Prob(Omnibus):</th> <td> 0.741</td> <th>  Jarque-Bera (JB):  </th> <td>   0.215</td>\n",
       "</tr>\n",
       "<tr>\n",
       "  <th>Skew:</th>          <td>-0.037</td> <th>  Prob(JB):          </th> <td>   0.898</td>\n",
       "</tr>\n",
       "<tr>\n",
       "  <th>Kurtosis:</th>      <td> 3.215</td> <th>  Cond. No.          </th> <td>    441.</td>\n",
       "</tr>\n",
       "</table><br/><br/>Notes:<br/>[1] Standard Errors assume that the covariance matrix of the errors is correctly specified."
      ],
      "text/latex": [
       "\\begin{center}\n",
       "\\begin{tabular}{lclc}\n",
       "\\toprule\n",
       "\\textbf{Dep. Variable:}    &    dan\\_grump    & \\textbf{  R-squared:         } &     0.816   \\\\\n",
       "\\textbf{Model:}            &       OLS        & \\textbf{  Adj. R-squared:    } &     0.811   \\\\\n",
       "\\textbf{Method:}           &  Least Squares   & \\textbf{  F-statistic:       } &     142.2   \\\\\n",
       "\\textbf{Date:}             & Mon, 03 Feb 2025 & \\textbf{  Prob (F-statistic):} &  3.42e-35   \\\\\n",
       "\\textbf{Time:}             &     14:51:31     & \\textbf{  Log-Likelihood:    } &   -287.43   \\\\\n",
       "\\textbf{No. Observations:} &         100      & \\textbf{  AIC:               } &     582.9   \\\\\n",
       "\\textbf{Df Residuals:}     &          96      & \\textbf{  BIC:               } &     593.3   \\\\\n",
       "\\textbf{Df Model:}         &           3      & \\textbf{                     } &             \\\\\n",
       "\\textbf{Covariance Type:}  &    nonrobust     & \\textbf{                     } &             \\\\\n",
       "\\bottomrule\n",
       "\\end{tabular}\n",
       "\\begin{tabular}{lcccccc}\n",
       "                     & \\textbf{coef} & \\textbf{std err} & \\textbf{t} & \\textbf{P$> |$t$|$} & \\textbf{[0.025} & \\textbf{0.975]}  \\\\\n",
       "\\midrule\n",
       "\\textbf{Intercept}   &     126.2787  &        3.242     &    38.945  &         0.000        &      119.842    &      132.715     \\\\\n",
       "\\textbf{dan\\_sleep}  &      -8.9693  &        0.560     &   -16.016  &         0.000        &      -10.081    &       -7.858     \\\\\n",
       "\\textbf{baby\\_sleep} &       0.0157  &        0.273     &     0.058  &         0.954        &       -0.526    &        0.558     \\\\\n",
       "\\textbf{day}         &      -0.0044  &        0.015     &    -0.288  &         0.774        &       -0.035    &        0.026     \\\\\n",
       "\\bottomrule\n",
       "\\end{tabular}\n",
       "\\begin{tabular}{lclc}\n",
       "\\textbf{Omnibus:}       &  0.599 & \\textbf{  Durbin-Watson:     } &    2.120  \\\\\n",
       "\\textbf{Prob(Omnibus):} &  0.741 & \\textbf{  Jarque-Bera (JB):  } &    0.215  \\\\\n",
       "\\textbf{Skew:}          & -0.037 & \\textbf{  Prob(JB):          } &    0.898  \\\\\n",
       "\\textbf{Kurtosis:}      &  3.215 & \\textbf{  Cond. No.          } &     441.  \\\\\n",
       "\\bottomrule\n",
       "\\end{tabular}\n",
       "%\\caption{OLS Regression Results}\n",
       "\\end{center}\n",
       "\n",
       "Notes: \\newline\n",
       " [1] Standard Errors assume that the covariance matrix of the errors is correctly specified."
      ],
      "text/plain": [
       "<class 'statsmodels.iolib.summary.Summary'>\n",
       "\"\"\"\n",
       "                            OLS Regression Results                            \n",
       "==============================================================================\n",
       "Dep. Variable:              dan_grump   R-squared:                       0.816\n",
       "Model:                            OLS   Adj. R-squared:                  0.811\n",
       "Method:                 Least Squares   F-statistic:                     142.2\n",
       "Date:                Mon, 03 Feb 2025   Prob (F-statistic):           3.42e-35\n",
       "Time:                        14:51:31   Log-Likelihood:                -287.43\n",
       "No. Observations:                 100   AIC:                             582.9\n",
       "Df Residuals:                      96   BIC:                             593.3\n",
       "Df Model:                           3                                         \n",
       "Covariance Type:            nonrobust                                         \n",
       "==============================================================================\n",
       "                 coef    std err          t      P>|t|      [0.025      0.975]\n",
       "------------------------------------------------------------------------------\n",
       "Intercept    126.2787      3.242     38.945      0.000     119.842     132.715\n",
       "dan_sleep     -8.9693      0.560    -16.016      0.000     -10.081      -7.858\n",
       "baby_sleep     0.0157      0.273      0.058      0.954      -0.526       0.558\n",
       "day           -0.0044      0.015     -0.288      0.774      -0.035       0.026\n",
       "==============================================================================\n",
       "Omnibus:                        0.599   Durbin-Watson:                   2.120\n",
       "Prob(Omnibus):                  0.741   Jarque-Bera (JB):                0.215\n",
       "Skew:                          -0.037   Prob(JB):                        0.898\n",
       "Kurtosis:                       3.215   Cond. No.                         441.\n",
       "==============================================================================\n",
       "\n",
       "Notes:\n",
       "[1] Standard Errors assume that the covariance matrix of the errors is correctly specified.\n",
       "\"\"\""
      ]
     },
     "execution_count": 73,
     "metadata": {},
     "output_type": "execute_result"
    }
   ],
   "source": [
    "mod_full.fit().summary()"
   ]
  },
  {
   "attachments": {},
   "cell_type": "markdown",
   "id": "a1a648f3",
   "metadata": {},
   "source": [
    " This is great, but we will be doing this several times, and this is quite a lot of information to wade through just to get AIC value. Luckily, we can also ask for _only_ the AIC value, like so:"
   ]
  },
  {
   "cell_type": "code",
   "execution_count": 74,
   "id": "09f77ed1",
   "metadata": {},
   "outputs": [
    {
     "data": {
      "text/plain": [
       "582.864617028592"
      ]
     },
     "execution_count": 74,
     "metadata": {},
     "output_type": "execute_result"
    }
   ],
   "source": [
    "mod_full.fit().aic"
   ]
  },
  {
   "attachments": {},
   "cell_type": "markdown",
   "id": "b48b816f",
   "metadata": {},
   "source": [
    "Now that we know how to extract only the AIC value for each model, it's not hard to loop through all the possible models, each one removing one predictor from the full model, and compare the AIC values:"
   ]
  },
  {
   "cell_type": "code",
   "execution_count": 85,
   "id": "1541abd2",
   "metadata": {
    "editable": true,
    "slideshow": {
     "slide_type": ""
    },
    "tags": []
   },
   "outputs": [
    {
     "data": {
      "text/html": [
       "<div>\n",
       "<style scoped>\n",
       "    .dataframe tbody tr th:only-of-type {\n",
       "        vertical-align: middle;\n",
       "    }\n",
       "\n",
       "    .dataframe tbody tr th {\n",
       "        vertical-align: top;\n",
       "    }\n",
       "\n",
       "    .dataframe thead th {\n",
       "        text-align: right;\n",
       "    }\n",
       "</style>\n",
       "<table border=\"1\" class=\"dataframe\">\n",
       "  <thead>\n",
       "    <tr style=\"text-align: right;\">\n",
       "      <th></th>\n",
       "      <th>Model</th>\n",
       "      <th>AIC</th>\n",
       "    </tr>\n",
       "  </thead>\n",
       "  <tbody>\n",
       "    <tr>\n",
       "      <th>0</th>\n",
       "      <td>Full Model</td>\n",
       "      <td>582.86</td>\n",
       "    </tr>\n",
       "    <tr>\n",
       "      <th>1</th>\n",
       "      <td>No Day</td>\n",
       "      <td>580.95</td>\n",
       "    </tr>\n",
       "    <tr>\n",
       "      <th>2</th>\n",
       "      <td>No Baby</td>\n",
       "      <td>580.87</td>\n",
       "    </tr>\n",
       "    <tr>\n",
       "      <th>3</th>\n",
       "      <td>No Dan</td>\n",
       "      <td>710.94</td>\n",
       "    </tr>\n",
       "  </tbody>\n",
       "</table>\n",
       "</div>"
      ],
      "text/plain": [
       "        Model     AIC\n",
       "0  Full Model  582.86\n",
       "1      No Day  580.95\n",
       "2     No Baby  580.87\n",
       "3      No Dan  710.94"
      ]
     },
     "execution_count": 85,
     "metadata": {},
     "output_type": "execute_result"
    }
   ],
   "source": [
    "mod_full = smf.ols('dan_grump ~ dan_sleep + baby_sleep + day', data=df)\n",
    "mod_no_day = smf.ols('dan_grump ~ dan_sleep + baby_sleep', data=df)\n",
    "mod_no_baby = smf.ols('dan_grump ~ dan_sleep + day', data=df)\n",
    "mod_no_dan = smf.ols('dan_grump ~ baby_sleep + day', data=df)\n",
    "\n",
    "models = [mod_full, mod_no_day, mod_no_baby, mod_no_dan]\n",
    "names = ['Full Model', 'No Day', 'No Baby', 'No Dan']\n",
    "\n",
    "aics = []\n",
    "for n, model in enumerate(models):\n",
    "    aics.append(round(models[n].fit().aic, 2))\n",
    "\n",
    "df_aics = pd.DataFrame({'Model': names, 'AIC': aics})\n",
    "df_aics"
   ]
  },
  {
   "attachments": {},
   "cell_type": "markdown",
   "id": "744f1267",
   "metadata": {},
   "source": [
    "Of these models, the one in which we removed ``baby_sleep`` as a predictor has the lowest AIC, so it seems like removing this predictor is probably a good idea. This shouldn't be surprising, really, given all the other checks we have already done on these data. But let's proceed. Now, we can do the same thing again, but comparing only models without ``baby_sleep``:"
   ]
  },
  {
   "cell_type": "code",
   "execution_count": 121,
   "id": "b06eb416",
   "metadata": {
    "editable": true,
    "slideshow": {
     "slide_type": ""
    },
    "tags": []
   },
   "outputs": [
    {
     "data": {
      "text/plain": [
       "['Full Model AIC: 580.9', 'No Day AIC: 579.0', 'No Dan AIC: 747.7']"
      ]
     },
     "execution_count": 121,
     "metadata": {},
     "output_type": "execute_result"
    }
   ],
   "source": [
    "mod_full = smf.ols('dan_grump ~ dan_sleep + day', data=df)\n",
    "mod_no_day = smf.ols('dan_grump ~ dan_sleep', data=df)\n",
    "mod_no_dan = smf.ols('dan_grump ~ day', data=df)\n",
    "\n",
    "models = [mod_full, mod_no_day, mod_no_dan]\n",
    "names = ['Full Model', 'No Day', 'No Dan']\n",
    "\n",
    "aics = []\n",
    "for n, model in enumerate(models):\n",
    "    aics.append(get_aic(names[n], model))\n",
    "\n",
    "aics"
   ]
  },
  {
   "attachments": {},
   "cell_type": "markdown",
   "id": "3e88ec56",
   "metadata": {},
   "source": [
    "Now, the model in which we removed ``day`` as a predictor performs best (has the lowest AIC), so the next step would be to remove ``day`` from our model. In this case, that only leaves us with one predictor: ``dan_sleep``. Which is (perhaps not all that surprisingly) the mod1 that we started with at the [beginning of the chapter](pingouinregression): \n",
    "\n",
    "    mod1 = pg.linear_regression(df['dan_sleep'], df['dan_grump'])\n"
   ]
  },
  {
   "attachments": {},
   "cell_type": "markdown",
   "id": "2ac2fece",
   "metadata": {},
   "source": [
    "This process, as I have described it, is fairly straightforward, especially once you have a function to just grab the AIC from the ``statsmodels`` output. But if you find yourself doing this sort of thing often, you might want to automate it even further. It wouldn't take _that_ much work to expand on the code I have given you, and build a function that takes as input your full model, and then _automatically_ considers all possible variations, and continues eliminating predictors until it finds the optimal model. But this I leave as a programming exercise for you, if you feel so inclined."
   ]
  },
  {
   "attachments": {},
   "cell_type": "markdown",
   "id": "a2d73567",
   "metadata": {},
   "source": [
    "### A caveat\n",
    "\n",
    "Automated variable selection methods are seductive things. They provide an element of objectivity to your model selection, and that’s kind of nice. Unfortunately, they’re sometimes used as an excuse for thoughtlessness. No longer do you have to think carefully about which predictors to add to the model and what the theoretical basis for their inclusion might be... everything is solved by the magic of AIC. And if we start throwing around phrases like Ockham’s razor, well, it sounds like everything is wrapped up in a nice neat little package that no-one can argue with.\n",
    "\n",
    "Or, perhaps not. First of all, there’s very little agreement on what counts as an appropriate model selection criterion. When I was taught backward elimination as an undergraduate, we used F-tests to do it, because that was the default method used by the software. Here we are using AIC, and since this is an introductory text that’s the only method I’ve described, but the AIC is hardly the Word of the Gods of Statistics. It’s an approximation, derived under certain assumptions, and it’s guaranteed to work only for large samples when those assumptions are met. Alter those assumptions and you get a different criterion, like the BIC for instance. Take a different approach again and you get the NML criterion. Decide that you’re a Bayesian and you get model selection based on posterior odds ratios. Then there are a bunch of regression-specific tools that I haven’t mentioned. And so on. All of these different methods have strengths and weaknesses, and some are easier to calculate than others (AIC is probably the easiest of the lot, which might account for its popularity). Almost all of them produce the same answers when the answer is “obvious”, but there’s a fair amount of disagreement when the model selection problem becomes hard.\n",
    "\n",
    "What does this mean in practice? Well, you could go and spend several years teaching yourself the theory of model selection, learning all the ins and outs of it; so that you could finally decide on what you personally think the right thing to do is. Speaking as someone who actually did that, I wouldn’t recommend it: you’ll probably come out the other side even more confused than when you started. A better strategy is to show a bit of common sense... if you’re staring at the results of a stepwise AIC model comparison procedure, and the model that makes sense is close to having the smallest AIC, but is narrowly defeated by a model that doesn’t make any sense... trust your instincts. Statistical model selection is an inexact tool, and as I said at the beginning, interpretability matters."
   ]
  },
  {
   "attachments": {},
   "cell_type": "markdown",
   "id": "173a3198",
   "metadata": {},
   "source": [
    "### Comparing two regression models\n",
    "\n",
    "An alternative to using automated model selection procedures is for the researcher to explicitly select two or more regression models to compare to each other. You can do this in a few different ways, depending on what research question you're trying to answer. Suppose we want to know whether or not the amount of sleep that my son got has any relationship to my grumpiness, over and above what we might expect from the amount of sleep that I got. We also want to make sure that the day on which we took the measurement has no influence on the relationship. That is, we're interested in the relationship between `baby_sleep` and `dan_grump`, and from that perspective `dan_sleep` and `day` are nuisance variables or **_covariates_** that we want to control for. In this situation, what we would like to know is whether `dan_grump ~ dan_sleep + day + baby_sleep` (which I'll call Model 1, or `M1`) is a better regression model for these data than `dan_grump ~ dan_sleep + day` (which I'll call Model 0, or `M0`). There are two different ways we can compare these two models, one based on a model selection criterion like AIC, and the other based on an explicit hypothesis test. I'll show you the AIC-based approach first because it's simpler, and follows naturally from the method we used in the last section. The first thing I need to do is actually run the regressions. Since we want to calculate AIC, it will be easier to use `statsmodels` than `pigouin`. First we'll define the two models, then use our handy-dandy AIC function to get the AIC for each of them."
   ]
  },
  {
   "cell_type": "code",
   "execution_count": 122,
   "id": "6ebd37cd",
   "metadata": {},
   "outputs": [
    {
     "data": {
      "text/plain": [
       "['M0 AIC: 580.9', 'M1 AIC: 582.9']"
      ]
     },
     "execution_count": 122,
     "metadata": {},
     "output_type": "execute_result"
    }
   ],
   "source": [
    "M0 = smf.ols('dan_grump ~ dan_sleep + day', data=df)\n",
    "M1 = smf.ols('dan_grump ~ dan_sleep + day + baby_sleep', data=df)\n",
    "\n",
    "models = [M0, M1]\n",
    "names = ['M0', 'M1']\n",
    "\n",
    "aics = []\n",
    "for n, model in enumerate(models):\n",
    "    aics.append(get_aic(names[n], model))\n",
    "\n",
    "aics"
   ]
  },
  {
   "attachments": {},
   "cell_type": "markdown",
   "id": "506f854d",
   "metadata": {},
   "source": [
    "Since Model 0 has the smaller AIC value, it is judged to be the better model for these data. \n",
    "\n",
    "By the way, I mentioned before that ``statsmodels`` gives us both AIC and BIC automatically. In fact, while I'm not particularly impressed with either AIC or BIC as model selection methods, if you do find yourself using one of these two, the empirical evidence suggests that BIC is the better criterion of the two. In most simulation studies that I've seen, BIC does a much better job of selecting the correct model. And indeed, it wouldn't be hard to modify our function ``get_aic`` from above to get both the AIC and BIC values from the ``statsmodels`` output, so why not just do that, like so [^exercise]:\n",
    "\n",
    "[^exercise]: I leave it as a \"fun\" programming exercise to you to adapt this function even further, so that it present the results in a nice table format, e.g. in a dataframe. Not necessary, but it would make it easier to compare models if the results were nicely lined up in columns, don't you think?"
   ]
  },
  {
   "cell_type": "code",
   "execution_count": 123,
   "id": "e4b439ff",
   "metadata": {},
   "outputs": [],
   "source": [
    "def get_aic_bic(model_name, model):\n",
    "    aic = model.fit().summary().tables[0].as_text().split('\\n')[7].split('AIC:')[1].strip()\n",
    "    bic = model.fit().summary().tables[0].as_text().split('\\n')[8].split('BIC:')[1].strip()\n",
    "    output = model_name + ' AIC: ' + aic + ' BIC: ' + bic\n",
    "    return output"
   ]
  },
  {
   "cell_type": "code",
   "execution_count": 124,
   "id": "8d456f8d",
   "metadata": {},
   "outputs": [
    {
     "data": {
      "text/plain": [
       "['M0 AIC: 580.9 BIC: 588.7', 'M1 AIC: 582.9 BIC: 593.3']"
      ]
     },
     "execution_count": 124,
     "metadata": {},
     "output_type": "execute_result"
    }
   ],
   "source": [
    "models = [M0, M1]\n",
    "names = ['M0', 'M1']\n",
    "\n",
    "ics = []\n",
    "for n, model in enumerate(models):\n",
    "    ics.append(get_aic_bic(names[n], model))\n",
    "\n",
    "ics"
   ]
  },
  {
   "attachments": {},
   "cell_type": "markdown",
   "id": "6f8efb5a",
   "metadata": {},
   "source": [
    "BIC is also smaller for `MO` than for `M1`, so based on both AIC and BIC, it looks like Model 0 is the better choice.\n",
    "\n",
    "A somewhat different approach to the problem comes out of the hypothesis testing framework. Suppose you have two regression models, where one of them (Model 0) contains a *subset* of the predictors from the other one (Model 1). That is, Model 1 contains all of the predictors included in Model 0, plus one or more additional predictors. When this happens we say that Model 0 is **_nested_** within Model 1, or possibly that Model 0 is a **_submodel_** of Model 1. Regardless of the terminology, what this means is that we can think of Model 0 as a null hypothesis and Model 1 as an alternative hypothesis. And in fact we can construct an $F$ test for this in a fairly straightforward fashion. We can fit both models to the data and obtain a residual sum of squares for both models. I'll denote these as SS$_{res}^{(0)}$ and SS$_{res}^{(1)}$ respectively. The superscripting here just indicates which model we're talking about.  Then our $F$ statistic is\n",
    "\n",
    "$$\n",
    "F = \\frac{(\\text{SS}_{res}^{(0)} - \\text{SS}_{res}^{(1)})/k}{(\\text{SS}_{res}^{(1)})/(N-p-1)}\n",
    "$$\n",
    "\n",
    "where $N$ is the number of observations, $p$ is the number of predictors in the full model (not including the intercept), and $k$ is the difference in the number of parameters between the two models.^[It's worth noting in passing that this same $F$ statistic can be used to test a much broader range of hypotheses than those that I'm mentioning here. Very briefly: notice that the nested model M0 corresponds to the full model M1 when we constrain some of the regression coefficients to zero. It is sometimes useful to construct submodels by placing other kinds of constraints on the regression coefficients. For instance, maybe two different coefficients might have to sum to zero, or something like that. You can construct hypothesis tests for those kind of constraints too, but it is somewhat more complicated and the sampling distribution for $F$ can end up being something known as the non-central $F$ distribution, which is waaaaay beyond the scope of this book! All I want to do is alert you to this possibility.] The degrees of freedom here are $k$ and $N-p-1$. Note that it's often more convenient to think about the difference between those two SS values as a sum of squares in its own right. That is: \n",
    "\n",
    "$$\n",
    "\\text{SS}_\\Delta = \\text{SS}_{res}^{(0)} - \\text{SS}_{res}^{(1)}\n",
    "$$\n",
    "\n",
    "The reason why this his helpful is that we can express $\\text{SS}_\\Delta$ a measure of the extent to which the two models make different predictions about the the outcome variable. Specifically:\n",
    "$$\n",
    "\\text{SS}_\\Delta  = \\sum_{i} \\left( \\hat{y}_i^{(1)} - \\hat{y}_i^{(0)} \\right)^2\n",
    "$$\n",
    "where $\\hat{y}_i^{(0)}$ is the fitted value for $y_i$ according to model $M_0$ and  $\\hat{y}_i^{(1)}$ is the is the fitted value for $y_i$ according to model $M_1$. \n",
    "\n",
    "Okay, so that's the hypothesis test that we use to compare two regression models to one another. Now, how do we do it in Python? As it turns out, `statsmodels` has a function called `anova_lm` that will do just this. All we have to do is fit the two models that we want to compare, and then plug them in the function (null model first):\n"
   ]
  },
  {
   "cell_type": "code",
   "execution_count": 125,
   "id": "b52f0730",
   "metadata": {},
   "outputs": [
    {
     "data": {
      "text/html": [
       "<div>\n",
       "<style scoped>\n",
       "    .dataframe tbody tr th:only-of-type {\n",
       "        vertical-align: middle;\n",
       "    }\n",
       "\n",
       "    .dataframe tbody tr th {\n",
       "        vertical-align: top;\n",
       "    }\n",
       "\n",
       "    .dataframe thead th {\n",
       "        text-align: right;\n",
       "    }\n",
       "</style>\n",
       "<table border=\"1\" class=\"dataframe\">\n",
       "  <thead>\n",
       "    <tr style=\"text-align: right;\">\n",
       "      <th></th>\n",
       "      <th>df_resid</th>\n",
       "      <th>ssr</th>\n",
       "      <th>df_diff</th>\n",
       "      <th>ss_diff</th>\n",
       "      <th>F</th>\n",
       "      <th>Pr(&gt;F)</th>\n",
       "    </tr>\n",
       "  </thead>\n",
       "  <tbody>\n",
       "    <tr>\n",
       "      <th>0</th>\n",
       "      <td>97.0</td>\n",
       "      <td>1837.155916</td>\n",
       "      <td>0.0</td>\n",
       "      <td>NaN</td>\n",
       "      <td>NaN</td>\n",
       "      <td>NaN</td>\n",
       "    </tr>\n",
       "    <tr>\n",
       "      <th>1</th>\n",
       "      <td>96.0</td>\n",
       "      <td>1837.092228</td>\n",
       "      <td>1.0</td>\n",
       "      <td>0.063688</td>\n",
       "      <td>0.003328</td>\n",
       "      <td>0.954116</td>\n",
       "    </tr>\n",
       "  </tbody>\n",
       "</table>\n",
       "</div>"
      ],
      "text/plain": [
       "   df_resid          ssr  df_diff   ss_diff         F    Pr(>F)\n",
       "0      97.0  1837.155916      0.0       NaN       NaN       NaN\n",
       "1      96.0  1837.092228      1.0  0.063688  0.003328  0.954116"
      ]
     },
     "execution_count": 125,
     "metadata": {},
     "output_type": "execute_result"
    }
   ],
   "source": [
    "from statsmodels.stats.anova import anova_lm\n",
    "\n",
    "M0 = M0.fit()\n",
    "M1 = M1.fit()\n",
    "\n",
    "anova_lm(M0,M1)"
   ]
  },
  {
   "attachments": {},
   "cell_type": "markdown",
   "id": "a66de911",
   "metadata": {},
   "source": [
    "Since we have $p>.05$ we retain the null hypothesis (`M0`).  This approach to regression, in which we add all of our covariates into a null model, and then *add* the variables of interest into an alternative model, and then compare the two models in hypothesis testing framework, is often referred to as **_hierarchical regression_**."
   ]
  },
  {
   "attachments": {},
   "cell_type": "markdown",
   "id": "2ee5fadd",
   "metadata": {
    "editable": true,
    "slideshow": {
     "slide_type": ""
    },
    "tags": []
   },
   "source": [
    "## Summary\n",
    "\n",
    "\n",
    "- Basic ideas in [linear regression](regression) and how regression models are [estimated](regressionestimation).\n",
    "- [Multiple linear regression](multipleregression). \n",
    "- Measuring the [overall performance](r2) of a regression model using $R^2$\n",
    "- [Hypothesis tests for regression models](regressiontests)\n",
    "- [Calculating confidence intervals ](regressioncoefs) for regression coefficients, and standardised coefficients \n",
    "- The [assumptions of regression](regressionassumptions) and [how to check them](regressiondiagnostics)\n",
    "- [Selecting a regression model](modelselreg)"
   ]
  }
 ],
 "metadata": {
  "celltoolbar": "Tags",
  "kernelspec": {
   "display_name": "pythonbook3",
   "language": "python",
   "name": "python3"
  },
  "language_info": {
   "codemirror_mode": {
    "name": "ipython",
    "version": 3
   },
   "file_extension": ".py",
   "mimetype": "text/x-python",
   "name": "python",
   "nbconvert_exporter": "python",
   "pygments_lexer": "ipython3",
   "version": "3.11.3"
  }
 },
 "nbformat": 4,
 "nbformat_minor": 5
}
